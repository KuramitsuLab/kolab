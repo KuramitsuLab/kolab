{
 "metadata": {
  "language_info": {
   "codemirror_mode": {
    "name": "ipython",
    "version": 3
   },
   "file_extension": ".py",
   "mimetype": "text/x-python",
   "name": "python",
   "nbconvert_exporter": "python",
   "pygments_lexer": "ipython3",
   "version": "3.9.2-final"
  },
  "orig_nbformat": 2,
  "kernelspec": {
   "name": "python3",
   "display_name": "Python 3.9.2 64-bit",
   "metadata": {
    "interpreter": {
     "hash": "ac2eaa0ea0ebeafcc7822e65e46aa9d4f966f30b695406963e145ea4a91cd4fc"
    }
   }
  }
 },
 "nbformat": 4,
 "nbformat_minor": 2,
 "cells": [
  {
   "source": [
    "# データ・サイエンティストへの道\n",
    "\n",
    "今回はKaggle を用いた、より実践的にデータサイエンスの練習法を紹介します。\n",
    "\n",
    "https://www.codexa.net/kaggle-titanic-beginner/"
   ],
   "cell_type": "markdown",
   "metadata": {}
  },
  {
   "source": [
    "## データサイエンス\n",
    "\n",
    "データサイエンスが科学と言われているのは、科学的プロセスが含まれているからです。\n",
    "\n",
    "* 仮説\n",
    "* 仮説検証"
   ],
   "cell_type": "markdown",
   "metadata": {}
  },
  {
   "source": [
    "### Kaggle\n",
    "\n",
    "Kaggleは、世界中の機械学習・データサイエンスに携わっている約40万人以上集まるコミニティーです。\n",
    "\n",
    "Kaggleでは、企業や政府などの組織とデータ分析のプロであるデータサイエンティスト/機械学習エンジニアを繋げるプラットフォームとなっています。単純なマッチングではなく、Kaggleの最大の目玉とも言える「Competetion（コンペ）」がKaggleの特徴の一つです。\n",
    "\n",
    "Competition（コンペ）は、企業や政府がコンペ形式（競争形式）で課題を提示し、賞金と引き換えに最も制度の高い分析モデルを買い取るという、最近でいう一種のクラウドファンディングに近いような仕組みとなります。\n",
    "\n",
    "\n",
    "各コンペの利用規約へ同意をすると、データセットのダウロードが可能となります。データセットを落として、自分で処理を行い、最適な予測モデルを作って見ましょう！\n",
    "\n",
    "予測モデルですが、各コンペの「 Evaluation 」のページにて「 Submission File 」（投稿ファイル）とう項目に形式や詳細がまとめられています。下記の例は現在進行中の「Mercari Price Suggestion Challenge」の評価詳細ページです。「 Submission File 」の項目に、「test_idとpriceの2列のヘッダーを含むCSV形式」で提出してくださいと指定があります。\n",
    "\n",
    "https://www.codexa.net/what-is-kaggle/\n",
    "\n",
    "\n",
    "\n",
    "\n",
    "\n"
   ],
   "cell_type": "markdown",
   "metadata": {}
  },
  {
   "source": [
    "## タイタニック号の生存者予測\n",
    "\n",
    "有名なタイタニック号の問題に挑戦してみましょう。\n",
    "\n",
    "[タイタニック号](https://www.kaggle.com/c/titanic/data) Kaggle \n",
    "\n",
    "Kaggleの利用にはアカウント登録(無料)が必要となります。\n",
    "データサイエンスをさらに深めて勉強するためには、会員登録しておきましょう。\n",
    "\n",
    "ふたつのファイルを入手します。\n",
    "\n",
    "* `train.csv`\n",
    "* `test.csv`\n",
    "\n",
    "pandas を用いて、データの確認をしましょう。\n",
    "\n"
   ],
   "cell_type": "markdown",
   "metadata": {}
  },
  {
   "cell_type": "code",
   "execution_count": null,
   "metadata": {},
   "outputs": [],
   "source": [
    "import pandas as pd \n",
    "train = pd.read_csv(\"train.csv\")\n",
    "test = pd.read_csv(\"test.csv\")\n",
    "\n",
    "print('訓練データの大きさ', train.shape)\n",
    "print('テストデータの大きさ', test.shape)\n",
    " "
   ]
  },
  {
   "cell_type": "code",
   "execution_count": null,
   "metadata": {},
   "outputs": [],
   "source": [
    "train.head()"
   ]
  },
  {
   "cell_type": "code",
   "execution_count": null,
   "metadata": {},
   "outputs": [],
   "source": [
    "test.head()"
   ]
  },
  {
   "source": [
    "訓練データとテストデータを比較してみると、\n",
    "test は418名の乗客情報で、 train は891名の乗客情報ですね。\n",
    "カラム数が異なるのは、前述しましたが train には「Survived」のカラムがあるからです。\n",
    " "
   ],
   "cell_type": "markdown",
   "metadata": {}
  },
  {
   "source": [
    "## 欠損値を調べる\n",
    "\n",
    "実際のデータ分析では、100%データセットが揃っていることはほとんどありません。\n",
    "どこかの属性が一部欠けていたり、信用性が低くて使えないことがあります。\n",
    "\n"
   ],
   "cell_type": "markdown",
   "metadata": {}
  },
  {
   "cell_type": "code",
   "execution_count": null,
   "metadata": {},
   "outputs": [],
   "source": [
    "train.info()"
   ]
  },
  {
   "source": [
    "訓練データを確認すると、`Age`と`Cabin`の属性が欠損しています。test の欠損データを表しています。思ったよりもしっかりとしたデータではありますが、特に「Age」と「Cabin」の2つの項目で欠損が多いですね。"
   ],
   "cell_type": "markdown",
   "metadata": {}
  },
  {
   "source": [
    "欠損値をどのように処理するかということは大きな課題です。"
   ],
   "cell_type": "markdown",
   "metadata": {}
  },
  {
   "cell_type": "code",
   "execution_count": null,
   "metadata": {},
   "outputs": [],
   "source": []
  },
  {
   "source": [
    "## 演習問題\n",
    "\n",
    "<div class=\"alert alert-info\">\n",
    "\n",
    "Let's try\n",
    "\n",
    "`2 ** (1//2)` が、正しく $\\sqrt{2}$ にならない理由を考えてみよう\n",
    "\n",
    "</div>\n",
    "\n",
    "<div class=\"alert alert-warning\">\n",
    "\n",
    "(プログラミングの)$N$個数える\n",
    "\n",
    "プログラミングでは、原則、「**0から**$N-1$まで」のように数えます。\n",
    "\n",
    "</div>\n",
    "\n",
    "### 平均点\n",
    "\n",
    "<div class=\"admonition tip\">\n",
    "\n",
    "**例題（平均点）**\n",
    "\n",
    "期末試験は5人受験した。\n",
    "点数が40点未満の生徒は全員，補習を受け，成績が40点になった。\n",
    "5人の平均点を求めよ。\n",
    "\n",
    "入力例：\n",
    "```\n",
    "10\n",
    "65\n",
    "100\n",
    "30\n",
    "95\n",
    "```\n",
    "\n",
    "出力例：\n",
    "```\n",
    "68\n",
    "```\n",
    "\n",
    "[AtCoder (JOI2014 予選)](https://atcoder.jp/contests/joi2014yo/tasks/joi2014yo_a)\n",
    "\n",
    "</div>\n",
    "\n",
    "__(解法) リストを使う場合__\n",
    "\n",
    "1. 期末試験を記録する空の得点リスト `scores` を用意する\n",
    "2. 5人分繰り返し、点数を読んで、`scores` に追加する \n",
    "3. 平均点は `sum(scores) // 5`\n"
   ],
   "cell_type": "markdown",
   "metadata": {}
  }
 ]
}