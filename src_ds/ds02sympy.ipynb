{
 "metadata": {
  "language_info": {
   "codemirror_mode": {
    "name": "ipython",
    "version": 3
   },
   "file_extension": ".py",
   "mimetype": "text/x-python",
   "name": "python",
   "nbconvert_exporter": "python",
   "pygments_lexer": "ipython3",
   "version": "3.9.2-final"
  },
  "orig_nbformat": 2,
  "kernelspec": {
   "name": "python3",
   "display_name": "Python 3.9.2 64-bit",
   "metadata": {
    "interpreter": {
     "hash": "ac2eaa0ea0ebeafcc7822e65e46aa9d4f966f30b695406963e145ea4a91cd4fc"
    }
   }
  }
 },
 "nbformat": 4,
 "nbformat_minor": 2,
 "cells": [
  {
   "source": [
    "# 計算はPythonにさせてしまおう\n",
    "\n",
    "Pythonを用いて計算問題をときながら、「Python 勘」を取り戻していきましょう。\n",
    "\n",
    "今回は、数学や物理を学ぶときにも「Pythonは便利だな」と思わず感じてしまう \n",
    "SymPy と代数計算を紹介します。\n",
    "\n"
   ],
   "cell_type": "markdown",
   "metadata": {}
  },
  {
   "source": [
    "## SymPyとは\n",
    "\n",
    "[SymPy](https://www.sympy.org/en/index.html) は、Mathematica や Maple の代替を目指して開発が進められている Python の代数計算ライブラリです。\n",
    "\n",
    "初歩的な数学の問題を解くときに重宝します。\n",
    "\n",
    "### 準備\n",
    "\n",
    "最初に、SymPy のモジュールをインポートします。\n"
   ],
   "cell_type": "markdown",
   "metadata": {}
  },
  {
   "cell_type": "code",
   "execution_count": 1,
   "metadata": {},
   "outputs": [],
   "source": [
    "from sympy import *"
   ]
  },
  {
   "source": [
    "Colab上では、数式をmathjax で表示できるように設定しておくとよいでしょう。\n",
    "```python\n",
    "def custom_latex_printer(exp,**options):\n",
    "    from google.colab.output._publish import javascript\n",
    "    url = \"https://cdnjs.cloudflare.com/ajax/libs/mathjax/2.7.3/latest.js\"\n",
    "    javascript(url=url)\n",
    "    return printing.latex(exp,**options)\n",
    "init_printing(use_latex=\"mathjax\",latex_printer=custom_latex_printer)\n",
    "```"
   ],
   "cell_type": "markdown",
   "metadata": {}
  },
  {
   "source": [
    "## 代数計算とは\n",
    "\n",
    "代数操作とは、数式を数値として計算することなく、シンボル(代数)の操作として計算することです。\n",
    "\n",
    "__数値計算(従来)__"
   ],
   "cell_type": "markdown",
   "metadata": {}
  },
  {
   "cell_type": "code",
   "execution_count": 2,
   "metadata": {},
   "outputs": [
    {
     "output_type": "execute_result",
     "data": {
      "text/plain": [
       "7"
      ]
     },
     "metadata": {},
     "execution_count": 2
    }
   ],
   "source": [
    "x = 1\n",
    "y = 2\n",
    "x + y + y + x + x"
   ]
  },
  {
   "source": [
    "代数計算では、変数はシンボルであると宣言します。\n",
    "すると、変数に数値を代入することなく、シンボルのまま計算されます。\n",
    "\n",
    "__代数計算(SymPy)__"
   ],
   "cell_type": "markdown",
   "metadata": {}
  },
  {
   "cell_type": "code",
   "execution_count": 3,
   "metadata": {},
   "outputs": [
    {
     "output_type": "execute_result",
     "data": {
      "text/plain": [
       "3*x + 2*y"
      ],
      "text/latex": "$\\displaystyle 3 x + 2 y$"
     },
     "metadata": {},
     "execution_count": 3
    }
   ],
   "source": [
    "x = Symbol('x')\n",
    "y = Symbol('y')\n",
    "\n",
    "x + y + y + x + x"
   ]
  },
  {
   "source": [
    "`x`も`y`も代数式なので、代入された`z`も代数式となります。\n"
   ],
   "cell_type": "markdown",
   "metadata": {}
  },
  {
   "cell_type": "code",
   "execution_count": 4,
   "metadata": {},
   "outputs": [
    {
     "output_type": "execute_result",
     "data": {
      "text/plain": [
       "3*x + 2*y"
      ],
      "text/latex": "$\\displaystyle 3 x + 2 y$"
     },
     "metadata": {},
     "execution_count": 4
    }
   ],
   "source": [
    "z = x + y + y + x + x\n",
    "z"
   ]
  },
  {
   "source": [
    "また、代数式に対するPythonの演算は、**代数操作**となります。"
   ],
   "cell_type": "markdown",
   "metadata": {}
  },
  {
   "cell_type": "code",
   "execution_count": 5,
   "metadata": {},
   "outputs": [
    {
     "output_type": "execute_result",
     "data": {
      "text/plain": [
       "(3*x + 2*y)**2"
      ],
      "text/latex": "$\\displaystyle \\left(3 x + 2 y\\right)^{2}$"
     },
     "metadata": {},
     "execution_count": 5
    }
   ],
   "source": [
    "z ** 2"
   ]
  },
  {
   "source": [
    "### 関数や定数\n",
    "\n",
    "三角関数、 𝜋  などは、SymPyからインポートされたものを用います。\n",
    "\n",
    "\n",
    "\n"
   ],
   "cell_type": "markdown",
   "metadata": {}
  },
  {
   "cell_type": "code",
   "execution_count": 6,
   "metadata": {},
   "outputs": [
    {
     "output_type": "execute_result",
     "data": {
      "text/plain": [
       "sqrt(3)/2"
      ],
      "text/latex": "$\\displaystyle \\frac{\\sqrt{3}}{2}$"
     },
     "metadata": {},
     "execution_count": 6
    }
   ],
   "source": [
    "sin(pi/3)"
   ]
  },
  {
   "source": [
    "### 数値解の求め方\n",
    "\n",
    "数値解を求めたいときは、`float()`を用います。\n",
    "\n"
   ],
   "cell_type": "markdown",
   "metadata": {}
  },
  {
   "cell_type": "code",
   "execution_count": 7,
   "metadata": {},
   "outputs": [
    {
     "output_type": "execute_result",
     "data": {
      "text/plain": [
       "0.8660254037844386"
      ]
     },
     "metadata": {},
     "execution_count": 7
    }
   ],
   "source": [
    "float(sin(pi/3))"
   ]
  },
  {
   "source": [
    "<div class=\"admonition tip\">\n",
    "\n",
    "**例題（代数式）**\n",
    "\n",
    "次の式を書いてみよう\n",
    "\n",
    "1.   $\\sin{x}+\\cos{y}$\n",
    "2.   $e^{x}$\n",
    "3.   $\\frac{x+xy}{x}$\n",
    "\n",
    "</div>\n"
   ],
   "cell_type": "markdown",
   "metadata": {}
  },
  {
   "cell_type": "code",
   "execution_count": 8,
   "metadata": {},
   "outputs": [
    {
     "output_type": "execute_result",
     "data": {
      "text/plain": [
       "sin(x) + cos(y)"
      ],
      "text/latex": "$\\displaystyle \\sin{\\left(x \\right)} + \\cos{\\left(y \\right)}$"
     },
     "metadata": {},
     "execution_count": 8
    }
   ],
   "source": [
    "sin(x)+cos(y)"
   ]
  },
  {
   "cell_type": "code",
   "execution_count": 9,
   "metadata": {},
   "outputs": [
    {
     "output_type": "execute_result",
     "data": {
      "text/plain": [
       "exp(x)"
      ],
      "text/latex": "$\\displaystyle e^{x}$"
     },
     "metadata": {},
     "execution_count": 9
    }
   ],
   "source": [
    "E**x"
   ]
  },
  {
   "cell_type": "code",
   "execution_count": 10,
   "metadata": {},
   "outputs": [
    {
     "output_type": "execute_result",
     "data": {
      "text/plain": [
       "(x*y + x)/x"
      ],
      "text/latex": "$\\displaystyle \\frac{x y + x}{x}$"
     },
     "metadata": {},
     "execution_count": 10
    }
   ],
   "source": [
    "(x+x*y)/x"
   ]
  },
  {
   "source": [
    "## 基本的な代数操作\n",
    "\n",
    "数学でおなじみの代数操作（式の変形）を使ってみましょう。\n",
    "\n",
    "1.   展開 (expand)\n",
    "2.   因数分解(factor)\n",
    "3.   簡易化 (symplify)\n",
    "4.   代入 (substitution)\n",
    "\n",
    "<div class=\"alert alert-warning\">\n",
    "\n",
    "Pythonは英語\n",
    "\n",
    "Pythonの関数名やメソッド名は、英語か英語の省略した名称になっています。\n",
    "英語に強いと意味はすぐにわかりますが、英語だと認識しないとアルファベット列です。\n",
    "関数を覚えるときは、（辞書で意味を調べて）**英単語**も同時に覚えるようにしましょう。\n",
    "\n",
    "</div>\n",
    "\n",
    "__準備__\n",
    "\n",
    "x, y, z をシンボルとします。"
   ],
   "cell_type": "markdown",
   "metadata": {}
  },
  {
   "cell_type": "code",
   "execution_count": 11,
   "metadata": {},
   "outputs": [],
   "source": [
    "x = Symbol('x')\n",
    "y = Symbol('y')\n",
    "z = Symbol('z')"
   ]
  },
  {
   "source": [
    "### 式の展開\n",
    "\n",
    "式を展開するときは、`expand()`を用います。\n",
    "\n",
    "__例.__ $(x+y)^3$の展開\n",
    "\n"
   ],
   "cell_type": "markdown",
   "metadata": {}
  },
  {
   "cell_type": "code",
   "execution_count": 12,
   "metadata": {},
   "outputs": [
    {
     "output_type": "execute_result",
     "data": {
      "text/plain": [
       "(x + y)**3"
      ],
      "text/latex": "$\\displaystyle \\left(x + y\\right)^{3}$"
     },
     "metadata": {},
     "execution_count": 12
    }
   ],
   "source": [
    "(x+y)**3"
   ]
  },
  {
   "cell_type": "code",
   "execution_count": 13,
   "metadata": {},
   "outputs": [
    {
     "output_type": "execute_result",
     "data": {
      "text/plain": [
       "x**3 + 3*x**2*y + 3*x*y**2 + y**3"
      ],
      "text/latex": "$\\displaystyle x^{3} + 3 x^{2} y + 3 x y^{2} + y^{3}$"
     },
     "metadata": {},
     "execution_count": 13
    }
   ],
   "source": [
    "expand((x+y)**3)"
   ]
  },
  {
   "source": [
    "三角関数が含まれるときは、`trig=True`を追加します。\n",
    "\n",
    "__例__. $cos(x+y)$"
   ],
   "cell_type": "markdown",
   "metadata": {}
  },
  {
   "cell_type": "code",
   "execution_count": 14,
   "metadata": {},
   "outputs": [
    {
     "output_type": "execute_result",
     "data": {
      "text/plain": [
       "-sin(x)*sin(y) + cos(x)*cos(y)"
      ],
      "text/latex": "$\\displaystyle - \\sin{\\left(x \\right)} \\sin{\\left(y \\right)} + \\cos{\\left(x \\right)} \\cos{\\left(y \\right)}$"
     },
     "metadata": {},
     "execution_count": 14
    }
   ],
   "source": [
    "expand(cos(x + y), trig=True)"
   ]
  },
  {
   "source": [
    "部分分数への展開は`apart()`を用います。\n",
    "\n",
    "__例.__ $\\frac{1}{x(x+1)}$"
   ],
   "cell_type": "markdown",
   "metadata": {}
  },
  {
   "cell_type": "code",
   "execution_count": 15,
   "metadata": {},
   "outputs": [
    {
     "output_type": "execute_result",
     "data": {
      "text/plain": [
       "1/(x*(x + 1))"
      ],
      "text/latex": "$\\displaystyle \\frac{1}{x \\left(x + 1\\right)}$"
     },
     "metadata": {},
     "execution_count": 15
    }
   ],
   "source": [
    "1/(x*(x+1))"
   ]
  },
  {
   "cell_type": "code",
   "execution_count": 16,
   "metadata": {},
   "outputs": [
    {
     "output_type": "execute_result",
     "data": {
      "text/plain": [
       "-1/(x + 1) + 1/x"
      ],
      "text/latex": "$\\displaystyle - \\frac{1}{x + 1} + \\frac{1}{x}$"
     },
     "metadata": {},
     "execution_count": 16
    }
   ],
   "source": [
    "apart(1/(x*(x+1)))"
   ]
  },
  {
   "source": [
    "### 因数分解\n",
    "\n",
    "式を因数分解するときは、`factor()`を用います。\n",
    "\n",
    "__例.__ (受験でお馴染みの)$x^3+y^3+z^3 - 3xyz$の因数分解\n"
   ],
   "cell_type": "markdown",
   "metadata": {}
  },
  {
   "cell_type": "code",
   "execution_count": 17,
   "metadata": {},
   "outputs": [
    {
     "output_type": "execute_result",
     "data": {
      "text/plain": [
       "x**3 - 3*x*y*z + y**3 + z**3"
      ],
      "text/latex": "$\\displaystyle x^{3} - 3 x y z + y^{3} + z^{3}$"
     },
     "metadata": {},
     "execution_count": 17
    }
   ],
   "source": [
    "x**3 + y**3 + z**3 - 3*x*y*z"
   ]
  },
  {
   "cell_type": "code",
   "execution_count": 18,
   "metadata": {},
   "outputs": [
    {
     "output_type": "execute_result",
     "data": {
      "text/plain": [
       "(x + y + z)*(x**2 - x*y - x*z + y**2 - y*z + z**2)"
      ],
      "text/latex": "$\\displaystyle \\left(x + y + z\\right) \\left(x^{2} - x y - x z + y^{2} - y z + z^{2}\\right)$"
     },
     "metadata": {},
     "execution_count": 18
    }
   ],
   "source": [
    "factor(x**3+y**3+z**3-3*x*y*z)"
   ]
  },
  {
   "source": [
    "### 式の簡略化\n",
    "\n",
    "式を簡易化するときは`simplify()`を用います。\n",
    "\n",
    "__例.__ $\\frac{x+xy}{x}$ の簡略化"
   ],
   "cell_type": "markdown",
   "metadata": {}
  },
  {
   "cell_type": "code",
   "execution_count": 19,
   "metadata": {},
   "outputs": [
    {
     "output_type": "execute_result",
     "data": {
      "text/plain": [
       "y + 1"
      ],
      "text/latex": "$\\displaystyle y + 1$"
     },
     "metadata": {},
     "execution_count": 19
    }
   ],
   "source": [
    "simplify((x + x*y)/x)"
   ]
  },
  {
   "source": [
    "三角関数を含む式を簡略化したいときは、`trigsimp()` を用います。\n",
    "\n",
    "例. $\\cos^2{x}-\\sin^2{x}$"
   ],
   "cell_type": "markdown",
   "metadata": {}
  },
  {
   "cell_type": "code",
   "execution_count": 20,
   "metadata": {},
   "outputs": [
    {
     "output_type": "execute_result",
     "data": {
      "text/plain": [
       "cos(2*x)"
      ],
      "text/latex": "$\\displaystyle \\cos{\\left(2 x \\right)}$"
     },
     "metadata": {},
     "execution_count": 20
    }
   ],
   "source": [
    "trigsimp(cos(x)**2 - sin(x)**2)"
   ]
  },
  {
   "source": [
    "### 式の代入\n",
    "\n",
    "式への代入は、subs()メソッドを用います。\n",
    "\n",
    "__例.__ $x^3+y^3+z^3-3xyz$ の$z$に1を代入する"
   ],
   "cell_type": "markdown",
   "metadata": {}
  },
  {
   "cell_type": "code",
   "execution_count": 21,
   "metadata": {},
   "outputs": [
    {
     "output_type": "execute_result",
     "data": {
      "text/plain": [
       "x**3 - 3*x*y + y**3 + 1"
      ],
      "text/latex": "$\\displaystyle x^{3} - 3 x y + y^{3} + 1$"
     },
     "metadata": {},
     "execution_count": 21
    }
   ],
   "source": [
    "(x**3+y**3+z**3-3*x*y*z).subs(z, 1)"
   ]
  },
  {
   "source": [
    "## 方程式の解法\n",
    "\n",
    "`solve()`を用いると、方程式の解を求めることができる。\n",
    "\n",
    "__例.__ $x^4=1$のxの解"
   ],
   "cell_type": "markdown",
   "metadata": {}
  },
  {
   "cell_type": "code",
   "execution_count": 22,
   "metadata": {},
   "outputs": [
    {
     "output_type": "execute_result",
     "data": {
      "text/plain": [
       "[-1, 1, -I, I]"
      ]
     },
     "metadata": {},
     "execution_count": 22
    }
   ],
   "source": [
    "solve(x**4-1, x)"
   ]
  },
  {
   "source": [
    "連立方程式は、リストで与えます。\n",
    "\n",
    "__例.__ 連立方程式  𝑥+5𝑦=2,−3𝑥+6𝑦=15 の解"
   ],
   "cell_type": "markdown",
   "metadata": {}
  },
  {
   "cell_type": "code",
   "execution_count": 23,
   "metadata": {},
   "outputs": [
    {
     "output_type": "execute_result",
     "data": {
      "text/plain": [
       "{x: -3, y: 1}"
      ]
     },
     "metadata": {},
     "execution_count": 23
    }
   ],
   "source": [
    "solve([x+5*y-2, -3*x+6*y-15], [x,y])"
   ]
  },
  {
   "source": [
    "## 初等解析\n",
    "\n",
    "### 極限\n",
    "\n",
    "極限は、`limit()`を用いて求めることができます。\n",
    "\n",
    "__例.__ $\\lim_{x \\to 0} x^x$\n",
    "\n"
   ],
   "cell_type": "markdown",
   "metadata": {}
  },
  {
   "cell_type": "code",
   "execution_count": 24,
   "metadata": {},
   "outputs": [
    {
     "output_type": "execute_result",
     "data": {
      "text/plain": [
       "1"
      ],
      "text/latex": "$\\displaystyle 1$"
     },
     "metadata": {},
     "execution_count": 24
    }
   ],
   "source": [
    "limit(x**x, x, 0)"
   ]
  },
  {
   "source": [
    "無限大は、`oo`と書きます。\n",
    "\n",
    "__例.__ $\\lim_{x \\to \\infty} \\frac{1}{x}$"
   ],
   "cell_type": "markdown",
   "metadata": {}
  },
  {
   "cell_type": "code",
   "execution_count": 25,
   "metadata": {},
   "outputs": [
    {
     "output_type": "execute_result",
     "data": {
      "text/plain": [
       "0"
      ],
      "text/latex": "$\\displaystyle 0$"
     },
     "metadata": {},
     "execution_count": 25
    }
   ],
   "source": [
    "limit(1/x, x, oo)"
   ]
  },
  {
   "source": [
    "### 微分\n",
    "\n",
    "微分は、`diff()`を用います。\n",
    "\n",
    "__例. $\\frac{x}{dx}\\sin{x}$__"
   ],
   "cell_type": "markdown",
   "metadata": {}
  },
  {
   "cell_type": "code",
   "execution_count": 26,
   "metadata": {},
   "outputs": [
    {
     "output_type": "execute_result",
     "data": {
      "text/plain": [
       "cos(x)"
      ],
      "text/latex": "$\\displaystyle \\cos{\\left(x \\right)}$"
     },
     "metadata": {},
     "execution_count": 26
    }
   ],
   "source": [
    "diff(sin(x), x)"
   ]
  },
  {
   "source": [
    "### 積分\n",
    "\n",
    "積分は、`integrate(関数, 変数)`によって、初等関数, 特殊関数の積分が可能です。\n",
    " \n",
    "__例__ $\\int \\log x ~dx$"
   ],
   "cell_type": "markdown",
   "metadata": {}
  },
  {
   "cell_type": "code",
   "execution_count": 27,
   "metadata": {},
   "outputs": [
    {
     "output_type": "execute_result",
     "data": {
      "text/plain": [
       "x*log(x) - x"
      ],
      "text/latex": "$\\displaystyle x \\log{\\left(x \\right)} - x$"
     },
     "metadata": {},
     "execution_count": 27
    }
   ],
   "source": [
    "integrate(log(x), x)"
   ]
  },
  {
   "source": [
    "__例__ $\\int_{-\\infty}^\\infty  e^{-x^2} dx$"
   ],
   "cell_type": "markdown",
   "metadata": {}
  },
  {
   "cell_type": "code",
   "execution_count": 28,
   "metadata": {},
   "outputs": [
    {
     "output_type": "execute_result",
     "data": {
      "text/plain": [
       "sqrt(pi)"
      ],
      "text/latex": "$\\displaystyle \\sqrt{\\pi}$"
     },
     "metadata": {},
     "execution_count": 28
    }
   ],
   "source": [
    "integrate(exp(-x**2), (x, -oo, oo))"
   ]
  },
  {
   "source": [
    "## コースワーク\n",
    "\n",
    "Pythonの習得で重要なのは、習ったことを覚えてプログラミングすることではありません。\n",
    "「こういうことはできるかな？」と調べて、ソースコードを参考にプログラミングすることです。\n",
    "ぜひ、解いてみましょう。"
   ],
   "cell_type": "markdown",
   "metadata": {}
  },
  {
   "source": [
    "<div class=\"admonition tip\">\n",
    "\n",
    "**演習（数式）**\n",
    "\n",
    "1.   $\\int_{-\\infty}^\\infty \\sin{x^2} dx$ を求めよ\n",
    "2.   $\\int_{0}^\\infty  (\\sqrt{x^2+1}-1)^2 dx$ を求めよ\n",
    "3.   $f(x)=\\frac{4x^2+2x+1}{x^2+1}$の極値を求めよ\n",
    "4.   大学入試の過去問からSymPyで解ける問題を探して解いてみよう\n",
    "\n",
    "</div>\n",
    "\n",
    "__ヒント__\n",
    "\n",
    "色々な解き方があります。\n",
    "\n",
    "1. SymPyを使っても解いてみましょう。\n",
    "2. どうしても解けなければ、手で解いても構いません\n",
    "\n",
    "\n"
   ],
   "cell_type": "markdown",
   "metadata": {}
  }
 ]
}