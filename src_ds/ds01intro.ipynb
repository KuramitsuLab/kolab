{
 "metadata": {
  "language_info": {
   "codemirror_mode": {
    "name": "ipython",
    "version": 3
   },
   "file_extension": ".py",
   "mimetype": "text/x-python",
   "name": "python",
   "nbconvert_exporter": "python",
   "pygments_lexer": "ipython3",
   "version": "3.9.1-final"
  },
  "orig_nbformat": 2,
  "kernelspec": {
   "name": "python3",
   "display_name": "Python 3.9.1 64-bit",
   "metadata": {
    "interpreter": {
     "hash": "ac2eaa0ea0ebeafcc7822e65e46aa9d4f966f30b695406963e145ea4a91cd4fc"
    }
   }
  }
 },
 "nbformat": 4,
 "nbformat_minor": 2,
 "cells": [
  {
   "source": [
    "# Python とデータサイエンス\n",
    "\n",
    "本講義では、Colab のハンズオン演習を行いながら、データサイエンスと機械学習の基礎を学びます。\n",
    "\n",
    "まずは、Colabに慣れながら、Pythonのおさらいから始めましょう。\n"
   ],
   "cell_type": "markdown",
   "metadata": {}
  },
  {
   "source": [
    "## Colab とは\n",
    "\n",
    "Colabとは、Google 社が提供するクラウド版の[Jupyter Notebook](https://jupyter.org) です。\n",
    "環境設定することなしに、Python と豊富なライブラリ、さらに高性能なGPUが利用可能です。\n",
    "データサイエンスや機械学習の入門には大変によい環境が提供になっています。\n",
    "\n",
    "https://colab.research.google.com/\n",
    "\n",
    "はじめて Colab を使うときは、Google アカウント( Gmail アカウント ) が必要になります。\n",
    "Googleアカウントは複数作成できるので、授業用のアカウントを作っておくと便利です。\n"
   ],
   "cell_type": "markdown",
   "metadata": {}
  },
  {
   "source": [
    "### コードセルとテキストセル\n",
    "\n",
    "Colab は、コードセルとテキストセルがあります。\n",
    "\n",
    "#### コードセル\n",
    "\n",
    "プログラム（ソースコード）を入力して、実行ボタンを押すことで、実行結果を表示します。\n",
    "\n",
    "<img src=\"https://qiita-image-store.s3.ap-northeast-1.amazonaws.com/0/57754/2453d50e-b99d-be10-bbce-24e46e59b3ce.png\" width=\"60%\" />\n",
    "\n",
    "本資料では、実行セルに入力すべきコードと実行結果は、次のように記載します。"
   ],
   "cell_type": "markdown",
   "metadata": {}
  },
  {
   "cell_type": "code",
   "execution_count": null,
   "metadata": {},
   "outputs": [],
   "source": [
    "print(\"Hello World\")"
   ]
  },
  {
   "source": [
    "\n",
    "注意すべき点は、実行セルでは、独立していないことです。\n",
    "\n",
    "前のに実行したセルの結果（変数など）は、次のセルで**続けて使うこと**ができます。"
   ],
   "cell_type": "markdown",
   "metadata": {}
  },
  {
   "cell_type": "code",
   "execution_count": null,
   "metadata": {},
   "outputs": [],
   "source": [
    "x = 1\n",
    "x + 1"
   ]
  },
  {
   "cell_type": "code",
   "execution_count": null,
   "metadata": {},
   "outputs": [],
   "source": [
    "x * 2"
   ]
  },
  {
   "source": [
    "<div class=\"alert alert-warning\">\n",
    "\n",
    "注意：コードセルの実行結果\n",
    "\n",
    "セル内で最後に実行した結果は、`print()`しなくても、表示されます。\n",
    "\n",
    "</div>"
   ],
   "cell_type": "markdown",
   "metadata": {}
  },
  {
   "source": [
    "### コードセル (UNIXコマンド編)\n",
    "\n",
    "Colabは、Google社のデータセンターの Linux 上で実行されています。\n",
    "\n",
    "`!ls`のように`!`をつけると、コードセル内で**UNIXコマンド**を実行することができます。\n",
    "\n",
    "__例__\n",
    "\n",
    "```\n",
    "!uname -a\n",
    "```\n",
    "\n",
    "本講義では、ファイル操作などでは、UNIXコマンドを使います。\n",
    "`!`が先頭についていたら、UNIXコマンドなんだなと、理解してください。\n",
    "\n",
    "__例__\n",
    "\n",
    "Web上の「吾輩は猫である（テキスト版）」をColab上にダウンロードしてきて表示します。\n",
    "\n",
    "http://www.cl.ecei.tohoku.ac.jp/nlp100/data/neko.txt\n",
    "\n"
   ],
   "cell_type": "markdown",
   "metadata": {}
  },
  {
   "cell_type": "code",
   "execution_count": null,
   "metadata": {},
   "outputs": [],
   "source": [
    "!wget http://www.cl.ecei.tohoku.ac.jp/nlp100/data/neko.txt\n",
    "!head neko.txt"
   ]
  },
  {
   "source": [
    "Colab は、便利なユーザインターフェースを備えていますが、ユーザインターフェースからは全ての操作はできません。\n",
    "そのようなとき、UNIXコマンドを使いこなすと、細かい操作ができるようになります。\n",
    "UNIXコマンドは、**クラウドなどのコンピューティング・サービスを使いこなす必須スキル**といえます。\n",
    "本講義を通して、少しずつ覚えていきましょう。\n"
   ],
   "cell_type": "markdown",
   "metadata": {}
  },
  {
   "source": [
    "\n",
    "### テキストセル\n",
    "\n",
    "[マークダウン記法](https://qiita.com/Blueman81/items/72ca43681d16d44e21ad)でソースコードの説明やメモを記録します。\n",
    "\n",
    "__よく使うマークダウン記法__\n",
    "```\n",
    "# 見出し１\n",
    "## 見出し２\n",
    "### 見出し３\n",
    "\n",
    "* 項目1\n",
    "* 項目2\n",
    "\n",
    "1. 項目\n",
    "2. 項目\n",
    "\n",
    "```\n",
    "\n",
    "\n",
    "\n",
    "<div class=\"alert alert-info\">\n",
    "\n",
    "マークダウン記法と数式\n",
    "\n",
    "簡易文書作成記法です。ソフトウェアエンジニアや科学者の間では、標準的な記法になっています。\n",
    "また、Colabでは Mathjaxも対応しているため、`$\\sqrt{2}$`のように`$`で囲むと、\n",
    "$\\sqrt{2}$のように数式も記述できます。\n",
    "\n",
    "![colab_math.png](https://qiita-image-store.s3.ap-northeast-1.amazonaws.com/0/57754/76e6eecd-c5ed-b4fe-7577-f5db26897034.png)\n",
    "\n",
    "</div>\n",
    "\n"
   ],
   "cell_type": "markdown",
   "metadata": {}
  },
  {
   "source": [
    "## データサイエンスに必要なPython\n",
    "\n",
    "本講義では、Pythonを用いてプログラミングをしながら、データサイエンスと機械学習の基礎を学びます。\n",
    "\n",
    "高度なプログラミング技法は必要はありませんが、最低限の言語理解がないと、ソースコードが読めなくて、\n",
    "どんどんわからなくなります。\n",
    "\n",
    "__必須__\n",
    "\n",
    "1. 演算子、変数と関数\n",
    "2. 条件分岐、繰り返し (for文)\n",
    "3. リスト、辞書などのデータ操作\n",
    "\n",
    "__（知っていれば）理解が深まる__\n",
    "\n",
    "1. ラムダ式や高階関数 (２年前期)\n",
    "2. オブジェクト指向と演算子オーバーロード (２年後期)\n",
    "\n",
    "理解が怪しいときは、Python 教科書やWeb上の記事を参考にして、復習しておきましょう。\n",
    "\n",
    "<div class=\"alert alert-warning\">\n",
    "\n",
    "もしPythonに自信がなければ\n",
    "\n",
    "２年生むけの[Web講義ノート](https://KuramitsuLab.github.io/lecnote/py/)も公開しています。\n",
    "こちらもぜひ参考にしていただければと思います。\n",
    "</div>\n"
   ],
   "cell_type": "markdown",
   "metadata": {}
  },
  {
   "source": [
    "### Python 理解チェック\n",
    "\n",
    "次のPythonコードを（コードセルを実行しなくても）実行結果が予想できるか試してみましょう。"
   ],
   "cell_type": "markdown",
   "metadata": {}
  },
  {
   "cell_type": "code",
   "execution_count": null,
   "metadata": {},
   "outputs": [],
   "source": [
    "# 変数（代入）、加算\n",
    "x = 1\n",
    "y = x + 1\n",
    "x + y"
   ]
  },
  {
   "cell_type": "code",
   "execution_count": null,
   "metadata": {},
   "outputs": [],
   "source": [
    "# 変数（代入）、等号\n",
    "x = 2\n",
    "x == y"
   ]
  },
  {
   "cell_type": "code",
   "execution_count": null,
   "metadata": {},
   "outputs": [],
   "source": [
    "# 関数\n",
    "from math import sqrt\n",
    "sqrt(2.0)"
   ]
  },
  {
   "cell_type": "code",
   "execution_count": null,
   "metadata": {},
   "outputs": [],
   "source": [
    "# 関数定義\n",
    "def f(x):\n",
    "    return x+1\n",
    "f(1)"
   ]
  },
  {
   "cell_type": "code",
   "execution_count": null,
   "metadata": {},
   "outputs": [],
   "source": [
    "# 繰り返し, range()\n",
    "for n in range(0, 10):\n",
    "    print(n)"
   ]
  },
  {
   "cell_type": "code",
   "execution_count": null,
   "metadata": {},
   "outputs": [],
   "source": [
    "# リスト\n",
    "a = [0, 1, 2, 3]\n",
    "a[0] + a[-1]"
   ]
  },
  {
   "cell_type": "code",
   "execution_count": null,
   "metadata": {},
   "outputs": [],
   "source": [
    "# 辞書\n",
    "d = {'apple': 100, 'orange': 120}\n",
    "d['apple']"
   ]
  },
  {
   "cell_type": "code",
   "execution_count": null,
   "metadata": {},
   "outputs": [],
   "source": [
    "# 応用問題\n",
    "a = []\n",
    "for n in range(0, 10):\n",
    "    if n % 2 == 0:\n",
    "        a.append(n)\n",
    "sum(a)"
   ]
  },
  {
   "source": [
    "### ワンランク上のPythonスキル\n",
    "\n",
    "ここから先は、ちょっと難しいかもしれません。\n",
    "\n",
    "「はじめてみる」ということはないと思いますが、こういう書き方があると覚えましょう。"
   ],
   "cell_type": "markdown",
   "metadata": {}
  },
  {
   "cell_type": "code",
   "execution_count": null,
   "metadata": {},
   "outputs": [],
   "source": [
    "## リスト内包記法 \n",
    "[n+1 for n in range(0, 10) if n % 2 == 0]"
   ]
  },
  {
   "cell_type": "code",
   "execution_count": null,
   "metadata": {},
   "outputs": [],
   "source": [
    "## 高階関数 map\n",
    "list(map(f, range(0, 10)))"
   ]
  },
  {
   "cell_type": "code",
   "execution_count": null,
   "metadata": {},
   "outputs": [],
   "source": [
    "## ラムダ式, map \n",
    "list(map(lambda x: x+1, range(0, 10)))"
   ]
  },
  {
   "cell_type": "code",
   "execution_count": null,
   "metadata": {},
   "outputs": [],
   "source": [
    "## クラス (２年後期で不評でしたが)\n",
    "class C(object):\n",
    "    c: int\n",
    "    def __init__(self):\n",
    "        self.c = 0\n",
    "    def count(self):\n",
    "        self.c += 1\n",
    "    def __repr__(self):\n",
    "        return str(self.c)\n",
    "    def __int__(self):\n",
    "        return self.c\n",
    "    def __add__(self, another):\n",
    "        return self.c + int(another)\n",
    "c = C()\n",
    "print(type(c)) # cの種類を調べる\n",
    "c.count()\n",
    "c\n",
    "    "
   ]
  },
  {
   "source": [
    "<div class=\"alert alert-info\">\n",
    "\n",
    "オブジェクトの種類の確認\n",
    "\n",
    "データサイエンスや機械学習のライブラリでは、\n",
    "演算子オーバーロードされたオブジェクトが当たり前のように使われます。\n",
    "変だなと思ったら`type()`でオブジェクトの種類を確認してください。\n",
    "\n",
    "```\n",
    "print(type(c))\n",
    "```\n",
    "\n",
    "</div>\n",
    "\n"
   ],
   "cell_type": "markdown",
   "metadata": {}
  },
  {
   "source": [
    "## コースワーク\n",
    "\n",
    "コースワークは、次回までの演習問題です。\n",
    "次回の授業でたぶん解説をします。\n",
    "\n",
    "<div class=\"admonition tip\">\n",
    "\n",
    "**演習（素数）**\n",
    "\n",
    "1000以下の素数をもとめるプログラムを書いて表示しよう\n",
    "\n",
    "</div>\n",
    "\n",
    "__ヒント__\n",
    "\n",
    "色々な解き方があります。\n",
    "\n",
    "1. エラトステネスの篩（アルゴリズム）を用いる\n",
    "2. 素数かどうか判定する関数を作ってフィルタする\n",
    "\n",
    "簡単な方でどうぞ\n"
   ],
   "cell_type": "markdown",
   "metadata": {}
  }
 ]
}