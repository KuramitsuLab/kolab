{
 "metadata": {
  "language_info": {
   "codemirror_mode": {
    "name": "ipython",
    "version": 3
   },
   "file_extension": ".py",
   "mimetype": "text/x-python",
   "name": "python",
   "nbconvert_exporter": "python",
   "pygments_lexer": "ipython3",
   "version": "3.9.1-final"
  },
  "orig_nbformat": 2,
  "kernelspec": {
   "name": "python3",
   "display_name": "Python 3.9.1 64-bit",
   "metadata": {
    "interpreter": {
     "hash": "ac2eaa0ea0ebeafcc7822e65e46aa9d4f966f30b695406963e145ea4a91cd4fc"
    }
   }
  }
 },
 "nbformat": 4,
 "nbformat_minor": 2,
 "cells": [
  {
   "source": [
    "# Python とデータサイエンス\n",
    "\n",
    "本講義では、Pythonによるハンズオン演習を含めながら、\n",
    "データサイエンスと機械学習の基礎を学びます。\n",
    "まずは、Google Colabに慣れながら、Pythonのおさらいから始めましょう。\n"
   ],
   "cell_type": "markdown",
   "metadata": {}
  },
  {
   "source": [
    "## データサイエンスとは\n",
    "\n",
    "データ・サイエンスは、数学やコンピュータ科学を駆使し、データから価値を創出し、社会課題に答えを出す技法です。近年、ICT技術の急激な進歩にともない、大量のデータの収集が容易になり、あらゆる分野で活用が期待されている学問領域です。\n",
    "\n",
    "__求められるスキルセット__\n",
    "\n",
    "* 数学、統計学、コンピュータ科学\n",
    "* コンピュータ力（UNIX、Python, pandas, matplotlib）\n",
    "* ビジネス分析力(仮説探索、仮説検証)\n",
    "* プレゼンテーション\n",
    "\n",
    "参考資料: http://www.datascientist.or.jp/symp/2019/pdf/1115-1155_skill.pdf"
   ],
   "cell_type": "markdown",
   "metadata": {}
  },
  {
   "source": [
    "<div class=\"alert alert-warning\">\n",
    "\n",
    "本講義\n",
    "\n",
    "本講義は、数学やコンピュータ科学を学んできたという前提の上で、\n",
    "データ分析に必須となるコンピュータ力を高めていきます。\n",
    "特に、Python でデータ分析ができるかどうかは、\n",
    "pandas と matplotlib を使いこなせるかどうかにかかっています。\n",
    "かなり練習しないと使えませんので、ぜひしっかり練習してください。\n",
    "</div>"
   ],
   "cell_type": "markdown",
   "metadata": {}
  },
  {
   "source": [
    "### データサイエンスの目的\n",
    "\n",
    "データサイエンスのアウトプットは２つに大別されます。\n",
    "\n",
    "* **レポーティング**: 人間に対し、意思決定が的確に行えるようにエビデンスを提供すること\n",
    "* **人工知能(AI)**: コンピュータに対し、未来が予測できるようにモデルを構築すること\n",
    "\n",
    "なぜ、近年データサイエンスが注目されているか？\n",
    "\n",
    "* リアルタイム性: 従来はデータ分析に大きな時間がかかっていたが、現在はビックデータ収集からデータ分析までリアルタイムで処理が行える\n",
    "* 標準化： データを扱うことが統一され、バラバラでなく、統一した基準で議論が可能になる\n",
    "* 共有性： データ共有が進み、多くの人が等しくデータの民主化が促進される\n",
    "\n"
   ],
   "cell_type": "markdown",
   "metadata": {}
  },
  {
   "source": [
    "<div class=\"alert alert-warning\">\n",
    "\n",
    "データサイエンスと人工知能(AI)\n",
    "\n",
    "データサイエンスは、広い領域にまたがっています。\n",
    "統計学を専門にする教員とコンピュータ科学を専門にする教員では、\n",
    "重要視する内容が少しずつ異なります。\n",
    "この講義は、PyTorch等を駆使して人工知能(AI)を開発してきた経験から、\n",
    "「人工知能(AI)の基礎を学ぶ」ことに力点をおいています。\n",
    "</div>"
   ],
   "cell_type": "markdown",
   "metadata": {}
  },
  {
   "source": [
    "## データサイエンスを学ぶ環境\n",
    "\n",
    "Colabとは、Google 社が提供するクラウド版の[Jupyter Notebook](https://jupyter.org) です。\n",
    "環境設定することなしに、Python と豊富なライブラリ、さらに高性能なGPUが利用可能です。\n",
    "データサイエンスや機械学習の入門には大変によい環境が提供になっています。\n",
    "\n",
    "https://colab.research.google.com/\n",
    "\n",
    "はじめて Colab を使うときは、Google アカウント( Gmail アカウント ) が必要になります。\n",
    "Googleアカウントは複数作成できるので、授業用のアカウントを作っておくと便利です。\n"
   ],
   "cell_type": "markdown",
   "metadata": {}
  },
  {
   "source": [
    "\n",
    "### テキストセル\n",
    "\n",
    "Colab は、コードセルとテキストセルがあります。\n",
    "テキストセルには、[マークダウン記法](https://qiita.com/Blueman81/items/72ca43681d16d44e21ad)によって、コードの説明やメモを記録します。\n",
    "\n",
    "__よく使うマークダウン記法__\n",
    "```\n",
    "# 見出し１\n",
    "## 見出し２\n",
    "### 見出し３\n",
    "\n",
    "* 項目1\n",
    "* 項目2\n",
    "\n",
    "1. 項目\n",
    "2. 項目\n",
    "\n",
    "```\n",
    "\n",
    "\n",
    "\n",
    "<div class=\"alert alert-info\">\n",
    "\n",
    "マークダウン記法と数式\n",
    "\n",
    "簡易文書作成記法です。ソフトウェアエンジニアや科学者の間では、標準的な記法になっています。\n",
    "また、Colabでは Mathjax([Latexによる数式埋め込み](http://www.latex-cmd.com/index.html#equation))も対応しているため、`$\\sqrt{2}$`のように`$`で囲むと、\n",
    "$\\sqrt{2}$のように数式も記述できます。\n",
    "\n",
    "![colab_math.png](https://qiita-image-store.s3.ap-northeast-1.amazonaws.com/0/57754/76e6eecd-c5ed-b4fe-7577-f5db26897034.png)\n",
    "\n",
    "データサイエンティストとしては、数式はLatex記法でかけるようになった方がレポートが綺麗に仕上がります。\n",
    "</div>\n",
    "\n"
   ],
   "cell_type": "markdown",
   "metadata": {}
  },
  {
   "source": [
    "\n",
    "#### コードセル\n",
    "\n",
    "プログラム（ソースコード）を入力して、実行ボタンを押すことで、実行結果を表示します。\n",
    "\n",
    "<img src=\"https://qiita-image-store.s3.ap-northeast-1.amazonaws.com/0/57754/2453d50e-b99d-be10-bbce-24e46e59b3ce.png\" width=\"60%\" />\n",
    "\n",
    "本資料では、実行セルに入力すべきコードと実行結果は、次のように記載します。"
   ],
   "cell_type": "markdown",
   "metadata": {}
  },
  {
   "cell_type": "code",
   "execution_count": null,
   "metadata": {},
   "outputs": [],
   "source": [
    "print(\"Hello World\")"
   ]
  },
  {
   "source": [
    "\n",
    "注意すべき点は、実行セルでは、独立していないことです。\n",
    "\n",
    "前のに実行したセルの結果（変数など）は、次のセルで**続けて使うこと**ができます。"
   ],
   "cell_type": "markdown",
   "metadata": {}
  },
  {
   "cell_type": "code",
   "execution_count": null,
   "metadata": {},
   "outputs": [],
   "source": [
    "x = 1\n",
    "x + 1"
   ]
  },
  {
   "cell_type": "code",
   "execution_count": null,
   "metadata": {},
   "outputs": [],
   "source": [
    "x * 2"
   ]
  },
  {
   "source": [
    "<div class=\"alert alert-warning\">\n",
    "\n",
    "注意：コードセルの実行結果\n",
    "\n",
    "セル内で最後に実行した結果は、`print()`しなくても、表示されます。\n",
    "\n",
    "</div>"
   ],
   "cell_type": "markdown",
   "metadata": {}
  },
  {
   "source": [
    "### コードセル (UNIXコマンド編)\n",
    "\n",
    "Colabは、Google社のデータセンターの Linux 上で実行されています。\n",
    "\n",
    "`!ls`のように`!`をつけると、コードセル内で**UNIXコマンド**を実行することができます。\n",
    "\n",
    "__例__\n",
    "\n",
    "```\n",
    "!uname -a\n",
    "```\n",
    "\n",
    "本講義では、ファイル操作などでは、UNIXコマンドを使います。\n",
    "`!`が先頭についていたら、UNIXコマンドなんだなと、理解してください。\n",
    "\n",
    "__例__\n",
    "\n",
    "Web上の「吾輩は猫である（テキスト版）」をColab上にダウンロードしてきて表示します。\n",
    "\n",
    "http://www.cl.ecei.tohoku.ac.jp/nlp100/data/neko.txt\n",
    "\n"
   ],
   "cell_type": "markdown",
   "metadata": {}
  },
  {
   "cell_type": "code",
   "execution_count": null,
   "metadata": {},
   "outputs": [],
   "source": [
    "!wget http://www.cl.ecei.tohoku.ac.jp/nlp100/data/neko.txt\n",
    "!head neko.txt"
   ]
  },
  {
   "source": [
    "Colab は、使いやすいユーザインターフェースを備えていますが、ユーザインターフェースからは全ての操作はできません。UNIXコマンドを使いこなすと、細かい操作ができるようになります。\n",
    "UNIXコマンドは、Colabに限らず、\n",
    "**クラウドなどのコンピューティング基盤を使いこなす必須スキル**といえます。\n",
    "本講義を通して、少しずつ覚えていきましょう。\n",
    "\n",
    "__本講義で使う主なUNIXコマンド__\n",
    "\n",
    "|コマンド|説明|\n",
    "|------|----|\n",
    "|`head` | ファイルの先頭を表示して確認する |\n",
    "|`wget` | URLからファイルをダウンロード |\n",
    "|`unzip` | ZIPファイルを展開する |\n"
   ],
   "cell_type": "markdown",
   "metadata": {}
  },
  {
   "source": [
    "## データサイエンスとPython\n",
    "\n",
    "本講義では、Pythonを用いて**手を動かしながら**、データサイエンスと機械学習の基礎を学びます。\n",
    "\n",
    "高度なプログラミング能力は必要はありませんが、最低限のPython言語の理解がないと、\n",
    "ソースコードが読めなくてわからなくなります。\n",
    "\n",
    "__必須__\n",
    "\n",
    "1. 演算子、変数と関数\n",
    "2. 条件分岐、繰り返し (for文)\n",
    "3. リスト、辞書などのデータ操作\n",
    "\n",
    "__（知っていれば）理解が深まる__\n",
    "\n",
    "1. ラムダ式や高階関数 (２年前期)\n",
    "2. オブジェクト指向と演算子オーバーロード (２年後期)\n",
    "\n",
    "Pythonの理解が怪しいときは、[Pythonチュートリアル(Web版)](https://docs.python.org/ja/3/tutorial/)を頼りにして、復習しておきましょう。\n",
    "\n",
    "<div class=\"alert alert-warning\">\n",
    "\n",
    "もしPythonに自信がなければ\n",
    "\n",
    "２年生向けの[Pythonプログラミング講義ノート](https://KuramitsuLab.github.io/lecnote/py/)も公開しています。ぜひこちらも役立ててください。\n",
    "</div>\n"
   ],
   "cell_type": "markdown",
   "metadata": {}
  },
  {
   "source": [
    "### Python 理解チェック\n",
    "\n",
    "次のPythonコードを（コードセルを実行しなくても）実行結果が予想できるか試してみましょう。"
   ],
   "cell_type": "markdown",
   "metadata": {}
  },
  {
   "cell_type": "code",
   "execution_count": null,
   "metadata": {},
   "outputs": [],
   "source": [
    "# 変数（代入）、加算\n",
    "x = 1\n",
    "y = x + 1\n",
    "x + y"
   ]
  },
  {
   "cell_type": "code",
   "execution_count": null,
   "metadata": {},
   "outputs": [],
   "source": [
    "# 変数（代入）、等号\n",
    "x = 2\n",
    "x == y"
   ]
  },
  {
   "cell_type": "code",
   "execution_count": null,
   "metadata": {},
   "outputs": [],
   "source": [
    "# 関数\n",
    "from math import sqrt\n",
    "sqrt(2.0)"
   ]
  },
  {
   "cell_type": "code",
   "execution_count": null,
   "metadata": {},
   "outputs": [],
   "source": [
    "# 関数定義\n",
    "def f(x):\n",
    "    return x+1\n",
    "f(1)"
   ]
  },
  {
   "cell_type": "code",
   "execution_count": null,
   "metadata": {},
   "outputs": [],
   "source": [
    "# 繰り返し, range()\n",
    "for n in range(0, 10):\n",
    "    print(n)"
   ]
  },
  {
   "cell_type": "code",
   "execution_count": null,
   "metadata": {},
   "outputs": [],
   "source": [
    "# リスト\n",
    "a = [0, 1, 2, 3]\n",
    "a[0] + a[-1]"
   ]
  },
  {
   "cell_type": "code",
   "execution_count": null,
   "metadata": {},
   "outputs": [],
   "source": [
    "# 辞書\n",
    "d = {'apple': 100, 'orange': 120}\n",
    "d['apple']"
   ]
  },
  {
   "cell_type": "code",
   "execution_count": null,
   "metadata": {},
   "outputs": [],
   "source": [
    "# 応用問題\n",
    "a = []\n",
    "for n in range(0, 10):\n",
    "    if n % 2 == 0:\n",
    "        a.append(n)\n",
    "sum(a)"
   ]
  },
  {
   "source": [
    "### ワンランク上のPythonスキル\n",
    "\n",
    "ここから先は、ちょっと難しいかもしれません。\n",
    "\n",
    "「はじめてみる」ということはないと思いますが、こういう書き方があると覚えましょう。"
   ],
   "cell_type": "markdown",
   "metadata": {}
  },
  {
   "cell_type": "code",
   "execution_count": null,
   "metadata": {},
   "outputs": [],
   "source": [
    "## リスト内包記法 \n",
    "[n+1 for n in range(0, 10) if n % 2 == 0]"
   ]
  },
  {
   "cell_type": "code",
   "execution_count": null,
   "metadata": {},
   "outputs": [],
   "source": [
    "## 高階関数 map\n",
    "list(map(f, range(0, 10)))"
   ]
  },
  {
   "cell_type": "code",
   "execution_count": null,
   "metadata": {},
   "outputs": [],
   "source": [
    "## ラムダ式, map \n",
    "list(map(lambda x: x+1, range(0, 10)))"
   ]
  },
  {
   "cell_type": "code",
   "execution_count": null,
   "metadata": {},
   "outputs": [],
   "source": [
    "## クラス (２年後期で不評でしたが)\n",
    "class C(object):\n",
    "    c: int\n",
    "    def __init__(self):\n",
    "        self.c = 0\n",
    "    def count(self):\n",
    "        self.c += 1\n",
    "    def __repr__(self):\n",
    "        return str(self.c)\n",
    "    def __int__(self):\n",
    "        return self.c\n",
    "    def __add__(self, another):\n",
    "        return self.c + int(another)\n",
    "c = C()\n",
    "print(type(c)) # cの種類を調べる\n",
    "c.count()\n",
    "c\n",
    "    "
   ]
  },
  {
   "source": [
    "<div class=\"alert alert-info\">\n",
    "\n",
    "オブジェクトの種類の確認\n",
    "\n",
    "データサイエンスや機械学習のライブラリでは、\n",
    "演算子オーバーロードされたオブジェクトが当たり前のように使われます。\n",
    "変だなと思ったら`type()`でオブジェクトの種類を確認してください。\n",
    "\n",
    "```\n",
    "print(type(c))\n",
    "```\n",
    "\n",
    "</div>\n",
    "\n"
   ],
   "cell_type": "markdown",
   "metadata": {}
  },
  {
   "source": [
    "## コースワーク\n",
    "\n",
    "コースワークは、次回の講義までの演習課題です。\n",
    "次回の講義までに取り組んでください。\n",
    "次回の授業で解説を行いますので、全てできなくてもても構いませんが、\n",
    "必ず取り組んでください。\n",
    "\n",
    "<div class=\"admonition tip\">\n",
    "\n",
    "**演習（素数）**\n",
    "\n",
    "Colabを用いて、1000以下の素数リストを作るPythonプログラムを書いてみよう。\n",
    "\n",
    "</div>\n",
    "\n",
    "__ヒント__\n",
    "\n",
    "色々な解き方があります。\n",
    "\n",
    "1. [エラトステネスの篩](https://ja.wikipedia.org/wiki/%E3%82%A8%E3%83%A9%E3%83%88%E3%82%B9%E3%83%86%E3%83%8D%E3%82%B9%E3%81%AE%E7%AF%A9)（アルゴリズム）を用いる\n",
    "2. 素数かどうか判定する関数を作ってフィルタする\n",
    "\n",
    "簡単な方でどうぞ\n",
    "\n",
    "今回は、Python の復習ですが、\n",
    "もし全く手がつかない人は、[２年生向けの解説](https://kuramitsulab.github.io/lecnote/py/py10prime.html#%E7%B4%A0%E6%95%B0)も参考にしてください。\n"
   ],
   "cell_type": "markdown",
   "metadata": {}
  }
 ]
}