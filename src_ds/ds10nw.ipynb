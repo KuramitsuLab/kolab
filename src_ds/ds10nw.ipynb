{
 "metadata": {
  "language_info": {
   "codemirror_mode": {
    "name": "ipython",
    "version": 3
   },
   "file_extension": ".py",
   "mimetype": "text/x-python",
   "name": "python",
   "nbconvert_exporter": "python",
   "pygments_lexer": "ipython3",
   "version": "3.9.1-final"
  },
  "orig_nbformat": 2,
  "kernelspec": {
   "name": "python3",
   "display_name": "Python 3.9.1 64-bit",
   "metadata": {
    "interpreter": {
     "hash": "ac2eaa0ea0ebeafcc7822e65e46aa9d4f966f30b695406963e145ea4a91cd4fc"
    }
   }
  }
 },
 "nbformat": 4,
 "nbformat_minor": 2,
 "cells": [
  {
   "source": [
    "# ニューラル・ネットワーク\n",
    "\n",
    "いよいよ2010年代の人工知能・機械学習の立役者"
   ],
   "cell_type": "markdown",
   "metadata": {}
  },
  {
   "source": [
    "## ニューロン\n",
    "\n",
    "ニューラル・ネットワーク(neural network)は、人間の脳の構造を模した人工知能アルゴリズムです。\n",
    "\n",
    "### ニューロン\n",
    "\n",
    "人間の脳は、ニューロン(neuron)と呼ばれる神経細胞から構成されます。\n",
    "\n",
    "ニューロンを単純化した数理モデルで考えます。\n",
    "\n",
    "ネットワークの**重み**を$w_1, w_2$とすると：\n",
    "\n",
    "__ニューロンから伝わる信号の総量__\n",
    "\n",
    "$w_1 x_1 + w_2 x_2$\n",
    "\n",
    "発火：次のニューロンに信号を伝える\n",
    "\n",
    "入力の信号量がある閾値を超えるかどうかで決まる\n",
    "\n",
    "この閾値を$\\theta$とすると：\n",
    "\n",
    "|-|---------------------------------|\n",
    "|1|$ (w_1 x_1 + w_2 x_2 \\ge \\theta)$|\n",
    "|0|$(w_1 x_1 + w_2 x_2 < \\theta)|\n",
    "\n",
    "次のニューロンに伝わる信号量は、重み$w$が持っているので、\n",
    "出力する信号は$発火した(1)$、$発火しなかった(0)$のみ出力できればよい。\n",
    "\n",
    "誤り訂正学習法\n",
    "\n",
    "ある組み合わせ$(w_1, w_2, \\theta)$で入力を試し、\n",
    "出力が誤っていたらパラメータを調整することで徐々に正しい状態に近づける手法\n",
    "\n",
    "   y_t & (\\mbox{正解の出力}) \n",
    "   y  & (\\mbox{モデルの出力})\n",
    "\n",
    "\n",
    "* **$y = y_t$のとき**:　出力は正しいの修正しない\n",
    "* **$y > y_t$のとき**:　出力が大きすぎるので、重みを小さくし、また閾値を大きくする\n",
    "* **$y < y_t$のとき**:　出力が小さすぎるので、重みを大きくし、また閾値を小さくする"
   ],
   "cell_type": "markdown",
   "metadata": {}
  },
  {
   "source": [
    "## 演習問題\n",
    "\n",
    "<div class=\"alert alert-info\">\n",
    "\n",
    "Let's try\n",
    "\n",
    "`2 ** (1//2)` が、正しく $\\sqrt{2}$ にならない理由を考えてみよう\n",
    "\n",
    "</div>\n",
    "\n",
    "<div class=\"alert alert-warning\">\n",
    "\n",
    "(プログラミングの)$N$個数える\n",
    "\n",
    "プログラミングでは、原則、「**0から**$N-1$まで」のように数えます。\n",
    "\n",
    "</div>\n",
    "\n",
    "### 平均点\n",
    "\n",
    "<div class=\"admonition tip\">\n",
    "\n",
    "**例題（平均点）**\n",
    "\n",
    "期末試験は5人受験した。\n",
    "点数が40点未満の生徒は全員，補習を受け，成績が40点になった。\n",
    "5人の平均点を求めよ。\n",
    "\n",
    "入力例：\n",
    "```\n",
    "10\n",
    "65\n",
    "100\n",
    "30\n",
    "95\n",
    "```\n",
    "\n",
    "出力例：\n",
    "```\n",
    "68\n",
    "```\n",
    "\n",
    "[AtCoder (JOI2014 予選)](https://atcoder.jp/contests/joi2014yo/tasks/joi2014yo_a)\n",
    "\n",
    "</div>\n",
    "\n",
    "__(解法) リストを使う場合__\n",
    "\n",
    "1. 期末試験を記録する空の得点リスト `scores` を用意する\n",
    "2. 5人分繰り返し、点数を読んで、`scores` に追加する \n",
    "3. 平均点は `sum(scores) // 5`\n"
   ],
   "cell_type": "markdown",
   "metadata": {}
  }
 ]
}