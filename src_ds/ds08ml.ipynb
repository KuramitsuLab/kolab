{
 "metadata": {
  "language_info": {
   "codemirror_mode": {
    "name": "ipython",
    "version": 3
   },
   "file_extension": ".py",
   "mimetype": "text/x-python",
   "name": "python",
   "nbconvert_exporter": "python",
   "pygments_lexer": "ipython3",
   "version": "3.9.2-final"
  },
  "orig_nbformat": 2,
  "kernelspec": {
   "name": "python3",
   "display_name": "Python 3.9.2 64-bit",
   "metadata": {
    "interpreter": {
     "hash": "ac2eaa0ea0ebeafcc7822e65e46aa9d4f966f30b695406963e145ea4a91cd4fc"
    }
   }
  }
 },
 "nbformat": 4,
 "nbformat_minor": 2,
 "cells": [
  {
   "source": [
    "# 機械学習とクラス分類問題\n",
    "\n",
    "**機械学習 (machine learning)** とは、与えられた問題に対して、コンピュータ自身が学習し、学習結果を活かした問題解決を行うしくみのことです。人工知能 (artificial inteligence) を実現する手段として活用されています。\n",
    "\n",
    "今回は、クラス分類問題をとりあげ、いよいよ本格的な機械学習の世界に足を踏み入れていきます。\n"
   ],
   "cell_type": "markdown",
   "metadata": {}
  },
  {
   "cell_type": "code",
   "execution_count": 1,
   "metadata": {},
   "outputs": [],
   "source": [
    "import pandas as pd\n",
    "import numpy as np\n",
    "import matplotlib.pyplot as plt\n",
    "import seaborn as sns\n",
    "try:\n",
    "    import japanize_matplotlib #日本語化 matplotlib \n",
    "    sns.set(font=\"IPAexGothic\") #日本語フォント設定\n",
    "except ModuleNotFoundError:\n",
    "    pass"
   ]
  },
  {
   "source": [
    "## 学習と機械学習\n",
    "\n",
    "ニュートンは、リンゴが落ちるのを見て、万有引力の法則を発見しました。\n",
    "もう少し正確に書くと、いろんな現象の観察結果と微積分を使って、「$F ∼ Mm/r^2$ としか思えない」という理由を示しています。\n",
    "\n",
    "<img src=\"http://ktymtskz.my.coocan.jp/S/physic/P/p88.jpg\" width=\"50%\" />\n",
    "\n",
    "発見された万有引力の法則は、数理モデルとして記述されて、\n",
    "これから発生する事象（未来）を予想できるようになります。\n",
    "\n",
    "__数理モデル__\n",
    "$$\n",
    "F ∼ Mm/r^2\n",
    "$$\n",
    "\n",
    "ニュートンが万有引力の法則を発見に至ったプロセスは興味深いものです。このプロセスをアルゴリズム化して、コンピュータが法則を発見し、モデル化する手法が機械学習です。\n",
    "\n",
    "__種類__:\n",
    "\n",
    "* 教師なし学習 (K-means法, PCAなど)\n",
    "* 教師あり学習 (線形回帰, ロジスティック回帰、決定木、サポートベクターマシン)\n",
    "* 強化学習 (Q-Learning)\n",
    "\n",
    "実は、前回までに学んだK-means法は教師なし学習、線形回帰は教師あり学習と分類され、機械学習アルゴリズムの一種でした。人工知能の基礎となる機械学習といっても、身構えなくてはならないほど難しいものではありません。\n",
    "\n",
    "### 教師あり学習\n",
    "\n",
    "教師あり学習は、問題と答えをコンピュータに与えることで予測モデルを学習させる方法です。\n",
    "事前に、「特徴を表すデータ」と答えである「目的データ」が必要です。 \n",
    "\n",
    "説明のため、これまでに作成してきた身長体重データセットを思い出してください。\n",
    "\n",
    "* **説明変数**: 特徴を表すデータとして、「身長」と「体重」が与えられる \n",
    "* **目的変数**: 目的データとして、「職業」が与えられる\n",
    "\n",
    "![model_ml-fs8.png](https://qiita-image-store.s3.ap-northeast-1.amazonaws.com/0/57754/5dcbb433-58db-dedf-c0f6-9b9e2f602b09.png)\n",
    "\n",
    "\n",
    "__予測__ \u0016 \n",
    "\n",
    "予測モデルに未知のデータを与えると、目的データが出力される\n",
    "\n",
    "\n",
    "![model_predict_X-fs8.png](https://qiita-image-store.s3.ap-northeast-1.amazonaws.com/0/57754/a5454677-a908-8ef2-d8e5-551b322dd097.png)\n",
    "\n",
    "目的データの種類によって、回帰問題と分類問題に分けられる。 \n",
    "\n",
    "<div class=\"alert alert-info\">\n",
    "\n",
    "回帰と分類\n",
    "\n",
    "* **回帰問題**: 数値を予測すること\n",
    "* **クラス分類問題**: 職業などのカテゴリを予測すること\n",
    "\n",
    "</div>\n"
   ],
   "cell_type": "markdown",
   "metadata": {}
  },
  {
   "source": [
    "### クラス分類"
   ],
   "cell_type": "markdown",
   "metadata": {}
  },
  {
   "source": [
    "### 回帰からクラス分類へ\n",
    "\n",
    "ロジスティック回帰は、線形回帰のバリエーションです。\n",
    "ロジスティック「回帰」と、回帰がついていますが、クラス分類問題に用いることができます。\n",
    "\n",
    "原理: 線形回帰の予測モデルに、シグモイド関数([ロジスティック関数](http://kenichia.hatenablog.com/entry/2017/03/04/122551))を組み合わせることで、カテゴリー値に変換します。\n",
    "\n",
    "$$\n",
    "\\sigma(x) = \\frac{1}{1+e^{-x}}\n",
    "$$\n",
    "\n",
    "<div class=\"alert alert-info\">\n",
    "\n",
    "Let's try\n",
    "\n",
    "シグモイド関数をmatplotlibで描画してみよう\n",
    "\n",
    "</div>\n"
   ],
   "cell_type": "markdown",
   "metadata": {}
  },
  {
   "cell_type": "code",
   "execution_count": 26,
   "metadata": {},
   "outputs": [
    {
     "output_type": "execute_result",
     "data": {
      "text/plain": [
       "[<matplotlib.lines.Line2D at 0x134ad0250>]"
      ]
     },
     "metadata": {},
     "execution_count": 26
    },
    {
     "output_type": "display_data",
     "data": {
      "text/plain": "<Figure size 432x288 with 1 Axes>",
      "image/svg+xml": "<?xml version=\"1.0\" encoding=\"utf-8\" standalone=\"no\"?>\n<!DOCTYPE svg PUBLIC \"-//W3C//DTD SVG 1.1//EN\"\n  \"http://www.w3.org/Graphics/SVG/1.1/DTD/svg11.dtd\">\n<!-- Created with matplotlib (https://matplotlib.org/) -->\n<svg height=\"248.518125pt\" version=\"1.1\" viewBox=\"0 0 372.103125 248.518125\" width=\"372.103125pt\" xmlns=\"http://www.w3.org/2000/svg\" xmlns:xlink=\"http://www.w3.org/1999/xlink\">\n <metadata>\n  <rdf:RDF xmlns:cc=\"http://creativecommons.org/ns#\" xmlns:dc=\"http://purl.org/dc/elements/1.1/\" xmlns:rdf=\"http://www.w3.org/1999/02/22-rdf-syntax-ns#\">\n   <cc:Work>\n    <dc:type rdf:resource=\"http://purl.org/dc/dcmitype/StillImage\"/>\n    <dc:date>2021-03-12T12:45:08.140402</dc:date>\n    <dc:format>image/svg+xml</dc:format>\n    <dc:creator>\n     <cc:Agent>\n      <dc:title>Matplotlib v3.3.4, https://matplotlib.org/</dc:title>\n     </cc:Agent>\n    </dc:creator>\n   </cc:Work>\n  </rdf:RDF>\n </metadata>\n <defs>\n  <style type=\"text/css\">*{stroke-linecap:butt;stroke-linejoin:round;}</style>\n </defs>\n <g id=\"figure_1\">\n  <g id=\"patch_1\">\n   <path d=\"M 0 248.518125 \nL 372.103125 248.518125 \nL 372.103125 0 \nL 0 0 \nz\n\" style=\"fill:none;\"/>\n  </g>\n  <g id=\"axes_1\">\n   <g id=\"patch_2\">\n    <path d=\"M 30.103125 224.64 \nL 364.903125 224.64 \nL 364.903125 7.2 \nL 30.103125 7.2 \nz\n\" style=\"fill:#ffffff;\"/>\n   </g>\n   <g id=\"matplotlib.axis_1\">\n    <g id=\"xtick_1\">\n     <g id=\"line2d_1\">\n      <defs>\n       <path d=\"M 0 0 \nL 0 3.5 \n\" id=\"m30eee7d553\" style=\"stroke:#000000;stroke-width:0.8;\"/>\n      </defs>\n      <g>\n       <use style=\"stroke:#000000;stroke-width:0.8;\" x=\"45.321307\" xlink:href=\"#m30eee7d553\" y=\"224.64\"/>\n      </g>\n     </g>\n     <g id=\"text_1\">\n      <!-- −10.0 -->\n      <g transform=\"translate(29.998651 239.238437)scale(0.1 -0.1)\">\n       <defs>\n        <path d=\"M 10.59375 35.5 \nL 73.1875 35.5 \nL 73.1875 27.203125 \nL 10.59375 27.203125 \nz\n\" id=\"DejaVuSans-8722\"/>\n        <path d=\"M 12.40625 8.296875 \nL 28.515625 8.296875 \nL 28.515625 63.921875 \nL 10.984375 60.40625 \nL 10.984375 69.390625 \nL 28.421875 72.90625 \nL 38.28125 72.90625 \nL 38.28125 8.296875 \nL 54.390625 8.296875 \nL 54.390625 0 \nL 12.40625 0 \nz\n\" id=\"DejaVuSans-49\"/>\n        <path d=\"M 31.78125 66.40625 \nQ 24.171875 66.40625 20.328125 58.90625 \nQ 16.5 51.421875 16.5 36.375 \nQ 16.5 21.390625 20.328125 13.890625 \nQ 24.171875 6.390625 31.78125 6.390625 \nQ 39.453125 6.390625 43.28125 13.890625 \nQ 47.125 21.390625 47.125 36.375 \nQ 47.125 51.421875 43.28125 58.90625 \nQ 39.453125 66.40625 31.78125 66.40625 \nz\nM 31.78125 74.21875 \nQ 44.046875 74.21875 50.515625 64.515625 \nQ 56.984375 54.828125 56.984375 36.375 \nQ 56.984375 17.96875 50.515625 8.265625 \nQ 44.046875 -1.421875 31.78125 -1.421875 \nQ 19.53125 -1.421875 13.0625 8.265625 \nQ 6.59375 17.96875 6.59375 36.375 \nQ 6.59375 54.828125 13.0625 64.515625 \nQ 19.53125 74.21875 31.78125 74.21875 \nz\n\" id=\"DejaVuSans-48\"/>\n        <path d=\"M 10.6875 12.40625 \nL 21 12.40625 \nL 21 0 \nL 10.6875 0 \nz\n\" id=\"DejaVuSans-46\"/>\n       </defs>\n       <use xlink:href=\"#DejaVuSans-8722\"/>\n       <use x=\"83.789062\" xlink:href=\"#DejaVuSans-49\"/>\n       <use x=\"147.412109\" xlink:href=\"#DejaVuSans-48\"/>\n       <use x=\"211.035156\" xlink:href=\"#DejaVuSans-46\"/>\n       <use x=\"242.822266\" xlink:href=\"#DejaVuSans-48\"/>\n      </g>\n     </g>\n    </g>\n    <g id=\"xtick_2\">\n     <g id=\"line2d_2\">\n      <g>\n       <use style=\"stroke:#000000;stroke-width:0.8;\" x=\"83.557945\" xlink:href=\"#m30eee7d553\" y=\"224.64\"/>\n      </g>\n     </g>\n     <g id=\"text_2\">\n      <!-- −7.5 -->\n      <g transform=\"translate(71.416538 239.238437)scale(0.1 -0.1)\">\n       <defs>\n        <path d=\"M 8.203125 72.90625 \nL 55.078125 72.90625 \nL 55.078125 68.703125 \nL 28.609375 0 \nL 18.3125 0 \nL 43.21875 64.59375 \nL 8.203125 64.59375 \nz\n\" id=\"DejaVuSans-55\"/>\n        <path d=\"M 10.796875 72.90625 \nL 49.515625 72.90625 \nL 49.515625 64.59375 \nL 19.828125 64.59375 \nL 19.828125 46.734375 \nQ 21.96875 47.46875 24.109375 47.828125 \nQ 26.265625 48.1875 28.421875 48.1875 \nQ 40.625 48.1875 47.75 41.5 \nQ 54.890625 34.8125 54.890625 23.390625 \nQ 54.890625 11.625 47.5625 5.09375 \nQ 40.234375 -1.421875 26.90625 -1.421875 \nQ 22.3125 -1.421875 17.546875 -0.640625 \nQ 12.796875 0.140625 7.71875 1.703125 \nL 7.71875 11.625 \nQ 12.109375 9.234375 16.796875 8.0625 \nQ 21.484375 6.890625 26.703125 6.890625 \nQ 35.15625 6.890625 40.078125 11.328125 \nQ 45.015625 15.765625 45.015625 23.390625 \nQ 45.015625 31 40.078125 35.4375 \nQ 35.15625 39.890625 26.703125 39.890625 \nQ 22.75 39.890625 18.8125 39.015625 \nQ 14.890625 38.140625 10.796875 36.28125 \nz\n\" id=\"DejaVuSans-53\"/>\n       </defs>\n       <use xlink:href=\"#DejaVuSans-8722\"/>\n       <use x=\"83.789062\" xlink:href=\"#DejaVuSans-55\"/>\n       <use x=\"147.412109\" xlink:href=\"#DejaVuSans-46\"/>\n       <use x=\"179.199219\" xlink:href=\"#DejaVuSans-53\"/>\n      </g>\n     </g>\n    </g>\n    <g id=\"xtick_3\">\n     <g id=\"line2d_3\">\n      <g>\n       <use style=\"stroke:#000000;stroke-width:0.8;\" x=\"121.794582\" xlink:href=\"#m30eee7d553\" y=\"224.64\"/>\n      </g>\n     </g>\n     <g id=\"text_3\">\n      <!-- −5.0 -->\n      <g transform=\"translate(109.653176 239.238437)scale(0.1 -0.1)\">\n       <use xlink:href=\"#DejaVuSans-8722\"/>\n       <use x=\"83.789062\" xlink:href=\"#DejaVuSans-53\"/>\n       <use x=\"147.412109\" xlink:href=\"#DejaVuSans-46\"/>\n       <use x=\"179.199219\" xlink:href=\"#DejaVuSans-48\"/>\n      </g>\n     </g>\n    </g>\n    <g id=\"xtick_4\">\n     <g id=\"line2d_4\">\n      <g>\n       <use style=\"stroke:#000000;stroke-width:0.8;\" x=\"160.03122\" xlink:href=\"#m30eee7d553\" y=\"224.64\"/>\n      </g>\n     </g>\n     <g id=\"text_4\">\n      <!-- −2.5 -->\n      <g transform=\"translate(147.889814 239.238437)scale(0.1 -0.1)\">\n       <defs>\n        <path d=\"M 19.1875 8.296875 \nL 53.609375 8.296875 \nL 53.609375 0 \nL 7.328125 0 \nL 7.328125 8.296875 \nQ 12.9375 14.109375 22.625 23.890625 \nQ 32.328125 33.6875 34.8125 36.53125 \nQ 39.546875 41.84375 41.421875 45.53125 \nQ 43.3125 49.21875 43.3125 52.78125 \nQ 43.3125 58.59375 39.234375 62.25 \nQ 35.15625 65.921875 28.609375 65.921875 \nQ 23.96875 65.921875 18.8125 64.3125 \nQ 13.671875 62.703125 7.8125 59.421875 \nL 7.8125 69.390625 \nQ 13.765625 71.78125 18.9375 73 \nQ 24.125 74.21875 28.421875 74.21875 \nQ 39.75 74.21875 46.484375 68.546875 \nQ 53.21875 62.890625 53.21875 53.421875 \nQ 53.21875 48.921875 51.53125 44.890625 \nQ 49.859375 40.875 45.40625 35.40625 \nQ 44.1875 33.984375 37.640625 27.21875 \nQ 31.109375 20.453125 19.1875 8.296875 \nz\n\" id=\"DejaVuSans-50\"/>\n       </defs>\n       <use xlink:href=\"#DejaVuSans-8722\"/>\n       <use x=\"83.789062\" xlink:href=\"#DejaVuSans-50\"/>\n       <use x=\"147.412109\" xlink:href=\"#DejaVuSans-46\"/>\n       <use x=\"179.199219\" xlink:href=\"#DejaVuSans-53\"/>\n      </g>\n     </g>\n    </g>\n    <g id=\"xtick_5\">\n     <g id=\"line2d_5\">\n      <g>\n       <use style=\"stroke:#000000;stroke-width:0.8;\" x=\"198.267858\" xlink:href=\"#m30eee7d553\" y=\"224.64\"/>\n      </g>\n     </g>\n     <g id=\"text_5\">\n      <!-- 0.0 -->\n      <g transform=\"translate(190.316295 239.238437)scale(0.1 -0.1)\">\n       <use xlink:href=\"#DejaVuSans-48\"/>\n       <use x=\"63.623047\" xlink:href=\"#DejaVuSans-46\"/>\n       <use x=\"95.410156\" xlink:href=\"#DejaVuSans-48\"/>\n      </g>\n     </g>\n    </g>\n    <g id=\"xtick_6\">\n     <g id=\"line2d_6\">\n      <g>\n       <use style=\"stroke:#000000;stroke-width:0.8;\" x=\"236.504495\" xlink:href=\"#m30eee7d553\" y=\"224.64\"/>\n      </g>\n     </g>\n     <g id=\"text_6\">\n      <!-- 2.5 -->\n      <g transform=\"translate(228.552933 239.238437)scale(0.1 -0.1)\">\n       <use xlink:href=\"#DejaVuSans-50\"/>\n       <use x=\"63.623047\" xlink:href=\"#DejaVuSans-46\"/>\n       <use x=\"95.410156\" xlink:href=\"#DejaVuSans-53\"/>\n      </g>\n     </g>\n    </g>\n    <g id=\"xtick_7\">\n     <g id=\"line2d_7\">\n      <g>\n       <use style=\"stroke:#000000;stroke-width:0.8;\" x=\"274.741133\" xlink:href=\"#m30eee7d553\" y=\"224.64\"/>\n      </g>\n     </g>\n     <g id=\"text_7\">\n      <!-- 5.0 -->\n      <g transform=\"translate(266.789571 239.238437)scale(0.1 -0.1)\">\n       <use xlink:href=\"#DejaVuSans-53\"/>\n       <use x=\"63.623047\" xlink:href=\"#DejaVuSans-46\"/>\n       <use x=\"95.410156\" xlink:href=\"#DejaVuSans-48\"/>\n      </g>\n     </g>\n    </g>\n    <g id=\"xtick_8\">\n     <g id=\"line2d_8\">\n      <g>\n       <use style=\"stroke:#000000;stroke-width:0.8;\" x=\"312.977771\" xlink:href=\"#m30eee7d553\" y=\"224.64\"/>\n      </g>\n     </g>\n     <g id=\"text_8\">\n      <!-- 7.5 -->\n      <g transform=\"translate(305.026208 239.238437)scale(0.1 -0.1)\">\n       <use xlink:href=\"#DejaVuSans-55\"/>\n       <use x=\"63.623047\" xlink:href=\"#DejaVuSans-46\"/>\n       <use x=\"95.410156\" xlink:href=\"#DejaVuSans-53\"/>\n      </g>\n     </g>\n    </g>\n    <g id=\"xtick_9\">\n     <g id=\"line2d_9\">\n      <g>\n       <use style=\"stroke:#000000;stroke-width:0.8;\" x=\"351.214409\" xlink:href=\"#m30eee7d553\" y=\"224.64\"/>\n      </g>\n     </g>\n     <g id=\"text_9\">\n      <!-- 10.0 -->\n      <g transform=\"translate(340.081596 239.238437)scale(0.1 -0.1)\">\n       <use xlink:href=\"#DejaVuSans-49\"/>\n       <use x=\"63.623047\" xlink:href=\"#DejaVuSans-48\"/>\n       <use x=\"127.246094\" xlink:href=\"#DejaVuSans-46\"/>\n       <use x=\"159.033203\" xlink:href=\"#DejaVuSans-48\"/>\n      </g>\n     </g>\n    </g>\n   </g>\n   <g id=\"matplotlib.axis_2\">\n    <g id=\"ytick_1\">\n     <g id=\"line2d_10\">\n      <defs>\n       <path d=\"M 0 0 \nL -3.5 0 \n\" id=\"mc1d38dfe34\" style=\"stroke:#000000;stroke-width:0.8;\"/>\n      </defs>\n      <g>\n       <use style=\"stroke:#000000;stroke-width:0.8;\" x=\"30.103125\" xlink:href=\"#mc1d38dfe34\" y=\"214.765338\"/>\n      </g>\n     </g>\n     <g id=\"text_10\">\n      <!-- 0.0 -->\n      <g transform=\"translate(7.2 218.564557)scale(0.1 -0.1)\">\n       <use xlink:href=\"#DejaVuSans-48\"/>\n       <use x=\"63.623047\" xlink:href=\"#DejaVuSans-46\"/>\n       <use x=\"95.410156\" xlink:href=\"#DejaVuSans-48\"/>\n      </g>\n     </g>\n    </g>\n    <g id=\"ytick_2\">\n     <g id=\"line2d_11\">\n      <g>\n       <use style=\"stroke:#000000;stroke-width:0.8;\" x=\"30.103125\" xlink:href=\"#mc1d38dfe34\" y=\"175.227014\"/>\n      </g>\n     </g>\n     <g id=\"text_11\">\n      <!-- 0.2 -->\n      <g transform=\"translate(7.2 179.026233)scale(0.1 -0.1)\">\n       <use xlink:href=\"#DejaVuSans-48\"/>\n       <use x=\"63.623047\" xlink:href=\"#DejaVuSans-46\"/>\n       <use x=\"95.410156\" xlink:href=\"#DejaVuSans-50\"/>\n      </g>\n     </g>\n    </g>\n    <g id=\"ytick_3\">\n     <g id=\"line2d_12\">\n      <g>\n       <use style=\"stroke:#000000;stroke-width:0.8;\" x=\"30.103125\" xlink:href=\"#mc1d38dfe34\" y=\"135.68869\"/>\n      </g>\n     </g>\n     <g id=\"text_12\">\n      <!-- 0.4 -->\n      <g transform=\"translate(7.2 139.487909)scale(0.1 -0.1)\">\n       <defs>\n        <path d=\"M 37.796875 64.3125 \nL 12.890625 25.390625 \nL 37.796875 25.390625 \nz\nM 35.203125 72.90625 \nL 47.609375 72.90625 \nL 47.609375 25.390625 \nL 58.015625 25.390625 \nL 58.015625 17.1875 \nL 47.609375 17.1875 \nL 47.609375 0 \nL 37.796875 0 \nL 37.796875 17.1875 \nL 4.890625 17.1875 \nL 4.890625 26.703125 \nz\n\" id=\"DejaVuSans-52\"/>\n       </defs>\n       <use xlink:href=\"#DejaVuSans-48\"/>\n       <use x=\"63.623047\" xlink:href=\"#DejaVuSans-46\"/>\n       <use x=\"95.410156\" xlink:href=\"#DejaVuSans-52\"/>\n      </g>\n     </g>\n    </g>\n    <g id=\"ytick_4\">\n     <g id=\"line2d_13\">\n      <g>\n       <use style=\"stroke:#000000;stroke-width:0.8;\" x=\"30.103125\" xlink:href=\"#mc1d38dfe34\" y=\"96.150366\"/>\n      </g>\n     </g>\n     <g id=\"text_13\">\n      <!-- 0.6 -->\n      <g transform=\"translate(7.2 99.949585)scale(0.1 -0.1)\">\n       <defs>\n        <path d=\"M 33.015625 40.375 \nQ 26.375 40.375 22.484375 35.828125 \nQ 18.609375 31.296875 18.609375 23.390625 \nQ 18.609375 15.53125 22.484375 10.953125 \nQ 26.375 6.390625 33.015625 6.390625 \nQ 39.65625 6.390625 43.53125 10.953125 \nQ 47.40625 15.53125 47.40625 23.390625 \nQ 47.40625 31.296875 43.53125 35.828125 \nQ 39.65625 40.375 33.015625 40.375 \nz\nM 52.59375 71.296875 \nL 52.59375 62.3125 \nQ 48.875 64.0625 45.09375 64.984375 \nQ 41.3125 65.921875 37.59375 65.921875 \nQ 27.828125 65.921875 22.671875 59.328125 \nQ 17.53125 52.734375 16.796875 39.40625 \nQ 19.671875 43.65625 24.015625 45.921875 \nQ 28.375 48.1875 33.59375 48.1875 \nQ 44.578125 48.1875 50.953125 41.515625 \nQ 57.328125 34.859375 57.328125 23.390625 \nQ 57.328125 12.15625 50.6875 5.359375 \nQ 44.046875 -1.421875 33.015625 -1.421875 \nQ 20.359375 -1.421875 13.671875 8.265625 \nQ 6.984375 17.96875 6.984375 36.375 \nQ 6.984375 53.65625 15.1875 63.9375 \nQ 23.390625 74.21875 37.203125 74.21875 \nQ 40.921875 74.21875 44.703125 73.484375 \nQ 48.484375 72.75 52.59375 71.296875 \nz\n\" id=\"DejaVuSans-54\"/>\n       </defs>\n       <use xlink:href=\"#DejaVuSans-48\"/>\n       <use x=\"63.623047\" xlink:href=\"#DejaVuSans-46\"/>\n       <use x=\"95.410156\" xlink:href=\"#DejaVuSans-54\"/>\n      </g>\n     </g>\n    </g>\n    <g id=\"ytick_5\">\n     <g id=\"line2d_14\">\n      <g>\n       <use style=\"stroke:#000000;stroke-width:0.8;\" x=\"30.103125\" xlink:href=\"#mc1d38dfe34\" y=\"56.612042\"/>\n      </g>\n     </g>\n     <g id=\"text_14\">\n      <!-- 0.8 -->\n      <g transform=\"translate(7.2 60.411261)scale(0.1 -0.1)\">\n       <defs>\n        <path d=\"M 31.78125 34.625 \nQ 24.75 34.625 20.71875 30.859375 \nQ 16.703125 27.09375 16.703125 20.515625 \nQ 16.703125 13.921875 20.71875 10.15625 \nQ 24.75 6.390625 31.78125 6.390625 \nQ 38.8125 6.390625 42.859375 10.171875 \nQ 46.921875 13.96875 46.921875 20.515625 \nQ 46.921875 27.09375 42.890625 30.859375 \nQ 38.875 34.625 31.78125 34.625 \nz\nM 21.921875 38.8125 \nQ 15.578125 40.375 12.03125 44.71875 \nQ 8.5 49.078125 8.5 55.328125 \nQ 8.5 64.0625 14.71875 69.140625 \nQ 20.953125 74.21875 31.78125 74.21875 \nQ 42.671875 74.21875 48.875 69.140625 \nQ 55.078125 64.0625 55.078125 55.328125 \nQ 55.078125 49.078125 51.53125 44.71875 \nQ 48 40.375 41.703125 38.8125 \nQ 48.828125 37.15625 52.796875 32.3125 \nQ 56.78125 27.484375 56.78125 20.515625 \nQ 56.78125 9.90625 50.3125 4.234375 \nQ 43.84375 -1.421875 31.78125 -1.421875 \nQ 19.734375 -1.421875 13.25 4.234375 \nQ 6.78125 9.90625 6.78125 20.515625 \nQ 6.78125 27.484375 10.78125 32.3125 \nQ 14.796875 37.15625 21.921875 38.8125 \nz\nM 18.3125 54.390625 \nQ 18.3125 48.734375 21.84375 45.5625 \nQ 25.390625 42.390625 31.78125 42.390625 \nQ 38.140625 42.390625 41.71875 45.5625 \nQ 45.3125 48.734375 45.3125 54.390625 \nQ 45.3125 60.0625 41.71875 63.234375 \nQ 38.140625 66.40625 31.78125 66.40625 \nQ 25.390625 66.40625 21.84375 63.234375 \nQ 18.3125 60.0625 18.3125 54.390625 \nz\n\" id=\"DejaVuSans-56\"/>\n       </defs>\n       <use xlink:href=\"#DejaVuSans-48\"/>\n       <use x=\"63.623047\" xlink:href=\"#DejaVuSans-46\"/>\n       <use x=\"95.410156\" xlink:href=\"#DejaVuSans-56\"/>\n      </g>\n     </g>\n    </g>\n    <g id=\"ytick_6\">\n     <g id=\"line2d_15\">\n      <g>\n       <use style=\"stroke:#000000;stroke-width:0.8;\" x=\"30.103125\" xlink:href=\"#mc1d38dfe34\" y=\"17.073718\"/>\n      </g>\n     </g>\n     <g id=\"text_15\">\n      <!-- 1.0 -->\n      <g transform=\"translate(7.2 20.872936)scale(0.1 -0.1)\">\n       <use xlink:href=\"#DejaVuSans-49\"/>\n       <use x=\"63.623047\" xlink:href=\"#DejaVuSans-46\"/>\n       <use x=\"95.410156\" xlink:href=\"#DejaVuSans-48\"/>\n      </g>\n     </g>\n    </g>\n   </g>\n   <g id=\"line2d_16\">\n    <path clip-path=\"url(#pf8cf8be789)\" d=\"M 45.321307 214.756364 \nL 86.616876 214.63188 \nL 101.911531 214.402982 \nL 112.617789 214.036995 \nL 120.265117 213.567366 \nL 126.382979 212.983485 \nL 130.971375 212.367648 \nL 135.559772 211.542471 \nL 140.148168 210.439595 \nL 143.207099 209.507336 \nL 146.26603 208.380796 \nL 149.324961 207.022603 \nL 152.383892 205.389641 \nL 155.442823 203.432829 \nL 158.501755 201.097252 \nL 161.560686 198.322793 \nL 164.619617 195.045503 \nL 167.678548 191.19992 \nL 170.737479 186.722572 \nL 173.79641 181.556781 \nL 176.855341 175.658751 \nL 179.914272 169.004628 \nL 182.973203 161.597873 \nL 186.032134 153.475891 \nL 189.091065 144.714559 \nL 193.679461 130.63619 \nL 207.444651 87.124497 \nL 210.503582 78.363165 \nL 213.562513 70.241183 \nL 216.621444 62.834428 \nL 219.680375 56.180305 \nL 222.739306 50.282275 \nL 225.798237 45.116485 \nL 228.857168 40.639137 \nL 231.916099 36.793554 \nL 234.97503 33.516263 \nL 238.033961 30.741804 \nL 241.092892 28.406227 \nL 244.151823 26.449415 \nL 247.210754 24.816453 \nL 250.269685 23.458261 \nL 253.328616 22.331721 \nL 256.387547 21.399462 \nL 260.975944 20.296585 \nL 265.56434 19.471408 \nL 270.152737 18.855571 \nL 276.270599 18.27169 \nL 283.917926 17.802061 \nL 293.094719 17.474107 \nL 306.859909 17.2367 \nL 329.801892 17.110107 \nL 349.684943 17.083636 \nL 349.684943 17.083636 \n\" style=\"fill:none;stroke:#1f77b4;stroke-linecap:square;stroke-width:1.5;\"/>\n   </g>\n   <g id=\"patch_3\">\n    <path d=\"M 30.103125 224.64 \nL 30.103125 7.2 \n\" style=\"fill:none;stroke:#000000;stroke-linecap:square;stroke-linejoin:miter;stroke-width:0.8;\"/>\n   </g>\n   <g id=\"patch_4\">\n    <path d=\"M 364.903125 224.64 \nL 364.903125 7.2 \n\" style=\"fill:none;stroke:#000000;stroke-linecap:square;stroke-linejoin:miter;stroke-width:0.8;\"/>\n   </g>\n   <g id=\"patch_5\">\n    <path d=\"M 30.103125 224.64 \nL 364.903125 224.64 \n\" style=\"fill:none;stroke:#000000;stroke-linecap:square;stroke-linejoin:miter;stroke-width:0.8;\"/>\n   </g>\n   <g id=\"patch_6\">\n    <path d=\"M 30.103125 7.2 \nL 364.903125 7.2 \n\" style=\"fill:none;stroke:#000000;stroke-linecap:square;stroke-linejoin:miter;stroke-width:0.8;\"/>\n   </g>\n  </g>\n </g>\n <defs>\n  <clipPath id=\"pf8cf8be789\">\n   <rect height=\"217.44\" width=\"334.8\" x=\"30.103125\" y=\"7.2\"/>\n  </clipPath>\n </defs>\n</svg>\n",
      "image/png": "[encoded data removed]"
     },
     "metadata": {
      "needs_background": "light"
     }
    }
   ],
   "source": [
    "import matplotlib.pyplot as plt\n",
    "import numpy as np\n",
    "from math import e\n",
    "\n",
    "x = np.arange(-10, 10, 0.1)\n",
    "y = 1 / (1 + e**-x)\n",
    "\n",
    "plt.plot(x, y)\n"
   ]
  },
  {
   "source": [
    "\n",
    "__線形回帰(前回)__\n",
    "\n",
    "$$\n",
    "y = a_1 x_1+a_2 x_2 + a_n x_n + b\n",
    "$$\n",
    "\n",
    "__ロジスティック回帰__\n",
    "\n",
    "目的変数は、確率であるため$𝑝$とおきます。\n",
    "すると、$𝑥_𝑖$ がどんな値をとっても目的変数$𝑝$が$0$から$1$までの範囲に収まります。\n",
    "\n",
    "$$\n",
    "p = \\frac{1}{1 + e^{a_1 x_1+a_2 x_2 + a_n x_n + b}}\n",
    "$$\n",
    "\n",
    "少し式を変形してみましょう。\n",
    "\n",
    "$$\n",
    "\\frac{p}{1-p} = e^{a_1 x_1+a_2 x_2 + a_n x_n + b}\n",
    "$$\n",
    "\n",
    "$$\n",
    "log{\\frac{p}{1-p}} = a_1 x_1+a_2 x_2 + a_n x_n + b = l\n",
    "$$\n",
    "\n",
    "これで、線形回帰と同じように、\n",
    "最小二乗法を用いて偏回帰係数$a_i$が求められることがわかると思います。\n",
    "\n",
    "なお、$l$のことをロジットと呼び、ロジットの対数をとると、オッズ比が出てきます。\n",
    "(オッズ比は、ある事象が発生する確率と発生しない確率の比になっています。)\n",
    "\n",
    "$$\n",
    "e^{l} = \\frac{p}{1-p}\n",
    "$$\n",
    "\n",
    "\n"
   ],
   "cell_type": "markdown",
   "metadata": {}
  },
  {
   "source": [
    "<div class=\"alert alert-info\">\n",
    "\n",
    "２クラス分類問題と多クラス分類問題\n",
    "\n",
    "数学的に扱いやすいため、２クラス分類問題と多クラス分類問題は区別されています。\n",
    "上記の説明は、２クラス分類のケースですが、\n",
    "ロジスティック回帰は多クラス分類に拡張されています。\n",
    "興味があるときは、多クラスロジスティック回帰の原理も調べてみましょう。\n",
    "\n",
    "</div>\n",
    "\n",
    "\n",
    "\n"
   ],
   "cell_type": "markdown",
   "metadata": {}
  },
  {
   "source": [
    "## ２クラス分類\n",
    "\n",
    "乳がんデータセットを用いて、２クラス分類問題として、乳がんの良性・悪性を判定しましょう。"
   ],
   "cell_type": "markdown",
   "metadata": {}
  },
  {
   "cell_type": "code",
   "execution_count": 18,
   "metadata": {},
   "outputs": [
    {
     "output_type": "execute_result",
     "data": {
      "text/plain": [
       "   良性   平均半径   平均感触   平均周囲長    平均面積    平均平滑性    平均密集度    平均凹部     平均凹点  \\\n",
       "0   0  17.99  10.38  122.80  1001.0  0.11840  0.27760  0.3001  0.14710   \n",
       "1   0  20.57  17.77  132.90  1326.0  0.08474  0.07864  0.0869  0.07017   \n",
       "2   0  19.69  21.25  130.00  1203.0  0.10960  0.15990  0.1974  0.12790   \n",
       "3   0  11.42  20.38   77.58   386.1  0.14250  0.28390  0.2414  0.10520   \n",
       "4   0  20.29  14.34  135.10  1297.0  0.10030  0.13280  0.1980  0.10430   \n",
       "\n",
       "    平均対称性  ...   最悪半径   最悪感触   最悪周囲長  最悪半径.1   最悪平滑さ   最悪密集度    最悪凹部    最悪凹点  \\\n",
       "0  0.2419  ...  25.38  17.33  184.60  2019.0  0.1622  0.6656  0.7119  0.2654   \n",
       "1  0.1812  ...  24.99  23.41  158.80  1956.0  0.1238  0.1866  0.2416  0.1860   \n",
       "2  0.2069  ...  23.57  25.53  152.50  1709.0  0.1444  0.4245  0.4504  0.2430   \n",
       "3  0.2597  ...  14.91  26.50   98.87   567.7  0.2098  0.8663  0.6869  0.2575   \n",
       "4  0.1809  ...  22.54  16.67  152.20  1575.0  0.1374  0.2050  0.4000  0.1625   \n",
       "\n",
       "    最悪対称性  最悪フラクタル次元  \n",
       "0  0.4601    0.11890  \n",
       "1  0.2750    0.08902  \n",
       "2  0.3613    0.08758  \n",
       "3  0.6638    0.17300  \n",
       "4  0.2364    0.07678  \n",
       "\n",
       "[5 rows x 31 columns]"
      ],
      "text/html": "<div>\n<style scoped>\n    .dataframe tbody tr th:only-of-type {\n        vertical-align: middle;\n    }\n\n    .dataframe tbody tr th {\n        vertical-align: top;\n    }\n\n    .dataframe thead th {\n        text-align: right;\n    }\n</style>\n<table border=\"1\" class=\"dataframe\">\n  <thead>\n    <tr style=\"text-align: right;\">\n      <th></th>\n      <th>良性</th>\n      <th>平均半径</th>\n      <th>平均感触</th>\n      <th>平均周囲長</th>\n      <th>平均面積</th>\n      <th>平均平滑性</th>\n      <th>平均密集度</th>\n      <th>平均凹部</th>\n      <th>平均凹点</th>\n      <th>平均対称性</th>\n      <th>...</th>\n      <th>最悪半径</th>\n      <th>最悪感触</th>\n      <th>最悪周囲長</th>\n      <th>最悪半径.1</th>\n      <th>最悪平滑さ</th>\n      <th>最悪密集度</th>\n      <th>最悪凹部</th>\n      <th>最悪凹点</th>\n      <th>最悪対称性</th>\n      <th>最悪フラクタル次元</th>\n    </tr>\n  </thead>\n  <tbody>\n    <tr>\n      <th>0</th>\n      <td>0</td>\n      <td>17.99</td>\n      <td>10.38</td>\n      <td>122.80</td>\n      <td>1001.0</td>\n      <td>0.11840</td>\n      <td>0.27760</td>\n      <td>0.3001</td>\n      <td>0.14710</td>\n      <td>0.2419</td>\n      <td>...</td>\n      <td>25.38</td>\n      <td>17.33</td>\n      <td>184.60</td>\n      <td>2019.0</td>\n      <td>0.1622</td>\n      <td>0.6656</td>\n      <td>0.7119</td>\n      <td>0.2654</td>\n      <td>0.4601</td>\n      <td>0.11890</td>\n    </tr>\n    <tr>\n      <th>1</th>\n      <td>0</td>\n      <td>20.57</td>\n      <td>17.77</td>\n      <td>132.90</td>\n      <td>1326.0</td>\n      <td>0.08474</td>\n      <td>0.07864</td>\n      <td>0.0869</td>\n      <td>0.07017</td>\n      <td>0.1812</td>\n      <td>...</td>\n      <td>24.99</td>\n      <td>23.41</td>\n      <td>158.80</td>\n      <td>1956.0</td>\n      <td>0.1238</td>\n      <td>0.1866</td>\n      <td>0.2416</td>\n      <td>0.1860</td>\n      <td>0.2750</td>\n      <td>0.08902</td>\n    </tr>\n    <tr>\n      <th>2</th>\n      <td>0</td>\n      <td>19.69</td>\n      <td>21.25</td>\n      <td>130.00</td>\n      <td>1203.0</td>\n      <td>0.10960</td>\n      <td>0.15990</td>\n      <td>0.1974</td>\n      <td>0.12790</td>\n      <td>0.2069</td>\n      <td>...</td>\n      <td>23.57</td>\n      <td>25.53</td>\n      <td>152.50</td>\n      <td>1709.0</td>\n      <td>0.1444</td>\n      <td>0.4245</td>\n      <td>0.4504</td>\n      <td>0.2430</td>\n      <td>0.3613</td>\n      <td>0.08758</td>\n    </tr>\n    <tr>\n      <th>3</th>\n      <td>0</td>\n      <td>11.42</td>\n      <td>20.38</td>\n      <td>77.58</td>\n      <td>386.1</td>\n      <td>0.14250</td>\n      <td>0.28390</td>\n      <td>0.2414</td>\n      <td>0.10520</td>\n      <td>0.2597</td>\n      <td>...</td>\n      <td>14.91</td>\n      <td>26.50</td>\n      <td>98.87</td>\n      <td>567.7</td>\n      <td>0.2098</td>\n      <td>0.8663</td>\n      <td>0.6869</td>\n      <td>0.2575</td>\n      <td>0.6638</td>\n      <td>0.17300</td>\n    </tr>\n    <tr>\n      <th>4</th>\n      <td>0</td>\n      <td>20.29</td>\n      <td>14.34</td>\n      <td>135.10</td>\n      <td>1297.0</td>\n      <td>0.10030</td>\n      <td>0.13280</td>\n      <td>0.1980</td>\n      <td>0.10430</td>\n      <td>0.1809</td>\n      <td>...</td>\n      <td>22.54</td>\n      <td>16.67</td>\n      <td>152.20</td>\n      <td>1575.0</td>\n      <td>0.1374</td>\n      <td>0.2050</td>\n      <td>0.4000</td>\n      <td>0.1625</td>\n      <td>0.2364</td>\n      <td>0.07678</td>\n    </tr>\n  </tbody>\n</table>\n<p>5 rows × 31 columns</p>\n</div>"
     },
     "metadata": {},
     "execution_count": 18
    }
   ],
   "source": [
    "import pandas as pd\n",
    "data = pd.read_csv('cancer_ja.csv')\n",
    "data.head()"
   ]
  },
  {
   "source": [
    "データの詳細は、クラスタリングと主成分分析を思い出してください。\n",
    "\n",
    "### 学習モデル\n",
    "\n",
    "まず、とりあえずロジスティック回帰モデルを学習してみましょう。\n"
   ],
   "cell_type": "markdown",
   "metadata": {}
  },
  {
   "cell_type": "code",
   "execution_count": 19,
   "metadata": {},
   "outputs": [],
   "source": [
    "from sklearn.linear_model import LogisticRegression"
   ]
  },
  {
   "cell_type": "code",
   "execution_count": 20,
   "metadata": {},
   "outputs": [
    {
     "output_type": "execute_result",
     "data": {
      "text/plain": [
       "LogisticRegression()"
      ]
     },
     "metadata": {},
     "execution_count": 20
    }
   ],
   "source": [
    "X = data[['平均半径', '平均感触']]\n",
    "y = data['良性']\n",
    "model = LogisticRegression()\n",
    "\n",
    "# 学習の実行\n",
    "model.fit(X, y)"
   ]
  },
  {
   "source": [
    "学習したモデルが予測するのは、`predict`を使います。"
   ],
   "cell_type": "markdown",
   "metadata": {}
  },
  {
   "cell_type": "code",
   "execution_count": 21,
   "metadata": {},
   "outputs": [
    {
     "output_type": "execute_result",
     "data": {
      "text/plain": [
       "array([0])"
      ]
     },
     "metadata": {},
     "execution_count": 21
    }
   ],
   "source": [
    "model.predict([(20, 18)])"
   ]
  },
  {
   "source": [
    "入力に対して、予測された良性/悪性が出力されました。\n",
    "モデルの学習はできたようです。\n",
    "\n",
    "<div class=\"alert alert-info\">\n",
    "\n",
    "Let's try\n",
    "\n",
    "入力を変更してどのように予測されるか調べてみよう。\n",
    "判定を間違えたデータを調べてみよう。\n",
    "\n",
    "</div>"
   ],
   "cell_type": "markdown",
   "metadata": {}
  },
  {
   "cell_type": "code",
   "execution_count": 22,
   "metadata": {},
   "outputs": [
    {
     "output_type": "execute_result",
     "data": {
      "text/plain": [
       "     正解  予測\n",
       "0     0   0\n",
       "1     0   0\n",
       "2     0   0\n",
       "3     0   1\n",
       "4     0   0\n",
       "..   ..  ..\n",
       "564   0   0\n",
       "565   0   0\n",
       "566   0   0\n",
       "567   0   0\n",
       "568   1   1\n",
       "\n",
       "[569 rows x 2 columns]"
      ],
      "text/html": "<div>\n<style scoped>\n    .dataframe tbody tr th:only-of-type {\n        vertical-align: middle;\n    }\n\n    .dataframe tbody tr th {\n        vertical-align: top;\n    }\n\n    .dataframe thead th {\n        text-align: right;\n    }\n</style>\n<table border=\"1\" class=\"dataframe\">\n  <thead>\n    <tr style=\"text-align: right;\">\n      <th></th>\n      <th>正解</th>\n      <th>予測</th>\n    </tr>\n  </thead>\n  <tbody>\n    <tr>\n      <th>0</th>\n      <td>0</td>\n      <td>0</td>\n    </tr>\n    <tr>\n      <th>1</th>\n      <td>0</td>\n      <td>0</td>\n    </tr>\n    <tr>\n      <th>2</th>\n      <td>0</td>\n      <td>0</td>\n    </tr>\n    <tr>\n      <th>3</th>\n      <td>0</td>\n      <td>1</td>\n    </tr>\n    <tr>\n      <th>4</th>\n      <td>0</td>\n      <td>0</td>\n    </tr>\n    <tr>\n      <th>...</th>\n      <td>...</td>\n      <td>...</td>\n    </tr>\n    <tr>\n      <th>564</th>\n      <td>0</td>\n      <td>0</td>\n    </tr>\n    <tr>\n      <th>565</th>\n      <td>0</td>\n      <td>0</td>\n    </tr>\n    <tr>\n      <th>566</th>\n      <td>0</td>\n      <td>0</td>\n    </tr>\n    <tr>\n      <th>567</th>\n      <td>0</td>\n      <td>0</td>\n    </tr>\n    <tr>\n      <th>568</th>\n      <td>1</td>\n      <td>1</td>\n    </tr>\n  </tbody>\n</table>\n<p>569 rows × 2 columns</p>\n</div>"
     },
     "metadata": {},
     "execution_count": 22
    }
   ],
   "source": [
    "y_pred = model.predict(X)\n",
    "pd.DataFrame({'正解': y, '予測': y_pred})"
   ]
  },
  {
   "source": [
    "### 正解率\n",
    "\n",
    "ロジスティック回帰を始め機械学習によって予測されるモデルは、基本的に確率的なモデルです。 100%正解ということはまずありません。 予測されたモデルがどの程度、正解率なのか調べる必要があります。\n",
    "\n",
    "<div class=\"alert alert-info\">\n",
    "\n",
    "Accuracy: 正解率\n",
    "\n",
    "正解率を定量的に図る指標\n",
    "\n",
    "$$\n",
    "\\frac{TF+TN}{TP+FP+FN+TN}\n",
    "$$\n",
    "\n",
    "* TF(True Positive): 例. 良性かつ良性と予想される\n",
    "* FN(False Negative, 偽陰性): 悪性であるが、良性と予想される\n",
    "* FP(False Positive, 偽陽性): 良性であるが、悪性と予想される\n",
    "* TN(True Negative): 悪性かつ悪性と判定される\n",
    "\n",
    "こちらの解説に詳しい: https://qiita.com/FukuharaYohei/items/be89a99c53586fa4e2e4\n",
    "\n",
    "</div>\n",
    "\n",
    "__`score(X,y)`__\n",
    "\n",
    "sklearn では、正解率を計算するための関数(メソッド）も当然、用意されています。\n",
    "\n"
   ],
   "cell_type": "markdown",
   "metadata": {}
  },
  {
   "cell_type": "code",
   "execution_count": 23,
   "metadata": {},
   "outputs": [
    {
     "output_type": "execute_result",
     "data": {
      "text/plain": [
       "0.8910369068541301"
      ]
     },
     "metadata": {},
     "execution_count": 23
    }
   ],
   "source": [
    "model.score(X, y)"
   ]
  },
  {
   "source": [
    "### オッズ比の分析\n",
    "\n",
    "説明変数の各々が目的変数に及ぼす影響度を表わす偏係数は`.coef_`で習得できるので、\n",
    "学習済みモデルの各変数のオッズ比を取得します。\n",
    "\n",
    "```\n",
    "odds_ratio = np.exp(model.coef_)\n",
    "```\n"
   ],
   "cell_type": "markdown",
   "metadata": {}
  },
  {
   "source": [
    "print('係数', model.coef_)\n",
    "print('オッズ比:', np.exp(model.coef_))\n",
    "pd.DataFrame(np.exp(model.coef_).T,\n",
    "             index = [X.columns.values],\n",
    "             columns = ['オッズ比'])"
   ],
   "cell_type": "code",
   "metadata": {},
   "execution_count": 28,
   "outputs": [
    {
     "output_type": "stream",
     "name": "stdout",
     "text": [
      "係数 [[-1.0462619  -0.21688595]]\nオッズ比: [[0.3512483  0.80502177]]\n"
     ]
    },
    {
     "output_type": "execute_result",
     "data": {
      "text/plain": [
       "          オッズ比\n",
       "平均半径  0.351248\n",
       "平均感触  0.805022"
      ],
      "text/html": "<div>\n<style scoped>\n    .dataframe tbody tr th:only-of-type {\n        vertical-align: middle;\n    }\n\n    .dataframe tbody tr th {\n        vertical-align: top;\n    }\n\n    .dataframe thead th {\n        text-align: right;\n    }\n</style>\n<table border=\"1\" class=\"dataframe\">\n  <thead>\n    <tr style=\"text-align: right;\">\n      <th></th>\n      <th>オッズ比</th>\n    </tr>\n  </thead>\n  <tbody>\n    <tr>\n      <th>平均半径</th>\n      <td>0.351248</td>\n    </tr>\n    <tr>\n      <th>平均感触</th>\n      <td>0.805022</td>\n    </tr>\n  </tbody>\n</table>\n</div>"
     },
     "metadata": {},
     "execution_count": 28
    }
   ]
  },
  {
   "source": [
    "### ホールドアウト法\n",
    "\n",
    "人工知能では、過去に学習したデータではなく、\n",
    "未来の**未知のデータ**に対する予測精度が重要になります。\n",
    "\n",
    "**ホールドアウト法**は、全データを訓練データとテストデータに分割することで、モデルの精度を評価する方法です。一部のデータを未知のデータとすることで、未知のデータに対する精度が測定できるようになります。\n",
    "\n",
    "* 訓練データ: モデルを学習するためのデータ\n",
    "* テストデータ: モデルを評価するためのデータ\n",
    "\n",
    "sklearn には、ランダムにデータを訓練データとテストデータに分割する関数`train_test_split()`が用意されています。通常は、この関数を使います。\n",
    "\n",
    "__訓練データとテストデータに分割__\n",
    "\n",
    "* `test_size`: 訓練用(60%),テスト用(30%)\n",
    "* `random_state=0`: 乱数の生成を固定し、毎回同じ乱数で分割させる"
   ],
   "cell_type": "markdown",
   "metadata": {}
  },
  {
   "cell_type": "code",
   "execution_count": 29,
   "metadata": {},
   "outputs": [
    {
     "output_type": "stream",
     "name": "stdout",
     "text": [
      "訓練データ数: 398\nテストデータ数: 171\n"
     ]
    }
   ],
   "source": [
    "from sklearn.model_selection import train_test_split\n",
    "X_train, X_test, y_train, y_test = train_test_split(X, y, test_size=0.3, random_state=0)\n",
    "\n",
    "print('訓練データ数:', len(X_train))\n",
    "print('テストデータ数:', len(X_test))\n"
   ]
  },
  {
   "source": [
    "学習は、**訓練データ**に対してのみ行います。（テストデータに対しても学習してしまうのは、機械学習的にはチートです。）"
   ],
   "cell_type": "markdown",
   "metadata": {}
  },
  {
   "cell_type": "code",
   "execution_count": 30,
   "metadata": {},
   "outputs": [
    {
     "output_type": "execute_result",
     "data": {
      "text/plain": [
       "LogisticRegression()"
      ]
     },
     "metadata": {},
     "execution_count": 30
    }
   ],
   "source": [
    "# 学習の実行\n",
    "model.fit(X_train, y_train)"
   ]
  },
  {
   "source": [
    "テストデータを使って、モデルを評価していきます。\n",
    "\n",
    "__テストデータからまとめて予測する__\n",
    "\n",
    "* `y_test`: （未知データの）正解\n",
    "* `y_pred:`: モデルから予測値\n"
   ],
   "cell_type": "markdown",
   "metadata": {}
  },
  {
   "cell_type": "code",
   "execution_count": 32,
   "metadata": {},
   "outputs": [
    {
     "output_type": "execute_result",
     "data": {
      "text/plain": [
       "     正解  予測\n",
       "512   0   1\n",
       "457   1   1\n",
       "439   1   1\n",
       "298   1   1\n",
       "37    1   1\n",
       "..   ..  ..\n",
       "7     0   1\n",
       "408   0   0\n",
       "523   1   1\n",
       "361   1   1\n",
       "553   1   1\n",
       "\n",
       "[171 rows x 2 columns]"
      ],
      "text/html": "<div>\n<style scoped>\n    .dataframe tbody tr th:only-of-type {\n        vertical-align: middle;\n    }\n\n    .dataframe tbody tr th {\n        vertical-align: top;\n    }\n\n    .dataframe thead th {\n        text-align: right;\n    }\n</style>\n<table border=\"1\" class=\"dataframe\">\n  <thead>\n    <tr style=\"text-align: right;\">\n      <th></th>\n      <th>正解</th>\n      <th>予測</th>\n    </tr>\n  </thead>\n  <tbody>\n    <tr>\n      <th>512</th>\n      <td>0</td>\n      <td>1</td>\n    </tr>\n    <tr>\n      <th>457</th>\n      <td>1</td>\n      <td>1</td>\n    </tr>\n    <tr>\n      <th>439</th>\n      <td>1</td>\n      <td>1</td>\n    </tr>\n    <tr>\n      <th>298</th>\n      <td>1</td>\n      <td>1</td>\n    </tr>\n    <tr>\n      <th>37</th>\n      <td>1</td>\n      <td>1</td>\n    </tr>\n    <tr>\n      <th>...</th>\n      <td>...</td>\n      <td>...</td>\n    </tr>\n    <tr>\n      <th>7</th>\n      <td>0</td>\n      <td>1</td>\n    </tr>\n    <tr>\n      <th>408</th>\n      <td>0</td>\n      <td>0</td>\n    </tr>\n    <tr>\n      <th>523</th>\n      <td>1</td>\n      <td>1</td>\n    </tr>\n    <tr>\n      <th>361</th>\n      <td>1</td>\n      <td>1</td>\n    </tr>\n    <tr>\n      <th>553</th>\n      <td>1</td>\n      <td>1</td>\n    </tr>\n  </tbody>\n</table>\n<p>171 rows × 2 columns</p>\n</div>"
     },
     "metadata": {},
     "execution_count": 32
    }
   ],
   "source": [
    "y_pred = model.predict(X_test)\n",
    "pd.DataFrame({'正解': y_test, '予測': y_pred})"
   ]
  },
  {
   "source": [
    "正解率は、訓練データとテストデータに対して、それぞれ算出します。"
   ],
   "cell_type": "markdown",
   "metadata": {}
  },
  {
   "cell_type": "code",
   "execution_count": 33,
   "metadata": {},
   "outputs": [
    {
     "output_type": "stream",
     "name": "stdout",
     "text": [
      "正解率(train) 0.8894472361809045\n正解率(test) 0.9064327485380117\n"
     ]
    }
   ],
   "source": [
    "print('正解率(train)', model.score(X_train, y_train))\n",
    "print('正解率(test)', model.score(X_test, y_test))"
   ]
  },
  {
   "source": [
    "正解率(test)は、訓練データに含まれていない未知データに対する正解率なので、\n",
    "**汎化性能**を表しています。\n",
    "\n",
    "正解率(train)を調べるのも重要です。\n",
    "機械学習によくあることですが、\n",
    "訓練データへの適合しすぎてしまう**過学習(overfitting)**が発生していないか、\n",
    "確認することができます。\n",
    "正解率(train)が正解率(test)より高すぎる場合は、過学習の危険性があります。\n",
    "\n",
    "<div class=\"alert alert-info\">\n",
    "\n",
    "過学習\n",
    "\n",
    "訓練データに特化して学習しすぎてしまうこと。\n",
    "訓練データの正解率がテストデータより明らかに高い場合は、過学習を疑いましょう。\n",
    "\n",
    "</div>"
   ],
   "cell_type": "markdown",
   "metadata": {}
  },
  {
   "source": [
    "### モデルの保存と読み込み\n",
    "\n",
    "学習済みモデルを\n",
    "\n",
    "```\n",
    "import pickle\n",
    "with open('model.pickle', mode='wb') as fp:\n",
    "    pickle.dump(model, fp)\n",
    "\n",
    "import pickle\n",
    "with open('model.pickle', mode='rb') as fp:\n",
    "    model = pickle.load(fp)\n",
    "clf.predict(df)\n",
    "```"
   ],
   "cell_type": "markdown",
   "metadata": {}
  },
  {
   "source": [
    "## 多クラスロジスティック回帰\n",
    "\n",
    "次は、ロジスティック回帰モデルによる多クラス分類をしてみましょう。\n",
    "\n",
    "今回は、身長体重データセットから職業を予測するモデルを作ってみます。\n",
    "せっかくなので、学習済モデルを一旦ファイルに保存し、ロードしたモデルも正しく動作するか、\n",
    "検証してみます。\n"
   ],
   "cell_type": "markdown",
   "metadata": {}
  },
  {
   "cell_type": "code",
   "execution_count": 1,
   "metadata": {},
   "outputs": [
    {
     "output_type": "stream",
     "name": "stdout",
     "text": [
      "データのサイズ (1535, 4)\n"
     ]
    },
    {
     "output_type": "execute_result",
     "data": {
      "text/plain": [
       "       名前     身長    体重 職業\n",
       "0   福井　優也  178.0  85.0  B\n",
       "1   九里　亜蓮  187.0  92.0  B\n",
       "2   加藤　拓也  176.0  88.0  B\n",
       "3  大瀬良　大地  187.0  93.0  B\n",
       "4    今村　猛  183.0  98.0  B"
      ],
      "text/html": "<div>\n<style scoped>\n    .dataframe tbody tr th:only-of-type {\n        vertical-align: middle;\n    }\n\n    .dataframe tbody tr th {\n        vertical-align: top;\n    }\n\n    .dataframe thead th {\n        text-align: right;\n    }\n</style>\n<table border=\"1\" class=\"dataframe\">\n  <thead>\n    <tr style=\"text-align: right;\">\n      <th></th>\n      <th>名前</th>\n      <th>身長</th>\n      <th>体重</th>\n      <th>職業</th>\n    </tr>\n  </thead>\n  <tbody>\n    <tr>\n      <th>0</th>\n      <td>福井　優也</td>\n      <td>178.0</td>\n      <td>85.0</td>\n      <td>B</td>\n    </tr>\n    <tr>\n      <th>1</th>\n      <td>九里　亜蓮</td>\n      <td>187.0</td>\n      <td>92.0</td>\n      <td>B</td>\n    </tr>\n    <tr>\n      <th>2</th>\n      <td>加藤　拓也</td>\n      <td>176.0</td>\n      <td>88.0</td>\n      <td>B</td>\n    </tr>\n    <tr>\n      <th>3</th>\n      <td>大瀬良　大地</td>\n      <td>187.0</td>\n      <td>93.0</td>\n      <td>B</td>\n    </tr>\n    <tr>\n      <th>4</th>\n      <td>今村　猛</td>\n      <td>183.0</td>\n      <td>98.0</td>\n      <td>B</td>\n    </tr>\n  </tbody>\n</table>\n</div>"
     },
     "metadata": {},
     "execution_count": 1
    }
   ],
   "source": [
    "data = pd.read_csv('bmi.csv')\n",
    "print('データのサイズ', data.shape)\n",
    "data.head()"
   ]
  },
  {
   "source": [
    "### 学習\n",
    "\n",
    "`身長`と`体重`を説明変数、`職業`を目的変数にしてロジスティック回帰モデルを作成します。\n",
    "多クラス分類であっても、sklearnが適切に処理してくれるので、特に特別な設定は必要ありません。\n",
    "\n",
    "ホールドアウト法で訓練データとテストデータに分割するのを忘れないようにしましょう。\n"
   ],
   "cell_type": "markdown",
   "metadata": {}
  },
  {
   "cell_type": "code",
   "execution_count": null,
   "metadata": {},
   "outputs": [],
   "source": []
  },
  {
   "cell_type": "code",
   "execution_count": 12,
   "metadata": {},
   "outputs": [
    {
     "output_type": "execute_result",
     "data": {
      "text/plain": [
       "LogisticRegression()"
      ]
     },
     "metadata": {},
     "execution_count": 12
    }
   ],
   "source": [
    "X = data[['身長', '体重']]\n",
    "y = data['職業']\n",
    "\n",
    "# ホールドアウト法による訓練データとテストデータ\n",
    "X_train, X_test, y_train, y_test = train_test_split(X, y, test_size=0.3, random_state=0)\n",
    "\n",
    "print('訓練データ数:', len(X_train))\n",
    "print('テストデータ数:', len(X_test))\n",
    "\n",
    "# 学習の実行\n",
    "model = LogisticRegression()\n",
    "model.fit(X, y)"
   ]
  },
  {
   "source": [
    "学習したモデルが予測するのは、`predict`を使います。"
   ],
   "cell_type": "markdown",
   "metadata": {}
  },
  {
   "cell_type": "code",
   "execution_count": 18,
   "metadata": {},
   "outputs": [],
   "source": [
    "y_pred = model.predict(X_test)\n",
    "pd.DataFrame({'正解': y_test, '予測':y_pred}).head()"
   ]
  },
  {
   "source": [
    "正解率も評価しておきましょう。"
   ],
   "cell_type": "markdown",
   "metadata": {}
  },
  {
   "cell_type": "code",
   "execution_count": null,
   "metadata": {},
   "outputs": [],
   "source": [
    "print('正解率(train)', model.score(X_train, y_train))\n",
    "print('正解率(test)', model.score(X_test, y_test))"
   ]
  },
  {
   "source": [
    "## クラス分類アルゴリズム\n",
    "\n",
    "__決定木__\n",
    "\n",
    "決定木は、条件分岐によってグループを分割して分類する手法です。その際にグループがなるべく同じような属性で構成されるように分割します。下の画像を見るとより理解しやすいと思います。\n",
    "\n",
    "__ランダムフォレスト__\n",
    "\n",
    "ランダムフォレストとは、分類や回帰に使える機械学習の手法です。決定木をたくさん作って多数決する（または平均を取る）ような手法です。ランダムフォレストは大量のデータを必要としますが、精度の高い予測/分類を行えるという特徴があります。\n",
    "\n",
    "__サポートベクターマシン（SVC)__\n",
    "\n",
    "サポートベクターマシンは、教師あり学習を用いるパターン認識モデルの一つで、線形入力素子を利用して2クラスのパターン識別器を構成する手法です。\n",
    "\n",
    "SVMでは、下図のように、2つのグループ間の最も距離の離れた箇所（最大マージン）を見つけ出し、その真ん中に識別の線を引きます。\n",
    "\n",
    "__ナイーブベイズ分類器__\n",
    "\n",
    "ナイーブベイズ分類器は特徴間に強い（ナイーブな）独立性を仮定した上でベイズの定理を使う、確率に基づいたアルゴリズムです。\n",
    "\n",
    "__多層パーセプトロン(MLP)__\n",
    "\n"
   ],
   "cell_type": "markdown",
   "metadata": {}
  },
  {
   "cell_type": "code",
   "execution_count": 37,
   "metadata": {},
   "outputs": [
    {
     "output_type": "error",
     "ename": "SyntaxError",
     "evalue": "invalid syntax (<ipython-input-37-0235dc37f707>, line 1)",
     "traceback": [
      "\u001b[0;36m  File \u001b[0;32m\"<ipython-input-37-0235dc37f707>\"\u001b[0;36m, line \u001b[0;32m1\u001b[0m\n\u001b[0;31m    <div class=\"alert alert-info\">\u001b[0m\n\u001b[0m    ^\u001b[0m\n\u001b[0;31mSyntaxError\u001b[0m\u001b[0;31m:\u001b[0m invalid syntax\n"
     ]
    }
   ],
   "source": [
    "<div class=\"alert alert-info\">\n",
    "\n",
    "Let's try\n",
    "\n",
    "`2 ** (1//2)` が、正しく $\\sqrt{2}$ にならない理由を考えてみよう\n",
    "\n",
    "</div>\n",
    "\n",
    "<div class=\"alert alert-warning\">\n",
    "\n",
    "(プログラミングの)$N$個数える\n",
    "\n",
    "プログラミングでは、原則、「**0から**$N-1$まで」のように数えます。\n",
    "\n",
    "</div>\n"
   ]
  },
  {
   "source": [
    "## コースワーク\n",
    "\n",
    "<div class=\"admonition tip\">\n",
    "\n",
    "**例題（２クラス分類問題）**\n",
    "\n",
    "乳がんのデータをホールドアウト法で訓練データとテストデータ(7:3)に分割し、\n",
    "良性か悪性か判定する予測モデルを作成してみよう。\n",
    "\n",
    "1. ロジスティック回帰\n",
    "2. 決定木\n",
    "3. ランダムフォレスト\n",
    "4. サポートベクターマシン\n",
    "5. 多層パーセプトロン(MLP)\n",
    "\n",
    "説明変数は、各アルゴリズムに適したものを選んで構いません。\n",
    "テストデータに対する正解率で比較してみましょう。\n",
    "\n",
    "</div>\n",
    "\n"
   ],
   "cell_type": "markdown",
   "metadata": {}
  }
 ]
}