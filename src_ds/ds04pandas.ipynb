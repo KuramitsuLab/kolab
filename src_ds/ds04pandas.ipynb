{
  "nbformat": 4,
  "nbformat_minor": 0,
  "metadata": {
    "colab": {
      "name": "ds2021_pandas.ipynb",
      "provenance": [],
      "collapsed_sections": [],
      "toc_visible": true
    },
    "kernelspec": {
      "name": "python3",
      "display_name": "Python 3.9.2 64-bit",
      "metadata": {
        "interpreter": {
          "hash": "ac2eaa0ea0ebeafcc7822e65e46aa9d4f966f30b695406963e145ea4a91cd4fc"
        }
      }
    }
  },
  "cells": [
    {
      "cell_type": "markdown",
      "metadata": {
        "id": "4rIjZuzeLMLC"
      },
      "source": [
        "# 表データとPandasを使いこなそう\n",
        "\n",
        "今回は、データ分析と言えば、避けては通れないPandas の使い方を学び、\n",
        "表データの操作を練習します。\n",
        "\n"
      ]
    },
    {
      "cell_type": "markdown",
      "metadata": {
        "id": "vy7eolxRLQM1"
      },
      "source": [
        "## Pandas とは\n",
        "\n",
        "Pandas とは、表データを扱うPython モジュールで、表計算ソフト (Excel)やリレーショナルデータベースの操作を Python から手軽に行えるようにしてくれます。 \n",
        "\n",
        "次のように`pandas`モジュールをインポートして使います。\n"
      ]
    },
    {
      "cell_type": "code",
      "metadata": {
        "id": "8LBqj9HyLPx2"
      },
      "source": [
        "import pandas as pd"
      ],
      "execution_count": 1,
      "outputs": []
    },
    {
      "source": [
        "Pandas は、とても高機能です。\n",
        "\n",
        "本講義では、Pandas でデータ分析をする必須の機能だけ紹介し、ハンズオン演習で体験します。\n",
        "\n",
        "* 暗記するものではありません。\n",
        "* どういうデータ処理や操作ができるか、覚えましょう。\n",
        "* 使うときは、Google 等で調べながら使ってください。"
      ],
      "cell_type": "markdown",
      "metadata": {}
    },
    {
      "cell_type": "markdown",
      "metadata": {
        "id": "EN9C9KxLLWd9"
      },
      "source": [
        "### データの用意\n",
        "\n",
        "Pandas の使い方に慣れるために、小さな練習用のデータを作成して、\n",
        "そちらを使って演習していきます。\n",
        "\n",
        "ファイル書き込み機能(`%%file`)を使って、Colab上でCSVファイル `arashi.csv`を作ります。\n"
      ]
    },
    {
      "cell_type": "code",
      "metadata": {
        "colab": {
          "base_uri": "https://localhost:8080/"
        },
        "id": "iqpdkN5hLVJw",
        "outputId": "18f61b19-86c7-4996-b3e3-7f44e2b2d301"
      },
      "source": [
        "%%file arashi.csv\n",
        "名前,出身,生年,身長,血液型\n",
        "相葉雅紀,千葉,1982,175,AB\n",
        "松本潤,東京都,1983,172,A\n",
        "二宮和也,東京都,1983,168,A\n",
        "大野智,東京都,1980,166,A\n",
        "櫻井翔,東京都,1982,171,A"
      ],
      "execution_count": 2,
      "outputs": [
        {
          "output_type": "stream",
          "name": "stdout",
          "text": [
            "Overwriting arashi.csv\n"
          ]
        }
      ]
    },
    {
      "source": [
        "<div class=\"alert alert-warning\">\n",
        "\n",
        "データが間違っている？\n",
        "\n",
        "一部間違っていると指摘をよく受けます。\n",
        "どうぞ、各自でご自由に、ご修正して練習にお使いください。\n",
        "\n",
        "</div>\n",
        "\n",
        "CSV ファイルは、表計算ソフト(Excel)のファイルをデータ処理しやすく、カンマ区切り形式のテキストで出力したものです。当然、Excel 等の表計算ソフトで開いてみることができます。\n",
        "\n",
        "<img src=\"https://qiita-image-store.s3.ap-northeast-1.amazonaws.com/0/57754/0dd26ba4-bbfb-a468-6547-56968d575ce0.png\" width=\"60%\"/>\n",
        "\n",
        "もうひとつ、あとから表データの結合をする練習で用いる `junk.csv` (わざと少し壊れたファイル）も作っておきましょう。"
      ],
      "cell_type": "markdown",
      "metadata": {}
    },
    {
      "cell_type": "code",
      "metadata": {
        "colab": {
          "base_uri": "https://localhost:8080/"
        },
        "id": "JKhr9gxRPcdx",
        "outputId": "1820a0a2-893b-486d-f90b-31932a77c9c3"
      },
      "source": [
        "%%file junk.csv\n",
        "name,height,weight\n",
        "大野智,166,52.0\n",
        "相葉雅紀,176,58.0\n",
        "二宮和也,168,52.0\n",
        "松本潤,173,62.0\n",
        "カビゴン,210,460.0"
      ],
      "execution_count": 3,
      "outputs": [
        {
          "output_type": "stream",
          "name": "stdout",
          "text": [
            "Overwriting junk.csv\n"
          ]
        }
      ]
    },
    {
      "source": [
        "\n",
        "<div class=\"alert alert-info\">\n",
        "\n",
        "Let's try\n",
        "\n",
        "ちゃんと`arashi.csv`が作成されているか、表計算ソフトで確認してみよう。\n",
        "\n",
        "</div>\n"
      ],
      "cell_type": "markdown",
      "metadata": {}
    },
    {
      "cell_type": "markdown",
      "metadata": {
        "id": "B3TZckSVMjow"
      },
      "source": [
        "## 基本操作\n",
        "\n",
        "Pandas は、表データを効率よく操作できます。\n",
        "\n",
        "Pandas 用語では、表データのことをデータフレーム(DataFrame)と呼びますが、本資料では表データと呼びます。\n",
        "\n",
        "![dataframe-fs8.png](https://qiita-image-store.s3.ap-northeast-1.amazonaws.com/0/57754/b9d6f05e-df40-4680-a8ad-a1b3f9ee3665.png)\n",
        "\n",
        "<div class=\"alert alert-info\">\n",
        "\n",
        "__覚えておこう：Pandas用語__\n",
        "\n",
        "* カラム: 行方向のデータ\n",
        "* インデックス: 列方向のデータ\n",
        "\n",
        "</div>\n"
      ]
    },
    {
      "cell_type": "markdown",
      "metadata": {
        "id": "mfxdmvgkLuIO"
      },
      "source": [
        "### CSVファイルの読み込み\n",
        "\n",
        "Pandas では、`pd.read_csv()`を用いると、CSVファイルから表データを読み込めます。\n"
      ]
    },
    {
      "cell_type": "code",
      "metadata": {
        "colab": {
          "base_uri": "https://localhost:8080/",
          "height": 204
        },
        "id": "isjUsaRrLFEK",
        "outputId": "7fe17209-ff96-4192-8d2a-aaf754fd4f21"
      },
      "source": [
        "data = pd.read_csv('arashi.csv')\n",
        "data.head()  # 最初の5行のみ表示"
      ],
      "execution_count": 4,
      "outputs": [
        {
          "output_type": "execute_result",
          "data": {
            "text/plain": [
              "     名前   出身    生年   身長 血液型\n",
              "0  相葉雅紀   千葉  1982  175  AB\n",
              "1   松本潤  東京都  1983  172   A\n",
              "2  二宮和也  東京都  1983  168   A\n",
              "3   大野智  東京都  1980  166   A\n",
              "4   櫻井翔  東京都  1982  171   A"
            ],
            "text/html": "<div>\n<style scoped>\n    .dataframe tbody tr th:only-of-type {\n        vertical-align: middle;\n    }\n\n    .dataframe tbody tr th {\n        vertical-align: top;\n    }\n\n    .dataframe thead th {\n        text-align: right;\n    }\n</style>\n<table border=\"1\" class=\"dataframe\">\n  <thead>\n    <tr style=\"text-align: right;\">\n      <th></th>\n      <th>名前</th>\n      <th>出身</th>\n      <th>生年</th>\n      <th>身長</th>\n      <th>血液型</th>\n    </tr>\n  </thead>\n  <tbody>\n    <tr>\n      <th>0</th>\n      <td>相葉雅紀</td>\n      <td>千葉</td>\n      <td>1982</td>\n      <td>175</td>\n      <td>AB</td>\n    </tr>\n    <tr>\n      <th>1</th>\n      <td>松本潤</td>\n      <td>東京都</td>\n      <td>1983</td>\n      <td>172</td>\n      <td>A</td>\n    </tr>\n    <tr>\n      <th>2</th>\n      <td>二宮和也</td>\n      <td>東京都</td>\n      <td>1983</td>\n      <td>168</td>\n      <td>A</td>\n    </tr>\n    <tr>\n      <th>3</th>\n      <td>大野智</td>\n      <td>東京都</td>\n      <td>1980</td>\n      <td>166</td>\n      <td>A</td>\n    </tr>\n    <tr>\n      <th>4</th>\n      <td>櫻井翔</td>\n      <td>東京都</td>\n      <td>1982</td>\n      <td>171</td>\n      <td>A</td>\n    </tr>\n  </tbody>\n</table>\n</div>"
          },
          "metadata": {},
          "execution_count": 4
        }
      ]
    },
    {
      "source": [
        "読み込んで表データは、`data`という名前にしてあります。\n",
        "\n",
        "表データへの操作は、`data.head()`のようにメソッドで操作します。\n"
      ],
      "cell_type": "markdown",
      "metadata": {}
    },
    {
      "cell_type": "markdown",
      "metadata": {
        "id": "BCQ3n8IFMvb-"
      },
      "source": [
        "### 属性名からカラム(列)を取り出す\n",
        "\n",
        "Pandas では、属性ごとのデータ処理が多くなります。\n",
        "まず、属性名`'名前'`のデータを取り出してみましょう。\n"
      ]
    },
    {
      "cell_type": "code",
      "metadata": {
        "colab": {
          "base_uri": "https://localhost:8080/"
        },
        "id": "JyGaiMSMMu5e",
        "outputId": "3db2de9d-589f-4c63-957a-2c2cf311a944"
      },
      "source": [
        "data['名前']"
      ],
      "execution_count": 5,
      "outputs": [
        {
          "output_type": "execute_result",
          "data": {
            "text/plain": [
              "0    相葉雅紀\n",
              "1     松本潤\n",
              "2    二宮和也\n",
              "3     大野智\n",
              "4     櫻井翔\n",
              "Name: 名前, dtype: object"
            ]
          },
          "metadata": {},
          "execution_count": 5
        }
      ]
    },
    {
      "source": [
        "取り出した属性データは、Pythonの列(シーケンス）として、`for`文などで処理できます。"
      ],
      "cell_type": "markdown",
      "metadata": {}
    },
    {
      "cell_type": "code",
      "metadata": {
        "colab": {
          "base_uri": "https://localhost:8080/"
        },
        "id": "6g8QRS_ULFsh",
        "outputId": "6e39ae77-113f-4a01-f3dd-531b6bd42232"
      },
      "source": [
        "for name in data['名前']:\n",
        "  print(name)"
      ],
      "execution_count": 6,
      "outputs": [
        {
          "output_type": "stream",
          "name": "stdout",
          "text": [
            "相葉雅紀\n松本潤\n二宮和也\n大野智\n櫻井翔\n"
          ]
        }
      ]
    },
    {
      "source": [
        "### 属性(列データ）の追加\n",
        "\n",
        "新しい属性、つまり列データを追加してみましょう。\n",
        "\n",
        "表データ中には、５人分のデータがあるため、リストとして５人分のデータを代入すると、\n",
        "新しい属性を追加することができます。\n",
        "\n",
        "__例. 性別を追加する__\n"
      ],
      "cell_type": "markdown",
      "metadata": {}
    },
    {
      "cell_type": "code",
      "execution_count": 7,
      "metadata": {},
      "outputs": [
        {
          "output_type": "execute_result",
          "data": {
            "text/plain": [
              "     名前   出身    生年   身長 血液型  性別\n",
              "0  相葉雅紀   千葉  1982  175  AB  男性\n",
              "1   松本潤  東京都  1983  172   A  男性\n",
              "2  二宮和也  東京都  1983  168   A  男性\n",
              "3   大野智  東京都  1980  166   A  男性\n",
              "4   櫻井翔  東京都  1982  171   A  男性"
            ],
            "text/html": "<div>\n<style scoped>\n    .dataframe tbody tr th:only-of-type {\n        vertical-align: middle;\n    }\n\n    .dataframe tbody tr th {\n        vertical-align: top;\n    }\n\n    .dataframe thead th {\n        text-align: right;\n    }\n</style>\n<table border=\"1\" class=\"dataframe\">\n  <thead>\n    <tr style=\"text-align: right;\">\n      <th></th>\n      <th>名前</th>\n      <th>出身</th>\n      <th>生年</th>\n      <th>身長</th>\n      <th>血液型</th>\n      <th>性別</th>\n    </tr>\n  </thead>\n  <tbody>\n    <tr>\n      <th>0</th>\n      <td>相葉雅紀</td>\n      <td>千葉</td>\n      <td>1982</td>\n      <td>175</td>\n      <td>AB</td>\n      <td>男性</td>\n    </tr>\n    <tr>\n      <th>1</th>\n      <td>松本潤</td>\n      <td>東京都</td>\n      <td>1983</td>\n      <td>172</td>\n      <td>A</td>\n      <td>男性</td>\n    </tr>\n    <tr>\n      <th>2</th>\n      <td>二宮和也</td>\n      <td>東京都</td>\n      <td>1983</td>\n      <td>168</td>\n      <td>A</td>\n      <td>男性</td>\n    </tr>\n    <tr>\n      <th>3</th>\n      <td>大野智</td>\n      <td>東京都</td>\n      <td>1980</td>\n      <td>166</td>\n      <td>A</td>\n      <td>男性</td>\n    </tr>\n    <tr>\n      <th>4</th>\n      <td>櫻井翔</td>\n      <td>東京都</td>\n      <td>1982</td>\n      <td>171</td>\n      <td>A</td>\n      <td>男性</td>\n    </tr>\n  </tbody>\n</table>\n</div>"
          },
          "metadata": {},
          "execution_count": 7
        }
      ],
      "source": [
        "data['性別'] = ['男性', '男性', '男性', '男性', '男性']  # ['男性'] * 5 \n",
        "\n",
        "data #表示"
      ]
    },
    {
      "source": [
        "\n",
        "<div class=\"alert alert-info\">\n",
        "\n",
        "上級者向け: 列に数式を適用する\n",
        "\n",
        "`apply`を使えば、各列データに関数やラムダ式を適用した列がえられます。\n",
        "\n",
        "```\n",
        "data['年齢'] = data['生年'].apply(lambda x: 2021 - x)\n",
        "```\n",
        "\n",
        "\n",
        "\n",
        "</div>\n",
        "\n",
        "\n"
      ],
      "cell_type": "markdown",
      "metadata": {}
    },
    {
      "cell_type": "markdown",
      "metadata": {
        "id": "LURXrrOTUdcj"
      },
      "source": [
        "### n行目のデータを取り出す\n",
        "\n",
        "表データの列ごとへのアクセスは、`.iloc`プロパティを通して行ます。"
      ]
    },
    {
      "source": [
        "data.iloc[0]"
      ],
      "cell_type": "code",
      "metadata": {
        "colab": {
          "base_uri": "https://localhost:8080/"
        },
        "id": "H7Rt5c6wNlSe",
        "outputId": "e7f2d733-001e-4cb4-8b4f-7b3bb0669361"
      },
      "execution_count": 8,
      "outputs": [
        {
          "output_type": "execute_result",
          "data": {
            "text/plain": [
              "名前     相葉雅紀\n",
              "出身       千葉\n",
              "生年     1982\n",
              "身長      175\n",
              "血液型      AB\n",
              "性別       男性\n",
              "Name: 0, dtype: object"
            ]
          },
          "metadata": {},
          "execution_count": 8
        }
      ]
    },
    {
      "cell_type": "code",
      "metadata": {
        "colab": {
          "base_uri": "https://localhost:8080/"
        },
        "id": "nMeywOerN19Q",
        "outputId": "d971dcfa-83ea-487f-f134-979760d9b074"
      },
      "source": [
        "for values in data.iloc[0]:\n",
        "  print(values)"
      ],
      "execution_count": 9,
      "outputs": [
        {
          "output_type": "stream",
          "name": "stdout",
          "text": [
            "相葉雅紀\n千葉\n1982\n175\nAB\n男性\n"
          ]
        }
      ]
    },
    {
      "source": [
        "### セルの値\n",
        "インデックスと属性の組み合わせで、表データをセルの値を指定して取り出すことができます。\n"
      ],
      "cell_type": "markdown",
      "metadata": {}
    },
    {
      "cell_type": "code",
      "metadata": {
        "colab": {
          "base_uri": "https://localhost:8080/",
          "height": 35
        },
        "id": "b5Ks0MEbNuzF",
        "outputId": "e813220b-a544-456b-ec34-b1fa3c6846d6"
      },
      "source": [
        "data.iloc[0]['出身']  # data['出身'][0]と書いてもよい"
      ],
      "execution_count": 10,
      "outputs": [
        {
          "output_type": "execute_result",
          "data": {
            "text/plain": [
              "'千葉'"
            ]
          },
          "metadata": {},
          "execution_count": 10
        }
      ]
    },
    {
      "source": [
        "### 表データの出力\n",
        "\n",
        "Pandas で操作した表データは、`.to_csv()`でCSVファイルに保存できます。\n"
      ],
      "cell_type": "markdown",
      "metadata": {}
    },
    {
      "cell_type": "code",
      "execution_count": 11,
      "metadata": {},
      "outputs": [],
      "source": [
        "data.to_csv('arashi2.csv', index=False)  #インデックスなしで出力"
      ]
    },
    {
      "cell_type": "code",
      "execution_count": 12,
      "metadata": {},
      "outputs": [
        {
          "output_type": "stream",
          "name": "stdout",
          "text": [
            "名前,出身,生年,身長,血液型,性別\n相葉雅紀,千葉,1982,175,AB,男性\n松本潤,東京都,1983,172,A,男性\n二宮和也,東京都,1983,168,A,男性\n大野智,東京都,1980,166,A,男性\n櫻井翔,東京都,1983,171,A,男性\n"
          ]
        }
      ],
      "source": [
        "!cat data.csv"
      ]
    },
    {
      "cell_type": "markdown",
      "metadata": {
        "id": "KlC6n0mAOONm"
      },
      "source": [
        "## リレーショナル代数\n",
        "\n",
        "Pandas の[リレーショナル代数](https://ja.wikipedia.org/wiki/%E9%96%A2%E4%BF%82%E4%BB%A3%E6%95%B0_(%E9%96%A2%E4%BF%82%E3%83%A2%E3%83%87%E3%83%AB))の操作をみていきましょう。\n",
        "\n",
        "データベース実習を履修している人は、SQLを思い出しながら試していきましょう。\n",
        "\n",
        "<div class=\"alert alert-warning\">\n",
        "\n",
        "リレーショナル代数って何？\n",
        "\n",
        "SQLの元になったデータ操作を集合論をベースに定義した代数系です。\n",
        "Pandas の操作を覚えるときは、Excel や SQL などの操作と対応付けながら、\n",
        "マスターしていきましょう。\n",
        "\n",
        "</div>\n"
      ]
    },
    {
      "source": [
        "### 選択(selection)\n",
        "\n",
        "選択は、指定した条件に合う行を取り出します。データを抽出するフィルターの役割になります。\n",
        "\n",
        "__例__\n",
        "```sql\n",
        "SELECT * FROM data WHERE '身長 >= 170'\n",
        "```\n"
      ],
      "cell_type": "markdown",
      "metadata": {}
    },
    {
      "cell_type": "code",
      "metadata": {
        "colab": {
          "base_uri": "https://localhost:8080/",
          "height": 142
        },
        "id": "yleiqcGHPI85",
        "outputId": "445fab1f-5444-4957-ed87-3993ee57ce62"
      },
      "source": [
        "data[data['身長'] >= 170]"
      ],
      "execution_count": 13,
      "outputs": [
        {
          "output_type": "execute_result",
          "data": {
            "text/plain": [
              "     名前   出身    生年   身長 血液型  性別\n",
              "0  相葉雅紀   千葉  1982  175  AB  男性\n",
              "1   松本潤  東京都  1983  172   A  男性\n",
              "4   櫻井翔  東京都  1982  171   A  男性"
            ],
            "text/html": "<div>\n<style scoped>\n    .dataframe tbody tr th:only-of-type {\n        vertical-align: middle;\n    }\n\n    .dataframe tbody tr th {\n        vertical-align: top;\n    }\n\n    .dataframe thead th {\n        text-align: right;\n    }\n</style>\n<table border=\"1\" class=\"dataframe\">\n  <thead>\n    <tr style=\"text-align: right;\">\n      <th></th>\n      <th>名前</th>\n      <th>出身</th>\n      <th>生年</th>\n      <th>身長</th>\n      <th>血液型</th>\n      <th>性別</th>\n    </tr>\n  </thead>\n  <tbody>\n    <tr>\n      <th>0</th>\n      <td>相葉雅紀</td>\n      <td>千葉</td>\n      <td>1982</td>\n      <td>175</td>\n      <td>AB</td>\n      <td>男性</td>\n    </tr>\n    <tr>\n      <th>1</th>\n      <td>松本潤</td>\n      <td>東京都</td>\n      <td>1983</td>\n      <td>172</td>\n      <td>A</td>\n      <td>男性</td>\n    </tr>\n    <tr>\n      <th>4</th>\n      <td>櫻井翔</td>\n      <td>東京都</td>\n      <td>1982</td>\n      <td>171</td>\n      <td>A</td>\n      <td>男性</td>\n    </tr>\n  </tbody>\n</table>\n</div>"
          },
          "metadata": {},
          "execution_count": 13
        }
      ]
    },
    {
      "source": [
        "複雑な条件は、`.query()`メソッドを用いて与えることもできます。"
      ],
      "cell_type": "markdown",
      "metadata": {}
    },
    {
      "cell_type": "code",
      "execution_count": 14,
      "metadata": {},
      "outputs": [
        {
          "output_type": "execute_result",
          "data": {
            "text/plain": [
              "    名前   出身    生年   身長 血液型  性別\n",
              "1  松本潤  東京都  1983  172   A  男性\n",
              "4  櫻井翔  東京都  1982  171   A  男性"
            ],
            "text/html": "<div>\n<style scoped>\n    .dataframe tbody tr th:only-of-type {\n        vertical-align: middle;\n    }\n\n    .dataframe tbody tr th {\n        vertical-align: top;\n    }\n\n    .dataframe thead th {\n        text-align: right;\n    }\n</style>\n<table border=\"1\" class=\"dataframe\">\n  <thead>\n    <tr style=\"text-align: right;\">\n      <th></th>\n      <th>名前</th>\n      <th>出身</th>\n      <th>生年</th>\n      <th>身長</th>\n      <th>血液型</th>\n      <th>性別</th>\n    </tr>\n  </thead>\n  <tbody>\n    <tr>\n      <th>1</th>\n      <td>松本潤</td>\n      <td>東京都</td>\n      <td>1983</td>\n      <td>172</td>\n      <td>A</td>\n      <td>男性</td>\n    </tr>\n    <tr>\n      <th>4</th>\n      <td>櫻井翔</td>\n      <td>東京都</td>\n      <td>1982</td>\n      <td>171</td>\n      <td>A</td>\n      <td>男性</td>\n    </tr>\n  </tbody>\n</table>\n</div>"
          },
          "metadata": {},
          "execution_count": 14
        }
      ],
      "source": [
        "data.query('身長 >= 170 and 血液型 == \"A\"')"
      ]
    },
    {
      "source": [
        "### 射影(projection)\n",
        "\n",
        "射影（projection）は、表データから属性を限定した表データを返します。\n",
        "Pandasでは、抽出したい属性名をリストにして渡します。\n",
        "\n",
        "__SQL例__\n",
        "\n",
        "```sql\n",
        "SELECT 名前,生年,血液型 FROM data\n",
        "```\n"
      ],
      "cell_type": "markdown",
      "metadata": {}
    },
    {
      "cell_type": "code",
      "execution_count": 15,
      "metadata": {},
      "outputs": [
        {
          "output_type": "execute_result",
          "data": {
            "text/plain": [
              "     名前    生年 血液型\n",
              "0  相葉雅紀  1982  AB\n",
              "1   松本潤  1983   A\n",
              "2  二宮和也  1983   A\n",
              "3   大野智  1980   A\n",
              "4   櫻井翔  1982   A"
            ],
            "text/html": "<div>\n<style scoped>\n    .dataframe tbody tr th:only-of-type {\n        vertical-align: middle;\n    }\n\n    .dataframe tbody tr th {\n        vertical-align: top;\n    }\n\n    .dataframe thead th {\n        text-align: right;\n    }\n</style>\n<table border=\"1\" class=\"dataframe\">\n  <thead>\n    <tr style=\"text-align: right;\">\n      <th></th>\n      <th>名前</th>\n      <th>生年</th>\n      <th>血液型</th>\n    </tr>\n  </thead>\n  <tbody>\n    <tr>\n      <th>0</th>\n      <td>相葉雅紀</td>\n      <td>1982</td>\n      <td>AB</td>\n    </tr>\n    <tr>\n      <th>1</th>\n      <td>松本潤</td>\n      <td>1983</td>\n      <td>A</td>\n    </tr>\n    <tr>\n      <th>2</th>\n      <td>二宮和也</td>\n      <td>1983</td>\n      <td>A</td>\n    </tr>\n    <tr>\n      <th>3</th>\n      <td>大野智</td>\n      <td>1980</td>\n      <td>A</td>\n    </tr>\n    <tr>\n      <th>4</th>\n      <td>櫻井翔</td>\n      <td>1982</td>\n      <td>A</td>\n    </tr>\n  </tbody>\n</table>\n</div>"
          },
          "metadata": {},
          "execution_count": 15
        }
      ],
      "source": [
        "data[['名前', '生年', '血液型']]"
      ]
    },
    {
      "source": [
        "### 表の連結\n",
        "\n",
        "複数のファイルに入っている表データをまとめてひとつにしたいことがあります。\n"
      ],
      "cell_type": "markdown",
      "metadata": {}
    },
    {
      "source": [
        "今度は、最初に作ったもう一つのCSVファイル junk.csvを読み込んで、連結してみます。"
      ],
      "cell_type": "markdown",
      "metadata": {}
    },
    {
      "cell_type": "code",
      "execution_count": 16,
      "metadata": {},
      "outputs": [
        {
          "output_type": "execute_result",
          "data": {
            "text/plain": [
              "   name  height  weight\n",
              "0   大野智     166    52.0\n",
              "1  相葉雅紀     176    58.0\n",
              "2  二宮和也     168    52.0\n",
              "3   松本潤     173    62.0\n",
              "4  カビゴン     210   460.0"
            ],
            "text/html": "<div>\n<style scoped>\n    .dataframe tbody tr th:only-of-type {\n        vertical-align: middle;\n    }\n\n    .dataframe tbody tr th {\n        vertical-align: top;\n    }\n\n    .dataframe thead th {\n        text-align: right;\n    }\n</style>\n<table border=\"1\" class=\"dataframe\">\n  <thead>\n    <tr style=\"text-align: right;\">\n      <th></th>\n      <th>name</th>\n      <th>height</th>\n      <th>weight</th>\n    </tr>\n  </thead>\n  <tbody>\n    <tr>\n      <th>0</th>\n      <td>大野智</td>\n      <td>166</td>\n      <td>52.0</td>\n    </tr>\n    <tr>\n      <th>1</th>\n      <td>相葉雅紀</td>\n      <td>176</td>\n      <td>58.0</td>\n    </tr>\n    <tr>\n      <th>2</th>\n      <td>二宮和也</td>\n      <td>168</td>\n      <td>52.0</td>\n    </tr>\n    <tr>\n      <th>3</th>\n      <td>松本潤</td>\n      <td>173</td>\n      <td>62.0</td>\n    </tr>\n    <tr>\n      <th>4</th>\n      <td>カビゴン</td>\n      <td>210</td>\n      <td>460.0</td>\n    </tr>\n  </tbody>\n</table>\n</div>"
          },
          "metadata": {},
          "execution_count": 16
        }
      ],
      "source": [
        "data2 = pd.read_csv('junk.csv')\n",
        "data2"
      ]
    },
    {
      "source": [
        "単純に縦方向に連結したいときは、`pd.concat()`を使って連結します。\n",
        "（属性名が異なるので、綺麗につながりません）"
      ],
      "cell_type": "markdown",
      "metadata": {}
    },
    {
      "cell_type": "code",
      "execution_count": 17,
      "metadata": {},
      "outputs": [
        {
          "output_type": "execute_result",
          "data": {
            "text/plain": [
              "     名前   出身      生年     身長  血液型   性別  name  height  weight\n",
              "0  相葉雅紀   千葉  1982.0  175.0   AB   男性   NaN     NaN     NaN\n",
              "1   松本潤  東京都  1983.0  172.0    A   男性   NaN     NaN     NaN\n",
              "2  二宮和也  東京都  1983.0  168.0    A   男性   NaN     NaN     NaN\n",
              "3   大野智  東京都  1980.0  166.0    A   男性   NaN     NaN     NaN\n",
              "4   櫻井翔  東京都  1982.0  171.0    A   男性   NaN     NaN     NaN\n",
              "0   NaN  NaN     NaN    NaN  NaN  NaN   大野智   166.0    52.0\n",
              "1   NaN  NaN     NaN    NaN  NaN  NaN  相葉雅紀   176.0    58.0\n",
              "2   NaN  NaN     NaN    NaN  NaN  NaN  二宮和也   168.0    52.0\n",
              "3   NaN  NaN     NaN    NaN  NaN  NaN   松本潤   173.0    62.0\n",
              "4   NaN  NaN     NaN    NaN  NaN  NaN  カビゴン   210.0   460.0"
            ],
            "text/html": "<div>\n<style scoped>\n    .dataframe tbody tr th:only-of-type {\n        vertical-align: middle;\n    }\n\n    .dataframe tbody tr th {\n        vertical-align: top;\n    }\n\n    .dataframe thead th {\n        text-align: right;\n    }\n</style>\n<table border=\"1\" class=\"dataframe\">\n  <thead>\n    <tr style=\"text-align: right;\">\n      <th></th>\n      <th>名前</th>\n      <th>出身</th>\n      <th>生年</th>\n      <th>身長</th>\n      <th>血液型</th>\n      <th>性別</th>\n      <th>name</th>\n      <th>height</th>\n      <th>weight</th>\n    </tr>\n  </thead>\n  <tbody>\n    <tr>\n      <th>0</th>\n      <td>相葉雅紀</td>\n      <td>千葉</td>\n      <td>1982.0</td>\n      <td>175.0</td>\n      <td>AB</td>\n      <td>男性</td>\n      <td>NaN</td>\n      <td>NaN</td>\n      <td>NaN</td>\n    </tr>\n    <tr>\n      <th>1</th>\n      <td>松本潤</td>\n      <td>東京都</td>\n      <td>1983.0</td>\n      <td>172.0</td>\n      <td>A</td>\n      <td>男性</td>\n      <td>NaN</td>\n      <td>NaN</td>\n      <td>NaN</td>\n    </tr>\n    <tr>\n      <th>2</th>\n      <td>二宮和也</td>\n      <td>東京都</td>\n      <td>1983.0</td>\n      <td>168.0</td>\n      <td>A</td>\n      <td>男性</td>\n      <td>NaN</td>\n      <td>NaN</td>\n      <td>NaN</td>\n    </tr>\n    <tr>\n      <th>3</th>\n      <td>大野智</td>\n      <td>東京都</td>\n      <td>1980.0</td>\n      <td>166.0</td>\n      <td>A</td>\n      <td>男性</td>\n      <td>NaN</td>\n      <td>NaN</td>\n      <td>NaN</td>\n    </tr>\n    <tr>\n      <th>4</th>\n      <td>櫻井翔</td>\n      <td>東京都</td>\n      <td>1982.0</td>\n      <td>171.0</td>\n      <td>A</td>\n      <td>男性</td>\n      <td>NaN</td>\n      <td>NaN</td>\n      <td>NaN</td>\n    </tr>\n    <tr>\n      <th>0</th>\n      <td>NaN</td>\n      <td>NaN</td>\n      <td>NaN</td>\n      <td>NaN</td>\n      <td>NaN</td>\n      <td>NaN</td>\n      <td>大野智</td>\n      <td>166.0</td>\n      <td>52.0</td>\n    </tr>\n    <tr>\n      <th>1</th>\n      <td>NaN</td>\n      <td>NaN</td>\n      <td>NaN</td>\n      <td>NaN</td>\n      <td>NaN</td>\n      <td>NaN</td>\n      <td>相葉雅紀</td>\n      <td>176.0</td>\n      <td>58.0</td>\n    </tr>\n    <tr>\n      <th>2</th>\n      <td>NaN</td>\n      <td>NaN</td>\n      <td>NaN</td>\n      <td>NaN</td>\n      <td>NaN</td>\n      <td>NaN</td>\n      <td>二宮和也</td>\n      <td>168.0</td>\n      <td>52.0</td>\n    </tr>\n    <tr>\n      <th>3</th>\n      <td>NaN</td>\n      <td>NaN</td>\n      <td>NaN</td>\n      <td>NaN</td>\n      <td>NaN</td>\n      <td>NaN</td>\n      <td>松本潤</td>\n      <td>173.0</td>\n      <td>62.0</td>\n    </tr>\n    <tr>\n      <th>4</th>\n      <td>NaN</td>\n      <td>NaN</td>\n      <td>NaN</td>\n      <td>NaN</td>\n      <td>NaN</td>\n      <td>NaN</td>\n      <td>カビゴン</td>\n      <td>210.0</td>\n      <td>460.0</td>\n    </tr>\n  </tbody>\n</table>\n</div>"
          },
          "metadata": {},
          "execution_count": 17
        }
      ],
      "source": [
        "pd.concat([data, data2]) "
      ]
    },
    {
      "source": [
        "横方向に連結したいときは、`axis=1`のオプションをつけます。\n"
      ],
      "cell_type": "markdown",
      "metadata": {}
    },
    {
      "cell_type": "code",
      "execution_count": 18,
      "metadata": {},
      "outputs": [
        {
          "output_type": "execute_result",
          "data": {
            "text/plain": [
              "     名前   出身    生年   身長 血液型  性別  name  height  weight\n",
              "0  相葉雅紀   千葉  1982  175  AB  男性   大野智     166    52.0\n",
              "1   松本潤  東京都  1983  172   A  男性  相葉雅紀     176    58.0\n",
              "2  二宮和也  東京都  1983  168   A  男性  二宮和也     168    52.0\n",
              "3   大野智  東京都  1980  166   A  男性   松本潤     173    62.0\n",
              "4   櫻井翔  東京都  1982  171   A  男性  カビゴン     210   460.0"
            ],
            "text/html": "<div>\n<style scoped>\n    .dataframe tbody tr th:only-of-type {\n        vertical-align: middle;\n    }\n\n    .dataframe tbody tr th {\n        vertical-align: top;\n    }\n\n    .dataframe thead th {\n        text-align: right;\n    }\n</style>\n<table border=\"1\" class=\"dataframe\">\n  <thead>\n    <tr style=\"text-align: right;\">\n      <th></th>\n      <th>名前</th>\n      <th>出身</th>\n      <th>生年</th>\n      <th>身長</th>\n      <th>血液型</th>\n      <th>性別</th>\n      <th>name</th>\n      <th>height</th>\n      <th>weight</th>\n    </tr>\n  </thead>\n  <tbody>\n    <tr>\n      <th>0</th>\n      <td>相葉雅紀</td>\n      <td>千葉</td>\n      <td>1982</td>\n      <td>175</td>\n      <td>AB</td>\n      <td>男性</td>\n      <td>大野智</td>\n      <td>166</td>\n      <td>52.0</td>\n    </tr>\n    <tr>\n      <th>1</th>\n      <td>松本潤</td>\n      <td>東京都</td>\n      <td>1983</td>\n      <td>172</td>\n      <td>A</td>\n      <td>男性</td>\n      <td>相葉雅紀</td>\n      <td>176</td>\n      <td>58.0</td>\n    </tr>\n    <tr>\n      <th>2</th>\n      <td>二宮和也</td>\n      <td>東京都</td>\n      <td>1983</td>\n      <td>168</td>\n      <td>A</td>\n      <td>男性</td>\n      <td>二宮和也</td>\n      <td>168</td>\n      <td>52.0</td>\n    </tr>\n    <tr>\n      <th>3</th>\n      <td>大野智</td>\n      <td>東京都</td>\n      <td>1980</td>\n      <td>166</td>\n      <td>A</td>\n      <td>男性</td>\n      <td>松本潤</td>\n      <td>173</td>\n      <td>62.0</td>\n    </tr>\n    <tr>\n      <th>4</th>\n      <td>櫻井翔</td>\n      <td>東京都</td>\n      <td>1982</td>\n      <td>171</td>\n      <td>A</td>\n      <td>男性</td>\n      <td>カビゴン</td>\n      <td>210</td>\n      <td>460.0</td>\n    </tr>\n  </tbody>\n</table>\n</div>"
          },
          "metadata": {},
          "execution_count": 18
        }
      ],
      "source": [
        "pd.concat([data, data2], axis=1)  #横方向に連結"
      ]
    },
    {
      "cell_type": "markdown",
      "metadata": {
        "id": "3w_5UlFvPZcl"
      },
      "source": [
        "### 表データの結合(join)\n",
        "\n",
        "表データの結合は、ふたつの表データのある属性をキーにして、キーが同じ値であれば一つの行にまとめる操作です。\n",
        "\n",
        "Pandasでは、`pd.merge()`で結合します。\n",
        "\n",
        "__`名前`と`name`をキーにする__\n"
      ]
    },
    {
      "cell_type": "code",
      "metadata": {
        "colab": {
          "base_uri": "https://localhost:8080/",
          "height": 204
        },
        "id": "G-2diGRLQ2VR",
        "outputId": "6db468da-751e-4ae0-fa4c-39adfe59e71f"
      },
      "source": [
        "pd.merge(data, data2, left_on='名前', right_on='name')\n"
      ],
      "execution_count": 19,
      "outputs": [
        {
          "output_type": "execute_result",
          "data": {
            "text/plain": [
              "     名前   出身    生年   身長 血液型  性別  name  height  weight\n",
              "0  相葉雅紀   千葉  1982  175  AB  男性  相葉雅紀     176    58.0\n",
              "1   松本潤  東京都  1983  172   A  男性   松本潤     173    62.0\n",
              "2  二宮和也  東京都  1983  168   A  男性  二宮和也     168    52.0\n",
              "3   大野智  東京都  1980  166   A  男性   大野智     166    52.0"
            ],
            "text/html": "<div>\n<style scoped>\n    .dataframe tbody tr th:only-of-type {\n        vertical-align: middle;\n    }\n\n    .dataframe tbody tr th {\n        vertical-align: top;\n    }\n\n    .dataframe thead th {\n        text-align: right;\n    }\n</style>\n<table border=\"1\" class=\"dataframe\">\n  <thead>\n    <tr style=\"text-align: right;\">\n      <th></th>\n      <th>名前</th>\n      <th>出身</th>\n      <th>生年</th>\n      <th>身長</th>\n      <th>血液型</th>\n      <th>性別</th>\n      <th>name</th>\n      <th>height</th>\n      <th>weight</th>\n    </tr>\n  </thead>\n  <tbody>\n    <tr>\n      <th>0</th>\n      <td>相葉雅紀</td>\n      <td>千葉</td>\n      <td>1982</td>\n      <td>175</td>\n      <td>AB</td>\n      <td>男性</td>\n      <td>相葉雅紀</td>\n      <td>176</td>\n      <td>58.0</td>\n    </tr>\n    <tr>\n      <th>1</th>\n      <td>松本潤</td>\n      <td>東京都</td>\n      <td>1983</td>\n      <td>172</td>\n      <td>A</td>\n      <td>男性</td>\n      <td>松本潤</td>\n      <td>173</td>\n      <td>62.0</td>\n    </tr>\n    <tr>\n      <th>2</th>\n      <td>二宮和也</td>\n      <td>東京都</td>\n      <td>1983</td>\n      <td>168</td>\n      <td>A</td>\n      <td>男性</td>\n      <td>二宮和也</td>\n      <td>168</td>\n      <td>52.0</td>\n    </tr>\n    <tr>\n      <th>3</th>\n      <td>大野智</td>\n      <td>東京都</td>\n      <td>1980</td>\n      <td>166</td>\n      <td>A</td>\n      <td>男性</td>\n      <td>大野智</td>\n      <td>166</td>\n      <td>52.0</td>\n    </tr>\n  </tbody>\n</table>\n</div>"
          },
          "metadata": {},
          "execution_count": 19
        }
      ]
    },
    {
      "source": [
        "ふたつの表データは結合されましたが、データが一部消えてしまいました。\n",
        "これは、Pandas では何も指定しなければ、一番条件の厳しい内部結合が用いられるためです。\n",
        "\n",
        "__結合の方法__\n",
        "* 内部結合 `inner`: 両方にキーが存在するとき結合\n",
        "* 外部結合 `outer`: どちらか一方にキーが存在するとき結合\n",
        "* 左外部結合 `left`: 左側にキーが存在するとき \n",
        "* 右外部結合 `right`: 右側にキーが存在するとき\n",
        "\n",
        "`left`が良さそうですが、`outer`で結合してみます。"
      ],
      "cell_type": "markdown",
      "metadata": {}
    },
    {
      "cell_type": "code",
      "execution_count": 20,
      "metadata": {},
      "outputs": [
        {
          "output_type": "execute_result",
          "data": {
            "text/plain": [
              "     名前   出身      生年     身長  血液型   性別  name  height  weight\n",
              "0  相葉雅紀   千葉  1982.0  175.0   AB   男性  相葉雅紀   176.0    58.0\n",
              "1   松本潤  東京都  1983.0  172.0    A   男性   松本潤   173.0    62.0\n",
              "2  二宮和也  東京都  1983.0  168.0    A   男性  二宮和也   168.0    52.0\n",
              "3   大野智  東京都  1980.0  166.0    A   男性   大野智   166.0    52.0\n",
              "4   櫻井翔  東京都  1982.0  171.0    A   男性   NaN     NaN     NaN\n",
              "5   NaN  NaN     NaN    NaN  NaN  NaN  カビゴン   210.0   460.0"
            ],
            "text/html": "<div>\n<style scoped>\n    .dataframe tbody tr th:only-of-type {\n        vertical-align: middle;\n    }\n\n    .dataframe tbody tr th {\n        vertical-align: top;\n    }\n\n    .dataframe thead th {\n        text-align: right;\n    }\n</style>\n<table border=\"1\" class=\"dataframe\">\n  <thead>\n    <tr style=\"text-align: right;\">\n      <th></th>\n      <th>名前</th>\n      <th>出身</th>\n      <th>生年</th>\n      <th>身長</th>\n      <th>血液型</th>\n      <th>性別</th>\n      <th>name</th>\n      <th>height</th>\n      <th>weight</th>\n    </tr>\n  </thead>\n  <tbody>\n    <tr>\n      <th>0</th>\n      <td>相葉雅紀</td>\n      <td>千葉</td>\n      <td>1982.0</td>\n      <td>175.0</td>\n      <td>AB</td>\n      <td>男性</td>\n      <td>相葉雅紀</td>\n      <td>176.0</td>\n      <td>58.0</td>\n    </tr>\n    <tr>\n      <th>1</th>\n      <td>松本潤</td>\n      <td>東京都</td>\n      <td>1983.0</td>\n      <td>172.0</td>\n      <td>A</td>\n      <td>男性</td>\n      <td>松本潤</td>\n      <td>173.0</td>\n      <td>62.0</td>\n    </tr>\n    <tr>\n      <th>2</th>\n      <td>二宮和也</td>\n      <td>東京都</td>\n      <td>1983.0</td>\n      <td>168.0</td>\n      <td>A</td>\n      <td>男性</td>\n      <td>二宮和也</td>\n      <td>168.0</td>\n      <td>52.0</td>\n    </tr>\n    <tr>\n      <th>3</th>\n      <td>大野智</td>\n      <td>東京都</td>\n      <td>1980.0</td>\n      <td>166.0</td>\n      <td>A</td>\n      <td>男性</td>\n      <td>大野智</td>\n      <td>166.0</td>\n      <td>52.0</td>\n    </tr>\n    <tr>\n      <th>4</th>\n      <td>櫻井翔</td>\n      <td>東京都</td>\n      <td>1982.0</td>\n      <td>171.0</td>\n      <td>A</td>\n      <td>男性</td>\n      <td>NaN</td>\n      <td>NaN</td>\n      <td>NaN</td>\n    </tr>\n    <tr>\n      <th>5</th>\n      <td>NaN</td>\n      <td>NaN</td>\n      <td>NaN</td>\n      <td>NaN</td>\n      <td>NaN</td>\n      <td>NaN</td>\n      <td>カビゴン</td>\n      <td>210.0</td>\n      <td>460.0</td>\n    </tr>\n  </tbody>\n</table>\n</div>"
          },
          "metadata": {},
          "execution_count": 20
        }
      ],
      "source": [
        "pd.merge(data, data2, left_on='名前', right_on='name', how='outer')"
      ]
    },
    {
      "cell_type": "markdown",
      "metadata": {
        "id": "M9kdCA0_RaqR"
      },
      "source": [
        "また、属性名が英語だったり、日本だったり不統一です。\n",
        "少し整頓しておきましょう。\n"
      ]
    },
    {
      "cell_type": "code",
      "metadata": {
        "colab": {
          "base_uri": "https://localhost:8080/",
          "height": 204
        },
        "id": "kTLubWA-WEqd",
        "outputId": "72fd9e75-ece5-484f-88ed-af4a73bb8e49"
      },
      "source": [
        "# data, data2を外部結合した表データを新しく data とする\n",
        "data = pd.merge(data, data2, left_on='名前', right_on='name', how='outer')\n",
        "\n",
        "data.drop('name', axis=1, inplace=True)\n",
        "data.drop('height', axis=1, inplace=True)\n",
        "data.drop(5, axis=0, inplace=True)  #index=5を消す\n",
        "data.rename(columns={'weight': '体重'}, inplace=True)\n",
        "\n",
        "data"
      ],
      "execution_count": 21,
      "outputs": [
        {
          "output_type": "execute_result",
          "data": {
            "text/plain": [
              "     名前   出身      生年     身長 血液型  性別    体重\n",
              "0  相葉雅紀   千葉  1982.0  175.0  AB  男性  58.0\n",
              "1   松本潤  東京都  1983.0  172.0   A  男性  62.0\n",
              "2  二宮和也  東京都  1983.0  168.0   A  男性  52.0\n",
              "3   大野智  東京都  1980.0  166.0   A  男性  52.0\n",
              "4   櫻井翔  東京都  1982.0  171.0   A  男性   NaN"
            ],
            "text/html": "<div>\n<style scoped>\n    .dataframe tbody tr th:only-of-type {\n        vertical-align: middle;\n    }\n\n    .dataframe tbody tr th {\n        vertical-align: top;\n    }\n\n    .dataframe thead th {\n        text-align: right;\n    }\n</style>\n<table border=\"1\" class=\"dataframe\">\n  <thead>\n    <tr style=\"text-align: right;\">\n      <th></th>\n      <th>名前</th>\n      <th>出身</th>\n      <th>生年</th>\n      <th>身長</th>\n      <th>血液型</th>\n      <th>性別</th>\n      <th>体重</th>\n    </tr>\n  </thead>\n  <tbody>\n    <tr>\n      <th>0</th>\n      <td>相葉雅紀</td>\n      <td>千葉</td>\n      <td>1982.0</td>\n      <td>175.0</td>\n      <td>AB</td>\n      <td>男性</td>\n      <td>58.0</td>\n    </tr>\n    <tr>\n      <th>1</th>\n      <td>松本潤</td>\n      <td>東京都</td>\n      <td>1983.0</td>\n      <td>172.0</td>\n      <td>A</td>\n      <td>男性</td>\n      <td>62.0</td>\n    </tr>\n    <tr>\n      <th>2</th>\n      <td>二宮和也</td>\n      <td>東京都</td>\n      <td>1983.0</td>\n      <td>168.0</td>\n      <td>A</td>\n      <td>男性</td>\n      <td>52.0</td>\n    </tr>\n    <tr>\n      <th>3</th>\n      <td>大野智</td>\n      <td>東京都</td>\n      <td>1980.0</td>\n      <td>166.0</td>\n      <td>A</td>\n      <td>男性</td>\n      <td>52.0</td>\n    </tr>\n    <tr>\n      <th>4</th>\n      <td>櫻井翔</td>\n      <td>東京都</td>\n      <td>1982.0</td>\n      <td>171.0</td>\n      <td>A</td>\n      <td>男性</td>\n      <td>NaN</td>\n    </tr>\n  </tbody>\n</table>\n</div>"
          },
          "metadata": {},
          "execution_count": 21
        }
      ]
    },
    {
      "source": [
        "<div class=\"alert alert-warning\">\n",
        "\n",
        "pandas の表操作は書き換えない\n",
        "\n",
        "pandas の表操作は、新しい表データを返すようになっています。\n",
        "だから、別の変数名で別の表データとして操作することもできます。\n",
        "\n",
        "```python\n",
        "# 新しい表を data2 として操作する \n",
        "data2 = data.drop('name', axis=1)\n",
        "```\n",
        "\n",
        "だから、同じ変数名で置き換えることもできます。\n",
        "\n",
        "```python\n",
        "data = data.drop('name', axis=1)\n",
        "```\n",
        "\n",
        "データを直接、書き換えたいときは、`inplace=True`をつけます。\n",
        "\n",
        "```\n",
        "data.drop('name', axis=1, inplace=True)\n",
        "```\n",
        "\n",
        "</div>\n",
        "\n",
        "<div class=\"alert alert-info\">\n",
        "\n",
        "Let's try\n",
        "\n",
        "Google で調べて、\n",
        "`data`のカラムの順番を`名前\t性別\t出身\t生年\t身長\t体重    血液型`に変更してみよう。\n",
        "\n",
        "（Google で調べて、操作できるようになれば、OKです。）\n",
        "</div>\n",
        "\n"
      ],
      "cell_type": "markdown",
      "metadata": {}
    },
    {
      "cell_type": "markdown",
      "metadata": {
        "id": "PLIELsPbVD39"
      },
      "source": [
        "## データ分析の準備\n",
        "\n",
        "次回からPandas を用いて、より本格的なデータ分析を始めます。\n",
        "\n",
        "### 欠損値のチェック\n",
        "\n",
        "世の中のデータは、データ値が欠けていることがあります。\n",
        "今回の練習データでは、`NaN`と表示されている値が、欠損値になります。\n",
        "データ件数が少ない場合は、目視でみつかる場合がありますが、\n",
        "データ件数が多くなると、手作業で探すのは無理です。\n",
        "\n",
        "欠損値をチェックすることが必要になります。\n",
        "\n"
      ]
    },
    {
      "cell_type": "code",
      "execution_count": 22,
      "metadata": {},
      "outputs": [
        {
          "output_type": "execute_result",
          "data": {
            "text/plain": [
              "名前     0\n",
              "出身     0\n",
              "生年     0\n",
              "身長     0\n",
              "血液型    0\n",
              "性別     0\n",
              "体重     1\n",
              "dtype: int64"
            ]
          },
          "metadata": {},
          "execution_count": 22
        }
      ],
      "source": [
        "data.isnull().sum()"
      ]
    },
    {
      "source": [
        "\n",
        "欠損値が見つかったときは、\n",
        "欠損値を処理するアプローチとしては：\n",
        "\n",
        "* `dropna()`：データが欠損している行や列を削除する\n",
        "* `fillna()`：データが欠損している要素を別の値で穴埋めする\n",
        "\n",
        "どのように処理するかは、データ分析の目的によって異なります。\n",
        "今回は、メンバーを消してしまったら、大変なことになりますので、\n",
        "__欠損値の値を平均値で補完する__ことで対応してみます。\n"
      ],
      "cell_type": "markdown",
      "metadata": {}
    },
    {
      "cell_type": "code",
      "metadata": {
        "colab": {
          "base_uri": "https://localhost:8080/",
          "height": 204
        },
        "id": "t3JTNJzDU_z4",
        "outputId": "afaa2623-ea55-47fe-a4b4-fb155f0c73a9"
      },
      "source": [
        "data.fillna(data.mean(), inplace=True)\n",
        "data"
      ],
      "execution_count": 23,
      "outputs": [
        {
          "output_type": "execute_result",
          "data": {
            "text/plain": [
              "     名前   出身      生年     身長 血液型  性別    体重\n",
              "0  相葉雅紀   千葉  1982.0  175.0  AB  男性  58.0\n",
              "1   松本潤  東京都  1983.0  172.0   A  男性  62.0\n",
              "2  二宮和也  東京都  1983.0  168.0   A  男性  52.0\n",
              "3   大野智  東京都  1980.0  166.0   A  男性  52.0\n",
              "4   櫻井翔  東京都  1982.0  171.0   A  男性  56.0"
            ],
            "text/html": "<div>\n<style scoped>\n    .dataframe tbody tr th:only-of-type {\n        vertical-align: middle;\n    }\n\n    .dataframe tbody tr th {\n        vertical-align: top;\n    }\n\n    .dataframe thead th {\n        text-align: right;\n    }\n</style>\n<table border=\"1\" class=\"dataframe\">\n  <thead>\n    <tr style=\"text-align: right;\">\n      <th></th>\n      <th>名前</th>\n      <th>出身</th>\n      <th>生年</th>\n      <th>身長</th>\n      <th>血液型</th>\n      <th>性別</th>\n      <th>体重</th>\n    </tr>\n  </thead>\n  <tbody>\n    <tr>\n      <th>0</th>\n      <td>相葉雅紀</td>\n      <td>千葉</td>\n      <td>1982.0</td>\n      <td>175.0</td>\n      <td>AB</td>\n      <td>男性</td>\n      <td>58.0</td>\n    </tr>\n    <tr>\n      <th>1</th>\n      <td>松本潤</td>\n      <td>東京都</td>\n      <td>1983.0</td>\n      <td>172.0</td>\n      <td>A</td>\n      <td>男性</td>\n      <td>62.0</td>\n    </tr>\n    <tr>\n      <th>2</th>\n      <td>二宮和也</td>\n      <td>東京都</td>\n      <td>1983.0</td>\n      <td>168.0</td>\n      <td>A</td>\n      <td>男性</td>\n      <td>52.0</td>\n    </tr>\n    <tr>\n      <th>3</th>\n      <td>大野智</td>\n      <td>東京都</td>\n      <td>1980.0</td>\n      <td>166.0</td>\n      <td>A</td>\n      <td>男性</td>\n      <td>52.0</td>\n    </tr>\n    <tr>\n      <th>4</th>\n      <td>櫻井翔</td>\n      <td>東京都</td>\n      <td>1982.0</td>\n      <td>171.0</td>\n      <td>A</td>\n      <td>男性</td>\n      <td>56.0</td>\n    </tr>\n  </tbody>\n</table>\n</div>"
          },
          "metadata": {},
          "execution_count": 23
        }
      ]
    },
    {
      "source": [
        "\n",
        "<div class=\"alert alert-info\">\n",
        "\n",
        "欠損値の補完\n",
        "\n",
        "データ分析では、欠損値は何かの嫌がらせかと思うほど、頻繁に生じます。\n",
        "色々な補完方法がありますので、適切な方法を選んでください。\n",
        "\n",
        "```\n",
        "data['体重'].fillna(50.0)                 # 体重の欠損値を50.0で穴埋め\n",
        "data['体重'].fillna(data['体重'].mean())   # 体重の欠損値を体重の平均値で穴埋め\n",
        "data['体重'].fillna(data['体重'].median()) # 体重の欠損値を体重の中央値で穴埋め\n",
        "data['体重'].fillna(data['体重'].mode())   # 体重の欠損値を体重の最頻値で穴埋め\n",
        "```\n",
        "\n",
        "</div>"
      ],
      "cell_type": "markdown",
      "metadata": {}
    },
    {
      "source": [
        "### グループごとの集計\n",
        "\n",
        "`groupby()` は、同じ値を持つデータをまとめて、統計処理を行いときに使います。\n",
        "\n",
        "__例. 血液型ごとに平均(mean)をとる__"
      ],
      "cell_type": "markdown",
      "metadata": {}
    },
    {
      "cell_type": "code",
      "execution_count": 24,
      "metadata": {},
      "outputs": [
        {
          "output_type": "execute_result",
          "data": {
            "text/plain": [
              "         生年      身長    体重\n",
              "血液型                      \n",
              "A    1982.0  169.25  55.5\n",
              "AB   1982.0  175.00  58.0"
            ],
            "text/html": "<div>\n<style scoped>\n    .dataframe tbody tr th:only-of-type {\n        vertical-align: middle;\n    }\n\n    .dataframe tbody tr th {\n        vertical-align: top;\n    }\n\n    .dataframe thead th {\n        text-align: right;\n    }\n</style>\n<table border=\"1\" class=\"dataframe\">\n  <thead>\n    <tr style=\"text-align: right;\">\n      <th></th>\n      <th>生年</th>\n      <th>身長</th>\n      <th>体重</th>\n    </tr>\n    <tr>\n      <th>血液型</th>\n      <th></th>\n      <th></th>\n      <th></th>\n    </tr>\n  </thead>\n  <tbody>\n    <tr>\n      <th>A</th>\n      <td>1982.0</td>\n      <td>169.25</td>\n      <td>55.5</td>\n    </tr>\n    <tr>\n      <th>AB</th>\n      <td>1982.0</td>\n      <td>175.00</td>\n      <td>58.0</td>\n    </tr>\n  </tbody>\n</table>\n</div>"
          },
          "metadata": {},
          "execution_count": 24
        }
      ],
      "source": [
        "data.groupby('血液型').mean()"
      ]
    },
    {
      "source": [
        "__`describe()`: 基礎統計量を全てみたいとき__"
      ],
      "cell_type": "markdown",
      "metadata": {}
    },
    {
      "cell_type": "code",
      "execution_count": 29,
      "metadata": {},
      "outputs": [
        {
          "output_type": "execute_result",
          "data": {
            "text/plain": [
              "       生年                                                              身長  \\\n",
              "    count    mean       std     min     25%     50%     75%     max count   \n",
              "血液型                                                                         \n",
              "A     4.0  1982.0  1.414214  1980.0  1981.5  1982.5  1983.0  1983.0   4.0   \n",
              "AB    1.0  1982.0       NaN  1982.0  1982.0  1982.0  1982.0  1982.0   1.0   \n",
              "\n",
              "             ...                   体重                                          \\\n",
              "       mean  ...     75%    max count  mean       std   min   25%   50%   75%   \n",
              "血液型          ...                                                                \n",
              "A    169.25  ...  171.25  172.0   4.0  55.5  4.725816  52.0  52.0  54.0  57.5   \n",
              "AB   175.00  ...  175.00  175.0   1.0  58.0       NaN  58.0  58.0  58.0  58.0   \n",
              "\n",
              "           \n",
              "      max  \n",
              "血液型        \n",
              "A    62.0  \n",
              "AB   58.0  \n",
              "\n",
              "[2 rows x 24 columns]"
            ],
            "text/html": "<div>\n<style scoped>\n    .dataframe tbody tr th:only-of-type {\n        vertical-align: middle;\n    }\n\n    .dataframe tbody tr th {\n        vertical-align: top;\n    }\n\n    .dataframe thead tr th {\n        text-align: left;\n    }\n\n    .dataframe thead tr:last-of-type th {\n        text-align: right;\n    }\n</style>\n<table border=\"1\" class=\"dataframe\">\n  <thead>\n    <tr>\n      <th></th>\n      <th colspan=\"8\" halign=\"left\">生年</th>\n      <th colspan=\"5\" halign=\"left\">身長</th>\n      <th colspan=\"8\" halign=\"left\">体重</th>\n    </tr>\n    <tr>\n      <th></th>\n      <th>count</th>\n      <th>mean</th>\n      <th>std</th>\n      <th>min</th>\n      <th>25%</th>\n      <th>50%</th>\n      <th>75%</th>\n      <th>max</th>\n      <th>count</th>\n      <th>mean</th>\n      <th>...</th>\n      <th>75%</th>\n      <th>max</th>\n      <th>count</th>\n      <th>mean</th>\n      <th>std</th>\n      <th>min</th>\n      <th>25%</th>\n      <th>50%</th>\n      <th>75%</th>\n      <th>max</th>\n    </tr>\n    <tr>\n      <th>血液型</th>\n      <th></th>\n      <th></th>\n      <th></th>\n      <th></th>\n      <th></th>\n      <th></th>\n      <th></th>\n      <th></th>\n      <th></th>\n      <th></th>\n      <th></th>\n      <th></th>\n      <th></th>\n      <th></th>\n      <th></th>\n      <th></th>\n      <th></th>\n      <th></th>\n      <th></th>\n      <th></th>\n      <th></th>\n    </tr>\n  </thead>\n  <tbody>\n    <tr>\n      <th>A</th>\n      <td>4.0</td>\n      <td>1982.0</td>\n      <td>1.414214</td>\n      <td>1980.0</td>\n      <td>1981.5</td>\n      <td>1982.5</td>\n      <td>1983.0</td>\n      <td>1983.0</td>\n      <td>4.0</td>\n      <td>169.25</td>\n      <td>...</td>\n      <td>171.25</td>\n      <td>172.0</td>\n      <td>4.0</td>\n      <td>55.5</td>\n      <td>4.725816</td>\n      <td>52.0</td>\n      <td>52.0</td>\n      <td>54.0</td>\n      <td>57.5</td>\n      <td>62.0</td>\n    </tr>\n    <tr>\n      <th>AB</th>\n      <td>1.0</td>\n      <td>1982.0</td>\n      <td>NaN</td>\n      <td>1982.0</td>\n      <td>1982.0</td>\n      <td>1982.0</td>\n      <td>1982.0</td>\n      <td>1982.0</td>\n      <td>1.0</td>\n      <td>175.00</td>\n      <td>...</td>\n      <td>175.00</td>\n      <td>175.0</td>\n      <td>1.0</td>\n      <td>58.0</td>\n      <td>NaN</td>\n      <td>58.0</td>\n      <td>58.0</td>\n      <td>58.0</td>\n      <td>58.0</td>\n      <td>58.0</td>\n    </tr>\n  </tbody>\n</table>\n<p>2 rows × 24 columns</p>\n</div>"
          },
          "metadata": {},
          "execution_count": 29
        }
      ],
      "source": [
        "data.groupby('血液型').describe()"
      ]
    },
    {
      "source": [
        "`groupby()`は、グループごとに集計して操作するときに、重宝します。\n",
        "ただし、返されるのはGroupByオブジェクトで表データとして使えません。\n",
        "\n",
        "ピボットテーブルを用いると、集計結果を表データに変換して取り出せるようになります。\n"
      ],
      "cell_type": "markdown",
      "metadata": {}
    },
    {
      "cell_type": "code",
      "execution_count": 25,
      "metadata": {},
      "outputs": [
        {
          "output_type": "execute_result",
          "data": {
            "text/plain": [
              "       体重      生年      身長\n",
              "血液型                      \n",
              "A    55.5  1982.0  169.25\n",
              "AB   58.0  1982.0  175.00"
            ],
            "text/html": "<div>\n<style scoped>\n    .dataframe tbody tr th:only-of-type {\n        vertical-align: middle;\n    }\n\n    .dataframe tbody tr th {\n        vertical-align: top;\n    }\n\n    .dataframe thead th {\n        text-align: right;\n    }\n</style>\n<table border=\"1\" class=\"dataframe\">\n  <thead>\n    <tr style=\"text-align: right;\">\n      <th></th>\n      <th>体重</th>\n      <th>生年</th>\n      <th>身長</th>\n    </tr>\n    <tr>\n      <th>血液型</th>\n      <th></th>\n      <th></th>\n      <th></th>\n    </tr>\n  </thead>\n  <tbody>\n    <tr>\n      <th>A</th>\n      <td>55.5</td>\n      <td>1982.0</td>\n      <td>169.25</td>\n    </tr>\n    <tr>\n      <th>AB</th>\n      <td>58.0</td>\n      <td>1982.0</td>\n      <td>175.00</td>\n    </tr>\n  </tbody>\n</table>\n</div>"
          },
          "metadata": {},
          "execution_count": 25
        }
      ],
      "source": [
        "pd.pivot_table(data, index=\"血液型\")"
      ]
    },
    {
      "source": [
        "<div class=\"alert alert-info\">\n",
        "\n",
        "ピボットテーブルとクロス集計\n",
        "\n",
        "ピボットテーブルは、クロス集計に使われる便利ツールです。\n",
        "\n",
        "* `index`: 縦軸に展開するカラムを指定\n",
        "* `columns`: 横軸に展開するカラムを指定\n",
        "* `values`: 集約する値カラムを指定\n",
        "* `aggfunc`: 集約方法を指定\n",
        "\n",
        "</div>\n",
        "\n",
        "ぜひ使えるようになりたいところですが、今回のサンプルはデータ件数が少なすぎます。\n",
        "余力がある人は、次の時系列データで練習してみてください。\n"
      ],
      "cell_type": "markdown",
      "metadata": {}
    },
    {
      "source": [
        "## 時系列データ\n",
        "\n",
        "時系列データとは、時間の順番に並んだデータです。\n",
        "**コンピュータが記録するデータ（ログ）**は、時系列データになっていることが多く、\n",
        "データ分析を始める前に理解しやすい形に集計しなおす必要があります。\n",
        "\n",
        "__データの入手__\n",
        "\n",
        "UNIXコマンド `wget`で以下のURLから取り寄せてください。\n",
        "\n",
        "```\n",
        "!wget https://KuramitsuLab.github.io/data/oj2018.csv\n",
        "```\n"
      ],
      "cell_type": "markdown",
      "metadata": {}
    },
    {
      "source": [
        "data = pd.read_csv('oj2018.csv')\n",
        "data.head()"
      ],
      "cell_type": "code",
      "metadata": {},
      "execution_count": 30,
      "outputs": [
        {
          "output_type": "execute_result",
          "data": {
            "text/plain": [
              "       name           date  problem  point\n",
              "0  Victoria  2018/5/2 2:35        1      1\n",
              "1  Victoria  2018/5/2 2:46        2      1\n",
              "2  Victoria  2018/5/2 2:49        3      1\n",
              "3  Victoria  2018/5/2 2:53        4      1\n",
              "4  Victoria  2018/5/2 3:12        5      1"
            ],
            "text/html": "<div>\n<style scoped>\n    .dataframe tbody tr th:only-of-type {\n        vertical-align: middle;\n    }\n\n    .dataframe tbody tr th {\n        vertical-align: top;\n    }\n\n    .dataframe thead th {\n        text-align: right;\n    }\n</style>\n<table border=\"1\" class=\"dataframe\">\n  <thead>\n    <tr style=\"text-align: right;\">\n      <th></th>\n      <th>name</th>\n      <th>date</th>\n      <th>problem</th>\n      <th>point</th>\n    </tr>\n  </thead>\n  <tbody>\n    <tr>\n      <th>0</th>\n      <td>Victoria</td>\n      <td>2018/5/2 2:35</td>\n      <td>1</td>\n      <td>1</td>\n    </tr>\n    <tr>\n      <th>1</th>\n      <td>Victoria</td>\n      <td>2018/5/2 2:46</td>\n      <td>2</td>\n      <td>1</td>\n    </tr>\n    <tr>\n      <th>2</th>\n      <td>Victoria</td>\n      <td>2018/5/2 2:49</td>\n      <td>3</td>\n      <td>1</td>\n    </tr>\n    <tr>\n      <th>3</th>\n      <td>Victoria</td>\n      <td>2018/5/2 2:53</td>\n      <td>4</td>\n      <td>1</td>\n    </tr>\n    <tr>\n      <th>4</th>\n      <td>Victoria</td>\n      <td>2018/5/2 3:12</td>\n      <td>5</td>\n      <td>1</td>\n    </tr>\n  </tbody>\n</table>\n</div>"
          },
          "metadata": {},
          "execution_count": 30
        }
      ]
    },
    {
      "source": [
        "データの内容は、E-ラーニング教材の学習ログです。\n",
        "\n",
        "* 解答者(name)\n",
        "* 解答した時間(date)\n",
        "* 問題番号(problem)\n",
        "* 得点（point)\n",
        "\n",
        "__解答者一覧と回答数__"
      ],
      "cell_type": "markdown",
      "metadata": {}
    },
    {
      "cell_type": "code",
      "execution_count": 53,
      "metadata": {},
      "outputs": [
        {
          "output_type": "execute_result",
          "data": {
            "text/plain": [
              "Chloe       220\n",
              "Victoria    164\n",
              "Zoe         162\n",
              "Maria       138\n",
              "Adalynn      90\n",
              "Name: name, dtype: int64"
            ]
          },
          "metadata": {},
          "execution_count": 53
        }
      ],
      "source": [
        "data['name'].value_counts()"
      ]
    },
    {
      "source": [
        "\n",
        "### 日付\n",
        "\n",
        "学習ログの日付は、文字列として記録されています。\n",
        "このまま処理しても構いませんが、扱いやすいようにpandas の日付データに変換しておきます。"
      ],
      "cell_type": "markdown",
      "metadata": {}
    },
    {
      "cell_type": "code",
      "execution_count": 32,
      "metadata": {},
      "outputs": [
        {
          "output_type": "execute_result",
          "data": {
            "text/plain": [
              "       name                date  problem  point\n",
              "0  Victoria 2018-05-02 02:35:00        1      1\n",
              "1  Victoria 2018-05-02 02:46:00        2      1\n",
              "2  Victoria 2018-05-02 02:49:00        3      1\n",
              "3  Victoria 2018-05-02 02:53:00        4      1\n",
              "4  Victoria 2018-05-02 03:12:00        5      1"
            ],
            "text/html": "<div>\n<style scoped>\n    .dataframe tbody tr th:only-of-type {\n        vertical-align: middle;\n    }\n\n    .dataframe tbody tr th {\n        vertical-align: top;\n    }\n\n    .dataframe thead th {\n        text-align: right;\n    }\n</style>\n<table border=\"1\" class=\"dataframe\">\n  <thead>\n    <tr style=\"text-align: right;\">\n      <th></th>\n      <th>name</th>\n      <th>date</th>\n      <th>problem</th>\n      <th>point</th>\n    </tr>\n  </thead>\n  <tbody>\n    <tr>\n      <th>0</th>\n      <td>Victoria</td>\n      <td>2018-05-02 02:35:00</td>\n      <td>1</td>\n      <td>1</td>\n    </tr>\n    <tr>\n      <th>1</th>\n      <td>Victoria</td>\n      <td>2018-05-02 02:46:00</td>\n      <td>2</td>\n      <td>1</td>\n    </tr>\n    <tr>\n      <th>2</th>\n      <td>Victoria</td>\n      <td>2018-05-02 02:49:00</td>\n      <td>3</td>\n      <td>1</td>\n    </tr>\n    <tr>\n      <th>3</th>\n      <td>Victoria</td>\n      <td>2018-05-02 02:53:00</td>\n      <td>4</td>\n      <td>1</td>\n    </tr>\n    <tr>\n      <th>4</th>\n      <td>Victoria</td>\n      <td>2018-05-02 03:12:00</td>\n      <td>5</td>\n      <td>1</td>\n    </tr>\n  </tbody>\n</table>\n</div>"
          },
          "metadata": {},
          "execution_count": 32
        }
      ],
      "source": [
        "data['date'] = pd.to_datetime(data['date'])\n",
        "data.head()"
      ]
    },
    {
      "source": [
        "すると、日付はメソッド操作で様々な値に変換しやすくなります。"
      ],
      "cell_type": "markdown",
      "metadata": {}
    },
    {
      "cell_type": "code",
      "execution_count": 33,
      "metadata": {},
      "outputs": [
        {
          "output_type": "stream",
          "name": "stdout",
          "text": [
            "日付 2018-05-02 02:35:00\n年 2018\nエポック秒 1525228500.0\n"
          ]
        }
      ],
      "source": [
        "print('日付', data['date'][0])\n",
        "print('年', data['date'][0].year)\n",
        "print('エポック秒', int(data['date'][0].timestamp()))"
      ]
    },
    {
      "source": [
        "エポック秒とは、UNIX上で使われる1970年1月1日を起点にした秒です。\n",
        "整数値として、日付が処理しやすくなります。\n",
        "エポック秒に変換したカラムを作っておきましょう。\n"
      ],
      "cell_type": "markdown",
      "metadata": {}
    },
    {
      "cell_type": "code",
      "execution_count": 34,
      "metadata": {},
      "outputs": [
        {
          "output_type": "execute_result",
          "data": {
            "text/plain": [
              "         name                date  problem  point       epoch\n",
              "0    Victoria 2018-05-02 02:35:00        1      1  1525228500\n",
              "1    Victoria 2018-05-02 02:46:00        2      1  1525229160\n",
              "2    Victoria 2018-05-02 02:49:00        3      1  1525229340\n",
              "3    Victoria 2018-05-02 02:53:00        4      1  1525229580\n",
              "4    Victoria 2018-05-02 03:12:00        5      1  1525230720\n",
              "..        ...                 ...      ...    ...         ...\n",
              "769     Chloe 2018-09-09 12:01:00      187      1  1536494460\n",
              "770     Chloe 2018-09-09 12:14:00      166      1  1536495240\n",
              "771     Chloe 2018-09-17 10:32:00      132      1  1537180320\n",
              "772     Chloe 2018-09-17 10:35:00      133      0  1537180500\n",
              "773     Chloe 2018-09-17 10:37:00      132      1  1537180620\n",
              "\n",
              "[774 rows x 5 columns]"
            ],
            "text/html": "<div>\n<style scoped>\n    .dataframe tbody tr th:only-of-type {\n        vertical-align: middle;\n    }\n\n    .dataframe tbody tr th {\n        vertical-align: top;\n    }\n\n    .dataframe thead th {\n        text-align: right;\n    }\n</style>\n<table border=\"1\" class=\"dataframe\">\n  <thead>\n    <tr style=\"text-align: right;\">\n      <th></th>\n      <th>name</th>\n      <th>date</th>\n      <th>problem</th>\n      <th>point</th>\n      <th>epoch</th>\n    </tr>\n  </thead>\n  <tbody>\n    <tr>\n      <th>0</th>\n      <td>Victoria</td>\n      <td>2018-05-02 02:35:00</td>\n      <td>1</td>\n      <td>1</td>\n      <td>1525228500</td>\n    </tr>\n    <tr>\n      <th>1</th>\n      <td>Victoria</td>\n      <td>2018-05-02 02:46:00</td>\n      <td>2</td>\n      <td>1</td>\n      <td>1525229160</td>\n    </tr>\n    <tr>\n      <th>2</th>\n      <td>Victoria</td>\n      <td>2018-05-02 02:49:00</td>\n      <td>3</td>\n      <td>1</td>\n      <td>1525229340</td>\n    </tr>\n    <tr>\n      <th>3</th>\n      <td>Victoria</td>\n      <td>2018-05-02 02:53:00</td>\n      <td>4</td>\n      <td>1</td>\n      <td>1525229580</td>\n    </tr>\n    <tr>\n      <th>4</th>\n      <td>Victoria</td>\n      <td>2018-05-02 03:12:00</td>\n      <td>5</td>\n      <td>1</td>\n      <td>1525230720</td>\n    </tr>\n    <tr>\n      <th>...</th>\n      <td>...</td>\n      <td>...</td>\n      <td>...</td>\n      <td>...</td>\n      <td>...</td>\n    </tr>\n    <tr>\n      <th>769</th>\n      <td>Chloe</td>\n      <td>2018-09-09 12:01:00</td>\n      <td>187</td>\n      <td>1</td>\n      <td>1536494460</td>\n    </tr>\n    <tr>\n      <th>770</th>\n      <td>Chloe</td>\n      <td>2018-09-09 12:14:00</td>\n      <td>166</td>\n      <td>1</td>\n      <td>1536495240</td>\n    </tr>\n    <tr>\n      <th>771</th>\n      <td>Chloe</td>\n      <td>2018-09-17 10:32:00</td>\n      <td>132</td>\n      <td>1</td>\n      <td>1537180320</td>\n    </tr>\n    <tr>\n      <th>772</th>\n      <td>Chloe</td>\n      <td>2018-09-17 10:35:00</td>\n      <td>133</td>\n      <td>0</td>\n      <td>1537180500</td>\n    </tr>\n    <tr>\n      <th>773</th>\n      <td>Chloe</td>\n      <td>2018-09-17 10:37:00</td>\n      <td>132</td>\n      <td>1</td>\n      <td>1537180620</td>\n    </tr>\n  </tbody>\n</table>\n<p>774 rows × 5 columns</p>\n</div>"
          },
          "metadata": {},
          "execution_count": 34
        }
      ],
      "source": [
        "data['epoch'] = data['date'].map(pd.Timestamp.timestamp).astype(int)\n",
        "data"
      ]
    },
    {
      "source": [
        "ここから、2018年５月１日を起点に、一週間ごとにデータを区切って、各週ごとの学習状況をみてみたいと思います。\n",
        "\n",
        "__2018年5月1日のエポック秒__"
      ],
      "cell_type": "markdown",
      "metadata": {}
    },
    {
      "cell_type": "code",
      "execution_count": 35,
      "metadata": {},
      "outputs": [
        {
          "output_type": "execute_result",
          "data": {
            "text/plain": [
              "1525100400"
            ]
          },
          "metadata": {},
          "execution_count": 35
        }
      ],
      "source": [
        "import datetime\n",
        "import time\n",
        "d = datetime.datetime(2018, 5, 1, 0, 0, 0) # 2018/05/01 のエポック秒\n",
        "int(time.mktime(d.timetuple()))"
      ]
    },
    {
      "source": [
        "一週間の秒数から、区切りの境界になるエポック秒をリスト化します。\n"
      ],
      "cell_type": "markdown",
      "metadata": {}
    },
    {
      "cell_type": "code",
      "execution_count": 41,
      "metadata": {},
      "outputs": [
        {
          "output_type": "stream",
          "name": "stdout",
          "text": [
            "[1525132800, 1525737600, 1526342400, 1526947200, 1527552000, 1528156800, 1528761600, 1529366400, 1529971200, 1530576000, 1531180800, 1531785600, 1532390400, 1532995200, 1533600000, 1534204800, 1534809600, 1535414400, 1536019200, 1536624000, 1537228800]\n"
          ]
        }
      ],
      "source": [
        "epoch_of_week = 7 * 24 * 60 * 60\n",
        "bins = [1525132800 + i * epoch_of_week for i in range(0, 21)]\n",
        "print(bins)\n"
      ]
    },
    {
      "source": [
        "<div class=\"alert alert-info\">\n",
        "\n",
        "ビン分割（ビニング処理）\n",
        "\n",
        "連続値を任意の境界値で区切りカテゴリ分けして離散値に変換する処理のこと\n",
        "\n",
        "</div>\n",
        "\n",
        "Pandasでは、`pd.cut()`でビン分割します。ラベルは、第１週を1とします。"
      ],
      "cell_type": "markdown",
      "metadata": {}
    },
    {
      "cell_type": "code",
      "execution_count": 43,
      "metadata": {},
      "outputs": [
        {
          "output_type": "execute_result",
          "data": {
            "text/plain": [
              "      name                date  problem  point       epoch  week\n",
              "769  Chloe 2018-09-09 12:01:00      187      1  1536494460    19\n",
              "770  Chloe 2018-09-09 12:14:00      166      1  1536495240    19\n",
              "771  Chloe 2018-09-17 10:32:00      132      1  1537180320    20\n",
              "772  Chloe 2018-09-17 10:35:00      133      0  1537180500    20\n",
              "773  Chloe 2018-09-17 10:37:00      132      1  1537180620    20"
            ],
            "text/html": "<div>\n<style scoped>\n    .dataframe tbody tr th:only-of-type {\n        vertical-align: middle;\n    }\n\n    .dataframe tbody tr th {\n        vertical-align: top;\n    }\n\n    .dataframe thead th {\n        text-align: right;\n    }\n</style>\n<table border=\"1\" class=\"dataframe\">\n  <thead>\n    <tr style=\"text-align: right;\">\n      <th></th>\n      <th>name</th>\n      <th>date</th>\n      <th>problem</th>\n      <th>point</th>\n      <th>epoch</th>\n      <th>week</th>\n    </tr>\n  </thead>\n  <tbody>\n    <tr>\n      <th>769</th>\n      <td>Chloe</td>\n      <td>2018-09-09 12:01:00</td>\n      <td>187</td>\n      <td>1</td>\n      <td>1536494460</td>\n      <td>19</td>\n    </tr>\n    <tr>\n      <th>770</th>\n      <td>Chloe</td>\n      <td>2018-09-09 12:14:00</td>\n      <td>166</td>\n      <td>1</td>\n      <td>1536495240</td>\n      <td>19</td>\n    </tr>\n    <tr>\n      <th>771</th>\n      <td>Chloe</td>\n      <td>2018-09-17 10:32:00</td>\n      <td>132</td>\n      <td>1</td>\n      <td>1537180320</td>\n      <td>20</td>\n    </tr>\n    <tr>\n      <th>772</th>\n      <td>Chloe</td>\n      <td>2018-09-17 10:35:00</td>\n      <td>133</td>\n      <td>0</td>\n      <td>1537180500</td>\n      <td>20</td>\n    </tr>\n    <tr>\n      <th>773</th>\n      <td>Chloe</td>\n      <td>2018-09-17 10:37:00</td>\n      <td>132</td>\n      <td>1</td>\n      <td>1537180620</td>\n      <td>20</td>\n    </tr>\n  </tbody>\n</table>\n</div>"
          },
          "metadata": {},
          "execution_count": 43
        }
      ],
      "source": [
        "data['week'] = pd.cut(data['epoch'], bins, labels=list(range(1,21))).astype(int)\n",
        "data"
      ]
    },
    {
      "source": [
        "### クロス集計\n",
        "\n",
        "週単位でビン分割できたので、各週ごとの集計ができるようになりました。\n",
        "\n",
        "__週ごとの得点集計__"
      ],
      "cell_type": "markdown",
      "metadata": {}
    },
    {
      "cell_type": "code",
      "execution_count": 49,
      "metadata": {},
      "outputs": [
        {
          "output_type": "execute_result",
          "data": {
            "text/plain": [
              "week\n",
              "1     147\n",
              "2     108\n",
              "3      22\n",
              "4      25\n",
              "5      17\n",
              "6      16\n",
              "7      28\n",
              "8      15\n",
              "9       9\n",
              "10     12\n",
              "11     10\n",
              "12     15\n",
              "13      8\n",
              "14     18\n",
              "15      8\n",
              "16     28\n",
              "17      3\n",
              "19      3\n",
              "20      2\n",
              "Name: point, dtype: int64"
            ]
          },
          "metadata": {},
          "execution_count": 49
        }
      ],
      "source": [
        "data.groupby('week')['point'].sum()"
      ]
    },
    {
      "source": [
        "ピボット表を用いると横軸も指定できます。\n",
        "\n",
        "__各週ごとに各個人の得点集計__"
      ],
      "cell_type": "markdown",
      "metadata": {}
    },
    {
      "source": [
        "pd.pivot_table(data, index=\"week\", columns=\"name\", values=\"point\", aggfunc=sum)"
      ],
      "cell_type": "code",
      "metadata": {},
      "execution_count": 51,
      "outputs": [
        {
          "output_type": "execute_result",
          "data": {
            "text/plain": [
              "name  Adalynn  Chloe  Maria  Victoria   Zoe\n",
              "week                                       \n",
              "1         3.0   32.0   27.0      67.0  18.0\n",
              "2         4.0   15.0   19.0      43.0  27.0\n",
              "3         6.0    5.0    3.0       3.0   5.0\n",
              "4         1.0   13.0    4.0       6.0   1.0\n",
              "5         4.0    9.0    2.0       NaN   2.0\n",
              "6         3.0    2.0    1.0       NaN  10.0\n",
              "7         3.0   11.0    3.0       NaN  11.0\n",
              "8         3.0    2.0    4.0       NaN   6.0\n",
              "9         4.0    1.0    NaN       NaN   4.0\n",
              "10        4.0    7.0    NaN       NaN   1.0\n",
              "11        4.0    1.0    3.0       NaN   2.0\n",
              "12        5.0    3.0    2.0       4.0   1.0\n",
              "13        5.0    1.0    NaN       NaN   2.0\n",
              "14       15.0    0.0    0.0       0.0   3.0\n",
              "15        4.0    4.0    NaN       NaN   NaN\n",
              "16        1.0   10.0    7.0       NaN  10.0\n",
              "17        NaN    3.0    NaN       NaN   NaN\n",
              "19        NaN    3.0    NaN       NaN   NaN\n",
              "20        NaN    2.0    NaN       NaN   NaN"
            ],
            "text/html": "<div>\n<style scoped>\n    .dataframe tbody tr th:only-of-type {\n        vertical-align: middle;\n    }\n\n    .dataframe tbody tr th {\n        vertical-align: top;\n    }\n\n    .dataframe thead th {\n        text-align: right;\n    }\n</style>\n<table border=\"1\" class=\"dataframe\">\n  <thead>\n    <tr style=\"text-align: right;\">\n      <th>name</th>\n      <th>Adalynn</th>\n      <th>Chloe</th>\n      <th>Maria</th>\n      <th>Victoria</th>\n      <th>Zoe</th>\n    </tr>\n    <tr>\n      <th>week</th>\n      <th></th>\n      <th></th>\n      <th></th>\n      <th></th>\n      <th></th>\n    </tr>\n  </thead>\n  <tbody>\n    <tr>\n      <th>1</th>\n      <td>3.0</td>\n      <td>32.0</td>\n      <td>27.0</td>\n      <td>67.0</td>\n      <td>18.0</td>\n    </tr>\n    <tr>\n      <th>2</th>\n      <td>4.0</td>\n      <td>15.0</td>\n      <td>19.0</td>\n      <td>43.0</td>\n      <td>27.0</td>\n    </tr>\n    <tr>\n      <th>3</th>\n      <td>6.0</td>\n      <td>5.0</td>\n      <td>3.0</td>\n      <td>3.0</td>\n      <td>5.0</td>\n    </tr>\n    <tr>\n      <th>4</th>\n      <td>1.0</td>\n      <td>13.0</td>\n      <td>4.0</td>\n      <td>6.0</td>\n      <td>1.0</td>\n    </tr>\n    <tr>\n      <th>5</th>\n      <td>4.0</td>\n      <td>9.0</td>\n      <td>2.0</td>\n      <td>NaN</td>\n      <td>2.0</td>\n    </tr>\n    <tr>\n      <th>6</th>\n      <td>3.0</td>\n      <td>2.0</td>\n      <td>1.0</td>\n      <td>NaN</td>\n      <td>10.0</td>\n    </tr>\n    <tr>\n      <th>7</th>\n      <td>3.0</td>\n      <td>11.0</td>\n      <td>3.0</td>\n      <td>NaN</td>\n      <td>11.0</td>\n    </tr>\n    <tr>\n      <th>8</th>\n      <td>3.0</td>\n      <td>2.0</td>\n      <td>4.0</td>\n      <td>NaN</td>\n      <td>6.0</td>\n    </tr>\n    <tr>\n      <th>9</th>\n      <td>4.0</td>\n      <td>1.0</td>\n      <td>NaN</td>\n      <td>NaN</td>\n      <td>4.0</td>\n    </tr>\n    <tr>\n      <th>10</th>\n      <td>4.0</td>\n      <td>7.0</td>\n      <td>NaN</td>\n      <td>NaN</td>\n      <td>1.0</td>\n    </tr>\n    <tr>\n      <th>11</th>\n      <td>4.0</td>\n      <td>1.0</td>\n      <td>3.0</td>\n      <td>NaN</td>\n      <td>2.0</td>\n    </tr>\n    <tr>\n      <th>12</th>\n      <td>5.0</td>\n      <td>3.0</td>\n      <td>2.0</td>\n      <td>4.0</td>\n      <td>1.0</td>\n    </tr>\n    <tr>\n      <th>13</th>\n      <td>5.0</td>\n      <td>1.0</td>\n      <td>NaN</td>\n      <td>NaN</td>\n      <td>2.0</td>\n    </tr>\n    <tr>\n      <th>14</th>\n      <td>15.0</td>\n      <td>0.0</td>\n      <td>0.0</td>\n      <td>0.0</td>\n      <td>3.0</td>\n    </tr>\n    <tr>\n      <th>15</th>\n      <td>4.0</td>\n      <td>4.0</td>\n      <td>NaN</td>\n      <td>NaN</td>\n      <td>NaN</td>\n    </tr>\n    <tr>\n      <th>16</th>\n      <td>1.0</td>\n      <td>10.0</td>\n      <td>7.0</td>\n      <td>NaN</td>\n      <td>10.0</td>\n    </tr>\n    <tr>\n      <th>17</th>\n      <td>NaN</td>\n      <td>3.0</td>\n      <td>NaN</td>\n      <td>NaN</td>\n      <td>NaN</td>\n    </tr>\n    <tr>\n      <th>19</th>\n      <td>NaN</td>\n      <td>3.0</td>\n      <td>NaN</td>\n      <td>NaN</td>\n      <td>NaN</td>\n    </tr>\n    <tr>\n      <th>20</th>\n      <td>NaN</td>\n      <td>2.0</td>\n      <td>NaN</td>\n      <td>NaN</td>\n      <td>NaN</td>\n    </tr>\n  </tbody>\n</table>\n</div>"
          },
          "metadata": {},
          "execution_count": 51
        }
      ]
    },
    {
      "source": [
        "軸を変えてみましょう。\n",
        "縦軸を個人ごとに変更し、横軸に各問題ごとの解答状況を並べてみます。\n"
      ],
      "cell_type": "markdown",
      "metadata": {}
    },
    {
      "cell_type": "code",
      "execution_count": 52,
      "metadata": {},
      "outputs": [
        {
          "output_type": "execute_result",
          "data": {
            "text/plain": [
              "problem   1    2    3    4    5    6    7    8    9    10   ...  122  125  \\\n",
              "name                                                        ...             \n",
              "Adalynn   1.0  1.0  1.0  1.0  1.0  1.0  1.0  1.0  1.0  1.0  ...  NaN  NaN   \n",
              "Chloe     1.0  1.0  1.0  1.0  1.0  1.0  1.0  1.0  1.0  1.0  ...  NaN  1.0   \n",
              "Maria     1.0  1.0  1.0  1.0  1.0  1.0  1.0  1.0  1.0  1.0  ...  NaN  NaN   \n",
              "Victoria  1.0  1.0  1.0  1.0  1.0  1.0  1.0  1.0  1.0  1.0  ...  NaN  NaN   \n",
              "Zoe       1.0  1.0  1.0  1.0  1.0  1.0  1.0  1.0  1.0  1.0  ...  1.0  NaN   \n",
              "\n",
              "problem   132  133  137  151  162  163  166  187  \n",
              "name                                              \n",
              "Adalynn   NaN  NaN  NaN  NaN  NaN  NaN  NaN  NaN  \n",
              "Chloe     1.0  0.0  0.0  1.0  1.0  1.0  1.0  1.0  \n",
              "Maria     NaN  NaN  NaN  NaN  NaN  NaN  NaN  NaN  \n",
              "Victoria  NaN  NaN  NaN  NaN  NaN  NaN  NaN  NaN  \n",
              "Zoe       NaN  NaN  NaN  NaN  NaN  NaN  NaN  NaN  \n",
              "\n",
              "[5 rows x 117 columns]"
            ],
            "text/html": "<div>\n<style scoped>\n    .dataframe tbody tr th:only-of-type {\n        vertical-align: middle;\n    }\n\n    .dataframe tbody tr th {\n        vertical-align: top;\n    }\n\n    .dataframe thead th {\n        text-align: right;\n    }\n</style>\n<table border=\"1\" class=\"dataframe\">\n  <thead>\n    <tr style=\"text-align: right;\">\n      <th>problem</th>\n      <th>1</th>\n      <th>2</th>\n      <th>3</th>\n      <th>4</th>\n      <th>5</th>\n      <th>6</th>\n      <th>7</th>\n      <th>8</th>\n      <th>9</th>\n      <th>10</th>\n      <th>...</th>\n      <th>122</th>\n      <th>125</th>\n      <th>132</th>\n      <th>133</th>\n      <th>137</th>\n      <th>151</th>\n      <th>162</th>\n      <th>163</th>\n      <th>166</th>\n      <th>187</th>\n    </tr>\n    <tr>\n      <th>name</th>\n      <th></th>\n      <th></th>\n      <th></th>\n      <th></th>\n      <th></th>\n      <th></th>\n      <th></th>\n      <th></th>\n      <th></th>\n      <th></th>\n      <th></th>\n      <th></th>\n      <th></th>\n      <th></th>\n      <th></th>\n      <th></th>\n      <th></th>\n      <th></th>\n      <th></th>\n      <th></th>\n      <th></th>\n    </tr>\n  </thead>\n  <tbody>\n    <tr>\n      <th>Adalynn</th>\n      <td>1.0</td>\n      <td>1.0</td>\n      <td>1.0</td>\n      <td>1.0</td>\n      <td>1.0</td>\n      <td>1.0</td>\n      <td>1.0</td>\n      <td>1.0</td>\n      <td>1.0</td>\n      <td>1.0</td>\n      <td>...</td>\n      <td>NaN</td>\n      <td>NaN</td>\n      <td>NaN</td>\n      <td>NaN</td>\n      <td>NaN</td>\n      <td>NaN</td>\n      <td>NaN</td>\n      <td>NaN</td>\n      <td>NaN</td>\n      <td>NaN</td>\n    </tr>\n    <tr>\n      <th>Chloe</th>\n      <td>1.0</td>\n      <td>1.0</td>\n      <td>1.0</td>\n      <td>1.0</td>\n      <td>1.0</td>\n      <td>1.0</td>\n      <td>1.0</td>\n      <td>1.0</td>\n      <td>1.0</td>\n      <td>1.0</td>\n      <td>...</td>\n      <td>NaN</td>\n      <td>1.0</td>\n      <td>1.0</td>\n      <td>0.0</td>\n      <td>0.0</td>\n      <td>1.0</td>\n      <td>1.0</td>\n      <td>1.0</td>\n      <td>1.0</td>\n      <td>1.0</td>\n    </tr>\n    <tr>\n      <th>Maria</th>\n      <td>1.0</td>\n      <td>1.0</td>\n      <td>1.0</td>\n      <td>1.0</td>\n      <td>1.0</td>\n      <td>1.0</td>\n      <td>1.0</td>\n      <td>1.0</td>\n      <td>1.0</td>\n      <td>1.0</td>\n      <td>...</td>\n      <td>NaN</td>\n      <td>NaN</td>\n      <td>NaN</td>\n      <td>NaN</td>\n      <td>NaN</td>\n      <td>NaN</td>\n      <td>NaN</td>\n      <td>NaN</td>\n      <td>NaN</td>\n      <td>NaN</td>\n    </tr>\n    <tr>\n      <th>Victoria</th>\n      <td>1.0</td>\n      <td>1.0</td>\n      <td>1.0</td>\n      <td>1.0</td>\n      <td>1.0</td>\n      <td>1.0</td>\n      <td>1.0</td>\n      <td>1.0</td>\n      <td>1.0</td>\n      <td>1.0</td>\n      <td>...</td>\n      <td>NaN</td>\n      <td>NaN</td>\n      <td>NaN</td>\n      <td>NaN</td>\n      <td>NaN</td>\n      <td>NaN</td>\n      <td>NaN</td>\n      <td>NaN</td>\n      <td>NaN</td>\n      <td>NaN</td>\n    </tr>\n    <tr>\n      <th>Zoe</th>\n      <td>1.0</td>\n      <td>1.0</td>\n      <td>1.0</td>\n      <td>1.0</td>\n      <td>1.0</td>\n      <td>1.0</td>\n      <td>1.0</td>\n      <td>1.0</td>\n      <td>1.0</td>\n      <td>1.0</td>\n      <td>...</td>\n      <td>1.0</td>\n      <td>NaN</td>\n      <td>NaN</td>\n      <td>NaN</td>\n      <td>NaN</td>\n      <td>NaN</td>\n      <td>NaN</td>\n      <td>NaN</td>\n      <td>NaN</td>\n      <td>NaN</td>\n    </tr>\n  </tbody>\n</table>\n<p>5 rows × 117 columns</p>\n</div>"
          },
          "metadata": {},
          "execution_count": 52
        }
      ],
      "source": [
        "pd.pivot_table(data, index='name', columns='problem', values='point', aggfunc=max)"
      ]
    },
    {
      "source": [
        "少し早足でしたが、時系列データを参考にクロス集計を試してみました。\n",
        "パラメータを変更しながら、どのように変わるかみて、理解を深めてください。"
      ],
      "cell_type": "markdown",
      "metadata": {}
    },
    {
      "source": [
        "## コースワーク\n",
        "\n",
        "コースワークは、pandasを使ったデータ操作の練習です。\n",
        "\n",
        "<div class=\"admonition tip\">\n",
        "\n",
        "**演習（BMI.CSV）**\n",
        "\n",
        "野球選手(B)、サッカー選手(F)、相撲(W)に関するCSVファイルをまとめ、\n",
        "次の属性からなるCSVファイルにしよう。\n",
        "\n",
        "```\n",
        "名前    身長    体重    職業    BMI\n",
        "```\n",
        "\n",
        "1. `職業`は、野球選手`B`、サッカー`F`、相撲`W`とする\n",
        "2. `BMI` は`身長`と`体重`から計算する\n",
        "3. 身長の高い順にソートして、`bmi.csv`として保存する\n",
        "4. 各職業ごとに、`身長`と`体重`の分布図を描画する\n",
        "5. 各職業ごとにグループ集約し、身長と体重の統計量を求める\n",
        "\n",
        "</div>\n",
        "\n",
        "__データの入手先__\n",
        "\n",
        "鈴木 雅也、渡辺 将人、井上 史斗.\n",
        "「[数式をプログラムするってつまりこういうこと](https://github.com/massongit/math-program-book)」より、公開データを使わせてもらいます。\n",
        "\n",
        "データをダウンロードするコマンド\n",
        "```\n",
        "!wget https://raw.githubusercontent.com/massongit/math-program-book/master/9_data/サッカー/Jリーグ選手身長体重.csv\n",
        "!wget https://raw.githubusercontent.com/massongit/math-program-book/master/9_data/プロ野球/プロ野球選手身長体重.csv\n",
        "!wget https://raw.githubusercontent.com/massongit/math-program-book/master/9_data/相撲/力士身長体重.csv\n",
        "```\n",
        "\n",
        "\n"
      ],
      "cell_type": "markdown",
      "metadata": {}
    }
  ]
}