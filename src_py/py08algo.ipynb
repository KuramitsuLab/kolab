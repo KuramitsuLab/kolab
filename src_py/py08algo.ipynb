{
 "metadata": {
  "language_info": {
   "codemirror_mode": {
    "name": "ipython",
    "version": 3
   },
   "file_extension": ".py",
   "mimetype": "text/x-python",
   "name": "python",
   "nbconvert_exporter": "python",
   "pygments_lexer": "ipython3",
   "version": "3.9.1-final"
  },
  "orig_nbformat": 2,
  "kernelspec": {
   "name": "python3",
   "display_name": "Python 3",
   "language": "python"
  }
 },
 "nbformat": 4,
 "nbformat_minor": 2,
 "cells": [
  {
   "source": [
    "# アルゴリズムを学ぶ\n",
    "\n",
    "いよいよアルゴリズム編に本格的に入っていきます。\n",
    "\n"
   ],
   "cell_type": "markdown",
   "metadata": {}
  },
  {
   "source": [
    "## アルゴリズムとは？\n",
    "\n",
    "アルゴリズムとは、問題を解くための手順のことです。\n",
    "もともと、9 世紀のバグダットの数学者アル・フワーリズミー (Al-Khwarizmi) 著の「インド数の計算法 (Algoritmi de numero Indorum)」が、12 世紀のヨーロッパに伝わり、長らくヨーロッパの大学の教科書となっていたことに由来しています。\n",
    "\n",
    "現在では、数学、計算機科学、情報学の分野において、特にコンピュータを用いた問題解法の学問となっています。\n",
    "最高な"
   ],
   "cell_type": "markdown",
   "metadata": {}
  },
  {
   "source": [
    "### 世界最古のアルゴリズム\n",
    "\n",
    "アルゴリズムはたとえ名称が耳新しいとしても、全く未知なものではありません。\n",
    "\n",
    "みなさんが、高校生のときに習った**ユークリッドの互除法**は、世界最古のアルゴリズムと呼ばれ、代表的なアルゴリズムとなっています。\n",
    "\n",
    "<div class=\"alert alert-info\">\n",
    "\n",
    "ユークリッドの互除法\n",
    "\n",
    "自然数 $u, v$ の最大公約数は、次の手順で求められる。\n",
    "\n",
    "1. $u$を$v$を割った商を$q$、余りを$r$とする\n",
    "2. $r = 0$ なら、$v$ を結果として終了する\n",
    "3. そうでなければ，$r$ を新たに $v$ として、元の $v$ を新たに $u$ として、**最初から繰り返す**\n",
    "\n",
    "</div>\n",
    "\n",
    "ユークリッドの互除法は、古代の数学者が発見し、古代ギリシア、アラビア、ルネッサンス・イタリアを通して、現在に伝わっています。このようにコンピュータが発明される以前からアルゴリズムは存在しています。\n",
    "\n"
   ],
   "cell_type": "markdown",
   "metadata": {}
  },
  {
   "source": [
    "### アルゴリズムとレシピ\n",
    "\n",
    "アルゴリズムは、プログラミングにとってレシピに例えられます。もしくは、アルゴリズムとは情報のレシピと呼ぶ人もいます。\n",
    "\n",
    "「カスタードクリームを作る」レシピを比較してみましょう。\n",
    "\n",
    "__カスタードクリームのレシピ__\n",
    "\n",
    "1. 卵黄、砂糖、小麦粉を火にかける\n",
    "2. スプーンを材料に浸す\n",
    "3. スプーンを引き出し、スプーンの裏側を指でなぞる\n",
    "4. もし跡がくっきりと残るなら、火を止めて冷やす\n",
    "5. そうでなければ、**2. から繰り返す**\n",
    "\n",
    "__似ている部分__\n",
    "1. アルゴリズムも料理のレシピも、どちらも順番があります。順番を間違えると、大惨事にな ります。\n",
    "2. ある条件を満たすまで「繰り返す(待つ)」ことがあります。 \n",
    "\n",
    "\n",
    "アルゴリズムも、料理のレシピも、どちらも自分でゼロから考えるのは大変です。\n",
    "先人や達人たちの知識を学ぶことで、プログラムや料理の腕があがります。\n",
    "\n",
    "### アルゴリズムの解き方\n",
    "\n",
    "実際に、ユークリッドの互除法を使って、問題を解いてみましょう。\n",
    "\n",
    "<div class=\"admonition tip\">\n",
    "\n",
    "**例題（最大公約数）**\n",
    "\n",
    "6215 と 4746 の最大公約数を求めよ。\n",
    "\n",
    "</div>\n"
   ],
   "cell_type": "markdown",
   "metadata": {}
  },
  {
   "source": [
    "#### 手計算\n",
    "\n",
    "皆さんは、ユークリッドの互除法を用いて、手計算で最大公約数を求めることができます。\n",
    "\n",
    "$$6215 = 4746 \\times 1 + 1469$$\n",
    "$$4746 = 1469 \\times 3 + 339$$\n",
    "$$1469 = 339 \\times 4 + 113$$\n",
    "$$339 = 113 \\times 3 + 0$$\n",
    "\n",
    "#### プログラミング\n",
    "\n",
    "さらに、今まで習ってきたプログラミング言語 (Python) を用いて、アルゴリズムをプログラミングすることもできるはずです。\n",
    "\n",
    "\n"
   ],
   "cell_type": "markdown",
   "metadata": {}
  },
  {
   "cell_type": "code",
   "execution_count": 1,
   "metadata": {},
   "outputs": [
    {
     "output_type": "execute_result",
     "data": {
      "text/plain": [
       "113"
      ]
     },
     "metadata": {},
     "execution_count": 1
    }
   ],
   "source": [
    "def gcd(u, v): \n",
    "    while True:\n",
    "        q = u // v\n",
    "        r=u % v \n",
    "        if r == 0:\n",
    "            return v\n",
    "        u,v = v,r \n",
    "\n",
    "gcd(6215, 4746)"
   ]
  },
  {
   "source": [
    "もしかしたら、math モジュールには gcd 関数が存在し、それをライブラリとして用いるだけで問題を解決することを知っているかもしれません。"
   ],
   "cell_type": "markdown",
   "metadata": {}
  },
  {
   "cell_type": "code",
   "execution_count": 2,
   "metadata": {},
   "outputs": [
    {
     "output_type": "execute_result",
     "data": {
      "text/plain": [
       "113"
      ]
     },
     "metadata": {},
     "execution_count": 2
    }
   ],
   "source": [
    " import math \n",
    " math.gcd(6215,4746)"
   ]
  },
  {
   "source": [
    "さて、最大公約数は、ここで示したどの方法を用いても、同じ正解に至ります。\n",
    "\n",
    "<div class=\"alert alert-info\">\n",
    "\n",
    "アルゴリズムの公平性\n",
    "\n",
    "アルゴリズムは、誰が計算しても同じ正解が得られる\n",
    "\n",
    "</div>"
   ],
   "cell_type": "markdown",
   "metadata": {}
  },
  {
   "source": [
    "### どう解くべきか？\n",
    "\n",
    "アルゴリズムは、コンピュータが発明される以前は、人間が手計算で計算していました。それ以外 方法がなかったからです。しかし、コンピュータが登場した現在では、人間の代わりにプログラミングして問題を解きます。人間が手計算で解くと、計算間違いなどをするため、**手計算で解く必然性は全くありません**。\n",
    "\n",
    "\n"
   ],
   "cell_type": "markdown",
   "metadata": {}
  },
  {
   "source": [
    "昔は、プログラミングという技法が低く見られることがありました。曰く：\n",
    "\n",
    "* プログラミングとは、(ユークリッドの互除法のような頭のよい人が考えた)アルゴリズムをコードに翻訳するだけの単純作業である\n",
    "* 本当に付加価値の高い重要な仕事はアルゴリズムを考えることにある \n",
    "\n",
    "この考え方は、半分あっています。確かに、**アルゴリズムを考えることが重要**です。\n",
    "\n",
    "現代社会の中で活躍しているアルゴリズムの多くは、コンピュータが登場した以降に、計算機科学者やエンジニアがプログラミングしながら考案したものです。プログラミングという技法を用いなければ生まれなかったでしょう。\n",
    "\n",
    "<div class=\"alert alert-info\">\n",
    "\n",
    "プログラミング\n",
    "\n",
    "アルゴリズムを考えるための思考の道具\n",
    "\n",
    "</div>\n",
    "\n",
    "プログラミング力とアルゴリズム力は、車輪の両輪です。アルゴリズムだけ暗記科目として覚える必要は全くありません。自分でアルゴリズムをプログラミングしてみないと理解できないこともあります。是非、アルゴリズムをプログラミングしながら、思考力を高めていきましょう。\n",
    "      \n",
    "\n"
   ],
   "cell_type": "markdown",
   "metadata": {}
  },
  {
   "source": [
    "## アルゴリズムの特徴\n",
    "\n",
    "アルゴリズムは、問題の解法です。\n",
    "\n",
    "\n",
    "<div class=\"admonition tip\">\n",
    "\n",
    "**例題（４整数の和）**\n",
    "\n",
    "0より大きい整数$a,b,c,d$の組で次の満たす数を求めよ\n",
    "\n",
    "$$a+b+c+d=n$$\n",
    "\n",
    "__例:__ $n$ が 35 のとき、$(a,b,c,d)$ の組み合わせは $(8,9,9,9)$、$(9,8,9,9)$、$(9,9,8,9)$、$(9,9,9,8)$ の $4$通り\n",
    "</div>\n",
    "\n",
    "コンピュータは、全ての組み合わせを計算することは得意です。"
   ],
   "cell_type": "markdown",
   "metadata": {}
  },
  {
   "source": [
    "解放して## 見本\n",
    "\n",
    "<div class=\"alert alert-info\">\n",
    "\n",
    "Let's try\n",
    "\n",
    "`2 ** (1//2)` が、正しく $\\sqrt{2}$ にならない理由を考えてみよう\n",
    "\n",
    "</div>\n",
    "\n",
    "まずは、リストを使わなくても解ける問題ですが、リストの練習を兼ねて解いてみましょう。\n",
    "\n",
    "### 平均点\n",
    "\n",
    "<div class=\"admonition tip\">\n",
    "\n",
    "**例題（平均点）**\n",
    "\n",
    "期末試験は5人受験した。\n",
    "点数が40点未満の生徒は全員，補習を受け，成績が40点になった。\n",
    "5人の平均点を求めよ。\n",
    "\n",
    "入力例：\n",
    "```\n",
    "10\n",
    "65\n",
    "100\n",
    "30\n",
    "95\n",
    "```\n",
    "\n",
    "出力例：\n",
    "```\n",
    "68\n",
    "```\n",
    "\n",
    "[AtCoder (JOI2014 予選)](https://atcoder.jp/contests/joi2014yo/tasks/joi2014yo_a)\n",
    "\n",
    "</div>\n",
    "\n",
    "__(解法) リストを使う場合__\n",
    "\n",
    "1. 期末試験を記録する空の得点リスト `scores` を用意する\n",
    "2. 5人分繰り返し、点数を読んで、`scores` に追加する \n",
    "3. 平均点は `sum(scores) // 5`\n",
    "\n",
    "\n",
    "\n",
    "|Python|説明|\n",
    "|--------|-------------|\n",
    "|`max(a)`|数列`a`の最大値|\n",
    "|`min(a)`|数列`a`の最小値|\n",
    "|`sum(a)`|数列`a`の合計値| \n"
   ],
   "cell_type": "markdown",
   "metadata": {}
  },
  {
   "source": [
    "## 演習問題\n",
    "\n",
    "\n",
    "* [A x B + C](https://atcoder.jp/contests/abc179/tasks/abc179_c)\n",
    "* [Gentle Pairs](https://atcoder.jp/contests/abc187/tasks/abc187_b): 組(タプル)を使いましょう\n",
    "* [アンラッキーな7](https://atcoder.jp/contests/abc186/tasks/abc186_c)\n",
    "\n",
    "* [81](https://atcoder.jp/contests/abc144/tasks/abc144_b)\n",
    "* [ケーキとドーナッツ](https://atcoder.jp/contests/abc105/tasks/abc105_b)\n",
    "* [コイン](https://atcoder.jp/contests/abc087/tasks/abc087_b)\n",
    "* [三角形を作る](https://atcoder.jp/contests/abc175/tasks/abc175_b)\n",
    "* [お年玉](https://atcoder.jp/contests/abc085/tasks/abc085_c): 探索範囲を狭める工夫が必要\n",
    "* [高橋君の情報](https://atcoder.jp/contests/abc088/tasks/abc088_c): 難しめ\n",
    "\n",
    "* [論理式](https://atcoder.jp/contests/abc189/tasks/abc189_d)\n",
    "* [8の倍数](https://atcoder.jp/contests/abc181/tasks/abc181_d)\n",
    "\n",
    "* [部分文字列](https://atcoder.jp/contests/abc177/tasks/abc177_b)\n",
    "https://atcoder.jp/contests/abc177/editorial\n",
    "* [とある総和](https://atcoder.jp/contests/abc083/tasks/abc083_b)\n",
    "* [回文数](https://atcoder.jp/contests/abc090/tasks/abc090_b)\n",
    "\n",
    "* [K進数](https://atcoder.jp/contests/abc156/tasks/abc156_b): 文字列問題か？"
   ],
   "cell_type": "markdown",
   "metadata": {}
  }
 ]
}