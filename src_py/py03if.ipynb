{
 "metadata": {
  "language_info": {
   "codemirror_mode": {
    "name": "ipython",
    "version": 3
   },
   "file_extension": ".py",
   "mimetype": "text/x-python",
   "name": "python",
   "nbconvert_exporter": "python",
   "pygments_lexer": "ipython3",
   "version": "3.9.2-final"
  },
  "orig_nbformat": 2,
  "kernelspec": {
   "name": "python3",
   "display_name": "Python 3.9.2 64-bit",
   "metadata": {
    "interpreter": {
     "hash": "ac2eaa0ea0ebeafcc7822e65e46aa9d4f966f30b695406963e145ea4a91cd4fc"
    }
   }
  }
 },
 "nbformat": 4,
 "nbformat_minor": 2,
 "cells": [
  {
   "source": [
    "# 条件によって動作を変える\n",
    "\n",
    "今回は、条件によってプログラムの動作を変える方法を学んでいきます。\n"
   ],
   "cell_type": "markdown",
   "metadata": {}
  },
  {
   "source": [
    "## 命題と論理式\n",
    "\n",
    "まずは、高校数学の復習です。 \n",
    "\n",
    "<div class=\"alert alert-info\">\n",
    "\n",
    "命題\n",
    "\n",
    "正しいか正しくないかを判定できる文や式\n",
    "\n",
    "</div>\n",
    "\n",
    "例\n",
    "\n",
    "* $3$は$2$より大きい\n",
    "* $3$は偶数である\n",
    "\n",
    "命題が正しいときを**真(true)**、間違っているときは**偽(false)**といいます。 \n",
    "\n",
    "だから、「$3$は$2$より大きい」は真ですが、「$3$は偶数である」は偽となります。\n",
    "\n"
   ],
   "cell_type": "markdown",
   "metadata": {}
  },
  {
   "source": [
    "Python では、論理式として命題を表現することができます。\n",
    "\n",
    "<div class=\"alert alert-info\">\n",
    "\n",
    "論理式：Python における命題\n",
    "\n",
    "評価すると論理値（`True` もしくは `False`）になる式\n",
    "</div>\n",
    "\n",
    "このような論理式を表現するため、次のような演算子を提供しています。\n",
    "\n",
    "| 数式  | Python  | 説明 | \n",
    "| ----- | ------- | ---- | \n",
    "| $x < y~~~~~$ | `x < y` | x は y より小さいかどうか | \n",
    "| $x \\le y$ | `x <= y` | x は y 以下かどうか | \n",
    "| $x > y$ | `x > y` | x は y より大きいかどうか | \n",
    "| $x \\ge y$ | `x >= y` | x は y 以上かどうか | \n",
    "| $x = y$ | `x == y` | x は y と等しいかどうか | \n",
    "| $x \\ne y$ | `x != y` | x は y と等しくないかどうか | \n",
    "| $x \\in y$ | `x in y` | x は y に含まれるかどうか | \n",
    "| $x \\not\\in y$ | `x not in y` | x は y に含まれないかどうか | \n",
    "| $x \\land y$ | `x and y` | x かつ y  | \n",
    "| $x \\lor y$ | `x or y` | x または y  | \n",
    "| $\\lnot x$ | `not x` | x の否定 | \n"
   ],
   "cell_type": "markdown",
   "metadata": {}
  },
  {
   "source": [
    "<div class=\"admonition tip\">\n",
    "\n",
    "**例題（論理式）**\n",
    "\n",
    "次の命題を論理式として評価してみよう。\n",
    "\n",
    "1. $3$は$2$より大きい\n",
    "2. $3$は偶数である\n",
    "3. $\\pi$は3より大きく、$3.18$より小さい (`from math import pi`)\n",
    "4. $121$は$11$の倍数でない\n",
    "5. 文字`\"e\"` は文字列`\"Hello\"`に含まれる\n",
    "\n",
    "</div>\n",
    "\n",
    "\n",
    "<img src=\"https://qiita-image-store.s3.ap-northeast-1.amazonaws.com/0/57754/0f9c2b8d-9b0b-e130-e4af-4a4b5c638549.png\" align=\"right\"/>\n",
    "\n",
    "\n"
   ],
   "cell_type": "markdown",
   "metadata": {}
  },
  {
   "cell_type": "code",
   "execution_count": 1,
   "metadata": {},
   "outputs": [
    {
     "output_type": "execute_result",
     "data": {
      "text/plain": [
       "True"
      ]
     },
     "metadata": {},
     "execution_count": 1
    }
   ],
   "source": [
    "3 > 2"
   ]
  },
  {
   "cell_type": "code",
   "execution_count": 2,
   "metadata": {},
   "outputs": [
    {
     "output_type": "execute_result",
     "data": {
      "text/plain": [
       "False"
      ]
     },
     "metadata": {},
     "execution_count": 2
    }
   ],
   "source": [
    "3 % 2 == 0"
   ]
  },
  {
   "cell_type": "code",
   "execution_count": 3,
   "metadata": {},
   "outputs": [
    {
     "output_type": "execute_result",
     "data": {
      "text/plain": [
       "True"
      ]
     },
     "metadata": {},
     "execution_count": 3
    }
   ],
   "source": [
    "from math import pi\n",
    "3.0 < pi < 3.18"
   ]
  },
  {
   "cell_type": "code",
   "execution_count": 4,
   "metadata": {},
   "outputs": [
    {
     "output_type": "execute_result",
     "data": {
      "text/plain": [
       "False"
      ]
     },
     "metadata": {},
     "execution_count": 4
    }
   ],
   "source": [
    "121 % 11 != 0"
   ]
  },
  {
   "cell_type": "code",
   "execution_count": 5,
   "metadata": {},
   "outputs": [
    {
     "output_type": "execute_result",
     "data": {
      "text/plain": [
       "True"
      ]
     },
     "metadata": {},
     "execution_count": 5
    }
   ],
   "source": [
    "\"e\" in \"hello\""
   ]
  },
  {
   "source": [
    "<div class=\"alert alert-info\">\n",
    "\n",
    "形式論理学\n",
    "\n",
    "命題の概念は、[命題論理](https://ja.wikipedia.org/wiki/命題論理)につながっていき、\n",
    "コンピュータ上で論理や思考をプログラミングするとき重要になります。\n",
    "\n",
    "</div>"
   ],
   "cell_type": "markdown",
   "metadata": {}
  },
  {
   "source": [
    "## 条件分岐\n",
    "\n",
    "プログラムは、原則、上から順番に[A]→[B]のように評価してゆきます。\n",
    "\n",
    "![code_seq-fs8.png](https://qiita-image-store.s3.ap-northeast-1.amazonaws.com/0/57754/7b643ba4-a47c-8d36-6639-d85e1e1d5a78.png)\n",
    "\n",
    "しかし、**条件によっては、評価するプログラムを[X]か[Y]のように切り替えたい**ことがあります。\n",
    "そのようなときは、**if文と呼ばれる制御構造**を用います。\n",
    "\n",
    "![code_if-fs8.png](https://qiita-image-store.s3.ap-northeast-1.amazonaws.com/0/57754/555f7c9d-15b4-1d0b-e593-aa581b4ae16a.png)\n",
    "\n",
    "**if文**や条件分岐の考え方は難しいものではありません。\n",
    "しかし、Python には、インデントによってコードブロックを示すなど、\n",
    "独特なクセがあります。\n",
    "いくつか書き方のパターンを見て、書き方をマスターしましょう。\n",
    "\n",
    "<div class=\"alert alert-warning\">\n",
    "\n",
    "重要: **インデント（字下げ）**\n",
    "\n",
    "コードの前の空白をインデントといいます。\n",
    "（Python はインデントの深さでコードブロックの始まりと終わりを表ます。）\n",
    "\n",
    "</div>\n"
   ],
   "cell_type": "markdown",
   "metadata": {}
  },
  {
   "source": [
    "### 基本形\n",
    "\n",
    "まず簡単な例題をみながら、しくみと書き方を理解しましょう。\n",
    "\n",
    "<div class=\"admonition tip\">\n",
    "**例題(偶数と奇数)**\n",
    "\n",
    "整数値を入力から読み、\n",
    "偶数の場合は`even`, 奇数の場合は`odd`と表示しよう。\n",
    "\n",
    "入力\n",
    "```\n",
    "10\n",
    "```\n",
    "\n",
    "出力\n",
    "```\n",
    "even\n",
    "```\n",
    "\n",
    "</div>\n",
    "\n",
    "実際に、入力する値を変えて、結果の変化を試してみましょう。\n"
   ],
   "cell_type": "markdown",
   "metadata": {}
  },
  {
   "cell_type": "code",
   "execution_count": 6,
   "metadata": {},
   "outputs": [
    {
     "output_type": "stream",
     "name": "stdout",
     "text": [
      "even\n"
     ]
    }
   ],
   "source": [
    "# x = int(input()) \n",
    "x = 10\n",
    "\n",
    "if x % 2 == 0:\n",
    "\tprint(\"even\")\n",
    "else:\n",
    "\tprint(\"odd\")"
   ]
  },
  {
   "source": [
    "### 何も処理しない場合\n",
    "\n",
    "条件分岐したとき、一方は**何も処理しない場合**があります。\n",
    "\n",
    "Python では、「何も実行しない」というプログラムを意味する特殊な文として、\n",
    "`pass`文があります。トランプゲームの「パス」という同じです。\n",
    "だから、`print(\"odd\")`の代わりに`pass`にすると、何も実行されません。\n"
   ],
   "cell_type": "markdown",
   "metadata": {}
  },
  {
   "cell_type": "code",
   "execution_count": 7,
   "metadata": {},
   "outputs": [
    {
     "output_type": "stream",
     "name": "stdout",
     "text": [
      "even\n"
     ]
    }
   ],
   "source": [
    "# x = int(input())\n",
    "x = 10\n",
    "\n",
    "if x % 2 == 0:\n",
    "\tprint(\"even\")\n",
    "else:\n",
    "\tpass\n"
   ]
  },
  {
   "source": [
    "もうひとつ、`else:`自体は、何も実行しないときは省略できます。\n",
    "だから、省略しても構いません。（**こちらの書き方が好まれます。**）\n",
    "\n",
    "__else:を省略__"
   ],
   "cell_type": "markdown",
   "metadata": {}
  },
  {
   "cell_type": "code",
   "execution_count": 8,
   "metadata": {},
   "outputs": [
    {
     "output_type": "stream",
     "name": "stdout",
     "text": [
      "even\n"
     ]
    }
   ],
   "source": [
    "# a = int(input()) \n",
    "x = 10\n",
    "\n",
    "if x % 2 == 0:\n",
    "\tprint(\"even\")"
   ]
  },
  {
   "source": [
    "### ブロック：複数行のコードを処理する\n",
    "\n",
    "分岐処理によっては、分岐先で複数行のプログラムを評価したいことがあります。\n",
    "同じ深さのインデントが続くときは、コードブロック（つまり複文）として順次、評価されます。\n"
   ],
   "cell_type": "markdown",
   "metadata": {}
  },
  {
   "cell_type": "code",
   "execution_count": 9,
   "metadata": {},
   "outputs": [
    {
     "output_type": "stream",
     "name": "stdout",
     "text": [
      "***\n***\n***\n"
     ]
    }
   ],
   "source": [
    "# x = int(input()) \n",
    "x = 3\n",
    "\n",
    "if x % 2 != 0:\n",
    "\tprint(\"***\")\n",
    "\tprint(\"***\")\n",
    "\tprint(\"***\")\n"
   ]
  },
  {
   "source": [
    "ここはインデントによるコードブロックの書き方をしっかり理解しましょう。\n",
    "\n",
    "<div class=\"alert alert-warning\">\n",
    "\n",
    "コードブロックとインデントの深さ\n",
    "\n",
    "Pythonは、同じインデントの深さのコードをひとまとまりの処理（コードブロック）とします。\n",
    "次のように入れ子として書くことができます。\n",
    "\n",
    "```\n",
    "if a != 0:\n",
    "\tprint(a)\n",
    "\tif b != 0:\n",
    "\t\tprint(b)\n",
    "\t\tif c != 0:\n",
    "\t\t\tprint(c)\n",
    "\t\tprint(\"b\")\n",
    "\tprint(\"a\")\n",
    "print()\n",
    "```\n",
    "</div>\n"
   ],
   "cell_type": "markdown",
   "metadata": {}
  },
  {
   "source": [
    "### 複数の条件があるとき\n",
    "\n",
    "if文のブロックには、if文を書くことができます。\n",
    "これにより、より複雑なプログラムが書けるようになります。\n",
    "\n",
    "<div class=\"admonition tip\">\n",
    "**例題(複数の条件))**\n",
    "\n",
    "入力1行から空白で区切られた整数値a,bを読みます。\n",
    "aがbより大きければ`big`、 等しければ`same`、 \n",
    "そうでなければ `small`と表示しよう。\n",
    "\n",
    "入力\n",
    "```\n",
    "3 2\n",
    "```\n",
    "\n",
    "出力\n",
    "```\n",
    "big\n",
    "```\n",
    "</div>\n",
    "\n"
   ],
   "cell_type": "markdown",
   "metadata": {}
  },
  {
   "cell_type": "code",
   "execution_count": 10,
   "metadata": {},
   "outputs": [
    {
     "output_type": "stream",
     "name": "stdout",
     "text": [
      "big\n"
     ]
    }
   ],
   "source": [
    "#a, b = map(int, input().split())\n",
    "a, b = 3, 2\n",
    "\n",
    "if a > b:\n",
    "\tprint(\"big\")\n",
    "else:\n",
    "\tif a == b:\n",
    "\t\tprint(\"same\")\n",
    "\telse:\n",
    "\t\tprint(\"small\")\n"
   ]
  },
  {
   "source": [
    "`else:`のあとに、すぐに if文が続くときは、`elif`で書き直すことができます。\n"
   ],
   "cell_type": "markdown",
   "metadata": {}
  },
  {
   "cell_type": "code",
   "execution_count": 11,
   "metadata": {},
   "outputs": [
    {
     "output_type": "stream",
     "name": "stdout",
     "text": [
      "big\n"
     ]
    }
   ],
   "source": [
    "#a, b = map(int, input().split())\n",
    "a, b = 3, 2\n",
    "\n",
    "if a > b:\n",
    "\tprint(\"big\")\n",
    "elif a == b:\n",
    "\tprint(\"same\")\n",
    "else:\n",
    "\tprint(\"small\")"
   ]
  },
  {
   "source": [
    "<div class=\"alert alert-warning\">\n",
    "\n",
    "よくある望ましくない例（あまり効率のよくない書き方）\n",
    "\n",
    "__何度も条件分岐をする__\n",
    "```\n",
    "if a > b:\n",
    "\tprint(\"big\")\n",
    "if a == b:\n",
    "\tprint(\"same\")\n",
    "if a < b:\n",
    "\tprint(\"small\")\n",
    "```\n",
    "\n",
    "__最後がelifで終わっている__\n",
    "\n",
    "```\n",
    "if a > b:\n",
    "\tprint(\"big\")\n",
    "elif a == b:\n",
    "\tprint(\"same\")\n",
    "elif a < b:\n",
    "\tprint(\"small\")\n",
    "```\n",
    "</div>"
   ],
   "cell_type": "markdown",
   "metadata": {}
  },
  {
   "source": [
    "## 条件式（三項演算子）\n",
    "\n",
    "Pythonでも、if文を条件式として1行に書くことができます。\n",
    "\n",
    "```\n",
    "＜真のときの式＞ if ＜論理式＞ else ＜偽のときの式＞\n",
    "```\n",
    "\n",
    "<div class=\"alert alert-info\">\n",
    "\n",
    "三項演算子\n",
    "\n",
    "if式は、C/C++やJavaの**三項演算子**に相当します。\n",
    "\n",
    "__三項演算子の場合__\n",
    "\n",
    "```\n",
    "＜論理式＞ ? ＜真のときの式＞ : ＜偽のときの式＞\n",
    "```\n",
    "\n",
    "</div>\n",
    "\n",
    "\n",
    "<div class=\"admonition tip\">\n",
    "**例題(条件式)**\n",
    "\n",
    "入力1行から空白で区切られた整数値a,bを読みます。\n",
    "aとbを比較して大きい値を表示しよう。\n",
    "\n",
    "入力\n",
    "```\n",
    "3 2\n",
    "```\n",
    "\n",
    "出力\n",
    "```\n",
    "3\n",
    "```\n",
    "</div>\n",
    "\n",
    "\n",
    "__if式で書いた例__"
   ],
   "cell_type": "markdown",
   "metadata": {}
  },
  {
   "cell_type": "code",
   "execution_count": 12,
   "metadata": {},
   "outputs": [
    {
     "output_type": "stream",
     "name": "stdout",
     "text": [
      "3\n"
     ]
    }
   ],
   "source": [
    "#a, b = map(int, input().split())\n",
    "a, b = 3, 2\n",
    "\n",
    "print(a if a > b else b)\n"
   ]
  },
  {
   "source": [
    "if式（三項演算子）は、ソースコードが冗長になるのを防いでコンパクトに書くことができます。\n",
    "ぜひ、積極的に利用してみましょう。\n",
    "\n",
    "__if文で書いた例(冗長な書き方）__\n"
   ],
   "cell_type": "markdown",
   "metadata": {}
  },
  {
   "cell_type": "code",
   "execution_count": 13,
   "metadata": {},
   "outputs": [
    {
     "output_type": "stream",
     "name": "stdout",
     "text": [
      "3\n"
     ]
    }
   ],
   "source": [
    "# a, b = map(int, input().split())\n",
    "a, b = 3, 2\n",
    "\n",
    "if a > b:\n",
    "\tprint(a)\n",
    "else:\n",
    "\tprint(b)"
   ]
  },
  {
   "source": [
    "## 繰り返し\n",
    "\n",
    "\n",
    "\n",
    "### while文\n",
    "\n",
    "while文は、特殊な条件分岐の構文になります。\n",
    "if文の代わりに、while文を用いると、\n",
    "**条件PがTrueの間は`[X]`を繰り返し**ます。\n",
    "\n",
    "![code_while-fs8.png](https://qiita-image-store.s3.ap-northeast-1.amazonaws.com/0/57754/975ed466-4bfa-9560-230a-faa0a09f97e1.png)\n",
    "\n"
   ],
   "cell_type": "markdown",
   "metadata": {}
  },
  {
   "source": [
    "__while文__: 条件を満たす限り、繰り返す"
   ],
   "cell_type": "markdown",
   "metadata": {}
  },
  {
   "cell_type": "code",
   "execution_count": 14,
   "metadata": {},
   "outputs": [
    {
     "output_type": "stream",
     "name": "stdout",
     "text": [
      "5\n4\n3\n2\n1\n"
     ]
    }
   ],
   "source": [
    "a = 5\n",
    "while a > 0:\n",
    "    print(a)\n",
    "    a = a - 1"
   ]
  },
  {
   "source": [
    "ちなみに、「if文は条件を満たせば、高々１回実行される」構造でした。"
   ],
   "cell_type": "markdown",
   "metadata": {}
  },
  {
   "cell_type": "code",
   "execution_count": 15,
   "metadata": {},
   "outputs": [
    {
     "output_type": "stream",
     "name": "stdout",
     "text": [
      "5\n"
     ]
    }
   ],
   "source": [
    "a = 5\n",
    "if a > 0:\n",
    "    print(a)\n",
    "    a = a - 1\n"
   ]
  },
  {
   "source": [
    "<div class=\"alert alert-warning\">\n",
    "\n",
    "無限ループ\n",
    "\n",
    "while文の条件がいつまでも真で繰り返しが止まらなくなること\n",
    "\n",
    "</div>\n",
    "\n",
    "先程の例では、`while`文の中で`a = a - 1`が処理されないと、いつまでも`a > 0`になるため、無限ループになります。\n",
    "\n",
    "__無限ループの例__\n",
    "```\n",
    "a = 5\n",
    "while a > 0:\n",
    "    print(a)\n",
    "a = a - 1\n",
    "```\n",
    "\n",
    "無限ループは、頻繁に発生し、主要なバグの原因になります。アプリケーションが反応しなくなる不具合の原因は、ほとんどが「**予期しない無限ループに陥っている**」と言われています。`while`文を書くときは、無限ループにならないように注意して書かなければなりません。\n",
    "\n",
    "\n",
    "<div class=\"alert alert-info\">\n",
    "\n",
    "防衛的プログラミング( Defensive Programming)\n",
    "\n",
    "ソフトウェア工学でより詳しく学びますが、\n",
    "バグや不具合が発生しないようにコードの書き方を選びます。\n",
    "（動けば良いというのは、20世紀のプログラミングです。）\n",
    "\n",
    "</div>\n"
   ],
   "cell_type": "markdown",
   "metadata": {}
  },
  {
   "source": [
    "### for文\n",
    "\n",
    "無限ループは、初学者から上級者まで発生させやすいバグの原因になります。\n",
    "解説を読んでいるときは、「そんなマヌケなコードは書きませんよ（絶対）」と笑っていても、\n",
    "結構、頻繁に発生させて凹みます。\n",
    "\n",
    "無限ループを避ける確実な手段は、`while`文を使わないことです。\n",
    "`for/in`文は、繰り返す回数を指定でき、無限ループを避ける確実な方法です。\n",
    "\n",
    "![code_for-fs8.png](https://qiita-image-store.s3.ap-northeast-1.amazonaws.com/0/57754/d30f935a-899a-e069-0132-5cc08e800487.png)\n",
    "\n",
    "__N回繰り返したいとき__\n",
    "```\n",
    "for i in range(N):\n",
    "    print(i) # 繰り返す処理\n",
    "```\n",
    "\n",
    "特別な事情がない場合は、繰り返しは`for`文を用いるようにしましょう。\n",
    "特に、`for i in range(N):`は、$N$回繰り返すときの定番の書き方です。\n",
    "\n",
    "<div class=\"alert alert-warning\">\n",
    "\n",
    "for 文の変数\n",
    "\n",
    "変数 `i`には0から始まる整数が繰り返しの回数分に割り当てられます。\n",
    "（リストと同じく**0 から始まります。**）\n",
    "</div>\n"
   ],
   "cell_type": "markdown",
   "metadata": {}
  },
  {
   "cell_type": "code",
   "execution_count": 16,
   "metadata": {},
   "outputs": [
    {
     "output_type": "stream",
     "name": "stdout",
     "text": [
      "0 \n1 *\n2 **\n3 ***\n4 ****\n5 *****\n6 ******\n7 *******\n8 ********\n9 *********\n"
     ]
    }
   ],
   "source": [
    "for i in range(10):\n",
    "    print(i, '*' * i)"
   ]
  },
  {
   "source": [
    "### シミュレーション\n",
    "\n",
    "シミュレーションは、1ステップずつ値を更新させながら、未来を予測する計算手法です。\n",
    "プログラミングの得意な分野のひとつとなっています。\n",
    "\n",
    "<div class=\"admonition tip\">\n",
    "\n",
    "**例題(お米)**\n",
    "\n",
    "お米は、一粒から1本の苗になります。\n",
    "苗は、10本の穂を実らせ、各稲穂には60粒のお米が実ります。\n",
    "つまり、1粒は1年後に600粒になります。\n",
    "\n",
    "1粒の稲を1億粒以上に増やすには、何年かかるか求めてみよう。\n",
    "\n",
    "</div>\n"
   ],
   "cell_type": "markdown",
   "metadata": {}
  },
  {
   "source": [
    "等比数列から計算してもよいですが、シミュレーション（繰り返し）で書いてみましょう。\n",
    "\n",
    "__while文で書いたとき__"
   ],
   "cell_type": "markdown",
   "metadata": {}
  },
  {
   "cell_type": "code",
   "execution_count": 17,
   "metadata": {},
   "outputs": [
    {
     "output_type": "stream",
     "name": "stdout",
     "text": [
      "3\n"
     ]
    }
   ],
   "source": [
    "START = 1\n",
    "GOAL = 1_0000_0000   # _位取り\n",
    "\n",
    "year = 0\n",
    "n = START\n",
    "\n",
    "while n < GOAL:\n",
    "    n = n * 600\n",
    "    year = year + 1\n",
    "\n",
    "print(year)\n"
   ]
  },
  {
   "source": [
    "for文で書くときは、少し大きめの繰り返し回数を指定し、\n",
    "条件を満たしたら、ループを抜ける`break`文を使います。\n",
    "\n"
   ],
   "cell_type": "markdown",
   "metadata": {}
  },
  {
   "cell_type": "code",
   "execution_count": 18,
   "metadata": {},
   "outputs": [
    {
     "output_type": "stream",
     "name": "stdout",
     "text": [
      "3\n"
     ]
    }
   ],
   "source": [
    "START = 1\n",
    "GOAL = 1_0000_0000   # _位取り\n",
    "n = START\n",
    "\n",
    "for year in range(1, 1000):\n",
    "    n = n * 600\n",
    "    if n >= GOAL:\n",
    "        break\n",
    "print(year)\n"
   ]
  },
  {
   "source": [
    "<div class=\"alert alert-info\">\n",
    "\n",
    "`break`文\n",
    "\n",
    "while文やfor文の繰り返しを強制的に抜け出す\n",
    "\n",
    "</div>\n"
   ],
   "cell_type": "markdown",
   "metadata": {}
  },
  {
   "source": [
    "## 演習問題\n",
    "\n",
    "繰り返しは、次回以降、リストや文字列とあわせて練習していきます。\n",
    "\n",
    "今回は、まず条件分岐に慣れましょう。少し予習で繰り返しも混ざっています。\n",
    "\n",
    "* [二つの数の間](https://atcoder.jp/contests/abc061/tasks/abc061_a)\n",
    "* [ブラックジャック](https://atcoder.jp/contests/abc147/tasks/abc147_a)\n",
    "* [七五三](https://atcoder.jp/contests/abc114/tasks/abc114_a)\n",
    "* [かわいそう](https://atcoder.jp/contests/abc155/tasks/abc155_a)\n",
    "* [猫と犬](https://atcoder.jp/contests/abc094/tasks/abc094_a)\n",
    "* [電源プラグ](https://atcoder.jp/contests/abc139/tasks/abc139_b)\n",
    "* [預金](https://atcoder.jp/contests/abc165/tasks/abc165_b): シミュレーションしてみましょう\n",
    "* [金色の効果](https://atcoder.jp/contests/abc160/tasks/abc160_b)\n",
    "* [３つの整数](https://atcoder.jp/contests/joi2020yo1a/tasks/joi2020_yo1a_a)\n",
    "* [成績](https://atcoder.jp/contests/joi2020yo1b/tasks/joi2020_yo1b_a)\n",
    "* [Xに最も近い値](https://atcoder.jp/contests/joi2020yo1c/tasks/joi2020_yo1c_a)\n",
    "* [消費税](https://atcoder.jp/contests/abc158/tasks/abc158_c)\n",
    "* [鉛筆](https://atcoder.jp/contests/joi2018yo/tasks/joi2018_yo_a)\n",
    "* [ソーシャルゲーム](https://atcoder.jp/contests/joi2019yo/tasks/joi2019_yo_a)\n",
    "\n",
    "<div class=\"alert alert-warning\">\n",
    "\n",
    "インデントのエラーに困ったら\n",
    "\n",
    "Python は、コードをコピペすると、空白記号とタブ記号が混ざって、\n",
    "インデント周りのエラーが発生しやすくなります。\n",
    "どうにかなりませんかと言われますが、正直、コピペしないで、\n",
    "自分でインデントを統一的に書くのが確実です。\n",
    "\n",
    "</div>"
   ],
   "cell_type": "markdown",
   "metadata": {}
  }
 ]
}