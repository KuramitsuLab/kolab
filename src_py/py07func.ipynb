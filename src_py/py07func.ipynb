{
 "metadata": {
  "language_info": {
   "codemirror_mode": {
    "name": "ipython",
    "version": 3
   },
   "file_extension": ".py",
   "mimetype": "text/x-python",
   "name": "python",
   "nbconvert_exporter": "python",
   "pygments_lexer": "ipython3",
   "version": "3.9.1-final"
  },
  "orig_nbformat": 2,
  "kernelspec": {
   "name": "python3",
   "display_name": "Python 3.9.1 64-bit",
   "metadata": {
    "interpreter": {
     "hash": "ac2eaa0ea0ebeafcc7822e65e46aa9d4f966f30b695406963e145ea4a91cd4fc"
    }
   }
  }
 },
 "nbformat": 4,
 "nbformat_minor": 2,
 "cells": [
  {
   "source": [
    "# 関数、ラムダ式、高階関数\n",
    "\n",
    "より抽象度の高いプログラミングを目指して、関数、ラムダ式、高階関数の考え方を習得します。\n",
    "\n",
    "<img src=\"http://s3.amazonaws.com/lyah/fx.png\"/>\n"
   ],
   "cell_type": "markdown",
   "metadata": {}
  },
  {
   "source": [
    "## 関数定義"
   ],
   "cell_type": "markdown",
   "metadata": {}
  },
  {
   "source": [
    "## 見本\n",
    "\n",
    "<div class=\"alert alert-info\">\n",
    "\n",
    "Let's try\n",
    "\n",
    "`2 ** (1//2)` が、正しく $\\sqrt{2}$ にならない理由を考えてみよう\n",
    "\n",
    "</div>\n",
    "\n",
    "まずは、リストを使わなくても解ける問題ですが、リストの練習を兼ねて解いてみましょう。\n",
    "\n",
    "### 平均点\n",
    "\n",
    "<div class=\"admonition tip\">\n",
    "\n",
    "**例題（平均点）**\n",
    "\n",
    "期末試験は5人受験した。\n",
    "点数が40点未満の生徒は全員，補習を受け，成績が40点になった。\n",
    "5人の平均点を求めよ。\n",
    "\n",
    "入力例：\n",
    "```\n",
    "10\n",
    "65\n",
    "100\n",
    "30\n",
    "95\n",
    "```\n",
    "\n",
    "出力例：\n",
    "```\n",
    "68\n",
    "```\n",
    "\n",
    "[AtCoder (JOI2014 予選)](https://atcoder.jp/contests/joi2014yo/tasks/joi2014yo_a)\n",
    "\n",
    "</div>\n",
    "\n",
    "__(解法) リストを使う場合__\n",
    "\n",
    "1. 期末試験を記録する空の得点リスト `scores` を用意する\n",
    "2. 5人分繰り返し、点数を読んで、`scores` に追加する \n",
    "3. 平均点は `sum(scores) // 5`\n",
    "\n",
    "\n",
    "\n",
    "|Python|説明|\n",
    "|--------|-------------|\n",
    "|`max(a)`|数列`a`の最大値|\n",
    "|`min(a)`|数列`a`の最小値|\n",
    "|`sum(a)`|数列`a`の合計値| \n"
   ],
   "cell_type": "markdown",
   "metadata": {}
  },
  {
   "source": [
    "## 演習問題\n",
    "\n",
    "関数を定義して使っていきましょう。\n",
    "\n",
    "* [ReLU](https://atcoder.jp/contests/abc183/tasks/abc183_a)\n",
    "* [列車のチケット](https://atcoder.jp/contests/abc079/tasks/abc079_c)\n",
    "\n",
    "* [７５５]](https://atcoder.jp/contests/abc114/tasks/abc114_c) 再帰関数を使います\n",
    "* [異世界数式](https://atcoder.jp/contests/colopl2018-final-open/tasks/colopl2018_final_b): いわゆる構文解析の問題です。\n",
    "\n",
    "* [多項式の零点の個](https://atcoder.jp/contests/ttpc2019/tasks/ttpc2019_l): 構文解析\n",
    "\n",
    "* [グリッド圧縮](https://atcoder.jp/contests/abc107/tasks/abc107_b)"
   ],
   "cell_type": "markdown",
   "metadata": {}
  }
 ]
}