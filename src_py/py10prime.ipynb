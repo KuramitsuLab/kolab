{
 "metadata": {
  "language_info": {
   "codemirror_mode": {
    "name": "ipython",
    "version": 3
   },
   "file_extension": ".py",
   "mimetype": "text/x-python",
   "name": "python",
   "nbconvert_exporter": "python",
   "pygments_lexer": "ipython3",
   "version": "3.9.1-final"
  },
  "orig_nbformat": 2,
  "kernelspec": {
   "name": "python3",
   "display_name": "Python 3.9.1 64-bit",
   "metadata": {
    "interpreter": {
     "hash": "ac2eaa0ea0ebeafcc7822e65e46aa9d4f966f30b695406963e145ea4a91cd4fc"
    }
   }
  }
 },
 "nbformat": 4,
 "nbformat_minor": 2,
 "cells": [
  {
   "source": [
    "# 整数アルゴリズム\n",
    "\n",
    "プログラミングの鍵となるリストと繰り返しについて説明します。\n",
    "\n"
   ],
   "cell_type": "markdown",
   "metadata": {}
  },
  {
   "source": [
    "## TODO"
   ],
   "cell_type": "markdown",
   "metadata": {}
  },
  {
   "source": [
    "## 見本\n",
    "\n",
    "<div class=\"alert alert-info\">\n",
    "\n",
    "Let's try\n",
    "\n",
    "`2 ** (1//2)` が、正しく $\\sqrt{2}$ にならない理由を考えてみよう\n",
    "\n",
    "</div>\n",
    "\n",
    "まずは、リストを使わなくても解ける問題ですが、リストの練習を兼ねて解いてみましょう。\n",
    "\n",
    "### 平均点\n",
    "\n",
    "<div class=\"admonition tip\">\n",
    "\n",
    "**例題（平均点）**\n",
    "\n",
    "期末試験は5人受験した。\n",
    "点数が40点未満の生徒は全員，補習を受け，成績が40点になった。\n",
    "5人の平均点を求めよ。\n",
    "\n",
    "入力例：\n",
    "```\n",
    "10\n",
    "65\n",
    "100\n",
    "30\n",
    "95\n",
    "```\n",
    "\n",
    "出力例：\n",
    "```\n",
    "68\n",
    "```\n",
    "\n",
    "[AtCoder (JOI2014 予選)](https://atcoder.jp/contests/joi2014yo/tasks/joi2014yo_a)\n",
    "\n",
    "</div>\n",
    "\n",
    "__(解法) リストを使う場合__\n",
    "\n",
    "1. 期末試験を記録する空の得点リスト `scores` を用意する\n",
    "2. 5人分繰り返し、点数を読んで、`scores` に追加する \n",
    "3. 平均点は `sum(scores) // 5`\n",
    "\n",
    "\n",
    "\n",
    "|Python|説明|\n",
    "|--------|-------------|\n",
    "|`max(a)`|数列`a`の最大値|\n",
    "|`min(a)`|数列`a`の最小値|\n",
    "|`sum(a)`|数列`a`の合計値| \n"
   ],
   "cell_type": "markdown",
   "metadata": {}
  },
  {
   "source": [
    "## 演習問題\n",
    "\n",
    "* [トレーニング](https://atcoder.jp/contests/abc055/tasks/abc055_b): モジュロの問題\n",
    "* [105](https://atcoder.jp/contests/abc106/tasks/abc106_b) N が小さいので安心してください\n",
    "* [シュークリーム](https://atcoder.jp/contests/abc180/tasks/abc180_c)\n",
    "* [完全数](https://atcoder.jp/contests/arc026/tasks/arc026_2)\n",
    "* [次の素数](https://atcoder.jp/contests/abc149/tasks/abc149_c)\n",
    "* [モンスター](https://atcoder.jp/contests/abc118/tasks/abc118_c)\n",
    "* [スナック](https://atcoder.jp/contests/abc148/tasks/abc148_c)\n",
    "* [整数の選択](https://atcoder.jp/contests/abc060/tasks/abc060_b)\n",
    "* [黒板上の最大公約数](https://atcoder.jp/contests/abc125/tasks/abc125_c)\n",
    "* [隣接の4](https://atcoder.jp/contests/abc069/tasks/arc080_a)\n",
    "* [Digits in Multiplication](https://atcoder.jp/contests/abc057/tasks/abc057_c)\n",
    "\n",
    "\n",
    "* [ボールの色塗り](https://atcoder.jp/contests/abc046/tasks/abc046_b)\n",
    "* [aとbの間](https://atcoder.jp/contests/abc048/tasks/abc048_b)\n",
    "\n",
    "\n",
    "__ヒント__\n",
    "\n",
    "A と Bの最小公倍数を求めてください\n",
    "\n",
    "https://qiita.com/drken/items/0c88a37eec520f82b788\n",
    "\n",
    "https://qiita.com/drken/items/a14e9af0ca2d857dad23\n"
   ],
   "cell_type": "markdown",
   "metadata": {}
  }
 ]
}