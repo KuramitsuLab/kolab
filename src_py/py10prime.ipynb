{
 "metadata": {
  "language_info": {
   "codemirror_mode": {
    "name": "ipython",
    "version": 3
   },
   "file_extension": ".py",
   "mimetype": "text/x-python",
   "name": "python",
   "nbconvert_exporter": "python",
   "pygments_lexer": "ipython3",
   "version": "3.9.2-final"
  },
  "orig_nbformat": 2,
  "kernelspec": {
   "name": "python3",
   "display_name": "Python 3.9.2 64-bit",
   "metadata": {
    "interpreter": {
     "hash": "ac2eaa0ea0ebeafcc7822e65e46aa9d4f966f30b695406963e145ea4a91cd4fc"
    }
   }
  }
 },
 "nbformat": 4,
 "nbformat_minor": 2,
 "cells": [
  {
   "source": [
    "# 整数アルゴリズム\n",
    "\n",
    "簡単な整数問題からアルゴリズムとデータ構造の関係をみていきます。\n"
   ],
   "cell_type": "markdown",
   "metadata": {}
  },
  {
   "source": [
    "## モジュロ(mod)\n",
    "\n",
    "剰余演算（モジュロ）は、整数 a を整数 b で除算し、余りをえる演算です。\n",
    "\n",
    "```python\n",
    "a % b\n",
    "```\n",
    "\n",
    "プログラミングでは、倍数の判定に使うことができます。\n",
    "\n",
    "__aはbの倍数かどうか?__\n",
    "\n",
    "```python\n",
    "a % b == 0\n",
    "```\n",
    "\n",
    "__重要な性質__\n",
    "\n",
    "* `(a % M) % M == a % M`\n",
    "* `(M * n) % M == 0`\n",
    "* `(a * b) % M == ((a % M) * (b % M)) % M`\n",
    "* `(a + b) % M == ((a % M) + (b % M)) % M`\n",
    "\n",
    "Python では、無限長の整数が扱えます。\n",
    "しかし、\n",
    "\n",
    "\n"
   ],
   "cell_type": "markdown",
   "metadata": {}
  },
  {
   "source": [
    "### 最大公約数と最小公倍数"
   ],
   "cell_type": "markdown",
   "metadata": {}
  },
  {
   "source": [
    "### FizzBuzz問題\n",
    "\n",
    "[FizzBuzz 問題](https://ja.wikipedia.org/wiki/Fizz_Buzz)は，採用面接において、コードが書けないプログラマ志願者を見分ける手法としてJeff Atwood が提唱した有名問題です。\n",
    "\n",
    "<div class=\"admonition tip\">\n",
    "\n",
    "**例題（FizzBuzz）**\n",
    "\n",
    "数字を１から順に１００まで発言します。ただし、\n",
    "\n",
    "* 数字が３の倍数の時には数字の代わりに`Fizz`\n",
    "* 数字が５の倍数の時には数字の代わりに`Buzz`\n",
    "* 数字が３の倍数かつ５の倍数の時には代わりに`FizzBuzz`\n",
    "\n",
    "といいます。\n",
    "\n",
    "</div>"
   ],
   "cell_type": "markdown",
   "metadata": {}
  },
  {
   "cell_type": "code",
   "execution_count": 2,
   "metadata": {},
   "outputs": [
    {
     "output_type": "stream",
     "name": "stdout",
     "text": [
      "1 2 Fizz 4 Buzz Fizz 7 8 Fizz Buzz 11 Fizz 13 14 FizzBuzz 16 17 Fizz 19 Buzz Fizz 22 23 Fizz Buzz 26 Fizz 28 29 FizzBuzz 31 32 Fizz 34 Buzz Fizz 37 38 Fizz Buzz 41 Fizz 43 44 FizzBuzz 46 47 Fizz 49 Buzz Fizz 52 53 Fizz Buzz 56 Fizz 58 59 FizzBuzz 61 62 Fizz 64 Buzz Fizz 67 68 Fizz Buzz 71 Fizz 73 74 FizzBuzz 76 77 Fizz 79 Buzz Fizz 82 83 Fizz Buzz 86 Fizz 88 89 FizzBuzz 91 92 Fizz 94 Buzz Fizz 97 98 Fizz Buzz "
     ]
    }
   ],
   "source": [
    "for i in range(1, 101):\n",
    "    if i % 3 == 0 and i % 5 == 0:\n",
    "        print(\"FizzBuzz\", end=' ')\n",
    "    elif i % 3 == 0:\n",
    "        print(\"Fizz\", end=' ')\n",
    "    elif i % 5 == 0:\n",
    "        print(\"Buzz\", end=' ')\n",
    "    else:\n",
    "        print(i, end=' ')"
   ]
  },
  {
   "source": [
    "\n",
    "今では、色々な方法でコードを書くためのゲームになっています。\n",
    "\n",
    "__if文も使わないFizzBuzz__"
   ],
   "cell_type": "markdown",
   "metadata": {}
  },
  {
   "cell_type": "code",
   "execution_count": 3,
   "metadata": {},
   "outputs": [
    {
     "output_type": "stream",
     "name": "stdout",
     "text": [
      "1 2 Fizz 4 Buzz Fizz 7 8 Fizz Buzz 11 Fizz 13 14 15 16 17 Fizz 19 Buzz Fizz 22 23 Fizz Buzz 26 Fizz 28 29 30 31 32 Fizz 34 Buzz Fizz 37 38 Fizz Buzz 41 Fizz 43 44 45 46 47 Fizz 49 Buzz Fizz 52 53 Fizz Buzz 56 Fizz 58 59 60 61 62 Fizz 64 Buzz Fizz 67 68 Fizz Buzz 71 Fizz 73 74 75 76 77 Fizz 79 Buzz Fizz 82 83 Fizz Buzz 86 Fizz 88 89 90 91 92 Fizz 94 Buzz Fizz 97 98 Fizz Buzz "
     ]
    }
   ],
   "source": [
    "d = {15: 'FizzBuzz', 3: 'Fizz', 5: 'Buzz', 6: 'Fizz', 9: 'Fizz', 10: 'Buzz', 12: 'Fizz'}\n",
    "for i in range(1, 101):\n",
    "    print(d.get(i%15, i), end=' ')"
   ]
  },
  {
   "source": [
    "## 素数\n",
    "\n",
    "**素数 (prime number)** は、1 より大きい自然数で約数の個数が 2 である自然数です。\n",
    "\n",
    "2,3,5,7,11,13,17,19,23,29,31,37,41,43,47,53,59,61,67,71,73,79,83,89,97,... \n",
    "\n",
    "<div class=\"alert alert-info\">\n",
    "\n",
    "素数判定アルゴリズム\n",
    "\n",
    "ある自然数 n が与えられたとき、n が素数かどうか判定するアルゴリズム\n",
    "</div>\n",
    "\n",
    "まず、定義通り約数の個数を数えることで、素数判定アルゴリズムを isPrime(n) と実装してみよう。\n",
    "\n"
   ],
   "cell_type": "markdown",
   "metadata": {}
  },
  {
   "cell_type": "code",
   "execution_count": 4,
   "metadata": {},
   "outputs": [],
   "source": [
    "def isPrime(n):\n",
    "    count = 0\n",
    "    for i in range(1, n+1):\n",
    "        if n % i == 0: count +=1\n",
    "    return count == 2"
   ]
  },
  {
   "cell_type": "code",
   "execution_count": 5,
   "metadata": {},
   "outputs": [
    {
     "output_type": "execute_result",
     "data": {
      "text/plain": [
       "True"
      ]
     },
     "metadata": {},
     "execution_count": 5
    }
   ],
   "source": [
    "isPrime(7)"
   ]
  },
  {
   "cell_type": "code",
   "execution_count": 6,
   "metadata": {},
   "outputs": [
    {
     "output_type": "execute_result",
     "data": {
      "text/plain": [
       "False"
      ]
     },
     "metadata": {},
     "execution_count": 6
    }
   ],
   "source": [
    "isPrime (25)"
   ]
  },
  {
   "source": [
    "### 少し効率を考えてみる\n",
    "\n",
    "<div class=\"admonition tip\">\n",
    "\n",
    "**例題（素数の数）**\n",
    "\n",
    "1000,000以下の自然数には、素数がいくつあるか求めよ\n",
    "\n",
    "</div>\n",
    "\n",
    "isPrime(n) はあまり効率がよくありません。\n",
    "したがって、文字通りそのまま計算すると大変なことになります。\n",
    "\n",
    "__ものすごく時間がかかるので注意__\n"
   ],
   "cell_type": "markdown",
   "metadata": {}
  },
  {
   "cell_type": "code",
   "execution_count": 7,
   "metadata": {},
   "outputs": [
    {
     "output_type": "stream",
     "name": "stdout",
     "text": [
      "1229\nCPU times: user 2.71 s, sys: 8.21 ms, total: 2.72 s\nWall time: 2.73 s\n"
     ]
    }
   ],
   "source": [
    "%%time\n",
    "count = 0\n",
    "for i in range(2, 10_000):\n",
    "    if isPrime(i):\n",
    "        count += 1\n",
    "print(count)"
   ]
  },
  {
   "source": [
    "`isPrime(n)`が遅い理由\n",
    "\n",
    "* $n$ が大きくなると、計算時間がかかる $O(n)$\n",
    "  * 原理的に $\\sqrt{n}$ まで繰り返せば十分.\n",
    "* `count` が 2 より大きくなったら、素数ではないので繰り返す必要がない。\n",
    "\n",
    "__isPrime()の改良版__"
   ],
   "cell_type": "markdown",
   "metadata": {}
  },
  {
   "source": [
    "def isPrime(n):\n",
    "    count = 0\n",
    "    for i in range(1, int((n+1)**0.5)+1):\n",
    "        if n % i == 0: \n",
    "            count +=1\n",
    "            if count > 2:\n",
    "                return False \n",
    "    return count == 2"
   ],
   "cell_type": "code",
   "metadata": {},
   "execution_count": 10,
   "outputs": []
  },
  {
   "source": [
    "%%time\n",
    "count = 0\n",
    "for i in range(2, 100_000):\n",
    "    if isPrime(i):\n",
    "        count += 1\n",
    "print(count)"
   ],
   "cell_type": "code",
   "metadata": {},
   "execution_count": 11,
   "outputs": [
    {
     "output_type": "stream",
     "name": "stdout",
     "text": [
      "23392\nCPU times: user 360 ms, sys: 2.05 ms, total: 362 ms\nWall time: 362 ms\n"
     ]
    }
   ]
  },
  {
   "source": [
    "## エラトステネスのふるい\n",
    "\n",
    "エラトステネスのふるいとは、古代ギリシア人が発明した素数のリストを作る効率のよいアルゴリズムです。高校数学でも登場するでも、原理は知っている人が多いでしょう。\n",
    "\n",
    "![エラトステネス](https://upload.wikimedia.org/wikipedia/commons/6/63/Animation_Sieb_des_Eratosthenes.gif)\n",
    "\n",
    "ドイツ語版ウィキペディアのSKoppさんによる作画\n",
    "\n",
    ". 自然数の入った「ふるい (篩, sieve)」を考える\n",
    "2 3 4 5 6 7 8 9 10 11 12 13 14 15 16 17 18 19 20 21 22 23...\n",
    "2. ふるいの中の一番小さな数を選ぶ. このとき、選ばれた数は素数となる. そして、素数で リストの残りの数を割り、割り切れる数を消してゆく.\n",
    "最初は， 2 . 2 より大きい 2 の倍数を消します。\n",
    "2 3 4/ 5 6/ 7 8/ 9 1//0 11 1//2 13 1//4 15 1//6 17 1//8 19 2//0 21 2//2 23... 次にふるいの中の最も小さい数値は、 3 . 3 より大きい 3 の倍数を消します。\n",
    "2 3 4/ 5 6/ 7 8/ /9 1//0 11 1//2 13 1//4 1//5 1//6 17 1//8 19 2//0 2//1 2//2 23... 次にふるいの中の最も小さい数値は、 5 . ....\n",
    "3. この一連の操作を繰り返す. 最後までふるいに残った数が素数のリストとなる. \n"
   ],
   "cell_type": "markdown",
   "metadata": {}
  },
  {
   "source": [
    "素直に用いると"
   ],
   "cell_type": "markdown",
   "metadata": {}
  },
  {
   "cell_type": "code",
   "execution_count": null,
   "metadata": {},
   "outputs": [],
   "source": [
    "def eratosthenes(n):\n",
    "    #まず 2からn未満の整数をふるい(sieve)に入れる\n",
    "    sieve = list(range(2, n)) \n",
    "    for p in range(2, n): #小さい方から順番に古いの数字をみる\n",
    "        if p in sieve: # sieveに残っていたら、pは素数\n",
    "            for j in range(p * 2, n, p):  # p の倍数をすべてふるいから取り除く\n",
    "                if j in sieve:\n",
    "                    sieve.remove(j)\n",
    "    return len(sieve)"
   ]
  },
  {
   "source": [
    "効率を改善する鍵:データ表現 「エラトステネスのふるい」を実装する鍵は「データ表現」です。Python には「ふるい型」はない\n",
    "ので、既存のデータ型を使って「ふるい」をうまく表現する方法を考えます。\n",
    "素直な発想  \n",
    "eratosthenes(n) のようにリストを用いて「ふるい」を表現します。 sieve = [2, 3, 4, 5, 6, 7, 8, 9, 10, 11, ...]\n",
    "Python は便利なメソッドを提供しているので、リストから要素を取り除くことが簡単にできます。 しかし、あとから習うとおり、sieve.remove(n) を用いてリストから要素を取り除くのは O(n) で 効率がよくありません。\n",
    "\n",
    "<div class=\"alert alert-info\">\n",
    "\n",
    "データ構造は重要 \u0016 \n",
    "\n",
    "プログラミングは、データ構造の決め方で複雑さや性能が変わる.\n",
    "\n",
    "</div>\n",
    "\n",
    "ポイントは数がふるいに入っているかどうか?\n",
    "エラトステネスのふるいでは、自然数 n がふるいの中に入っているか判定できればよいので、論理\n",
    "値 True, False を用いて判定することができる.\n",
    "\n",
    "sieve[n] == True なら、n は「ふるい」 の中\n",
    "▷ sieve[n] == False なら、n は「ふる い」の外\n",
    "▷ sieve[n] = False で、n をふるいから 取り除く\n",
    "\n",
    "\n",
    "\n"
   ],
   "cell_type": "markdown",
   "metadata": {}
  },
  {
   "source": [
    "### 高速版: isPrime(n)"
   ],
   "cell_type": "markdown",
   "metadata": {}
  },
  {
   "source": [
    "## 演習問題\n",
    "\n",
    "\n",
    "\n",
    "* [トレーニング](https://atcoder.jp/contests/abc055/tasks/abc055_b): モジュロの問題\n",
    "* [105](https://atcoder.jp/contests/abc106/tasks/abc106_b) N が小さいので安心してください\n",
    "* [シュークリーム](https://atcoder.jp/contests/abc180/tasks/abc180_c)\n",
    "* [完全数](https://atcoder.jp/contests/arc026/tasks/arc026_2)\n",
    "* [次の素数](https://atcoder.jp/contests/abc149/tasks/abc149_c)\n",
    "* [モンスター](https://atcoder.jp/contests/abc118/tasks/abc118_c)\n",
    "* [スナック](https://atcoder.jp/contests/abc148/tasks/abc148_c)\n",
    "* [整数の選択](https://atcoder.jp/contests/abc060/tasks/abc060_b)\n",
    "* [黒板上の最大公約数](https://atcoder.jp/contests/abc125/tasks/abc125_c)\n",
    "* [隣接の4](https://atcoder.jp/contests/abc069/tasks/arc080_a)\n",
    "* [Digits in Multiplication](https://atcoder.jp/contests/abc057/tasks/abc057_c)\n",
    "\n",
    "\n",
    "* [$a^b$](https://atcoder.jp/contests/abc193/tasks/abc193_c)\n",
    "* [互いに素](https://atcoder.jp/contests/abc154/tasks/abc154_c)\n",
    "* [2019](https://atcoder.jp/contests/abc164/tasks/abc164_d)\n",
    "* [2017-like Number](https://atcoder.jp/contests/abc084/tasks/abc084_d): エラトステネスの篩\n",
    "\n",
    "* [ボールの色塗り](https://atcoder.jp/contests/abc046/tasks/abc046_b)\n",
    "* [aとbの間](https://atcoder.jp/contests/abc048/tasks/abc048_b)\n",
    "\n",
    "\n",
    "* [Count Order](https://atcoder.jp/contests/abc150/tasks/abc150_c): 順列全列挙`itertools.itertools.permutations`\n",
    "\n",
    "__ヒント__\n",
    "\n",
    "A と Bの最小公倍数を求めてください\n",
    "\n",
    "https://qiita.com/drken/items/0c88a37eec520f82b788\n",
    "\n",
    "https://qiita.com/drken/items/a14e9af0ca2d857dad23\n"
   ],
   "cell_type": "markdown",
   "metadata": {}
  }
 ]
}