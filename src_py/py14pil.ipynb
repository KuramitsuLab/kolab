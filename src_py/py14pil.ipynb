{
    "metadata": {
        "language_info": {
            "codemirror_mode": {
                "name": "ipython",
                "version": 3
            },
            "file_extension": ".py",
            "mimetype": "text/x-python",
            "name": "python",
            "nbconvert_exporter": "python",
            "pygments_lexer": "ipython3",
            "version": "3.9.5"
        },
        "orig_nbformat": 4,
        "kernelspec": {
            "name": "python3",
            "display_name": "Python 3.9.5 64-bit"
        },
        "interpreter": {
            "hash": "aee8b7b246df8f9039afb4144a1f6fd8d2ca17a180786b69acc140d282b71a49"
        }
    },
    "nbformat": 4,
    "nbformat_minor": 2,
    "cells": [
        {
            "source": [
                "# PNGアニメーション\n",
                "\n",
                "いよいよ前期の授業は最終回になります。\n",
                "後期の授業の予習としてアニメーション作成を紹介します。\n",
                "\n",
                "<div class=\"alert alert-info\">\n",
                "\n",
                "後期の授業\n",
                "\n",
                "Pythonを用いて、オブジェクト指向プログラミングを学びながら、\n",
                "アルゴリズムとデータ構造の理解を深めて予定です。\n",
                "楽しく学習ができるようにアニメーションを作りながら学びます。\n",
                "</div>\n",
                "\n",
                "## モジュールの準備\n",
                "\n",
                "Python で画像やアニメーションを扱うためには、ライブラリ(Python ではモジュールと呼ぶ)を使います。\n",
                "\n",
                "* **Pillow(PIL) モジュール**: Python で画像を簡単に扱うため\n",
                "* **APNG モジュール**: アニメーション PNG を作成するため\n",
                "* **IPython モジュール**: 画像/動画を Google Colaboratory 上に表示するため \n",
                "\n",
                "Google Colaboratory は、あらかじめよく使うモジュールがインストールされています。これらは、何も設定しなくても、`import`して使うことができます。\n",
                "\n"
            ],
            "cell_type": "markdown",
            "metadata": {}
        },
        {
            "source": [
                "from PIL import Image , ImageDraw \n",
                "import IPython\n"
            ],
            "cell_type": "code",
            "metadata": {},
            "execution_count": 1,
            "outputs": []
        },
        {
            "source": [
                "\n",
                "ただし、APNGモジュールは、インストールされていません。\n",
                "このような場合は、`pip`を使って、インストールしてから、`import`します。\n",
                "\n"
            ],
            "cell_type": "markdown",
            "metadata": {}
        },
        {
            "source": [
                "!pip install APNG\n",
                "from apng import APNG\n"
            ],
            "cell_type": "code",
            "metadata": {},
            "execution_count": 2,
            "outputs": [
                {
                    "output_type": "stream",
                    "name": "stdout",
                    "text": [
                        "Requirement already satisfied: APNG in /usr/local/lib/python3.9/site-packages (0.3.4)\n"
                    ]
                }
            ]
        },
        {
            "source": [
                "\n",
                "<div class=\"alert alert-info\">\n",
                "\n",
                "pip/pip3\n",
                "\n",
                "コンピュータ環境にPython モジュールをインストールするためのUNIXコマンドです。\n",
                "</div>\n",
                "\n",
                "## PNG 画像\n",
                "\n",
                "まず、PNG画像を作ってみます。\n",
                "\n",
                "### キャンバス\n",
                "\n",
                "画像を描画するキャンバス (canvas) を作ってお絵かきを始めます。\n",
                "\n",
                "__大きさを指定して、キャンバスを作成する__\n",
                "\n"
            ],
            "cell_type": "markdown",
            "metadata": {}
        },
        {
            "source": [
                "canvas = Image.new(\"RGB\", (400,300))\n"
            ],
            "cell_type": "code",
            "metadata": {},
            "execution_count": 3,
            "outputs": []
        },
        {
            "source": [
                "\n",
                "キャンバスの大きさは、動画にすることを考えて、あまり大きくせず、400 x 300 くらいにしておきます。\n",
                "\n",
                "### 図形を描画する\n",
                "\n",
                "実際の描画操作は、描画コンテキスト (draw) を作って行います。(この辺りの仕組みは、Python以外のプログラミング言語でもほぼ同じです。) \n",
                "\n",
                "__キャンバスの描画コンテキストを作る__\n",
                "\n"
            ],
            "cell_type": "markdown",
            "metadata": {}
        },
        {
            "source": [
                "draw = ImageDraw.Draw(canvas)\n"
            ],
            "cell_type": "code",
            "metadata": {},
            "execution_count": 4,
            "outputs": []
        },
        {
            "source": [
                "\n",
                "まずは、長方形 (rectangle) をキャンバス上に描画してみましょう。\n",
                "fill は、塗りつぶす色を指定してます。\n",
                "\n"
            ],
            "cell_type": "markdown",
            "metadata": {}
        },
        {
            "source": [
                "draw.rectangle((100,100,200,200), fill='green')\n"
            ],
            "cell_type": "code",
            "metadata": {},
            "execution_count": 5,
            "outputs": []
        },
        {
            "source": [
                "\n",
                "### 描画した図形を保存する\n",
                "\n",
                "キャンバスに描画した図形をPNGファイルに保存します。ファイル名は、なんでも構いませんが、拡張子は、`.png`にします。\n",
                "\n"
            ],
            "cell_type": "markdown",
            "metadata": {}
        },
        {
            "source": [
                "canvas.save(\"rect.png\")\n"
            ],
            "cell_type": "code",
            "metadata": {},
            "execution_count": 6,
            "outputs": []
        },
        {
            "source": [
                "\n",
                "(Colab 上に)保存されたPNGファイルは、`IPython.display`で表示してみることができます。\n",
                "\n"
            ],
            "cell_type": "markdown",
            "metadata": {}
        },
        {
            "source": [
                "IPython.display.Image(\"rect.png\")\n"
            ],
            "cell_type": "code",
            "metadata": {},
            "execution_count": 7,
            "outputs": [
                {
                    "output_type": "execute_result",
                    "data": {
                        "image/png": "[encoded data removed]",
                        "text/plain": [
                            "<IPython.core.display.Image object>"
                        ]
                    },
                    "metadata": {},
                    "execution_count": 7
                }
            ]
        },
        {
            "source": [
                "\n",
                "<div class=\"alert alert-info\">\n",
                "\n",
                "Let's try\n",
                "\n",
                "長方形の色や位置、大きさを変えて表示してみよう\n",
                "\n",
                "</div>\n",
                "\n",
                "### 円\n",
                "\n",
                "円も描画する\n",
                "ecllipse は、指定した短形におさまる楕円(円)を描画します。\n",
                "\n"
            ],
            "cell_type": "markdown",
            "metadata": {}
        },
        {
            "source": [
                "draw.ellipse((250,200, 300, 250),fill=(192, 64, 64))\n"
            ],
            "cell_type": "code",
            "metadata": {},
            "execution_count": 8,
            "outputs": []
        },
        {
            "source": [
                "\n",
                "今回は、色を RGB で指定しています。\n",
                "\n",
                "https://note.nkmk.me/python-pillow-imagedraw/\n",
                "\n",
                "## アニメーションを作る\n",
                "\n",
                "アニメーション（動画）は、複数の画像を作成し、パラパラ漫画と同じ原理で作ります。\n",
                "\n",
                "まず、ボールが転がるアニメーションを作ってみましょう。\n",
                "x 軸方向に +20 ずつ移動させながら、3枚ほど画像を作ります。\n",
                "\n",
                "__ball0.png を作る__\n",
                "\n"
            ],
            "cell_type": "markdown",
            "metadata": {}
        },
        {
            "source": [
                "canvas = Image.new(\"RGB\", (400,300), color='black') \n",
                "draw = ImageDraw.Draw(canvas)\n",
                "draw.ellipse((100, 200, 150, 250),fill=(192, 64, 64)) \n",
                "canvas.save('ball0.png')\n",
                "IPython.display.Image(\"ball0.png\")\n"
            ],
            "cell_type": "code",
            "metadata": {},
            "execution_count": 9,
            "outputs": [
                {
                    "output_type": "execute_result",
                    "data": {
                        "image/png": "[encoded data removed]",
                        "text/plain": [
                            "<IPython.core.display.Image object>"
                        ]
                    },
                    "metadata": {},
                    "execution_count": 9
                }
            ]
        },
        {
            "source": [
                "\n",
                "__ball1.png を作る__\n",
                "\n"
            ],
            "cell_type": "markdown",
            "metadata": {}
        },
        {
            "source": [
                "canvas = Image.new(\"RGB\", (400,300), color='black') \n",
                "draw = ImageDraw.Draw(canvas)\n",
                "draw.ellipse((100+20, 200, 150+20, 250),fill=(192, 64, 64)) \n",
                "canvas.save('ball1.png')\n",
                "IPython.display.Image(\"ball1.png\")\n",
                "\n"
            ],
            "cell_type": "code",
            "metadata": {},
            "execution_count": 10,
            "outputs": [
                {
                    "output_type": "execute_result",
                    "data": {
                        "image/png": "[encoded data removed]",
                        "text/plain": [
                            "<IPython.core.display.Image object>"
                        ]
                    },
                    "metadata": {},
                    "execution_count": 10
                }
            ]
        },
        {
            "source": [
                "\n",
                "__ball2.png を作る__\n",
                "\n"
            ],
            "cell_type": "markdown",
            "metadata": {}
        },
        {
            "source": [
                "canvas = Image.new(\"RGB\", (400,300), color='black')\n",
                "draw = ImageDraw.Draw(canvas)\n",
                "draw.ellipse((100+40, 200, 150+40, 250),fill=(192, 64, 64)) \n",
                "canvas.save('ball2.png')\n",
                "IPython.display.Image(\"ball2.png\")\n"
            ],
            "cell_type": "code",
            "metadata": {},
            "execution_count": 11,
            "outputs": [
                {
                    "output_type": "execute_result",
                    "data": {
                        "image/png": "[encoded data removed]",
                        "text/plain": [
                            "<IPython.core.display.Image object>"
                        ]
                    },
                    "metadata": {},
                    "execution_count": 11
                }
            ]
        },
        {
            "source": [
                "\n",
                "<div class=\"alert alert-warning\">\n",
                "\n",
                "Let's try: 本来、１枚１枚作成してはいけません。\n",
                "\n",
                "for文を使って、まとめて生成しましょう。\n",
                "</div>\n",
                "\n",
                "## APNG に変換する\n",
                "\n",
                "Pillow/PILで保存したファイル名からファイルリストを作ります。\n",
                "\n"
            ],
            "cell_type": "markdown",
            "metadata": {}
        },
        {
            "source": [
                "filelist = ['ball0.png', 'ball1.png', 'ball2.png']\n"
            ],
            "cell_type": "code",
            "metadata": {},
            "execution_count": 12,
            "outputs": []
        },
        {
            "source": [
                "\n",
                "APNG モジュールは、画像ファイルのリストからアニメーション PNG を作成します。delay は、画像 1 枚辺りの速度 (ミリ秒) です。\n",
                "\n"
            ],
            "cell_type": "markdown",
            "metadata": {}
        },
        {
            "source": [
                "APNG.from_files(filelist, delay=100).save(\"ball-anime.png\") \n"
            ],
            "cell_type": "code",
            "metadata": {},
            "execution_count": 13,
            "outputs": []
        },
        {
            "source": [
                "\n",
                "> 注意: PNGアニメーションのファイル拡張子は、画像と同じ`.png`です。\n",
                "\n",
                "\n",
                "<div class=\"alert alert-info\">\n",
                "Let's try\n",
                "\n",
                "実際にアニメーション (APNG) を作成して表示してみよう。\n",
                "(大したアニメーションでないのでここは期待しないでください。) \u0018\u0017\n",
                "\n",
                "```\n",
                "IPython.display.Image(\"ball-anime.png\")\n",
                "```\n",
                "\n",
                "</div>\n",
                "\n",
                "\n",
                "### ボールを投げるアニメ\n",
                "\n",
                "(例題) ボールがいい感じで放物運動するアニメーションを作ってみましょう。\n",
                "時刻 t のときの (x,y) を次のようにします。(ここのパラメータは自由に調整して構いません。)\n",
                "\n",
                "$x = 10t + 100$\n",
                "$y = 2(t−10) +100$\n",
                "\n",
                "あとは、時刻を `for t in range(20)`: のようにループでまわして、画像を作ります。画像名は、 filelist に追加しておきます。\n",
                "   \n",
                "\n"
            ],
            "cell_type": "markdown",
            "metadata": {}
        },
        {
            "source": [
                "# 放物線を関数で定義しておく\n",
                "def fy(t):\n",
                "    return (t - 10)**2 + 100\n",
                "\n",
                "filelist = []\n",
                "for t in range (20):\n",
                "    canvas = Image.new(\"RGB\", (400,300), color=\"black\") \n",
                "    draw = ImageDraw.Draw(canvas)\n",
                "    x = 100 + 10 * t\n",
                "    y = fy(t)\n",
                "    draw.ellipse((x, y, x+50, y+50),fill=(192, 64, 64))\n",
                "    canvas.save(f\"ball{t}.png\") \n",
                "    filelist.append(f\"ball{t}.png\")\n",
                "\n",
                "APNG.from_files(filelist, delay=100).save(\"ball-anime.png\")\n",
                "IPython.display.Image(\"ball-anime.png\")\n"
            ],
            "cell_type": "code",
            "metadata": {},
            "execution_count": 14,
            "outputs": [
                {
                    "output_type": "execute_result",
                    "data": {
                        "image/png": "[encoded data removed]",
                        "text/plain": [
                            "<IPython.core.display.Image object>"
                        ]
                    },
                    "metadata": {},
                    "execution_count": 14
                }
            ]
        }
    ]
}