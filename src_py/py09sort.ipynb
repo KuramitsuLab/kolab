{
 "metadata": {
  "language_info": {
   "codemirror_mode": {
    "name": "ipython",
    "version": 3
   },
   "file_extension": ".py",
   "mimetype": "text/x-python",
   "name": "python",
   "nbconvert_exporter": "python",
   "pygments_lexer": "ipython3",
   "version": "3.9.2-final"
  },
  "orig_nbformat": 2,
  "kernelspec": {
   "name": "python3",
   "display_name": "Python 3.9.2 64-bit",
   "metadata": {
    "interpreter": {
     "hash": "ac2eaa0ea0ebeafcc7822e65e46aa9d4f966f30b695406963e145ea4a91cd4fc"
    }
   }
  }
 },
 "nbformat": 4,
 "nbformat_minor": 2,
 "cells": [
  {
   "source": [
    "# ソートと計算量\n",
    "\n",
    "今回は、ソートアルゴリズムを題材にして、アルゴリズム選択を考えてみます。\n"
   ],
   "cell_type": "markdown",
   "metadata": {}
  },
  {
   "source": [
    "## ソートとは？\n",
    "\n",
    "**ソート(sort, 整列)** とは、順番をそろえて並び替える操作です。\n",
    "ランキングや大学入試の合格者判定など、ソートは日常のあらゆる場面で活用されているアルゴリズムと言えます。\n",
    "\n",
    "例えば、 次のような数列を昇順にソートすると:\n",
    "\n",
    "![sort-fs8.png](https://qiita-image-store.s3.ap-northeast-1.amazonaws.com/0/57754/9d476c3d-0c93-f9b3-8ff6-613c876c5597.png)\n",
    "\n",
    "\n",
    "<div class=\"alert alert-info\">\n",
    "\n",
    "ソートの順序\n",
    "\n",
    "日常よく用いる「小さい順」と呼ばず、英語圏の「値が大きくなっていく様子」から昇順と呼\n",
    "びます。\n",
    "\n",
    "* **昇順ソート (ascending sort)**: $x < y$ の順序で並べる\n",
    "* **降順ソート (descending sort)**: $x > y$ の順序で並べる\n",
    "\n",
    "</div>\n",
    "\n",
    "\n"
   ],
   "cell_type": "markdown",
   "metadata": {}
  },
  {
   "source": [
    "### ソートライブラリ\n",
    "\n",
    "Python は、リスト`L`に対してソートを行う手段を2つ提供しています。\n",
    "\n",
    "__メソッド__: リスト `L` を書き換えてソートする\n",
    "\n",
    "```python\n",
    "L.sort()\n",
    "```\n",
    "\n",
    "__組込み関数__: リスト `L` を書き換えず、ソートされた新しいリストを返す\n",
    "\n",
    "```python\n",
    "L2 = sorted(L)\n",
    "```\n",
    "\n",
    "ソートは、数値だけでなく、$x < y$ が定義されている集まり、つまり**全順序集合 (total ordered set) **に対して行うことができます。Python では、文字列もタプルも比較演算子で比較できるため、リストの要素が全て比較できるときはソート可能です。\n",
    "\n",
    "\n",
    "\n"
   ],
   "cell_type": "markdown",
   "metadata": {}
  },
  {
   "cell_type": "code",
   "execution_count": null,
   "metadata": {},
   "outputs": [],
   "source": [
    "\"A\" < \"B\"   # 文字列の比較"
   ]
  },
  {
   "cell_type": "code",
   "execution_count": null,
   "metadata": {},
   "outputs": [],
   "source": [
    "(1, 1) < (1, 2)　 # タプルの比較"
   ]
  },
  {
   "source": [
    "日常の Python プログラミングでは、このようなソート・ライブラリを活用すれば充分です。\n",
    "\n",
    "<div class=\"admonition tip\">\n",
    "\n",
    "**例題（ソート）**\n",
    "\n",
    "A さん、B さん、C さん、D さん、E さんの成績データが次のとおり与えられています。\n",
    "成績の良い順に並べて表示するプログラムを書いてください。\n",
    "\n",
    "```\n",
    "S=[\n",
    "    ('A', 75), ('B', 66), ('C', 75), ('D', 95), ('E', 83)\n",
    "]\n",
    "```\n",
    "\n",
    "</div>\n",
    "\n",
    "そのまま、S をソートすると名前順で並べらられるので、`(75, ’A’)` の順でペアを作り直して、ソートします。\n"
   ],
   "cell_type": "markdown",
   "metadata": {}
  },
  {
   "cell_type": "code",
   "execution_count": null,
   "metadata": {},
   "outputs": [],
   "source": [
    "S=[\n",
    "    ('A', 75), ('B', 66), ('C', 75), ('D', 95), ('E', 83)\n",
    "]\n",
    "I = []\n",
    "for name , score in S: \n",
    "    I.append((score, name))\n",
    "    I.sort() #ソートする\n",
    "    I.reverse() #逆順に \n",
    "\n",
    "for score , name in I:\n",
    "    print(name , score)"
   ]
  },
  {
   "source": [
    "このようにデータ構造の方を工夫すると、ソートライブラリで活用して解くことができます。\n",
    "\n",
    "授業でアルゴリズムを学ぶと、アルゴリズムは自分で実装した方がいいと勘違いして、そのまま社会人になったりします。「車輪を再発明しない」は、「ライブラリを使いましょう」という格言です。ただし、学習者の間は、車輪を再発明してみないとわからないこともあります。\n"
   ],
   "cell_type": "markdown",
   "metadata": {}
  },
  {
   "source": [
    "### 準備: スワップ操作\n",
    "\n",
    "ソートアルゴリズムでは、共通する操作として**スワップ (swap)** が登場します。\n",
    "\n",
    "<div class=\"alert alert-info\">\n",
    "\n",
    "スワップ\n",
    "\n",
    "2 つの変数の値を入れ替える操作\n",
    "\n",
    "</div>\n",
    "\n",
    "Python スワップは、次の2通りの方法で行えます。\n",
    "\n",
    "__一般的な方法__: 一時変数(temp)を用います\n",
    "```python\n",
    "temp = x\n",
    "x=y\n",
    "y = temp\n",
    "```\n",
    "\n",
    "__多重代入を用いる__:\n",
    "```python\n",
    "x, y = y, x\n",
    "```\n",
    "\n",
    "Python は、多重代入が使えるので、本講義では多重代入を用います。ただし、多重代入が使えないプログラミング言語もあるの で、一時変数を用いる方法も覚えておきましょう。\n",
    "\n",
    "<div class=\"admonition tip\">\n",
    "\n",
    "**例題（リストを逆順にする）**\n",
    "\n",
    "スワップを用いて、リストを逆順に変換してみよう。\n",
    "\n",
    "__BEFORE__\n",
    "```\n",
    "[0,1,2,3,4,5,6,7,8,9]\n",
    "```\n",
    "\n",
    "__AFTER__\n",
    "```\n",
    "[9,8,7,6,5,4,3,2,1,0]\n",
    "```\n",
    "\n",
    "</div>\n",
    "\n",
    "\n"
   ],
   "cell_type": "markdown",
   "metadata": {}
  },
  {
   "cell_type": "code",
   "execution_count": 1,
   "metadata": {},
   "outputs": [
    {
     "output_type": "stream",
     "name": "stdout",
     "text": [
      "[9, 8, 7, 6, 5, 4, 3, 2, 1, 0]\n"
     ]
    }
   ],
   "source": [
    "a = [0, 1, 2, 3, 4, 5, 6, 7, 8, 9]\n",
    "for i in range(len(a)//2):\n",
    "    a[i], a[-(1+i)] = a[-(1+i)], a[i]\n",
    "print(a)"
   ]
  },
  {
   "source": [
    "## ソートアルゴリズム\n",
    "\n",
    "[ソート・アルゴリズム](http://ja.wikipedia.org/wiki/ソート)は、ソートを実現するための手順です。ソートは、コンピュータ科学の題材として研究が行われ、様々な種類のアルゴリズムが考案されてきました。\n",
    "\n",
    "__本講義で扱うアルゴリム__\n",
    "\n",
    "* 選択ソート\n",
    "* バブルソート\n",
    "* クイックソート\n",
    "* マージソート\n",
    "\n",
    "### 選択ソート\n",
    "\n",
    "**選択ソート (selection sort)** は、配列 `a` の中から一番小さな要素を探し、それを先頭の要素とスワッ\n",
    "プすることでソートします。もっとも**人間の思考に近いソートアルゴリズム**と言えます。\n",
    "\n",
    "![selection-fs8.png](https://qiita-image-store.s3.ap-northeast-1.amazonaws.com/0/57754/aab191ac-a2ee-704b-5b04-8811ce48e4c7.png)\n",
    "\n",
    "最も小さいソートを先頭にもってくることができたら、先頭をひとつ進め、同じ要領で繰 り返していきます。次は、まず start 以降のリスト a の要素から最小となる位置を探す関数 `find_min_index(a, start)` を定義しています。"
   ],
   "cell_type": "markdown",
   "metadata": {}
  },
  {
   "cell_type": "code",
   "execution_count": 2,
   "metadata": {},
   "outputs": [],
   "source": [
    "def find_min_index(a, start):\n",
    "    mini = start\n",
    "    for i in range(start+1, len(a)):\n",
    "        if a[i] < a[mini]: \n",
    "            mini = i\n",
    "    return mini\n",
    "\n",
    "def select_sort(a):\n",
    "    for i in range(len(a)-1):\n",
    "        mini = find_min_index(a, i) \n",
    "        a[i], a[mini] = a[mini], a[i]\n",
    "        print(f'@{i}', a) #デバッグ用の途中状態の表示"
   ]
  },
  {
   "cell_type": "code",
   "execution_count": 4,
   "metadata": {},
   "outputs": [
    {
     "output_type": "stream",
     "name": "stdout",
     "text": [
      "@0 [0, 3, 1, 9, 8, 5, 4, 2, 7, 6]\n@1 [0, 1, 3, 9, 8, 5, 4, 2, 7, 6]\n@2 [0, 1, 2, 9, 8, 5, 4, 3, 7, 6]\n@3 [0, 1, 2, 3, 8, 5, 4, 9, 7, 6]\n@4 [0, 1, 2, 3, 4, 5, 8, 9, 7, 6]\n@5 [0, 1, 2, 3, 4, 5, 8, 9, 7, 6]\n@6 [0, 1, 2, 3, 4, 5, 6, 9, 7, 8]\n@7 [0, 1, 2, 3, 4, 5, 6, 7, 9, 8]\n@8 [0, 1, 2, 3, 4, 5, 6, 7, 8, 9]\n[0, 1, 2, 3, 4, 5, 6, 7, 8, 9]\n"
     ]
    }
   ],
   "source": [
    "a = [5, 3, 1, 9, 8, 0, 4, 2, 7, 6] \n",
    "select_sort(a)\n",
    "print(a)"
   ]
  },
  {
   "source": [
    "### バブルソート\n",
    "\n",
    "**バブルソート (bubble sort)** は、もっとも実装が簡単(と言われている)ソートアルゴリズムです。\n",
    "\n",
    "__アルゴリズム__\n",
    "* 隣り合った 2 つの要素 `a[i]` と `a[i+1]` を比較して、`a[i] > a[i+1]` なら両者をスワップする\n",
    "* 以上をスワップする必要がなくなるまで繰り返す\n",
    "\n",
    "![bubble-fs8.png](https://qiita-image-store.s3.ap-northeast-1.amazonaws.com/0/57754/6b135fc1-9f17-6a6b-66a7-1d94cd317ca7.png)\n",
    "\n",
    "まず、一巡スワップさせてみましょう。"
   ],
   "cell_type": "markdown",
   "metadata": {}
  },
  {
   "cell_type": "code",
   "execution_count": 5,
   "metadata": {},
   "outputs": [],
   "source": [
    "def bubble_sort(a):\n",
    "    for i in range(len(a)-1):\n",
    "        if a[i] > a[i+1]:\n",
    "            a[i], a[i+1] = a[i+1], a[i]\n",
    "            print(f'@{i}', a)"
   ]
  },
  {
   "cell_type": "code",
   "execution_count": 6,
   "metadata": {},
   "outputs": [
    {
     "output_type": "stream",
     "name": "stdout",
     "text": [
      "@0 [3, 5, 1, 9, 8, 0, 4, 2, 7, 6]\n@1 [3, 1, 5, 9, 8, 0, 4, 2, 7, 6]\n@3 [3, 1, 5, 8, 9, 0, 4, 2, 7, 6]\n@4 [3, 1, 5, 8, 0, 9, 4, 2, 7, 6]\n@5 [3, 1, 5, 8, 0, 4, 9, 2, 7, 6]\n@6 [3, 1, 5, 8, 0, 4, 2, 9, 7, 6]\n@7 [3, 1, 5, 8, 0, 4, 2, 7, 9, 6]\n@8 [3, 1, 5, 8, 0, 4, 2, 7, 6, 9]\n[3, 1, 5, 8, 0, 4, 2, 7, 6, 9]\n"
     ]
    }
   ],
   "source": [
    " a = [5, 3, 1, 9, 8, 0, 4, 2, 7, 6] \n",
    " bubble_sort(a)\n",
    " print(a)"
   ]
  },
  {
   "source": [
    "まだ、リストのソートは完了していません。ソートが完了するまで、bubble_sort(n) のループを 繰り返すことになります。\n",
    "\n",
    "<div class=\"alert alert-info\">\n",
    "\n",
    "考えてみよう\n",
    "\n",
    "何回、ループを繰り返せばよいでしょうか?\n",
    "\n",
    "</div>\n",
    "\n",
    "リスト a の中で一番大きな値 (上の例では 9) に注目してみてください。リスト a を先頭から最後 まで `a[i] > a[i+1]` のとき、スワップ操作をすると、最終的に、必ず**一番大きな値が最後尾**にきます。\n",
    "\n",
    "<div class=\"alert alert-info\">\n",
    "\n",
    "バブルソートの由来\n",
    "\n",
    "大きな値が最後尾にくる様子が、バブル(泡)が浮き上がってくるのに似ているため\n",
    "</div>\n",
    "\n",
    "バブルソートの名前とともに、**「先頭から最後尾まで1回隣り合う要素を比較してスワップすると、 最後尾は最大値になる」**と覚えておきましょう。こう覚えておくと、ループはトータルで何回まわすべきかわかります。"
   ],
   "cell_type": "markdown",
   "metadata": {}
  },
  {
   "cell_type": "code",
   "execution_count": 7,
   "metadata": {},
   "outputs": [],
   "source": [
    "def bubble_sort(a):\n",
    "    for j in range(1, len(a)): \n",
    "        for i in range(len(a)-j):\n",
    "            if a[i] > a[i+1]:\n",
    "                a[i], a[i+1] = a[i+1], a[i] \n",
    "        print(f'@{j}', a)"
   ]
  },
  {
   "cell_type": "code",
   "execution_count": 8,
   "metadata": {},
   "outputs": [
    {
     "output_type": "stream",
     "name": "stdout",
     "text": [
      "@1 [3, 1, 5, 8, 0, 4, 2, 7, 6, 9]\n@2 [1, 3, 5, 0, 4, 2, 7, 6, 8, 9]\n@3 [1, 3, 0, 4, 2, 5, 6, 7, 8, 9]\n@4 [1, 0, 3, 2, 4, 5, 6, 7, 8, 9]\n@5 [0, 1, 2, 3, 4, 5, 6, 7, 8, 9]\n@6 [0, 1, 2, 3, 4, 5, 6, 7, 8, 9]\n@7 [0, 1, 2, 3, 4, 5, 6, 7, 8, 9]\n@8 [0, 1, 2, 3, 4, 5, 6, 7, 8, 9]\n@9 [0, 1, 2, 3, 4, 5, 6, 7, 8, 9]\n[0, 1, 2, 3, 4, 5, 6, 7, 8, 9]\n"
     ]
    }
   ],
   "source": [
    " a = [5, 3, 1, 9, 8, 0, 4, 2, 7, 6] \n",
    " bubble_sort(a)\n",
    " print(a)"
   ]
  },
  {
   "source": [
    "## クイックソート\n",
    "\n",
    "**クイックソート(quick sort)**は、1960 年、Antony Hoare が考案した高速かつエレガントなアルゴリズムです。\n",
    "ソートアルゴリズムの代名詞になっています。\n",
    "\n",
    "__手順__\n",
    "* 適当な数 (ピボット (pivot) と呼ぶ) を選択する\n",
    "* ピボットより小さい要素の集合、大きい要素の集合に分割する\n",
    "* 2 分割された各々の配列を、それぞれ分割できなくなるまで繰り返す\n",
    "\n",
    "![qsort-fs8.png](https://qiita-image-store.s3.ap-northeast-1.amazonaws.com/0/57754/d79f4894-af91-ce69-ccee-9929c642cb3e.png)\n",
    "\n",
    "<div class=\"alert alert-info\">\n",
    "\n",
    "アルゴリズムと言えば..\n",
    "\n",
    "クイックソートというくらい頻出。原理は絶対に理解して覚えておこう！！\n",
    "\n",
    "</div>\n"
   ],
   "cell_type": "markdown",
   "metadata": {}
  },
  {
   "source": [
    "### メモリ効率を気にしない実装法\n",
    "\n",
    "クイックソートは、メモリ効率を気にしなければ、実装はそれほど難しくありません。\n",
    "ピボットでリストをフィルタして、再帰的に分割してゆきます。\n"
   ],
   "cell_type": "markdown",
   "metadata": {}
  },
  {
   "cell_type": "code",
   "execution_count": 10,
   "metadata": {},
   "outputs": [],
   "source": [
    "def quick_sort(a):\n",
    "    if len(a)>1:\n",
    "        # 先頭と最後尾の平均をpivot にする \n",
    "        pivot = (a[0] + a[-1]) / 2\n",
    "        # pivot より大小で二つにわける\n",
    "        b = [x for x in a if x <= pivot]\n",
    "        c = [x for x in a if x > pivot]\n",
    "        print(a, f'={pivot}=>', b, c)   # 動 作 確 認 用\n",
    "        # 分割したリストをそれぞれ再帰的にソート \n",
    "        return quick_sort(b) + quick_sort(c)\n",
    "    return a"
   ]
  },
  {
   "cell_type": "code",
   "execution_count": 12,
   "metadata": {},
   "outputs": [
    {
     "output_type": "stream",
     "name": "stdout",
     "text": [
      "[5, 3, 1, 9, 8, 0, 4, 2, 7, 6] =5.5=> [5, 3, 1, 0, 4, 2] [9, 8, 7, 6]\n[5, 3, 1, 0, 4, 2] =3.5=> [3, 1, 0, 2] [5, 4]\n[3, 1, 0, 2] =2.5=> [1, 0, 2] [3]\n[1, 0, 2] =1.5=> [1, 0] [2]\n[1, 0] =0.5=> [0] [1]\n[5, 4] =4.5=> [4] [5]\n[9, 8, 7, 6] =7.5=> [7, 6] [9, 8]\n[7, 6] =6.5=> [6] [7]\n[9, 8] =8.5=> [8] [9]\n[0, 1, 2, 3, 4, 5, 6, 7, 8, 9]\n"
     ]
    }
   ],
   "source": [
    " a = [5, 3, 1, 9, 8, 0, 4, 2, 7, 6] \n",
    " a = quick_sort(a)\n",
    " print(a)"
   ]
  },
  {
   "source": [
    "クイックソートが長らくソートアルゴリズムの代名詞とされてきたのは、単に高速なだけでなく、メモリ効率も優れていたからです。(昔のコンピュータはメモリが高価でした。)\n",
    "\n",
    "メモリ効率も気にして書いた例です。\n",
    "\n"
   ],
   "cell_type": "markdown",
   "metadata": {}
  },
  {
   "cell_type": "code",
   "execution_count": 13,
   "metadata": {},
   "outputs": [],
   "source": [
    "def quick_sort(a, start , end):\n",
    "    if start < end:\n",
    "        left , right = start , end -1\n",
    "        pivot = (a[start] + a[right]) // 2\n",
    "        while True:\n",
    "            # a[left] >= pivot となる位置を検索\n",
    "            while a[left] < pivot: \n",
    "                left += 1\n",
    "            # a[right] <= pivot となる位置を検索\n",
    "            while pivot < a[right]: \n",
    "                right -= 1\n",
    "            if left >= right: \n",
    "                break\n",
    "            a[left], a[right] = a[right], a[left] \n",
    "            left += 1\n",
    "            right -= 1\n",
    "        # 分割した左を再帰的にソート \n",
    "        quick_sort(a, start , left)\n",
    "        # 分割した右を再帰的にソート \n",
    "        quick_sort(a, right+1, end)"
   ]
  },
  {
   "cell_type": "code",
   "execution_count": 14,
   "metadata": {},
   "outputs": [
    {
     "output_type": "stream",
     "name": "stdout",
     "text": [
      "[0, 1, 2, 3, 4, 5, 6, 7, 8, 9]\n"
     ]
    }
   ],
   "source": [
    "a = [5, 3, 1, 9, 8, 0, 4, 2, 7, 6] \n",
    "quick_sort(a, 0, len(a))\n",
    "print(a)"
   ]
  },
  {
   "source": [
    "\n",
    "最初のクイックソートは、分割するときに、新しくリストを2つ作っています。少なくとも、この段階でメモリは2倍必要になります。一方、あとのクイックソートは、リスト上の先端 (start) と終端 (end) の位置をもって、分割したとき新しいリストを作りません。その代わり、リストの両端 (left, right) から比較して、( left > right) になったとき分割しています。\n",
    "\n",
    "なお、クイックソートはかなり難しい実装に分類されます。すんなり書ける人はそんなにいません。 \n",
    "本講義のノートのソースコードも何度も直していますし、まだバグがあるかもしれません。"
   ],
   "cell_type": "markdown",
   "metadata": {}
  },
  {
   "source": [
    "## アルゴリズム選択\n",
    "\n",
    "ソートアルゴリズムは、同じ問題に対して異なる手順の解法が複数あることを示しています。\n",
    "\n",
    "すると、「どのアルゴリズムを選んだいいのだろうか?」と考える必要が生じます。 \n",
    "\n",
    "アルゴリズムの評価基準は、アルゴリズムを選択する上でヒントとなります。\n",
    "\n",
    "__アルゴリズムの評価基準__\n",
    "\n",
    "* 正当性: 正しさの証明があるか\n",
    "* 効率: ステップ数，計算量と複雑さ (complexity)，平均ケースと最悪ケース\n",
    "* 単純さ，わかりやすさ，プログラムの簡単さ\n",
    "* 健全性，完全性，誤差の少なさ\n",
    "* 安定性\n",
    "\n",
    "計算量と複雑さは、アルゴリズムの性能を評価する重要な指標となります。\n",
    "しかし、性能だけが全てではありません。実装のしやすさも実は重要です。\n",
    "シンプルなアルゴリズムがバグも少なく、実装しやすいので好まれます。\n",
    "\n",
    "また、時代とともにアルゴリズムのトレンドが変わることもあります。昔は、ソートアルゴリズムといえば、ほぼクイックソートでした。しかし、最近はメモリの価格が大幅に下がったため、マージソートの方が望ましいアルゴリズムとされることが増えています。\n"
   ],
   "cell_type": "markdown",
   "metadata": {}
  },
  {
   "source": [
    "### 計算量の見積もり\n",
    "\n",
    "前回、学んだソートアルゴリズムを使って、時間計算量の見積もりをみていきましょう。\n",
    "\n",
    "#### ループを見る\n",
    "\n",
    "時間計算量は、入力サイズ $N$ に依存して繰り返しの回数が決まるループに着目します。\n",
    "\n",
    "バブルソートでは、長さ $N$ のリストを $N$ 回繰り返す2重ループを用いて比較しています。\n",
    "ループ が 2 重なので、時間計算量は $O(N^2)$ となります。(外側のループは $N − 1$ 回などと細かいことを考える必要はありません。)\n",
    "\n",
    "![nn-fs8.png](https://qiita-image-store.s3.ap-northeast-1.amazonaws.com/0/57754/7b0aa1af-d760-0187-4150-d16478367c30.png)\n",
    "\n",
    "#### データ分割に着目\n",
    "\n",
    "入力データを分割する処理があるときは、後述する「分割統治法」の可能性があります。\n",
    "\n",
    "例えば、クリックソートでは、N 回繰り返すループをまわす度に、入力データを(平均して)$N/2$ と半分に分割していきます。この場合は、分割する回数は $O(\\log{N})$ となります。最終的には、 $O(N \\log{N})$となります。\n",
    "\n",
    "![nlogn-fs8.png](https://qiita-image-store.s3.ap-northeast-1.amazonaws.com/0/57754/c476455a-7362-1aaf-a5e9-524869a9e256.png)\n"
   ],
   "cell_type": "markdown",
   "metadata": {}
  },
  {
   "source": [
    "### 最悪ケース計算量と平均ケース計算量\n",
    "\n",
    "クイックソートの計算量は、注意が必要です。クイックソートの計算量は、原理的には$O(N \\log{N})$となりますが、データを分割する方法に依存します。つまり、理想的には$N$個のデータが$N/2, N/2$に分割されることが望ましいですが、最悪の場合$N-1, 1$に分割されることもあります。このような分割が重なると、クイックソートの計算量は$O(N^2)$となります。このような場合の計算量を、文字通り、**最悪ケース計算量**といいます。極めて特殊なケースを仮定しない場合の計算量を**平均ケース計算量**と呼びます。\n"
   ],
   "cell_type": "markdown",
   "metadata": {}
  },
  {
   "source": [
    "### お気楽なマージソート\n",
    "\n",
    "次は、効率を気にせずにアルゴリズム通りに、お気楽に書かれた[マージソート](https://medium-company.com/マージソート/)の実装です。\n"
   ],
   "cell_type": "markdown",
   "metadata": {}
  },
  {
   "source": [
    "def merge_sort(a): \n",
    "    if len(a) <= 1:\n",
    "        return a\n",
    "    \n",
    "    sep = len(a) // 2\n",
    "    b = merge_sort(a[:sep]) \n",
    "    c = merge_sort(a[sep:])\n",
    "\n",
    "    a = []\n",
    "    while len(b) > 0 and len(c) > 0:\n",
    "        # b, c の先頭をみて\n",
    "        b0 = b[0]\n",
    "        c0 = c[0]\n",
    "        # 小さい方を追加する\n",
    "        if b0 < c0: \n",
    "            a.append(b0)\n",
    "            b.pop(0) \n",
    "        else:\n",
    "            a.append(c0)\n",
    "            c.pop(0)\n",
    "    a.extend(b)\n",
    "    a.extend(c) \n",
    "    return a\n",
    "a = [5, 3, 1, 9, 8, 0, 4, 2, 7, 6] \n",
    "merge_sort(a)"
   ],
   "cell_type": "code",
   "metadata": {},
   "execution_count": 1,
   "outputs": [
    {
     "output_type": "execute_result",
     "data": {
      "text/plain": [
       "[0, 1, 2, 3, 4, 5, 6, 7, 8, 9]"
      ]
     },
     "metadata": {},
     "execution_count": 1
    }
   ]
  },
  {
   "source": [
    "<div class=\"alert alert-info\">\n",
    "\n",
    "Let’s try\n",
    "\n",
    "ソースコードを読んで、マージソートの原理を理解しよう。\n",
    "さらに、コードを分析して、平均ケース計算量と最悪ケース計算量を求めてみよう\n",
    "\n",
    "</div>\n",
    "\n",
    "ちなみに、マージソートの教科書的な計算量は、$O(N \\log{N})$です。しかし、上のお気楽なマージソートは少しヤバいところがあります。多分、$O(N^2 \\log{N})$です。どうしてなのか、考えてみましょう。\n"
   ],
   "cell_type": "markdown",
   "metadata": {}
  },
  {
   "source": [
    "### 帰着\n",
    "\n",
    "最後に、同等な計算量のアルゴリズムに帰着して考える方法をみてみましょう。\n",
    "\n",
    "<div class=\"admonition tip\">\n",
    "\n",
    "**例題（中央値）**\n",
    "\n",
    "大きさ N の数列 a の中央値を求める計算量は?\n",
    "\n",
    "</div>\n",
    "\n",
    "中央値とは、順に並んでいるときのちょうど中央の値です。\n",
    "数列 a の中央値は、a がソートされているのなら `a[len(a)//2]` となります。\n",
    "\n",
    "しかし、数列 a が常にソートされていると仮定できないので、まずソートしなければなりません。\n",
    "したがって、中央値を求めるアルゴリズムは、一般にソートアルゴリズムの計算量$O(N \\log{N})$に帰着されます。\n",
    "\n",
    "<div class=\"alert alert-warning\">\n",
    "\n",
    "ちょっと疑問\n",
    "\n",
    "本当にソートは、$O(N \\log{N})$より、効率のよいアルゴリズムはないのか?\n",
    "</div>\n",
    "\n",
    "アルゴリズム論の本質的な問いですが、「もっと計算量の優れたアルゴリズムはない」ことは証明できません。\n",
    "\n",
    "なお、中央値は、ソートを用いず、「$n$ 個の要素をもつ集合の $i$ 番目に小さい要素を計算量 $O(n)$ で 計算するアルゴリズム」に帰着させれば、線形最悪時間で解くこともできるようです。\n",
    "\n"
   ],
   "cell_type": "markdown",
   "metadata": {}
  },
  {
   "source": [
    "## 分割倒置法\n",
    "\n",
    "計算量は、入力データのサイズ $N$ に依存することがわかってきた思います。効率のよいアルゴリズ ムのコツは、入力データのサイズを分割して、$N$の要因を下げることです。このようなアルゴリズム・デザインの戦略を**分割倒置法 (divide-and-conquer)** と呼びます。\n",
    "\n",
    "__分割倒置法の例__\n",
    "\n",
    "* 二分探索　二分法\n",
    "* クイックソート\n",
    "* マージソート\n",
    "\n",
    "分割統治法のコツは、並列アルゴリズムのように単に入力データを分割するだけでなく、分割を再帰的に繰り返し、N/2, N/4, N/8 と細かくしていくことです。\n",
    "\n",
    "<div class=\"admonition tip\">\n",
    "\n",
    "**例題（分割倒置法）**\n",
    "\n",
    "$3^{16}$を分割倒置法で効率よく計算してみよう。\n",
    "\n",
    "</div>\n",
    "\n",
    "まずは、紙とえんぴつを用意して解いてみましょう。\n",
    "\n",
    "<img src=\"https://qiita-image-store.s3.ap-northeast-1.amazonaws.com/0/57754/6bb60326-617c-af55-f7a0-a0ef1bcfd1e2.png\" width=\"30%\" align=\"right\"/>\n",
    "\n",
    "普通に計算すると、3を15回、掛け算することになります。\n",
    "\n",
    "$$\n",
    "3^{16} = 3 \\times 3 \\times 3 \\times 3 \\times 3 \\times 3 \\times 3 \\times 3 \\times 3 \\times 3 \\times 3 \\times 3 \\times 3 \\times 3 \\times 3 \\times 3 \n",
    "$$\n",
    "\n",
    "半分に分割します。\n",
    "\n",
    "$$\n",
    "3^{16} = (3 \\times 3 \\times 3 \\times 3 \\times 3 \\times 3 \\times 3 \\times 3)^{2} \n",
    "$$\n",
    "\n",
    "さらに分割していきます。\n",
    "\n",
    "$$\n",
    "3^{16} = ((3 \\times 3 \\times 3 \\times 3)^{2} )^2\n",
    "$$\n",
    "\n",
    "$$\n",
    "3^{16} = (((3 \\times 3)^{2})^2)^2\n",
    "$$\n",
    "\n",
    "この考え方は、実は繰り返し二乗法です。\n",
    "\n",
    "<div class=\"alert alert-info\">\n",
    "\n",
    "繰り返し二乗法\n",
    "\n",
    "$$\n",
    "pow(m,n) = \\begin{cases}\n",
    "    1 & (n=1\\mbox{のとき}) \\\\\n",
    "    pow(m^2, n/2) & (n\\mbox{が偶数のとき}) \\\\\n",
    "    pow(m^2, n/2)\\times m & (n\\mbox{が奇数のとき}) \\\\\n",
    "  \\end{cases}\n",
    "$$\n",
    "\n",
    "</div>\n"
   ],
   "cell_type": "markdown",
   "metadata": {}
  },
  {
   "source": [
    "## 演習問題\n",
    "\n",
    "ソートやアルゴリズム的な考え方を活用して解ける問題を集めてみました。\n",
    "\n",
    "[課題リスト](../ac.html)より\n",
    "\n",
    "* [ABCスワップ](https://atcoder.jp/contests/abc161/tasks/abc161_a): ボーナス！\n",
    "* [２番目に大きい整数](https://atcoder.jp/contests/joi2021yo1a/tasks/joi2021_yo1a_a)\n",
    "* [abc](https://atcoder.jp/contests/abc093/tasks/abc093_a): 文字ソート\n",
    "* [背の順](https://atcoder.jp/contests/abc041/tasks/abc041_c)\n",
    "* [タスクスケジュール](https://atcoder.jp/contests/abc103/tasks/abc103_a)\n",
    "* [最頻値](https://atcoder.jp/contests/joi2020yo1b/tasks/joi2020_yo1b_c): 統計処理の定番\n",
    "* [マージ](https://atcoder.jp/contests/joi2020yo1a/tasks/joi2020_yo1a_c): マージソートを思い出して\n",
    "* [最大距離](https://atcoder.jp/contests/abc102/tasks/abc102_b)\n",
    "* [ヘビのおもちゃ](https://atcoder.jp/contests/abc067/tasks/abc067_b)\n",
    "* [キャンディの配布](https://atcoder.jp/contests/agc027/tasks/agc027_a): ソートして配ります\n",
    "* [ガイドブック](https://atcoder.jp/contests/abc128/tasks/abc128_b)\n",
    "* [多角形](https://atcoder.jp/contests/abc117/tasks/abc117_b): ソートしてみますか？\n",
    "* [二分探索](https://atcoder.jp/contests/typical-algorithm/tasks/typical_algorithm_a): ソートの応用\n",
    "* [整数屋さん](https://atcoder.jp/contests/abc146/tasks/abc146_c): 二分探索\n",
    "* [最大の和](https://atcoder.jp/contests/joi2007ho/tasks/joi2007ho_a): 問題文は読みにくいけど、良問"
   ],
   "cell_type": "markdown",
   "metadata": {}
  }
 ]
}