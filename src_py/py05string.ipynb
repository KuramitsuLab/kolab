{
 "metadata": {
  "language_info": {
   "codemirror_mode": {
    "name": "ipython",
    "version": 3
   },
   "file_extension": ".py",
   "mimetype": "text/x-python",
   "name": "python",
   "nbconvert_exporter": "python",
   "pygments_lexer": "ipython3",
   "version": "3.9.2-final"
  },
  "orig_nbformat": 2,
  "kernelspec": {
   "name": "python3",
   "display_name": "Python 3.9.2 64-bit",
   "metadata": {
    "interpreter": {
     "hash": "ac2eaa0ea0ebeafcc7822e65e46aa9d4f966f30b695406963e145ea4a91cd4fc"
    }
   }
  }
 },
 "nbformat": 4,
 "nbformat_minor": 2,
 "cells": [
  {
   "source": [
    "# 文字と情報\n",
    "\n",
    "人類の扱う情報の大半は、文字によって伝えられます。だから、文字や文字列を扱うことは、**情報処理**の基礎中の基礎となります。\n",
    "\n",
    "ひとつ嬉しい話をすると、文字列処理はPythonの得意分野です。\n",
    "つまり、とてもプログラミングしやすいです。\n",
    "しっかり練習して、文字列処理をマスターしましょう。\n",
    "\n"
   ],
   "cell_type": "markdown",
   "metadata": {}
  },
  {
   "source": [
    "## 文字\n",
    "\n",
    "文字は、コンピュータの内部では、文字コードと呼ばれる番号で表現されています。\n",
    "\n",
    "![ascii-fs8.png](https://qiita-image-store.s3.ap-northeast-1.amazonaws.com/0/57754/a3570dc4-ba9d-26a1-39e3-2ee18a50ae56.png)\n",
    "\n",
    "文字コードは覚える必要はありません。Python の関数で相互に変換することができます。\n",
    "\n",
    "__文字コードcから文字へ__: `chr(c)`\n"
   ],
   "cell_type": "markdown",
   "metadata": {}
  },
  {
   "cell_type": "code",
   "execution_count": 1,
   "metadata": {},
   "outputs": [
    {
     "output_type": "execute_result",
     "data": {
      "text/plain": [
       "'A'"
      ]
     },
     "metadata": {},
     "execution_count": 1
    }
   ],
   "source": [
    "chr(65)"
   ]
  },
  {
   "source": [
    "__文字cから文字コードへ__: `chr('A')`"
   ],
   "cell_type": "markdown",
   "metadata": {}
  },
  {
   "cell_type": "code",
   "execution_count": null,
   "metadata": {},
   "outputs": [],
   "source": [
    "65"
   ]
  },
  {
   "source": [
    "<div class=\"alert alert-info\">\n",
    "\n",
    "Let's try\n",
    "\n",
    "`あ` の文字コードを調べてみよう！\n",
    "\n",
    "</div>"
   ],
   "cell_type": "markdown",
   "metadata": {}
  },
  {
   "source": [
    "<div class=\"alert alert-info\">\n",
    "\n",
    "Pythonの文字\n",
    "\n",
    "Pythonでは、文字は1文字長の文字列に過ぎません。[ユニコード](https://ja.wikipedia.org/wiki/Unicode)に対応しているため、日本語も１文字として扱うことができます。\n",
    "\n",
    "</div>\n",
    "\n",
    "文字 `c` の種類の判定は文字コードに基づいておこないます。\n",
    "Python は便利な文字列メソッドも用意してくれているので、通常はコメントの方を使います。\n",
    "\n",
    "__数字の判定__\n",
    "```\n",
    "'0' <= c and c <= '9'   # もしくは、c.isdigit()\n",
    "```\n",
    "\n",
    "__英大文字の判定__\n",
    "```\n",
    "'A' <= c and c <= 'Z'　# もしくは、c.isupper()\n",
    "```\n",
    "\n",
    "__英小文字の判定__\n",
    "```\n",
    "'a' <= c and c <= 'z' # もしくは c.islower()\n",
    "```\n",
    "\n",
    "__ひらがなの判定__\n",
    "```\n",
    "'ぁ' <= c and c <= 'ん' \n",
    "```\n",
    "\n",
    "__カタカナの判定__\n",
    "```\n",
    "'ァ' <= c and c <= 'ン' \n",
    "```\n"
   ],
   "cell_type": "markdown",
   "metadata": {}
  },
  {
   "source": [
    "## 文字列\n",
    "\n",
    "文字列は、文字通り、文字の列です。\n",
    "リストと同じように、文字列を先頭から数えて i 番目の文字のように取り出すことができます。\n",
    "\n",
    "__例. 文字列の最初の文字__"
   ],
   "cell_type": "markdown",
   "metadata": {}
  },
  {
   "cell_type": "code",
   "execution_count": 2,
   "metadata": {},
   "outputs": [
    {
     "output_type": "execute_result",
     "data": {
      "text/plain": [
       "'A'"
      ]
     },
     "metadata": {},
     "execution_count": 2
    }
   ],
   "source": [
    "s = \"ABC\"\n",
    "s[0]   # 最初の1文字"
   ]
  },
  {
   "source": [
    "Python は、文字と文字列を区別しません。文字は長さ 1 の文字列となります。`\"A\"`も`'A'`もどちらも文字列リテラルです。文字列`s`の長さは、リストと同様に`len(s)`で得られます。"
   ],
   "cell_type": "markdown",
   "metadata": {}
  },
  {
   "cell_type": "code",
   "execution_count": null,
   "metadata": {},
   "outputs": [],
   "source": [
    "s = 'Hello, World'\n",
    "len(s)"
   ]
  },
  {
   "source": [
    "特殊な文字は、エスケープシーケンスで表現できます。\n",
    "\n",
    "|エスケープシーケンス|意味 |\n",
    "|----|----|\n",
    "|`\\\\`|\tバックスラッシュ|\n",
    "|`\\'`|\t一重引用符|\n",
    "|`\\\"`|\t二重引用符|\n",
    "|`\\a`|\tASCII 端末ベル|\n",
    "|`\\b`|\tASCII バックスペース|\n",
    "|`\\f`|\tASCII フォームフィード|\n",
    "|`\\n`|\tASCII 行送り|\n",
    "|`\\r`|\tASCII 復帰|\n",
    "|`\\t`|\tASCII 水平タブ|\n",
    "|`\\v`|\tASCII 垂直タブ|\n",
    "|`\\xhh`|\t16進数hhを持つASCII文字|\n",
    "|`\\Uxxxxxxxx`|\t32ビットのUnicode文字|\n"
   ],
   "cell_type": "markdown",
   "metadata": {}
  },
  {
   "cell_type": "code",
   "execution_count": null,
   "metadata": {},
   "outputs": [],
   "source": [
    "s = 'Hello\\nWorld\\n'\n",
    "len(s)"
   ]
  },
  {
   "source": [
    "複数行にわたる文字列(テキスト)は、トリプルクオート(`'''`, `\"\"\"`)で囲むことでも記述できます。"
   ],
   "cell_type": "markdown",
   "metadata": {}
  },
  {
   "cell_type": "code",
   "execution_count": null,
   "metadata": {},
   "outputs": [],
   "source": [
    "s = \"\"\"\n",
    "吾輩は猫である\n",
    "名前はまだない\n",
    "\"\"\"\n",
    "len(s)"
   ]
  },
  {
   "source": [
    "### 文字列と文字リスト\n",
    "\n",
    "Pythonのデータ構造は、オブジェクト指向プログラミングの設計手法にしたがって、操作がよく共通化されています。例えば、列の特徴があるデータ構造は、全て`len()`で列の長さが取れ、インデックスで$n$番目の値が得られるようになっています。\n"
   ],
   "cell_type": "markdown",
   "metadata": {}
  },
  {
   "cell_type": "code",
   "execution_count": null,
   "metadata": {},
   "outputs": [],
   "source": [
    "s = \"abc\"\n",
    "print(len(s))\n",
    "print('s[0]', s[0])\n",
    "print('s[-1]', s[-1])\n",
    "\n"
   ]
  },
  {
   "cell_type": "code",
   "execution_count": null,
   "metadata": {},
   "outputs": [],
   "source": [
    "a = ['a', 'b', 'c']\n",
    "print('len(a)', len(a))\n",
    "print('a[0]', a[0])\n",
    "print('a[-1]', a[-1])\n"
   ]
  },
  {
   "source": [
    "文字列と「文字のリスト」の大きな違いは、**破壊的な操作**、つまり変更できるかどうかにあります。\n",
    "リストは変更できますが、文字列は不変で変更できません。\n",
    "\n",
    "<div class=\"alert alert-info\">\n",
    "\n",
    "**不変性(Immutablitiy)**\n",
    "\n",
    "値が変更できないこと\n",
    "（プログラミングでは重要な概念）\n",
    "\n",
    "</div>\n",
    "\n"
   ],
   "cell_type": "markdown",
   "metadata": {}
  },
  {
   "cell_type": "code",
   "execution_count": 21,
   "metadata": {},
   "outputs": [
    {
     "output_type": "error",
     "ename": "TypeError",
     "evalue": "'str' object does not support item assignment",
     "traceback": [
      "\u001b[0;31m---------------------------------------------------------------------------\u001b[0m",
      "\u001b[0;31mTypeError\u001b[0m                                 Traceback (most recent call last)",
      "\u001b[0;32m<ipython-input-21-faf39c17bf80>\u001b[0m in \u001b[0;36m<module>\u001b[0;34m\u001b[0m\n\u001b[1;32m      1\u001b[0m \u001b[0ms\u001b[0m \u001b[0;34m=\u001b[0m \u001b[0;34m\"abc\"\u001b[0m\u001b[0;34m\u001b[0m\u001b[0;34m\u001b[0m\u001b[0m\n\u001b[0;32m----> 2\u001b[0;31m \u001b[0ms\u001b[0m\u001b[0;34m[\u001b[0m\u001b[0;36m0\u001b[0m\u001b[0;34m]\u001b[0m \u001b[0;34m=\u001b[0m \u001b[0;34m\"A\"\u001b[0m \u001b[0;31m# 先頭を変更 (ただし、エラーになります)\u001b[0m\u001b[0;34m\u001b[0m\u001b[0;34m\u001b[0m\u001b[0m\n\u001b[0m",
      "\u001b[0;31mTypeError\u001b[0m: 'str' object does not support item assignment"
     ]
    }
   ],
   "source": [
    "s = \"abc\"\n",
    "s[0] = \"A\" # 先頭を変更 (ただし、エラーになります)"
   ]
  },
  {
   "cell_type": "code",
   "execution_count": 22,
   "metadata": {},
   "outputs": [
    {
     "output_type": "stream",
     "name": "stdout",
     "text": [
      "['A', 'b', 'c']\n"
     ]
    }
   ],
   "source": [
    "a = ['a', 'b', 'c']\n",
    "a[0] = 'A'  # こちらは変更可能\n",
    "print(a)"
   ]
  },
  {
   "source": [
    "__文字列の内容を変更したいとき__\n",
    "\n",
    "文字列を文字リストに変換して操作することができます。\n",
    "\n",
    "* 文字列から文字リストに変換する: `cs = list(s)`\n",
    "* **文字リストを変更する**\n",
    "* 文字リストから文字列に戻す `s = \"\".join(cs)`\n",
    "\n",
    "<div class=\"admonition tip\">\n",
    "\n",
    "**例題（ひらがなとカタカナ）**\n",
    "\n",
    "文字列中のひらがなをカタカナに変換してみよう\n",
    "\n",
    "入力例：\n",
    "```\n",
    "めじろはなこ\n",
    "```\n",
    "\n",
    "出力例：\n",
    "```\n",
    "メジロハナコ\n",
    "```\n",
    "</div>\n",
    "\n",
    "文字列を文字のリストに変換し、ひらがなの場合は文字コードを96大きくします。\n",
    "そして、再度、文字列に変換して戻します。"
   ],
   "cell_type": "markdown",
   "metadata": {}
  },
  {
   "cell_type": "code",
   "execution_count": 3,
   "metadata": {},
   "outputs": [
    {
     "output_type": "stream",
     "name": "stdout",
     "text": [
      "メジロハナコ\n"
     ]
    }
   ],
   "source": [
    "s = \"めじろはなこ\"\n",
    "cs = list(s)  # 文字のリストに変換\n",
    "for i, c in enumerate(cs):\n",
    "    if 'ぁ' <= c and c <= 'ん':\n",
    "        cs[i] = chr(ord(c) + 96)\n",
    "s = ''.join(cs) # 文字列に変換\n",
    "print(s)"
   ]
  },
  {
   "source": [
    "## 文字列操作\n",
    "\n",
    "文字列は、メソッドを使って文字列操作することができます。\n",
    "Pythonは、便利なメソッドが揃っているので是非使えるように練習しておきましょう。\n",
    "\n",
    "|**基本操作**||\n",
    "|--|--|\n",
    "|`len(s)`|文字列`s`の文字数|\n",
    "|`s[i]`|文字列`s`の`i`番目の文字|\n",
    "|`s[i:j]`|`i` 番目から `j` 番目までの部分文字列|\n",
    "|`s[i:]`|`i` 番目から末尾までの部分文字列|\n",
    "|`s[i:j]`|先頭から`j`番目までの部分文字列|\n",
    "|`x in s`|文字列sにxが含まれるかどうか|\n",
    "|`s.find(x)`|文字列s内の最初のxの位置(ない場合は-1)|\n",
    "|`s.rfind(x)`|文字列s内の最後のxの位置(ない場合は-1)|\n",
    "|`s.count(x)`|文字列s内のxの出現回数|\n",
    "\n",
    "|**新しい文字列**||\n",
    "|--|--|\n",
    "|`\"\"`|空の文字数|\n",
    "|`str(e)`|eの文字列表記|\n",
    "|`f\"{e}\"`| 書式文字列中に式eを埋め込んだ文字列|\n",
    "|`s.join(a)`| 文字列リストaをsで連結した文字列|\n",
    "\n",
    "|**文字列の判定**||\n",
    "|--|--|\n",
    "|`s.startswith(x)`|文字列sがxで始まるかどうか|\n",
    "|`s.endswith(x)`|文字列sがxで終わるかどうか|\n",
    "|`s.isupper()`|文字列sが英大文字かどうか|\n",
    "|`s.islower()`|文字列sが英小文字かどうか|\n",
    "|`s.isdigit()`|文字列sが数字かどうか|\n",
    "\n",
    "|**文字列の変形**||\n",
    "|--|--|\n",
    "|`s + t`|文字列sをtを連結した文字列|\n",
    "|`s * n`|文字列sをn回連結した文字列|\n",
    "|`s[::-1]`|文字列sを反転した文字列|\n",
    "|`s.replace(o, n)`|文字列 s 内の o を n に置き換えた文字列|\n",
    "|`s.upper()`|文字列 s を英大文字に変換した文字列|\n",
    "|`s.lower()`|文字列 s を英小文字に変換した文字列|\n",
    "|`list(s)`|文字列 s の文字リスト|\n",
    "|`s.split(c)`|文字列 s を c で分割した文字列のリスト|\n"
   ],
   "cell_type": "markdown",
   "metadata": {}
  },
  {
   "source": [
    "<div class=\"alert alert-info\">\n",
    "\n",
    "文字列ライブラリ\n",
    "\n",
    "Python には、さまざまな文字列ライブラリがあります。\n",
    "\n",
    "* 文字列操作: https://docs.python.org/ja/3/library/string.html\n",
    "* 正規表現: https://docs.python.org/ja/3/library/re.html\n",
    "\n",
    "</div>"
   ],
   "cell_type": "markdown",
   "metadata": {}
  },
  {
   "source": [
    "<div class=\"admonition tip\">\n",
    "\n",
    "**例題（文字列操作）**\n",
    "\n",
    "次を文字列操作によって求める\n",
    "\n",
    "1. `'Hello'`を全て英大文字に変換する\n",
    "2. `'Hello'`の中に含まれる`l`の数\n",
    "3. `-123`の先頭の`-`を取り除いた部分文字列\n",
    "4. `'*'`が28個続く文字列\n",
    "5. `'12'`, `'50'`, `'00'`を`':'`で連結する\n",
    "6. `1,3,4,8`をカンマ区切りから空白区切り(`1 3 4 8`)に変換する\n",
    "7. `1,3,4,8`から、数列(`[1,3,4,8]`)に変換する\n",
    "</div>\n",
    "\n"
   ],
   "cell_type": "markdown",
   "metadata": {}
  },
  {
   "cell_type": "code",
   "execution_count": 12,
   "metadata": {},
   "outputs": [
    {
     "output_type": "execute_result",
     "data": {
      "text/plain": [
       "'HELLO'"
      ]
     },
     "metadata": {},
     "execution_count": 12
    }
   ],
   "source": [
    "s = 'Hello'\n",
    "s.upper()"
   ]
  },
  {
   "cell_type": "code",
   "execution_count": 13,
   "metadata": {},
   "outputs": [
    {
     "output_type": "execute_result",
     "data": {
      "text/plain": [
       "2"
      ]
     },
     "metadata": {},
     "execution_count": 13
    }
   ],
   "source": [
    "s = \"Hello\"\n",
    "s.count('l')"
   ]
  },
  {
   "cell_type": "code",
   "execution_count": 14,
   "metadata": {},
   "outputs": [
    {
     "output_type": "execute_result",
     "data": {
      "text/plain": [
       "'123'"
      ]
     },
     "metadata": {},
     "execution_count": 14
    }
   ],
   "source": [
    "s = \"-123\"\n",
    "s[1:]"
   ]
  },
  {
   "cell_type": "code",
   "execution_count": 15,
   "metadata": {},
   "outputs": [
    {
     "output_type": "execute_result",
     "data": {
      "text/plain": [
       "'****************************'"
      ]
     },
     "metadata": {},
     "execution_count": 15
    }
   ],
   "source": [
    "s = '*'\n",
    "s * 28"
   ]
  },
  {
   "cell_type": "code",
   "execution_count": 16,
   "metadata": {},
   "outputs": [
    {
     "output_type": "execute_result",
     "data": {
      "text/plain": [
       "'12:50:00'"
      ]
     },
     "metadata": {},
     "execution_count": 16
    }
   ],
   "source": [
    "a = ['12', '50', '00']\n",
    "':'.join(a)"
   ]
  },
  {
   "cell_type": "code",
   "execution_count": 17,
   "metadata": {},
   "outputs": [
    {
     "output_type": "execute_result",
     "data": {
      "text/plain": [
       "'1 3 4 8'"
      ]
     },
     "metadata": {},
     "execution_count": 17
    }
   ],
   "source": [
    "s = '1,3,4,8'\n",
    "s.replace(',', ' ')"
   ]
  },
  {
   "cell_type": "code",
   "execution_count": 18,
   "metadata": {},
   "outputs": [
    {
     "output_type": "execute_result",
     "data": {
      "text/plain": [
       "['1', '3', '4', '8']"
      ]
     },
     "metadata": {},
     "execution_count": 18
    }
   ],
   "source": [
    "s = '1,3,4,8'\n",
    "s.split(',')  # このままでは文字のリスト"
   ]
  },
  {
   "cell_type": "code",
   "execution_count": 20,
   "metadata": {},
   "outputs": [
    {
     "output_type": "execute_result",
     "data": {
      "text/plain": [
       "[1, 3, 4, 8]"
      ]
     },
     "metadata": {},
     "execution_count": 20
    }
   ],
   "source": [
    "s = '1,3,4,8'\n",
    "[int(c) for c in s.split(',')]"
   ]
  },
  {
   "source": [
    "<div class=\"admonition tip\">\n",
    "\n",
    "**例題（数字の和）**\n",
    "\n",
    "図のようなリング状の文字列 s の任意の位置から、時計回りに連続した文字をいくつか選んで、\n",
    "文字列 p が作れるかを判定するプログラムを作成してください。\n",
    "\n",
    "![リング](https://judge.u-aizu.ac.jp/onlinejudge/IMAGE2/ITP1_8_D.png)\n",
    "\n",
    "\n",
    "入力例\n",
    "```\n",
    "vanceknowledgetoad\n",
    "advance\n",
    "```\n",
    "\n",
    "出力例\n",
    "```\n",
    "True\n",
    "```\n",
    "\n",
    "入力例\n",
    "```\n",
    "vanceknowledgetoad\n",
    "advanced\n",
    "```\n",
    "\n",
    "出力例\n",
    "```\n",
    "False\n",
    "```\n",
    "\n",
    "出典 [AOJ ITP1_8_D Ring](https://judge.u-aizu.ac.jp/onlinejudge/description.jsp?id=ITP1_8_D&lang=ja)\n",
    "</div>\n",
    "\n",
    "このプログラムは、文字列処理が苦手なC言語で解こうとすると、かなり難問です。\n",
    "ただし、Pythonなら少し工夫すれば、基本文字列操作で解くことができます。"
   ],
   "cell_type": "markdown",
   "metadata": {}
  },
  {
   "cell_type": "code",
   "execution_count": null,
   "metadata": {},
   "outputs": [],
   "source": [
    "s = \"vanceknowledgetoad\"\n",
    "p = \"advance\"\n",
    "p in s + s "
   ]
  },
  {
   "source": [
    "<div class=\"alert alert-warning\">\n",
    "\n",
    "どうして文字列`s`を連結しているの？\n",
    "\n",
    "と、質問されることがありますが、連結するとどうなるか落ち着いて考えてみてください。\n",
    "\n",
    "</div>"
   ],
   "cell_type": "markdown",
   "metadata": {}
  },
  {
   "source": [
    "<div class=\"admonition tip\">\n",
    "\n",
    "**例題（数字の和）**\n",
    "\n",
    "与えられた数の各桁の和を計算するプログラムを作成して下さい。\n",
    "\n",
    "入力例\n",
    "```\n",
    "1234\n",
    "```\n",
    "\n",
    "出力例\n",
    "```\n",
    "10\n",
    "```\n",
    "\n",
    "出典 [AOJ ITP1_8_B Sum of Numbers](https://judge.u-aizu.ac.jp/onlinejudge/description.jsp?id=ITP1_8_B&lang=ja)\n",
    "</div>\n",
    "\n",
    "まず、基本通り、確実にプログラミングできるようになりましょう。"
   ],
   "cell_type": "markdown",
   "metadata": {}
  },
  {
   "cell_type": "code",
   "execution_count": null,
   "metadata": {},
   "outputs": [],
   "source": [
    "s = \"1234\"\n",
    "n = 0\n",
    "for i in range(len(s)): # 文字列の大きさだけ繰り返す\n",
    "    n += int(s[i])\n",
    "print(n)"
   ]
  },
  {
   "cell_type": "code",
   "execution_count": 10,
   "metadata": {},
   "outputs": [
    {
     "output_type": "stream",
     "name": "stdout",
     "text": [
      "10\n"
     ]
    }
   ],
   "source": [
    "s = \"1234\"\n",
    "n = 0\n",
    "for c in list(s):  # 文字のリストとして1文字ずつ処理する\n",
    "    n += int(c)\n",
    "print(n)"
   ]
  },
  {
   "source": [
    "リスト内包記法を使えば、コンパクトに書くことができるようになります。\n",
    "（書ける必要はありまえんが、ソースコードを読んで理解するためには読めるようになる必要があります。）"
   ],
   "cell_type": "markdown",
   "metadata": {}
  },
  {
   "cell_type": "code",
   "execution_count": 11,
   "metadata": {},
   "outputs": [
    {
     "output_type": "execute_result",
     "data": {
      "text/plain": [
       "10"
      ]
     },
     "metadata": {},
     "execution_count": 11
    }
   ],
   "source": [
    "s = \"1234\"\n",
    "sum(int(c) for c in list(s)) "
   ]
  },
  {
   "source": [
    "<div class=\"alert alert-info\">\n",
    "\n",
    "リスト内包記法の[]を省略\n",
    "\n",
    "リスト内包記法を引数で用いるときは、`[ ]`を省略してもよいです。\n",
    "\n",
    "```\n",
    "sum([int(c) for c in list(s)]) \n",
    "```\n",
    "\n",
    "<div>"
   ],
   "cell_type": "markdown",
   "metadata": {}
  },
  {
   "source": [
    "### 辞書を使ってみる\n",
    "\n",
    "<div class=\"admonition tip\">\n",
    "\n",
    "**例題（文字の数）**\n",
    "\n",
    "文字列`s`に含まれる、各アルファベットの数を数えるプログラムを作成して下さい。 \n",
    "なお、英小文字と英大文字は区別しません。\n",
    "\n",
    "\n",
    "入力例\n",
    "```\n",
    "This is a pen.\n",
    "```\n",
    "\n",
    "出力例\n",
    "```\n",
    "a : 1\n",
    "e : 1\n",
    "h : 1\n",
    "i : 2\n",
    "n : 1\n",
    "p : 1\n",
    "s : 2\n",
    "t : 1\n",
    "```\n",
    "\n",
    "出典 [AOJ ITP1_8_C Counting Characters](https://judge.u-aizu.ac.jp/onlinejudge/description.jsp?id=ITP1_8_C&lang=ja)\n",
    "</div>\n",
    "\n",
    "__ヒント__\n",
    "\n",
    "* 文字列内のアルファベットを 文字コード c に変換し、`count[c] += 1`する\n",
    "* 文字列内の文字をすべて、辞書で数え、アルファベットのみ出力する\n",
    "\n",
    "**辞書(dict)**は、文字列をキーして値を管理できるデータ構造です。\n",
    "\n",
    "まずは、辞書って便利だなと感じてください。\n"
   ],
   "cell_type": "markdown",
   "metadata": {}
  },
  {
   "cell_type": "code",
   "execution_count": 9,
   "metadata": {},
   "outputs": [
    {
     "output_type": "stream",
     "name": "stdout",
     "text": [
      "{'t': 1, 'h': 1, 'i': 2, 's': 2, ' ': 3, 'a': 1, 'p': 1, 'e': 1, 'n': 1, '.': 1}\na : 1\ne : 1\nh : 1\ni : 2\nn : 1\np : 1\ns : 2\nt : 1\n"
     ]
    }
   ],
   "source": [
    "# 入力\n",
    "s = \"This is a pen.\"\n",
    "\n",
    "d = {} #空の辞書を作る\n",
    "\n",
    "for c in list(s.lower()):\n",
    "    d[c] = d.get(c, 0) + 1\n",
    "\n",
    "print(d)\n",
    "\n",
    "for key in sorted(d.keys()):\n",
    "    if key.isalpha():\n",
    "        print(key, ':', d[key])\n"
   ]
  },
  {
   "source": [
    "辞書は、リストのインデックス(数値)の代わりに文字列が使えるようになります。\n",
    "文字列を学んだら、あわせてマスターしておきたいデータ構造です。\n",
    "\n",
    "<div class=\"alert alert-info\">\n",
    "\n",
    "主な辞書(d)の操作\n",
    "\n",
    "| コード | 説明|\n",
    "|--|-|\n",
    "|`d = {}` | 空の辞書を生成し、d という名前にする|\n",
    "|`d[key]` | `key` に対する値をえる (key がない場合はエラー) \n",
    "|`d.get(key,v)`| `key に対する値をえる (key がない場合は v を使う)|\n",
    "|`key in d`| 辞書内`d`に `key` が存在するかどうか?`|\n",
    "|`d[key]=v`| `key` に対応する値`v`をセットする|\n",
    "|`len(d)`  | 辞書 `d` の大きさ(キーの数) をえる|\n",
    "|`d.keys()`| 辞書 d のキーのリストをえる|\n",
    "\n",
    "</div>"
   ],
   "cell_type": "markdown",
   "metadata": {}
  },
  {
   "source": [
    "## 演習問題\n",
    "\n",
    "簡単な文字列問題を集めてみました。\n",
    "\n",
    "* [文字列の連結](https://atcoder.jp/contests/abc149/tasks/abc149_a)\n",
    "* [文字列の比較](https://atcoder.jp/contests/abc152/tasks/abc152_b)\n",
    "* [文字の置き換え](https://atcoder.jp/contests/abc154/tasks/abc154_b)\n",
    "* [クリスマスイブ](https://atcoder.jp/contests/abc115/tasks/abc115_a): if文使わずに書いてみよう\n",
    "* [天気予報](https://atcoder.jp/contests/abc139/tasks/abc139_a)\n",
    "* [９月９日](https://atcoder.jp/contests/abc073/tasks/abc073_a)\n",
    "* [アルファベット](https://atcoder.jp/contests/abc171/tasks/abc171_a): 英大文字か英小文字の判定\n",
    "* [セキュリティコード](https://atcoder.jp/contests/abc131/tasks/abc131_a): 入力しやすい\n",
    "* [Coffee](https://atcoder.jp/contests/abc160/tasks/abc160_a)\n",
    "* [しりとり](https://atcoder.jp/contests/abc060/tasks/abc060_a)\n",
    "* [シーザー暗号](https://atcoder.jp/contests/joi2007yo/tasks/joi2007yo_c)\n",
    "* [ROT N](https://atcoder.jp/contests/abc146/tasks/abc146_b): これもシーザー暗号\n",
    "* [文字列の置き換え](https://atcoder.jp/contests/abc111/tasks/abc111_a): ちょっと工夫してください\n",
    "* [エコー](https://atcoder.jp/contests/abc145/tasks/abc145_b): 部分文字列の練習です\n",
    "* [...](https://atcoder.jp/contests/abc168/tasks/abc168_b): 実用的な文字列処理\n",
    "* [奇数文字目](https://atcoder.jp/contests/abc072/tasks/abc072_b): スライスでもできます\n",
    "* [クイズ](https://atcoder.jp/contests/abc184/tasks/abc184_b)"
   ],
   "cell_type": "markdown",
   "metadata": {}
  }
 ]
}