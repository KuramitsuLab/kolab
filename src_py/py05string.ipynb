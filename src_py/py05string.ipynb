{
 "metadata": {
  "language_info": {
   "codemirror_mode": {
    "name": "ipython",
    "version": 3
   },
   "file_extension": ".py",
   "mimetype": "text/x-python",
   "name": "python",
   "nbconvert_exporter": "python",
   "pygments_lexer": "ipython3",
   "version": "3.9.1-final"
  },
  "orig_nbformat": 2,
  "kernelspec": {
   "name": "python3",
   "display_name": "Python 3.9.1 64-bit",
   "metadata": {
    "interpreter": {
     "hash": "ac2eaa0ea0ebeafcc7822e65e46aa9d4f966f30b695406963e145ea4a91cd4fc"
    }
   }
  }
 },
 "nbformat": 4,
 "nbformat_minor": 2,
 "cells": [
  {
   "source": [
    "# 文字列\n",
    "\n",
    "プログラミングの鍵となるリストと繰り返しについて説明します。\n",
    "\n"
   ],
   "cell_type": "markdown",
   "metadata": {}
  },
  {
   "source": [
    "## TODO"
   ],
   "cell_type": "markdown",
   "metadata": {}
  },
  {
   "source": [
    "## 見本\n",
    "\n",
    "<div class=\"alert alert-info\">\n",
    "\n",
    "Let's try\n",
    "\n",
    "`2 ** (1//2)` が、正しく $\\sqrt{2}$ にならない理由を考えてみよう\n",
    "\n",
    "</div>\n",
    "\n",
    "まずは、リストを使わなくても解ける問題ですが、リストの練習を兼ねて解いてみましょう。\n",
    "\n",
    "### 平均点\n",
    "\n",
    "<div class=\"admonition tip\">\n",
    "\n",
    "**例題（平均点）**\n",
    "\n",
    "期末試験は5人受験した。\n",
    "点数が40点未満の生徒は全員，補習を受け，成績が40点になった。\n",
    "5人の平均点を求めよ。\n",
    "\n",
    "入力例：\n",
    "```\n",
    "10\n",
    "65\n",
    "100\n",
    "30\n",
    "95\n",
    "```\n",
    "\n",
    "出力例：\n",
    "```\n",
    "68\n",
    "```\n",
    "\n",
    "[AtCoder (JOI2014 予選)](https://atcoder.jp/contests/joi2014yo/tasks/joi2014yo_a)\n",
    "\n",
    "</div>\n",
    "\n",
    "__(解法) リストを使う場合__\n",
    "\n",
    "1. 期末試験を記録する空の得点リスト `scores` を用意する\n",
    "2. 5人分繰り返し、点数を読んで、`scores` に追加する \n",
    "3. 平均点は `sum(scores) // 5`\n",
    "\n",
    "\n",
    "\n",
    "|Python|説明|\n",
    "|--------|-------------|\n",
    "|`max(a)`|数列`a`の最大値|\n",
    "|`min(a)`|数列`a`の最小値|\n",
    "|`sum(a)`|数列`a`の合計値| \n"
   ],
   "cell_type": "markdown",
   "metadata": {}
  },
  {
   "source": [
    "## 演習問題\n",
    "\n",
    "* [文字列の連結](https://atcoder.jp/contests/abc149/tasks/abc149_a)\n",
    "* [文字列の比較](https://atcoder.jp/contests/abc152/tasks/abc152_b)\n",
    "* [文字の置き換え](https://atcoder.jp/contests/abc154/tasks/abc154_b)\n",
    "* [クリスマスイブ](https://atcoder.jp/contests/abc115/tasks/abc115_a): if文使わずに書いてみよう\n",
    "* [天気予報](https://atcoder.jp/contests/abc139/tasks/abc139_a)\n",
    "* [９月９日](https://atcoder.jp/contests/abc073/tasks/abc073_a)\n",
    "* [アルファベット](https://atcoder.jp/contests/abc171/tasks/abc171_a): 英大文字か英小文字の判定\n",
    "* [セキュリティコード](https://atcoder.jp/contests/abc131/tasks/abc131_a): 入力しやすい\n",
    "* [Coffee](https://atcoder.jp/contests/abc160/tasks/abc160_a)\n",
    "* [しりとり](https://atcoder.jp/contests/abc060/tasks/abc060_a)\n",
    "* [文字列の置き換え](https://atcoder.jp/contests/abc111/tasks/abc111_a): ちょっと工夫してください\n",
    "* [エコー](https://atcoder.jp/contests/abc145/tasks/abc145_b): 部分文字列の練習です\n",
    "* [...](https://atcoder.jp/contests/abc168/tasks/abc168_b): 実用的な文字列処理\n",
    "* [奇数文字目](https://atcoder.jp/contests/abc072/tasks/abc072_b): スライスでもできます"
   ],
   "cell_type": "markdown",
   "metadata": {}
  }
 ]
}