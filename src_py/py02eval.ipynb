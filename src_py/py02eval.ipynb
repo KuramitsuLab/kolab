{
 "metadata": {
  "language_info": {
   "codemirror_mode": {
    "name": "ipython",
    "version": 3
   },
   "file_extension": ".py",
   "mimetype": "text/x-python",
   "name": "python",
   "nbconvert_exporter": "python",
   "pygments_lexer": "ipython3",
   "version": "3.9.1-final"
  },
  "orig_nbformat": 2,
  "kernelspec": {
   "name": "python3",
   "display_name": "Python 3.9.1 64-bit ('3.9.1': pyenv)",
   "metadata": {
    "interpreter": {
     "hash": "9f55f5de1e6ba7a1204849b8b9d65d3b9a2874d2b0bc493b43260951a67563e8"
    }
   }
  }
 },
 "nbformat": 4,
 "nbformat_minor": 2,
 "cells": [
  {
   "source": [
    "# 変数を評価する\n",
    "\n",
    "\n",
    "\n"
   ],
   "cell_type": "markdown",
   "metadata": {}
  },
  {
   "source": [
    "## 計算してみよう\n",
    "\n",
    "コンピュータは、その名前が由来する通り、計算機です。\n",
    "**計算**することは、プログラミングの基礎となります。\n",
    "\n",
    "まず、コンピュータに計算させることを学びます。\n",
    "\n",
    "今回もColabを使いながらハンズオン演習していきましょう。\n",
    "\n",
    "<img src=\"https://qiita-image-store.s3.ap-northeast-1.amazonaws.com/0/57754/dd518dc4-71b7-298d-cb03-dc525cf0205d.png\" width=\"90%\" />\n",
    "\n"
   ],
   "cell_type": "markdown",
   "metadata": {}
  },
  {
   "source": [
    "### 数式とプログラミング\n",
    "\n",
    "Pythonは、**できる限り新しいことを覚えなく**ても\n",
    "プログラムを書けるように工夫されて作られています。\n",
    "だから、数式を計算するとき、中学校から習ってきた数式を**ほぼ**そのまま使えるようになっています。\n",
    "\n",
    "| 数式  | Python  | 説明 | \n",
    "| ----- | ------- | ---- | \n",
    "| $x+y$ | `x + y` | x に y を足した値(加算) | \n",
    "| $x-y$ | `x - y` | x から y を引いた値(減算) | \n",
    "| $x \\times y$ | `x * y` | x に y を掛けた値 (乗算)| \n",
    "| $x^y$ | `x ** y` | x の y 乗（冪乗） | \n",
    "| $x \\div y$ | `x / y` | x を y で割った値 | \n",
    "| $\\lfloor x / y \\rfloor$ | `x // y` | x を y で割った商（**小数点以下切り捨て**) | \n",
    "| $\\lceil x / y \\rceil$ | `(x+y-1)//y` | x / yの切り上げ | \n",
    "| $x \\mod y$ | `x % y` | x を y で割った余り | \n",
    "\n",
    "<div class=\"alert alert-warning\">\n",
    "\n",
    "ちなみに\n",
    "\n",
    "演算子の記号が多少、異なるのは、コンピュータ上で扱える文字コードに制限があったからです。\n",
    "記号の違いに意味はありません。\n",
    "</div>\n",
    "\n"
   ],
   "cell_type": "markdown",
   "metadata": {}
  },
  {
   "source": [
    "<div class=\"admonition tip\">\n",
    "\n",
    "**例題（四則演算）**\n",
    "\n",
    "次の計算をしてみよう\n",
    "\n",
    "1. $1\\times2+3$\n",
    "2. $(1+2)\\times3$\n",
    "3. $7$ を $2$ で割った商(小数点以下切り捨て）\n",
    "4. $2^3$\n",
    "5. $\\sqrt{2}$ (ヒント: $2^{\\frac{1}{2}}$)\n",
    "\n",
    "</div>\n",
    "\n",
    "<img src=\"https://qiita-image-store.s3.ap-northeast-1.amazonaws.com/0/57754/0f9c2b8d-9b0b-e130-e4af-4a4b5c638549.png\" align=\"right\"/>\n"
   ],
   "cell_type": "markdown",
   "metadata": {}
  },
  {
   "source": [
    "(正解)　$1\\times2+3$"
   ],
   "cell_type": "markdown",
   "metadata": {}
  },
  {
   "cell_type": "code",
   "execution_count": 7,
   "metadata": {},
   "outputs": [
    {
     "output_type": "execute_result",
     "data": {
      "text/plain": [
       "5"
      ]
     },
     "metadata": {},
     "execution_count": 7
    }
   ],
   "source": [
    "1 * 2 + 3"
   ]
  },
  {
   "cell_type": "code",
   "execution_count": 19,
   "metadata": {},
   "outputs": [
    {
     "output_type": "execute_result",
     "data": {
      "text/plain": [
       "5"
      ]
     },
     "metadata": {},
     "execution_count": 19
    }
   ],
   "source": [
    "1*2+3    # 空白は省略してもよい"
   ]
  },
  {
   "source": [
    "(正解)　$(1+2)\\times3$ : 優先したい演算は$( )$で囲みます"
   ],
   "cell_type": "markdown",
   "metadata": {}
  },
  {
   "cell_type": "code",
   "execution_count": 8,
   "metadata": {},
   "outputs": [
    {
     "output_type": "execute_result",
     "data": {
      "text/plain": [
       "9"
      ]
     },
     "metadata": {},
     "execution_count": 8
    }
   ],
   "source": [
    "(1 + 2) * 3"
   ]
  },
  {
   "source": [
    "(正解) 7 を 2 で割った商(小数点以下切り捨て）"
   ],
   "cell_type": "markdown",
   "metadata": {}
  },
  {
   "cell_type": "code",
   "execution_count": 9,
   "metadata": {},
   "outputs": [
    {
     "output_type": "execute_result",
     "data": {
      "text/plain": [
       "3"
      ]
     },
     "metadata": {},
     "execution_count": 9
    }
   ],
   "source": [
    "7 // 2"
   ]
  },
  {
   "cell_type": "code",
   "execution_count": 20,
   "metadata": {},
   "outputs": [
    {
     "output_type": "execute_result",
     "data": {
      "text/plain": [
       "3.5"
      ]
     },
     "metadata": {},
     "execution_count": 20
    }
   ],
   "source": [
    "7 / 2   # 小数点以下も求めるとき"
   ]
  },
  {
   "source": [
    "(正解) $2^3$"
   ],
   "cell_type": "markdown",
   "metadata": {}
  },
  {
   "cell_type": "code",
   "execution_count": 10,
   "metadata": {},
   "outputs": [
    {
     "output_type": "execute_result",
     "data": {
      "text/plain": [
       "8"
      ]
     },
     "metadata": {},
     "execution_count": 10
    }
   ],
   "source": [
    "2 * 2 * 2"
   ]
  },
  {
   "cell_type": "code",
   "execution_count": 11,
   "metadata": {},
   "outputs": [
    {
     "output_type": "execute_result",
     "data": {
      "text/plain": [
       "8"
      ]
     },
     "metadata": {},
     "execution_count": 11
    }
   ],
   "source": [
    "2 ** 3"
   ]
  },
  {
   "source": [
    "(正解) $\\sqrt{2}$"
   ],
   "cell_type": "markdown",
   "metadata": {}
  },
  {
   "cell_type": "code",
   "execution_count": 12,
   "metadata": {},
   "outputs": [
    {
     "output_type": "execute_result",
     "data": {
      "text/plain": [
       "1.4142135623730951"
      ]
     },
     "metadata": {},
     "execution_count": 12
    }
   ],
   "source": [
    "2 ** (1/2)"
   ]
  },
  {
   "source": [
    "<div class=\"alert alert-info\">\n",
    "\n",
    "Let's try\n",
    "\n",
    "`2 ** (1//2)` が、正しく $\\sqrt{2}$ にならない理由を考えてみよう\n",
    "\n",
    "</div>\n",
    "\n"
   ],
   "cell_type": "markdown",
   "metadata": {}
  },
  {
   "source": [
    "### 整数と浮動小数点数\n",
    "\n",
    "[浮動少数点数(float)](https://ja.wikipedia.org/wiki/浮動小数点数)は、コンピュータ上で実数を擬似的に表現する値です。\n",
    "Pythonの上では、整数(int)と浮動小数点数はしっかり区別されます。\n",
    "\n",
    "![int-float-fs8.png](https://qiita-image-store.s3.ap-northeast-1.amazonaws.com/0/57754/690dc1cd-f4cc-119b-8ae9-907ac24075ae.png)\n",
    "\n"
   ],
   "cell_type": "markdown",
   "metadata": {}
  },
  {
   "source": [
    "### 関数による計算\n",
    "\n",
    "Pythonでは、複雑な計算は**関数**を用いて行います。\n",
    "\n",
    "関数は、後から述べる通り、自分で定義して利用することができますが、\n",
    "既に定義されている**便利な関数**を利用することもできます。\n",
    "\n",
    "まずは、**便利な関数**を利用する方法を覚えましょう。\n",
    "\n",
    "| 数式  | Python  | 説明 | \n",
    "| ----- | ------- | ---- | \n",
    "| $\\|x\\|$ | `abs(x)` | x の絶対値 | \n",
    "| $\\mathrm{max}\\{x, y\\}$ | `max(x,y)` | xとyの最大値（大きい方の値） | \n",
    "| $\\mathrm{min}\\{x, y\\}$ | `min(x,y)` | xとyの最小値（小さい方の値） | \n",
    "| $\\sqrt{x}$ | `math.sqrt(x)` | xの平方根 | \n",
    "| $\\lceil x \\rceil$ | `math.ciel(x)` | xの（小数点以下）切り上げ | \n",
    "| $\\lfloor x \\rfloor$ | `math.floor(x)` | xの(小数点以下）切り捨て | \n",
    "| $x!$ | `math.factorial(x)` | xの階乗 | \n",
    "| $\\mathrm{GCD}(x, y)$ | `math.gcd(x,y)` | xとyの最大公約数(G.C.D.) | \n",
    "\n",
    "<div class=\"alert alert-warning\">\n",
    "\n",
    "import math\n",
    "\n",
    "`math.sqrt(x)`のように`math.`で始まる関数は、`import math`をしてから使います。\n",
    "\n",
    "```python\n",
    "import math\n",
    "math.sqrt(2.0)\n",
    "```\n",
    "\n",
    "</div>\n",
    "\n",
    "\n",
    "\n",
    "\n",
    "\n",
    "\n"
   ],
   "cell_type": "markdown",
   "metadata": {}
  },
  {
   "source": [
    "<div class=\"admonition tip\">\n",
    "\n",
    "**例題（関数による計算）**\n",
    "\n",
    "Pythonを用いて、次の値を計算をしてみよう\n",
    "\n",
    "1. $-1$と$8$の差の絶対値\n",
    "2. $3^5$と$5^3$の大きい値\n",
    "3. $2, 3, 8$の最小値\n",
    "4. $\\sqrt{3}$\n",
    "5. 465と360の最大公約数\n",
    "6. $7/2$ の(小数点以下）切り上げ\n",
    "\n",
    "</div>\n",
    "\n",
    "<img src=\"https://qiita-image-store.s3.ap-northeast-1.amazonaws.com/0/57754/0f9c2b8d-9b0b-e130-e4af-4a4b5c638549.png\" align=\"right\"/>\n"
   ],
   "cell_type": "markdown",
   "metadata": {}
  },
  {
   "source": [
    "(正解) −1と8の差の絶対値"
   ],
   "cell_type": "markdown",
   "metadata": {}
  },
  {
   "cell_type": "code",
   "execution_count": 21,
   "metadata": {},
   "outputs": [
    {
     "output_type": "execute_result",
     "data": {
      "text/plain": [
       "9"
      ]
     },
     "metadata": {},
     "execution_count": 21
    }
   ],
   "source": [
    "abs(-1 - 8)"
   ]
  },
  {
   "cell_type": "code",
   "execution_count": 23,
   "metadata": {},
   "outputs": [
    {
     "output_type": "execute_result",
     "data": {
      "text/plain": [
       "243"
      ]
     },
     "metadata": {},
     "execution_count": 23
    }
   ],
   "source": [
    "max(3**5, 5**3)"
   ]
  },
  {
   "cell_type": "code",
   "execution_count": 24,
   "metadata": {},
   "outputs": [
    {
     "output_type": "execute_result",
     "data": {
      "text/plain": [
       "2"
      ]
     },
     "metadata": {},
     "execution_count": 24
    }
   ],
   "source": [
    "min(2, min(3, 8))"
   ]
  },
  {
   "cell_type": "code",
   "execution_count": 25,
   "metadata": {},
   "outputs": [
    {
     "output_type": "execute_result",
     "data": {
      "text/plain": [
       "1.7320508075688772"
      ]
     },
     "metadata": {},
     "execution_count": 25
    }
   ],
   "source": [
    "import math\n",
    "math.sqrt(3)"
   ]
  },
  {
   "cell_type": "code",
   "execution_count": 26,
   "metadata": {},
   "outputs": [
    {
     "output_type": "execute_result",
     "data": {
      "text/plain": [
       "15"
      ]
     },
     "metadata": {},
     "execution_count": 26
    }
   ],
   "source": [
    "math.gcd(465, 360)"
   ]
  },
  {
   "source": [
    "<div class=\"alert alert-info\">\n",
    "\n",
    "Let's try\n",
    "\n",
    "[算術ライブラリ](https://docs.python.org/ja/3/library/math.html)には、さまざまな算術関数が用意されています。\n",
    "どのような関数があるか調べてみよう。\n",
    "\n",
    "</div>\n"
   ],
   "cell_type": "markdown",
   "metadata": {}
  },
  {
   "source": [
    "## 式と評価\n",
    "\n",
    "プログラミングでは、数だけでなく、様々なデータや情報を値として扱うことになります。\n",
    "だから、数式とは呼ばず、単に**式(expression)**と呼びます。\n",
    "\n",
    "<div class=\"alert alert-info\">\n",
    "\n",
    "式(expression)\n",
    "\n",
    "式は、プログラムの最小単位\n",
    "\n",
    "</div>\n",
    "\n",
    "ここまでは、簡単なプログラムとして数式を計算してきました。\n",
    "ここで「計算」という用語は、プログラムの実行として、少し誤解を与える可能かもしれません。\n",
    "なぜなら、$2\\times3 = 2 + 2+ 2$ のような展開も（人によっては）計算と見なすかもしれないからです。\n",
    "\n",
    "コンピュータ科学では、プログラムにおいて**計算した結果を値として得る**ことを\n",
    "「評価する」という用語を用います。\n",
    "\n",
    "<!--[式と評価](./figs/eval.png)-->\n",
    "\n",
    "プログラミングに限らず、専門分野を学ぶときは用語の意味を抑えることが大切になります。\n",
    "用語の使い方が、曖昧だと解説がよくわからなくなります。\n",
    "\n",
    "<div class=\"alert alert-info\">\n",
    "\n",
    "式とは\n",
    "\n",
    "評価して値が得られるプログラムのこと\n",
    "(値も式の一種としてみなします。）\n",
    "</div>\n",
    "\n",
    "### プログラムの意味★\n",
    "\n",
    "これからプログラミングを学んでいったとき、\n",
    "解説を読んでもプログラムの意味がよくわからないこともあります。\n",
    "そのようなときは、***式を評価した結果が予想できるかどうか**確認しましょう。\n",
    "\n",
    "<div class=\"alert alert-info\">\n",
    "\n",
    "意味がわかるとは\n",
    "\n",
    "（式から）評価される値が正しく予測できること\n",
    "\n",
    "</div>\n",
    "\n",
    "プログラミング言語は、人間とコンピュータの共通言語となります。\n",
    "両者の解釈が一致するように、意味も理論的に研究されてきて、\n",
    "知識や意味、学習などを研究するのは、コンピュータ科学の重要なテーマです。\n",
    "\n",
    "ちなみに、「評価される値が正しく予測できれば意味がわかっている」というのは、\n",
    "**操作的意味論(operational semantics)**に基づく考え方です。\n",
    "\n",
    "Colabは、簡単に様々なプログラムを評価して、その結果を試せるようになっています。\n",
    "理屈で考えてもわからない時は、手を動かしてみて、Colabで評価してみることをお勧めします。\n",
    "何回か実行してみると、少しずつ意味がわかってくることも少なくありません。\n"
   ],
   "cell_type": "markdown",
   "metadata": {}
  },
  {
   "source": [
    "## 変数\n",
    "\n",
    "プログラミングでは、数学と同じく、変数を使うことができます。\n",
    "\n",
    "$x+1$\n",
    "\n",
    "変数は、数学の変数に由来していますが、**プログラミングの変数は数学の変数とは意味が少し異なります**。\n",
    "混用すると、高校数学の理解が少し怪しくなるので注意しましょう。\n",
    "\n",
    "### 変数は値の名前\n",
    "\n",
    "(Pythonの)変数は、**値につけられた名前**です。\n",
    "\n"
   ],
   "cell_type": "markdown",
   "metadata": {}
  },
  {
   "cell_type": "code",
   "execution_count": 13,
   "metadata": {},
   "outputs": [],
   "source": [
    "x = 1"
   ]
  },
  {
   "source": [
    "\n",
    "`1`という値に変数名`x` という名前をつけています。\n",
    "\n",
    "数学でも円周率($\\pi$)や自然対数の底($e$)のように名前をつけて値を扱うことがありました。\n",
    "プログラミングでは、\n",
    "同じ要領で、利用者が自由に名前をつけられるようになっています。\n",
    "\n",
    "### 変数の評価\n",
    "\n",
    "変数は、式(の一種)なので評価することができます。\n",
    "評価すると、**名付けられた値**が得られます。\n",
    "\n"
   ],
   "cell_type": "markdown",
   "metadata": {}
  },
  {
   "cell_type": "code",
   "execution_count": 14,
   "metadata": {},
   "outputs": [
    {
     "output_type": "execute_result",
     "data": {
      "text/plain": [
       "1"
      ]
     },
     "metadata": {},
     "execution_count": 14
    }
   ],
   "source": [
    "x"
   ]
  },
  {
   "source": [
    "変数を計算式の一部に用いることもできます。\n",
    "\n",
    "\n"
   ],
   "cell_type": "markdown",
   "metadata": {}
  },
  {
   "cell_type": "code",
   "execution_count": 15,
   "metadata": {},
   "outputs": [
    {
     "output_type": "execute_result",
     "data": {
      "text/plain": [
       "2"
      ]
     },
     "metadata": {},
     "execution_count": 15
    }
   ],
   "source": [
    "x + 1"
   ]
  },
  {
   "source": [
    "\n",
    "### 変数と式\n",
    "\n",
    "それでは、次のような応用問題の場合を考えてみましょう。\n",
    "\n",
    "$y = x + 1$\n",
    "\n",
    "数学の場合は、$y$は$x$の関数であると解釈します。\n",
    "プログラミングでは、変数は、あくまでも**値に対する名前**です。\n",
    "\n",
    "そのため、先に`x + 1`を評価し、その評価された値に`y`という名前をつけることになります。\n",
    "\n"
   ],
   "cell_type": "markdown",
   "metadata": {}
  },
  {
   "source": [
    "### 評価の順序\n",
    "\n",
    "プログラムは、見てきた通り、**評価する順番**が決まっています。\n",
    "プログラムが複数行にわたるとき、**上から順番に**評価されます。\n"
   ],
   "cell_type": "markdown",
   "metadata": {}
  },
  {
   "cell_type": "code",
   "execution_count": 16,
   "metadata": {},
   "outputs": [
    {
     "output_type": "execute_result",
     "data": {
      "text/plain": [
       "3"
      ]
     },
     "metadata": {},
     "execution_count": 16
    }
   ],
   "source": [
    "x = 1\n",
    "y = x + 1\n",
    "x + y"
   ]
  },
  {
   "source": [
    "<div class=\"admonition tip\"><p>\n",
    "Colabは、最終行の式を評価した値のみ表示します。\n",
    "\n",
    "途中の`x`や`y`の値も表示したいときは、明示的に値を出力する`print(x)`を用います。\n",
    "\n",
    "```\n",
    "\n",
    "```\n",
    "\n",
    "(print()は、次節の入出力で詳しく説明します。）\n",
    "</p></div>\n",
    "\n"
   ],
   "cell_type": "markdown",
   "metadata": {}
  },
  {
   "cell_type": "code",
   "execution_count": 17,
   "metadata": {},
   "outputs": [
    {
     "output_type": "stream",
     "name": "stdout",
     "text": [
      "1\n2\n"
     ]
    },
    {
     "output_type": "execute_result",
     "data": {
      "text/plain": [
       "3"
      ]
     },
     "metadata": {},
     "execution_count": 17
    }
   ],
   "source": [
    "x = 1\n",
    "print(x)\n",
    "y = 2\n",
    "print(y)\n",
    "x + y"
   ]
  },
  {
   "source": [
    "### 再代入（破壊的な代入）\n",
    "\n",
    "Python では、一度名付けた変数であっても、別の値に同じ名前を付ける}こともできます。\n",
    "\n",
    "```python\n",
    "x = x + 1\n",
    "``` \n",
    "\n",
    "数式 $x = x + 1$というのは、明らかに矛盾していますが、\n",
    "Pythonとしては「`x + 1`を評価した値に(もう一度)`x`という名前をつける」と解釈します。\n",
    "見方を変えれば、再代入は**変数の値を変更している**ことになります。\n",
    "\n",
    "さて、名前を付け替えるにしても、変数の値を変更するにしても、なんか**紛らわしい**ですよね。\n",
    "再代入を多用すると、プログラムが理解しにくくなります。\n",
    "\n",
    "### 変数値の増減\n",
    "\n",
    "Pythonでは、変数の値を増やしたり、減らしたり、変更することが多くあります。\n",
    "そのような場合は、**自己代入演算子**を用いて書くこともできます。\n",
    "\n",
    "|          | 別の書き方    | 意味            |\n",
    "|----------|-------------|-----------------|\n",
    "| `x += 1` | `x = x + 1` | 変数`x`を1つ増やす |\n",
    "| `x -= 1` | `x = x - 1` | 変数`x`を1つ減らす |\n",
    "| `x *= 2` | `x = x * 2` | 変数`x`を2倍にする |\n",
    "| `x //= 2` | `x = x // 2` | 変数`x`を半分にする |\n",
    "\n"
   ],
   "cell_type": "markdown",
   "metadata": {}
  },
  {
   "source": [
    "\n"
   ],
   "cell_type": "markdown",
   "metadata": {}
  },
  {
   "source": [
    "## エラー対策に強くなろう\n"
   ],
   "cell_type": "markdown",
   "metadata": {}
  },
  {
   "source": [
    "プログラミングは、いつも正しく動作することが続きません。\n",
    "\n",
    "<img src=\"https://qiita-image-store.s3.ap-northeast-1.amazonaws.com/0/57754/154fadd2-3e70-3477-55e7-92befcfa8dda.png\" width=\"60%\">\n",
    "\n",
    "\n",
    "むしろ、ほとんどの場合は正しく動きません。\n",
    "**エラーメッセージ**等を見ながら、正しく動作するようにするのがプログラミングです。\n",
    "\n",
    "初学者にありがちなよく間違えるエラーを集めてみました。\n",
    "\n",
    "<div class=\"alert alert-info\">\n",
    "\n",
    "Let's try\n",
    "\n",
    "是非、エラーを取り除いて正しく動作するようにしてみましょう。\n",
    "\n",
    "</div>\n"
   ],
   "cell_type": "markdown",
   "metadata": {}
  },
  {
   "source": [
    "__`ハロー世界`と出力したいのに..__"
   ],
   "cell_type": "markdown",
   "metadata": {}
  },
  {
   "cell_type": "code",
   "execution_count": 18,
   "metadata": {},
   "outputs": [
    {
     "output_type": "error",
     "ename": "SyntaxError",
     "evalue": "EOL while scanning string literal (<ipython-input-18-ebacb868980e>, line 1)",
     "traceback": [
      "\u001b[0;36m  File \u001b[0;32m\"<ipython-input-18-ebacb868980e>\"\u001b[0;36m, line \u001b[0;32m1\u001b[0m\n\u001b[0;31m    print(\"ハロー世界”)\u001b[0m\n\u001b[0m                  ^\u001b[0m\n\u001b[0;31mSyntaxError\u001b[0m\u001b[0;31m:\u001b[0m EOL while scanning string literal\n"
     ]
    }
   ],
   "source": [
    "print(\"ハロー世界”)"
   ]
  },
  {
   "source": [
    "__cをa+bの和にしたいのに..__"
   ],
   "cell_type": "markdown",
   "metadata": {}
  },
  {
   "cell_type": "code",
   "execution_count": 11,
   "metadata": {},
   "outputs": [
    {
     "output_type": "error",
     "ename": "NameError",
     "evalue": "name 'a' is not defined",
     "traceback": [
      "\u001b[0;31m---------------------------------------------------------------------------\u001b[0m",
      "\u001b[0;31mNameError\u001b[0m                                 Traceback (most recent call last)",
      "\u001b[0;32m<ipython-input-11-9d58a6438586>\u001b[0m in \u001b[0;36m<module>\u001b[0;34m\u001b[0m\n\u001b[0;32m----> 1\u001b[0;31m \u001b[0mc\u001b[0m \u001b[0;34m=\u001b[0m \u001b[0ma\u001b[0m \u001b[0;34m+\u001b[0m \u001b[0mb\u001b[0m\u001b[0;34m\u001b[0m\u001b[0;34m\u001b[0m\u001b[0m\n\u001b[0m\u001b[1;32m      2\u001b[0m \u001b[0ma\u001b[0m \u001b[0;34m=\u001b[0m \u001b[0;36m1\u001b[0m\u001b[0;34m\u001b[0m\u001b[0;34m\u001b[0m\u001b[0m\n\u001b[1;32m      3\u001b[0m \u001b[0mb\u001b[0m \u001b[0;34m=\u001b[0m \u001b[0;36m2\u001b[0m\u001b[0;34m\u001b[0m\u001b[0;34m\u001b[0m\u001b[0m\n\u001b[1;32m      4\u001b[0m \u001b[0mc\u001b[0m\u001b[0;34m\u001b[0m\u001b[0;34m\u001b[0m\u001b[0m\n",
      "\u001b[0;31mNameError\u001b[0m: name 'a' is not defined"
     ]
    }
   ],
   "source": [
    "c = a + b\n",
    "a = 1\n",
    "b = 2\n",
    "c"
   ]
  },
  {
   "source": [
    "__xとyの積を求めたいのに ..__"
   ],
   "cell_type": "markdown",
   "metadata": {}
  },
  {
   "cell_type": "code",
   "execution_count": 12,
   "metadata": {},
   "outputs": [
    {
     "output_type": "error",
     "ename": "NameError",
     "evalue": "name 'xy' is not defined",
     "traceback": [
      "\u001b[0;31m---------------------------------------------------------------------------\u001b[0m",
      "\u001b[0;31mNameError\u001b[0m                                 Traceback (most recent call last)",
      "\u001b[0;32m<ipython-input-12-08be3c37ed82>\u001b[0m in \u001b[0;36m<module>\u001b[0;34m\u001b[0m\n\u001b[1;32m      1\u001b[0m \u001b[0mx\u001b[0m \u001b[0;34m=\u001b[0m \u001b[0;36m1\u001b[0m\u001b[0;34m\u001b[0m\u001b[0;34m\u001b[0m\u001b[0m\n\u001b[1;32m      2\u001b[0m \u001b[0my\u001b[0m \u001b[0;34m=\u001b[0m \u001b[0;36m2\u001b[0m\u001b[0;34m\u001b[0m\u001b[0;34m\u001b[0m\u001b[0m\n\u001b[0;32m----> 3\u001b[0;31m \u001b[0mxy\u001b[0m\u001b[0;34m\u001b[0m\u001b[0;34m\u001b[0m\u001b[0m\n\u001b[0m",
      "\u001b[0;31mNameError\u001b[0m: name 'xy' is not defined"
     ]
    }
   ],
   "source": [
    "x = 1\n",
    "y = 2\n",
    "xy\n"
   ]
  },
  {
   "source": [
    "__BMI が正しく計算されない...__"
   ],
   "cell_type": "markdown",
   "metadata": {}
  },
  {
   "cell_type": "code",
   "execution_count": 13,
   "metadata": {},
   "outputs": [
    {
     "output_type": "error",
     "ename": "NameError",
     "evalue": "name 'wieght' is not defined",
     "traceback": [
      "\u001b[0;31m---------------------------------------------------------------------------\u001b[0m",
      "\u001b[0;31mNameError\u001b[0m                                 Traceback (most recent call last)",
      "\u001b[0;32m<ipython-input-13-fc8a82a1dce7>\u001b[0m in \u001b[0;36m<module>\u001b[0;34m\u001b[0m\n\u001b[1;32m      1\u001b[0m \u001b[0mheight\u001b[0m \u001b[0;34m=\u001b[0m \u001b[0;36m1.75\u001b[0m\u001b[0;34m\u001b[0m\u001b[0;34m\u001b[0m\u001b[0m\n\u001b[1;32m      2\u001b[0m \u001b[0mweight\u001b[0m \u001b[0;34m=\u001b[0m \u001b[0;36m68.5\u001b[0m\u001b[0;34m\u001b[0m\u001b[0;34m\u001b[0m\u001b[0m\n\u001b[0;32m----> 3\u001b[0;31m \u001b[0mBMI\u001b[0m \u001b[0;34m=\u001b[0m \u001b[0mwieght\u001b[0m \u001b[0;34m/\u001b[0m \u001b[0mheight\u001b[0m \u001b[0;34m*\u001b[0m \u001b[0mheight\u001b[0m\u001b[0;34m\u001b[0m\u001b[0;34m\u001b[0m\u001b[0m\n\u001b[0m\u001b[1;32m      4\u001b[0m \u001b[0mBMI\u001b[0m\u001b[0;34m\u001b[0m\u001b[0;34m\u001b[0m\u001b[0m\n",
      "\u001b[0;31mNameError\u001b[0m: name 'wieght' is not defined"
     ]
    }
   ],
   "source": [
    "height = 1.75\n",
    "weight = 68.5\n",
    "BMI = wieght / height * height\n",
    "BMI"
   ]
  },
  {
   "source": [
    "<class div=\"alert alert-warning\">\n",
    "\n",
    "エラーメッセージは英語\n",
    "\n",
    "英語を読めば解決の手がかりは得られます。\n",
    "英語が苦手な場合は、機械翻訳を使ってもいいからちゃんと読みましょう。\n",
    "\n",
    "![google_translation.png](https://qiita-image-store.s3.ap-northeast-1.amazonaws.com/0/57754/155669d7-ece9-78d0-cd97-73491c464406.png)\n",
    "\n",
    "\n",
    "</div>"
   ],
   "cell_type": "markdown",
   "metadata": {}
  },
  {
   "source": [
    "## 演習問題\n",
    "\n",
    "プログラミングは、練習した時間、解いた問題数だけ上達します。がんばりましょう！！\n",
    "\n",
    "[課題リスト](../ac.html)より\n",
    "\n",
    "* [Apple Pie](https://atcoder.jp/contests/abc128/tasks/abc128_a)\n",
    "* [ディスカウント](https://atcoder.jp/contests/abc193/tasks/abc193_a)\n",
    "* [行列式](https://atcoder.jp/contests/abc184/tasks/abc184_a)\n",
    "* [両面印刷](https://atcoder.jp/contests/abc157/tasks/abc157_a): 余りを切り上げる処理が登場 \n",
    "* [平均値の切り上げ](https://atcoder.jp/contests/abc082/tasks/abc082_a)\n",
    "* [コンテストの開始時刻](https://atcoder.jp/contests/abc057/tasks/abc057_a)\n",
    "* [スイーツ！](https://atcoder.jp/contests/abc087/tasks/abc087_a)\n",
    "* [３つの最大値](https://atcoder.jp/contests/abc137/tasks/abc137_a)\n",
    "* [合計時間](https://atcoder.jp/contests/joi2011yo/tasks/joi2011yo_a)\n",
    "* [カーテン](https://atcoder.jp/contests/abc143/tasks/abc143_a)\n",
    "* [Product Max](https://atcoder.jp/contests/abc178/tasks/abc178_b): \n",
    "* [ビリヤード](https://atcoder.jp/contests/abc183/tasks/abc183_b): 紙とえんぴつ\n",
    "* [秒針](https://atcoder.jp/contests/abc168/tasks/abc168_c): 三角関数を使います\n",
    "\n",
    "<div class=\"alert alert-warning\">\n",
    "\n",
    "問題の難易度について\n",
    "\n",
    "本日の内容で解けそうな問題を選んでいますが、\n",
    "時々、**地雷のように難しい問題**が混ざってしまいます。\n",
    "難しい問題を見つけたら授業感想等で報告してください。\n",
    "\n",
    "</div>"
   ],
   "cell_type": "markdown",
   "metadata": {}
  }
 ]
}