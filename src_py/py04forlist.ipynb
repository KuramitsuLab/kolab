{
 "metadata": {
  "language_info": {
   "codemirror_mode": {
    "name": "ipython",
    "version": 3
   },
   "file_extension": ".py",
   "mimetype": "text/x-python",
   "name": "python",
   "nbconvert_exporter": "python",
   "pygments_lexer": "ipython3",
   "version": "3.9.2-final"
  },
  "orig_nbformat": 2,
  "kernelspec": {
   "name": "python3",
   "display_name": "Python 3.9.2 64-bit",
   "metadata": {
    "interpreter": {
     "hash": "ac2eaa0ea0ebeafcc7822e65e46aa9d4f966f30b695406963e145ea4a91cd4fc"
    }
   }
  }
 },
 "nbformat": 4,
 "nbformat_minor": 2,
 "cells": [
  {
   "source": [
    "# リストと繰り返し\n",
    "\n",
    "プログラミングの鍵となるリストと繰り返しについて説明します。\n",
    "\n"
   ],
   "cell_type": "markdown",
   "metadata": {}
  },
  {
   "source": [
    "## リストとは\n",
    "\n",
    "プログラミングでは、複数の値をひとまとめのデータとして扱いたいケースが多くあります。\n",
    "\n",
    "__もしデータをひとつひとつ変数で識別すると__:\n",
    "\n",
    "```python\n",
    "a1 = 1\n",
    "a2 = 2\n",
    "a3 = 3\n",
    "print(a1, a2, a3)  #３つが限界だな..\n",
    "```\n",
    "\n",
    "リストは、複数個の値をひとまとまりの**順序をもったデータ**とする方法です。\n",
    "リストを使えば、値にひとつずつ変数名をつける代わりに数列$a_i$のように、\n",
    "$i$番目の値として扱えるようになります。\n",
    "\n",
    "__リストを用いて値をまとめて扱う場合__：\n",
    "\n",
    "```python\n",
    "a = [1, 2, 3]  # 数値は並べてまとめる\n",
    "print(a[0], a[1], a[2])\n",
    "```\n",
    "リストを使えば、値が100個に増えても、10,000個に増えても問題ありません。\n",
    "リストの使い方は、アルゴリズムやデータサイエンスの基礎になります。\n",
    "しっかり、マスターしていきましょう。\n",
    "\n"
   ],
   "cell_type": "markdown",
   "metadata": {}
  },
  {
   "source": [
    "### リストとインデックス(添字)\n",
    "\n",
    "リストは、数列$a_i, ..., a_j$に由来し、難しい概念ではありません。\n",
    "\n",
    "__注意すべき点__\n",
    "\n",
    "* $a_i$は、`a[i]`と書き、**０番目から**数える\n",
    "* 要素には、数値以外の任意の値（文字列、論理値、さらにリストなど）が入る\n",
    "\n",
    "|数列(数学)|リスト(Python)|意味      |\n",
    "|--------|------------|-----------|\n",
    "|$\\|a\\|$ | `len(a)`   |個数  |\n",
    "|$a_1$|`a[0]`         |先頭の値     |\n",
    "|$a_2$|`a[1]`         |      |\n",
    "|$a_i$|`a[i]`         |i番目の値    |\n",
    "|$a_{N-1}$|`a[len(a)-2]`もしくは`a[-2]` |  |\n",
    "|$a_{N}$|`a[len(a)-1]`もしくは`a[-1]` |末尾の値|\n",
    "\n",
    "<div class=\"alert alert-info\">\n",
    "\n",
    "(プログラミングの)$N$個数える\n",
    "\n",
    "プログラミングでは、原則、「**0から**$N-1$まで」のように0から数えます。\n",
    "\n",
    "</div>\n",
    "\n",
    "\n"
   ],
   "cell_type": "markdown",
   "metadata": {}
  },
  {
   "source": [
    "<div class=\"admonition tip\">\n",
    "\n",
    "**例題（インデックス）**\n",
    "\n",
    "次のコードからエラーを取り除いて、\n",
    "リスト`a`の先頭と末尾の要素の合計を求めるにプログラムに変更してください。\n",
    "\n",
    "```python\n",
    "a = [1, 2, 3, 5, 8]\n",
    "a[1] + a[5]\n",
    "```\n",
    "</div>\n",
    "\n",
    "まず、どんなエラーが発生する様子を確認しておきましょう。\n"
   ],
   "cell_type": "markdown",
   "metadata": {}
  },
  {
   "cell_type": "code",
   "execution_count": 1,
   "metadata": {},
   "outputs": [
    {
     "output_type": "error",
     "ename": "IndexError",
     "evalue": "list index out of range",
     "traceback": [
      "\u001b[0;31m---------------------------------------------------------------------------\u001b[0m",
      "\u001b[0;31mIndexError\u001b[0m                                Traceback (most recent call last)",
      "\u001b[0;32m<ipython-input-1-b68a78bc2d4d>\u001b[0m in \u001b[0;36m<module>\u001b[0;34m\u001b[0m\n\u001b[1;32m      1\u001b[0m \u001b[0ma\u001b[0m \u001b[0;34m=\u001b[0m \u001b[0;34m[\u001b[0m\u001b[0;36m1\u001b[0m\u001b[0;34m,\u001b[0m \u001b[0;36m2\u001b[0m\u001b[0;34m,\u001b[0m \u001b[0;36m3\u001b[0m\u001b[0;34m,\u001b[0m \u001b[0;36m5\u001b[0m\u001b[0;34m,\u001b[0m \u001b[0;36m8\u001b[0m\u001b[0;34m]\u001b[0m\u001b[0;34m\u001b[0m\u001b[0;34m\u001b[0m\u001b[0m\n\u001b[0;32m----> 2\u001b[0;31m \u001b[0ma\u001b[0m\u001b[0;34m[\u001b[0m\u001b[0;36m1\u001b[0m\u001b[0;34m]\u001b[0m \u001b[0;34m+\u001b[0m \u001b[0ma\u001b[0m\u001b[0;34m[\u001b[0m\u001b[0;36m5\u001b[0m\u001b[0;34m]\u001b[0m\u001b[0;34m\u001b[0m\u001b[0;34m\u001b[0m\u001b[0m\n\u001b[0m",
      "\u001b[0;31mIndexError\u001b[0m: list index out of range"
     ]
    }
   ],
   "source": [
    "a = [1, 2, 3, 5, 8]\n",
    "a[1] + a[5]"
   ]
  },
  {
   "source": [
    "<div class=\"alert alert-warning\">\n",
    "\n",
    "IndexError: list index out of range\n",
    "\n",
    "リストの要素数より大きなインデックスにをアクセスしたときに発生します。\n",
    "\n",
    "</div>\n",
    "\n",
    "インデックスは、0から数えますので、先頭は`a[0]`、末尾は`a[4]`になります。\n"
   ],
   "cell_type": "markdown",
   "metadata": {}
  },
  {
   "cell_type": "code",
   "execution_count": 2,
   "metadata": {},
   "outputs": [
    {
     "output_type": "execute_result",
     "data": {
      "text/plain": [
       "9"
      ]
     },
     "metadata": {},
     "execution_count": 2
    }
   ],
   "source": [
    "a = [1, 2, 3, 5, 8]\n",
    "a[0] + a[4]"
   ]
  },
  {
   "source": [
    "<div class=\"alert alert-info\">\n",
    "\n",
    "Let's try\n",
    "\n",
    "リストの大きさが増減しても末尾から値が取れるように直してみよう\n",
    "\n",
    "```python\n",
    "a = [1, 2, 3, 5, 8, 13]\n",
    "```\n",
    "</div>\n"
   ],
   "cell_type": "markdown",
   "metadata": {}
  },
  {
   "cell_type": "code",
   "execution_count": 3,
   "metadata": {},
   "outputs": [
    {
     "output_type": "execute_result",
     "data": {
      "text/plain": [
       "14"
      ]
     },
     "metadata": {},
     "execution_count": 3
    }
   ],
   "source": [
    "a = [1, 2, 3, 5, 8, 13]\n",
    "a[0] + a[len(a)-1]"
   ]
  },
  {
   "source": [
    "Python 独自の記法として、`a[-1]`のようにマイナスのインデックスを指定すると、後ろから数えてくれます。（ただし、このような記法はPythonだけのユニークな記法なので気をつけましょう。）"
   ],
   "cell_type": "markdown",
   "metadata": {}
  },
  {
   "cell_type": "code",
   "execution_count": 4,
   "metadata": {},
   "outputs": [
    {
     "output_type": "execute_result",
     "data": {
      "text/plain": [
       "22"
      ]
     },
     "metadata": {},
     "execution_count": 4
    }
   ],
   "source": [
    "a = [1, 2, 3, 5, 8, 13, 21]\n",
    "a[0] + a[-1]"
   ]
  },
  {
   "source": [
    "### リストの作り方\n",
    "\n",
    "リストは、色々な方法で作ることができます。\n",
    "\n",
    "#### 基本：外延的記法\n",
    "\n",
    "__`[   ]` で囲んで列挙する__\n"
   ],
   "cell_type": "markdown",
   "metadata": {}
  },
  {
   "cell_type": "code",
   "execution_count": 5,
   "metadata": {},
   "outputs": [
    {
     "output_type": "execute_result",
     "data": {
      "text/plain": [
       "[1, 2, 3, 4]"
      ]
     },
     "metadata": {},
     "execution_count": 5
    }
   ],
   "source": [
    "a = [1, 2, 3, 4]\n",
    "a"
   ]
  },
  {
   "source": [
    "__リストのリストも定義できます__"
   ],
   "cell_type": "markdown",
   "metadata": {}
  },
  {
   "cell_type": "code",
   "execution_count": 6,
   "metadata": {},
   "outputs": [
    {
     "output_type": "execute_result",
     "data": {
      "text/plain": [
       "[[1, 0, 1], [0, 1, 0], [0, 0, 1]]"
      ]
     },
     "metadata": {},
     "execution_count": 6
    }
   ],
   "source": [
    "b = [\n",
    "    [1, 0, 1],\n",
    "    [0, 1, 0],\n",
    "    [0, 0, 1],\n",
    "]\n",
    "b"
   ]
  },
  {
   "source": [
    "__空のリストを作って、要素を追加する__"
   ],
   "cell_type": "markdown",
   "metadata": {}
  },
  {
   "cell_type": "code",
   "execution_count": 7,
   "metadata": {},
   "outputs": [
    {
     "output_type": "execute_result",
     "data": {
      "text/plain": [
       "[1, 9]"
      ]
     },
     "metadata": {},
     "execution_count": 7
    }
   ],
   "source": [
    "c = []\n",
    "c.append(1)\n",
    "c.append(9)\n",
    "c"
   ]
  },
  {
   "source": [
    "__同じ要素の N個のリスト__\n"
   ],
   "cell_type": "markdown",
   "metadata": {}
  },
  {
   "cell_type": "code",
   "execution_count": 8,
   "metadata": {},
   "outputs": [
    {
     "output_type": "execute_result",
     "data": {
      "text/plain": [
       "[0, 0, 0, 0, 0, 0, 0, 0, 0, 0]"
      ]
     },
     "metadata": {},
     "execution_count": 8
    }
   ],
   "source": [
    "d = [0] * 10\n",
    "d"
   ]
  },
  {
   "source": [
    "### `list()`関数で変換する\n",
    "\n",
    "__数列(連番)リスト__\n",
    "\n",
    "\n",
    "__リストに変換する__\n",
    "```\n",
    "a = list(\"123\")\n",
    "```"
   ],
   "cell_type": "markdown",
   "metadata": {}
  },
  {
   "cell_type": "code",
   "execution_count": 9,
   "metadata": {},
   "outputs": [
    {
     "output_type": "execute_result",
     "data": {
      "text/plain": [
       "[1, 2, 3, 4, 5, 6, 7, 8, 9]"
      ]
     },
     "metadata": {},
     "execution_count": 9
    }
   ],
   "source": [
    "list(range(1, 10))  # 1から10未満までの数列\n"
   ]
  },
  {
   "cell_type": "code",
   "execution_count": 10,
   "metadata": {},
   "outputs": [
    {
     "output_type": "execute_result",
     "data": {
      "text/plain": [
       "['a', 'b', 'c', 'd', 'e', 'f', 'g']"
      ]
     },
     "metadata": {},
     "execution_count": 10
    }
   ],
   "source": [
    "list(\"abcdefg\")  # 文字列を分解した文字リスト"
   ]
  },
  {
   "cell_type": "code",
   "execution_count": 11,
   "metadata": {},
   "outputs": [
    {
     "output_type": "execute_result",
     "data": {
      "text/plain": [
       "[1, 2, 3]"
      ]
     },
     "metadata": {},
     "execution_count": 11
    }
   ],
   "source": [
    "input = lambda : \"1 2 3\"\n",
    "list(map(int, input().split())) # おなじみのmap関数からlistに変換"
   ]
  },
  {
   "source": [
    "<div class=\"alert alert-info\">\n",
    "\n",
    "`range()`は、等差数列を生成する便利な関数です。\n",
    "\n",
    "|Python|説明|\n",
    "|------|---|\n",
    "|`range(N)`|$0$から$N-1$までの数列|\n",
    "|`range(1,N+1)`|$1$から$N$までの数列|\n",
    "|`range(0,N,2)`|$0$から$N-1$までの$2$間隔ごとの数列|\n",
    "|`range(N,0,-1)`|$N$から$1$までの数列(**逆順**)|\n",
    "\n",
    "__ポイント__: リストも`range(N)`も**0から**数えます。\n",
    "\n",
    "</div>\n"
   ],
   "cell_type": "markdown",
   "metadata": {}
  },
  {
   "source": [
    "#### 外延とリスト内包記法\n",
    "\n",
    "リストの定義は、集合の記法に由来しています。\n",
    "ただし、リストは、集合と異なり、順序が存在し重複が認められるので、\n",
    "集合とは区別して`{ }`でなく`[ ]`で囲みます。\n",
    "\n",
    "__外延定義__: $A = \\{ 1, 2, 3, 5, 8, 13, 21, 34, 55 \\}$\n",
    "```python\n",
    "A = [1, 2, 3, 5, 8, 13, 21, 34, 55]\n",
    "```\n",
    "\n",
    "集合記法と同じように、既に定義してある集合から内包的に定義することもできます。\n",
    "\n",
    "__内包定義__: $B = \\{ 2x | x \\in A \\}$\n",
    "\n",
    "```\n",
    "B = [2*x for x in A]\n",
    "```\n",
    "\n",
    "__内包定義__: $C = \\{ x | x \\in A, \\mbox{xは奇数} \\}$\n",
    "\n",
    "```\n",
    "C = [x for x in A　if x % 2 == 1]\n",
    "```\n",
    "\n",
    "__内包定義__: $D = \\{ 2x | x \\in A, \\mbox{xは奇数} \\}$\n",
    "\n",
    "```\n",
    "D = [2 * x for x in A　if x % 2 == 1]\n",
    "```"
   ],
   "cell_type": "markdown",
   "metadata": {}
  },
  {
   "source": [
    "\n",
    "\n",
    "\n",
    "<div class=\"admonition tip\">\n",
    "\n",
    "**例題（リスト）**\n",
    "\n",
    "空白区切りで与えられる2つの整数を入力から読み、\n",
    "その和、差、積、商からなる新たなリストを出力せよ。\n",
    "\n",
    "入力例：\n",
    "```\n",
    "21 17\n",
    "```\n",
    "\n",
    "出力例：\n",
    "```\n",
    "[38, 4, 351, 1]\n",
    "```\n",
    "</div>\n",
    "\n",
    "文字通りにプログラムを書くと：\n",
    "\n",
    "```python\n",
    "a = list(map(int, input().split()))\n",
    "[a[0] + a[1], a[0] - a[1], a[0] * a[1], a[0] // a[1]]\n",
    "```\n",
    "\n",
    "これは少し読みにくいですよね。\n",
    "頻繁に使うリストの要素は、変数に展開した方が間違いが減ります。\n",
    "\n",
    "```python\n",
    "a = list(map(int, input().split()))\n",
    "x = a[0]\n",
    "y = a[1]\n",
    "[x+y, x-y, x*y, x//y]\n",
    "```\n",
    "\n",
    "あ、いつの書き方で書き直してもいいですね。\n",
    "\n",
    "```python\n",
    "x, y = list(map(int, input().split()))\n",
    "[x+y, x-y, x*y, x//y]\n",
    "```\n",
    "\n",
    "<div class=\"alert alert-info\">\n",
    "\n",
    "デストラクタ代入\n",
    "\n",
    "要素の数がn個のとき、n個の変数に分割して代入する記法\n",
    "\n",
    "```python\n",
    "x, y = [1, 2]  # ２個のとき\n",
    "x, y, z = [1, 2, 3]  #3個のとき\n",
    "```\n",
    "</div>\n",
    "\n",
    "\n",
    " \n"
   ],
   "cell_type": "markdown",
   "metadata": {}
  },
  {
   "source": [
    "### リストの変更\n",
    "\n",
    "リストは、代入演算子を用いて、値を変更することができます。\n"
   ],
   "cell_type": "markdown",
   "metadata": {}
  },
  {
   "cell_type": "code",
   "execution_count": null,
   "metadata": {},
   "outputs": [],
   "source": [
    "a = [1, 2, 3]\n",
    "a[0] = 9\n",
    "print(a)"
   ]
  },
  {
   "source": [],
   "cell_type": "markdown",
   "metadata": {}
  },
  {
   "source": [
    "### リストの集約計算\n",
    "\n",
    "リストが使えるようになると、データの集まりをまとめて処理できるようになります。\n",
    "\n",
    "特に、リストの要素が数値、つまり数列の場合は、威力を発揮します。\n",
    "\n",
    "|Python|説明|\n",
    "|--------|-------------|\n",
    "|`max(a)`|数列`a`の最大値|\n",
    "|`min(a)`|数列`a`の最小値|\n",
    "|`sum(a)`|数列`a`の合計値| \n"
   ],
   "cell_type": "markdown",
   "metadata": {}
  },
  {
   "source": [
    "## リストの操作\n",
    "\n",
    "|Python|操作の説明|\n",
    "|------|--------|\n",
    "|`len(a)`|リスト$a$の個数|\n",
    "|`a[i]`|$i$ 番目の値|\n",
    "|`a[i] = x`|$i$ 番目の値を$x$に置き換える|\n",
    "|`a[i:j]`|$i$ 番目から$j$番目までの部分リスト|\n",
    "|`a[i:]`|$i$ 番目から最後尾までの部分リスト|\n",
    "|`a[:j]`|先頭から$j$番目までの部分リスト|\n",
    "|`x in a`|リスト$a$に$x$が含まれるかどうか|\n",
    "|`a.find(x)`|リスト$a$内の最初の$x$の位置|\n",
    "|`a.rfind(x)`|リスト$a$内の最後の$x$の位置|\n",
    "|``||\n",
    "|``||\n",
    "|``||\n",
    "\n",
    "\\begin{tabular}{llr}\n",
    "Python3  &　C++ & 操作の内容  \\\\\n",
    "\\textbf{（基本操作）} & &  \\\\\\hline\n",
    "{\\tt len(a)}  &  & リスト$a$の個数 \\\\\n",
    "{\\tt a[i]}  & {\\tt\\color{blue} a[i]} & $i$ 番目の値  \\\\\n",
    "{\\tt a[i] = x} & {\\tt\\color{blue} a[i] = x} & $i$ 番目の値を$x$に置き換える\\\\\n",
    "{\\tt a[i:j]} & & $i$ 番目から$j$番目までの部分リスト \\\\\\hline\n",
    "{\\tt a[i:]} & & $i$ 番目から最後尾までの部分リスト \\\\\n",
    "{\\tt a[:j]} & & 先頭から$j$番目までの部分リスト \\\\\n",
    "{\\tt a[:]} & & リスト$a$のコピー（破壊的操作の前に実施） \\\\\\hline\n",
    "{\\tt x in a} & & リスト$a$に$x$が含まれるか判定 \\\\\n",
    "{\\tt a.find(x)} & & リスト$a$内の最初の$x$の位置（ない場合は -1） \\\\\n",
    "{\\tt a.rfind(x)} & & リスト$a$内の最後の$x$の位置（ない場合は -1） \\\\\n",
    "&&\\\\\n",
    "\\textbf{（新しいリスト）} & &  \\\\\\hline\n",
    "{\\tt [] }  &  & 空のリスト \\\\\n",
    "{\\tt [0] * N}  &  & 0が$N$個並んだリスト \\\\\n",
    "{\\tt [[0] * N for \\_ in range(M)]}  &  & 0が$M\\times{N}$個並んだ2次元リスト \\\\\n",
    "{\\tt list(range(a, b))}  &  & 整数$a$から$b$未満までの数列 \\\\\n",
    "&&\\\\\n",
    "\\textbf{（破壊的操作）} & &  \\\\\\hline\n",
    "{\\tt a.append(x)}  & & リストの最後尾に x を追加する \\\\\n",
    "{\\tt a.extend(b)}  & & リストの最後尾にリストbの値をすべて追加する \\\\\n",
    "{\\tt a.pop()}  & & リストの最後尾から値を取り出す \\\\\n",
    "{\\tt a.pop(i)}  & & $i$ 番目から値を取り出す \\\\\n",
    "{\\tt a.sort()}  & & リストを整列する \\\\\n",
    "{\\tt a.reverse()}  & & リストを逆順にする \\\\\n",
    "\n",
    "%{\\tt a.push\\_back(x)} & {\\tt a.append(x)} & リストの最後尾に x を追加する \\\\\n",
    "%{\\tt a.pop\\_back(x)} & {\\tt a.pop()} & リストの最後尾から要素を取り出す \\\\\n",
    "%{\\tt l.find(x)}  & 文字列中の x の位置を返す (ない場合は -1) \\\\\n",
    "%{\\tt l.rfind(x)}  & 文字列中の x の位置を後ろから探して返す \\\\\n",
    "%{\\tt l.sort()}  & リストl の要素を並べる \\\\\n",
    "%{\\tt l.reverse()}  & リストl の要素の順序を入れ替える \\\\\n",
    "&&\\\\\n",
    "\\textbf{（集約操作）} & &  \\\\\\hline\n",
    "% {\\tt list(x)} & & リストに変換する \\\\ \n",
    "{\\tt max(a)} & & リスト(数列)の最大値 \\\\\n",
    "{\\tt min(a)} & & リスト(数列)の最小値 \\\\\n",
    "{\\tt sum(a)} & & リスト(数列)の合計値 \\\\\n",
    "{\\tt list(map(f, a))} & & リストaのすべての値を関数$f$で変換したリスト \\\\\n",
    " & & (\\verb|[f(x) for x in a]| と等しい) \\\\\n",
    "{\\tt list(filter(f, a))} & & リストaを関数$f$でフィルターしたリスト \\\\\n",
    " & & (\\verb|[x for x in a　if f(x)]| と等しい) \\\\\n",
    "\\end{tabular}\n",
    "\n",
    "\\if0"
   ],
   "cell_type": "markdown",
   "metadata": {}
  },
  {
   "source": [
    "## N回繰り返す\n",
    "\n",
    "プログラミングを書いていて、\n",
    "頻出するのは**N回繰り返すという制御構造**です。\n",
    "\n",
    "\n",
    "Pythonでは、`for`文を用いて、{{X}}をN回繰り返すように書きます。\n",
    "\n",
    "```python\n",
    "{{A}}\n",
    "for i in range(N):\n",
    "\t{{X}}\n",
    "{{B}}\n",
    "```\n",
    "\n",
    "これは、**決まり文句**として覚えてしまいましょう。\n"
   ],
   "cell_type": "markdown",
   "metadata": {}
  },
  {
   "cell_type": "code",
   "execution_count": null,
   "metadata": {},
   "outputs": [],
   "source": [
    "for i in range(10):\n",
    "    print(f\"{i} Hello World\")"
   ]
  },
  {
   "source": [
    "<div class=\"alert alert-warning\">\n",
    "\n",
    "for 文の変数\n",
    "\n",
    "変数 `i`には0から始まる整数が繰り返しの回数分に割り当てられます。\n",
    "（リストと同じく**0 から始まります。**）\n",
    "</div>\n",
    "\n",
    "### range: 数列の書き方\n",
    "\n",
    "<div class=\"alert alert-info\">\n",
    "\n",
    "`range(N)`\n",
    "\n",
    "`range()`は、等差数列を作る便利な関数です。\n",
    "\n",
    "|Python|説明|\n",
    "|------|---|\n",
    "|`range(N)`|$0$から$N-1$までの数列|\n",
    "|`range(1,N+1)`|$1$から$N$までの数列|\n",
    "|`range(0,N,2)`|$0$から$N-1$までの$2$間隔ごとの数列|\n",
    "|`range(N,0,-1)`|$N$から$1$までの数列(**逆順**)|\n",
    "\n",
    "__ポイント__: リストも`range(N)`も**0から**数えます。\n",
    "\n",
    "</div>\n"
   ],
   "cell_type": "markdown",
   "metadata": {}
  },
  {
   "source": [
    "<div class=\"admonition tip\">\n",
    "\n",
    "**例題（リストと繰り返し）**\n",
    "\n",
    "3の倍数のリスト`a`が次のように与えられたとき、\n",
    "\n",
    "```\n",
    "a = [3, 6, 9, 12, 15, 18, 21, 24]\n",
    "```\n",
    "\n",
    "10以上20以下の3の倍数を順番に表示せよ。\n",
    "\n",
    "出力例：\n",
    "```\n",
    "12\n",
    "15\n",
    "18\n",
    "```\n",
    "</div>\n",
    "\n",
    "まず、オーソドックスな解き方から説明します。\n",
    "\n",
    "1. リストの個数から繰り返す回数を決める\n",
    "2. 順番に条件を満たす`a[i]`を表示する\n",
    "\n"
   ],
   "cell_type": "markdown",
   "metadata": {}
  },
  {
   "cell_type": "code",
   "execution_count": null,
   "metadata": {},
   "outputs": [],
   "source": [
    "a = [3, 6, 9, 12, 15, 18, 21, 24]\n",
    "N = len(a)\n",
    "for i in range(N):\n",
    "    if 10 <= a[i] and a[i] <= 20:\n",
    "        print(a[i])"
   ]
  },
  {
   "source": [
    "もう少し`for`文の原理を理解してすっきりと書く練習をしておきましょう。\n",
    "\n",
    "<div class=\"alert alert-info\">\n",
    "\n",
    "`for x in a` の意味\n",
    "\n",
    "列`a`の先頭から順番に値を取り出して、\n",
    "変数 x に代入し、列`a`の個数だけ繰り返す\n",
    "</div>\n",
    "\n",
    "つまり、`range(N)`で数列を作らなくてもそのまま先頭から順番に処理できるようになります。\n",
    "\n",
    "\n"
   ],
   "cell_type": "markdown",
   "metadata": {}
  },
  {
   "cell_type": "code",
   "execution_count": null,
   "metadata": {},
   "outputs": [],
   "source": [
    "a = [3, 6, 9, 12, 15, 18, 21, 24]\n",
    "for n in a:\n",
    "    if 10 <= n and n <= 20:\n",
    "        print(n)"
   ]
  },
  {
   "source": [
    "### break: 繰り返しの途中で抜ける\n",
    "\n",
    "最後に、繰り返しに慣れてきたら、\n",
    "繰り返しを途中で抜ける方法も理解しておきましょう。\n",
    "\n",
    "<div class=\"admonition tip\">\n",
    "\n",
    "**例題(最小の約数)**\n",
    "\n",
    "正の整数$n~(n > 1)$が与えられる。\n",
    "$n$の$2$以上, $n$未満の最小の約数$d$を出力せよ。\n",
    "\n",
    "入力例\n",
    "```\n",
    "2800733\n",
    "```\n",
    "\n",
    "出力例\n",
    "```\n",
    "13\n",
    "```\n",
    "</div>\n",
    "\n",
    "```\n",
    "n = int(input())\n",
    "for d in range(2, n):\n",
    "\tif n % d == 0:\n",
    "\t\tprint(d)\n",
    "```\n",
    "\n",
    "しかし、上のコードは最小の約数だけでなく、\n",
    "2以上の全ての約数を表示してしまいます。\n",
    "\n",
    "`break`文を用いて、\n",
    "**それ以上繰り返す必要がないときに繰り返しを抜け出すこと**ことで\n",
    "防ぐことができます。\n",
    "\n",
    "```\n",
    "n = int(input()) # 13を入力\n",
    "for d in range(2, n):\n",
    "\tif n % d == 0:\n",
    "\t\tprint(d)\n",
    "\t\tbreak\n",
    "```\n",
    "\n",
    "```\n",
    "13\n",
    "```\n",
    "\n",
    "<div class=\"alert alert-info\">\n",
    "\n",
    "効率のよいプログラム\n",
    "\n",
    "無駄な繰り返しは発生しないようにする\n",
    "</div>\n",
    "\n"
   ],
   "cell_type": "markdown",
   "metadata": {}
  },
  {
   "source": [
    "### リストを並び変える\n",
    "\n",
    "リストは、順序をもった値の集まりなので、ときには並び変える操作が必要となります。\n",
    "\n",
    "<div class=\"admonition tip\">\n",
    "\n",
    "**例題(リストの逆順)**\n",
    "\n",
    "入力から(空白区切りの)数列をリストに読み、\n",
    "その数列を逆順に１行ずつ出力してみよう。\n",
    "\n",
    "入力例\n",
    "```\n",
    "7 6 8\n",
    "```\n",
    "\n",
    "出力例\n",
    "```\n",
    "8\n",
    "6\n",
    "7\n",
    "```\n",
    "</div>\n",
    "\n",
    "__(解法) a[len(a)-1], a[len(a)-2], .. と後ろから表示する__\n",
    "\n",
    "\n",
    "```\n",
    "a = list(map(int, input().split()))\n",
    "for i in range(len(a), 0):\n",
    "\tprint(a[i-1])\n",
    "```\n",
    "\n",
    "__(別解)__\n",
    "\n",
    "リストを`a.reverse()`を用いて逆順に並べます。\n",
    "\n",
    "```\n",
    "a = [int(t) for t  in input().split()]\n",
    "a.reverse()  #リストを逆順にする\n",
    "for x in a:\n",
    "\tprint(x)\n",
    "```\n",
    "\n",
    "|Python|説明|\n",
    "|------|---|\n",
    "|`a.reverse()`|`a`の並びを逆順にする|\n",
    "|`a.sort()`|`a`の並びを昇順(小さい順)にソートする|\n",
    "\n",
    "\n",
    "### リストと集約\n",
    "\n",
    "<div class=\"admonition tip\">\n",
    "\n",
    "**例題(最大値、最小値、合計値)**\n",
    "\n",
    "5人の得点が整数値として5行で与えられる。\n",
    "その整数値の合計、最大値、最小値を各行に出力せよ\n",
    "\n",
    "入力例\n",
    "```\n",
    "71\n",
    "29 \n",
    "83 \n",
    "45 \n",
    "35 \n",
    "```\n",
    "\n",
    "出力例\n",
    "```\n",
    "8\n",
    "6\n",
    "7\n",
    "```\n",
    "</div>\n",
    "\n",
    "\n",
    "\\begin{Py}\n",
    "a0 = int(input())\n",
    "sum_a = a0\n",
    "max_a = a0\n",
    "min_a = a0\n",
    "for i in range(5):\n",
    "\tx = int(input())\n",
    "\tsum_a += x\n",
    "\tmax_a = max(x, max_a)\n",
    "\tmin_a = min(x, min_a)\n",
    "\n",
    "print(sum_a)\n",
    "print(max_a)\n",
    "print(min_a)\n",
    "\\end{Py}\n",
    "\n",
    "\\begin{multicols}{2}\n",
    "\\Run{Cっぽい書き方}\n",
    "\\begin{Py}\n",
    "a = [0] * 6\n",
    "for i in range(6):\n",
    "\tx = int(input())\n",
    "\ta[i] = x\n",
    "\\end{Py}\n",
    "\\columnbreak\n",
    "\\Run{よりPythonらしい}\n",
    "\\begin{Py}\n",
    "a = [] # 空のリスト\n",
    "for i in range(6):\n",
    "\tx = int(input())\n",
    "\ta.append(x)  # 追加する\n",
    "\\end{Py}\n",
    "\\end{multicols}\n",
    "\n",
    "\\begin{multicols}{2}\n",
    "\\begin{Py}\n",
    "# .. リストに入れたら\n",
    "print(sum(a))\n",
    "print(max(a))\n",
    "print(min(a))\n",
    "\\end{Py}\n",
    "\\columnbreak\n",
    "\\begin{cbox}{覚えておこう}\n",
    "\\begin{itemize}\n",
    "%\\item \\CC{len(a)}: リストの個数\n",
    "\\item \\CC{sum(a)}: 値の合計値\n",
    "\\item \\CC{max(a)}: 最大値\n",
    "\\item \\CC{min(a)}: 最小値\n",
    "\\end{itemize}\n",
    "\\end{cbox}\n",
    "\\end{multicols}\n",
    "\n"
   ],
   "cell_type": "markdown",
   "metadata": {}
  },
  {
   "source": [
    "## 演習問題\n",
    "\n",
    "今回は情報オリンピックの過去問から多く出題します。\n",
    "\n",
    "\n",
    "* [平均点](https://atcoder.jp/contests/joi2014yo/tasks/joi2014yo_a): リストを使わなくても解けるけど、リストを使ってみよう\n",
    "* [５つの変数](https://atcoder.jp/contests/abc170/tasks/abc170_a): もちろんリストを使います\n",
    "* [酔っ払い](https://atcoder.jp/contests/abc189/tasks/abc189_b): 繰り返しの練習\n",
    "* [夏休み](https://atcoder.jp/contests/abc163/tasks/abc163_b)\n",
    "* [二乗誤差](https://atcoder.jp/contests/abc194/tasks/abc194_c): ２重ループ\n",
    "* [ジェットコースター](https://atcoder.jp/contests/abc142/tasks/abc142_b): フィルタしましょう\n",
    "* [本の読み方](https://atcoder.jp/contests/abc168/tasks/abc168_a): こういう使い方もあります。\n",
    "* [踏み台](https://atcoder.jp/contests/abc176/tasks/abc176_c)\n",
    "* [禁止されたリスト](https://atcoder.jp/contests/abc170/tasks/abc170_c)\n",
    "* [重複の除去](https://atcoder.jp/contests/abc191/tasks/abc191_b)\n",
    "* [おつり](https://atcoder.jp/contests/joi2008yo/tasks/joi2008yo_a) ヒント: 硬貨の種類を`coins = [500, 100, 50, 10, 5, 1]`とリスト化する\n",
    "* [最長昇順連続部分列](https://atcoder.jp/contests/joi2020yo1c/tasks/joi2020_yo1c_c)\n",
    "\n",
    "<!--\n",
    "* [共通要素](https://atcoder.jp/contests/joi2021yo1a/tasks/joi2021_yo1a_c)\n",
    "-->\n",
    "\n"
   ],
   "cell_type": "markdown",
   "metadata": {}
  }
 ]
}